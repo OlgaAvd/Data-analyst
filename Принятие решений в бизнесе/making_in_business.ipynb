{
 "cells": [
  {
   "cell_type": "markdown",
   "metadata": {
    "toc": true
   },
   "source": [
    "<h1>Содержание<span class=\"tocSkip\"></span></h1>\n",
    "<div class=\"toc\"><ul class=\"toc-item\"><li><span><a href=\"#Приоритизация-гипотез\" data-toc-modified-id=\"Приоритизация-гипотез-1\"><span class=\"toc-item-num\">1&nbsp;&nbsp;</span>Приоритизация гипотез</a></span><ul class=\"toc-item\"><li><span><a href=\"#Применение-фреймворка-ICE\" data-toc-modified-id=\"Применение-фреймворка-ICE-1.1\"><span class=\"toc-item-num\">1.1&nbsp;&nbsp;</span>Применение фреймворка ICE</a></span></li><li><span><a href=\"#Применение-фреймворка-RICE\" data-toc-modified-id=\"Применение-фреймворка-RICE-1.2\"><span class=\"toc-item-num\">1.2&nbsp;&nbsp;</span>Применение фреймворка RICE</a></span></li></ul></li><li><span><a href=\"#Анализ-А/В-теста\" data-toc-modified-id=\"Анализ-А/В-теста-2\"><span class=\"toc-item-num\">2&nbsp;&nbsp;</span>Анализ А/В теста</a></span><ul class=\"toc-item\"><li><span><a href=\"#График-кумулятивной-выручки-по-группам\" data-toc-modified-id=\"График-кумулятивной-выручки-по-группам-2.1\"><span class=\"toc-item-num\">2.1&nbsp;&nbsp;</span>График кумулятивной выручки по группам</a></span></li><li><span><a href=\"#График-кумулятивного-среднего-чека-по-группам\" data-toc-modified-id=\"График-кумулятивного-среднего-чека-по-группам-2.2\"><span class=\"toc-item-num\">2.2&nbsp;&nbsp;</span>График кумулятивного среднего чека по группам</a></span></li><li><span><a href=\"#График-относительного-изменения-кумулятивного-среднего-чека-группы-В-к-группе-А\" data-toc-modified-id=\"График-относительного-изменения-кумулятивного-среднего-чека-группы-В-к-группе-А-2.3\"><span class=\"toc-item-num\">2.3&nbsp;&nbsp;</span>График относительного изменения кумулятивного среднего чека группы В к группе А</a></span></li><li><span><a href=\"#График-кумулятивного-среднего-количества-заказов-на-посетителя-по-группам\" data-toc-modified-id=\"График-кумулятивного-среднего-количества-заказов-на-посетителя-по-группам-2.4\"><span class=\"toc-item-num\">2.4&nbsp;&nbsp;</span>График кумулятивного среднего количества заказов на посетителя по группам</a></span></li><li><span><a href=\"#График-относительного-изменения-кумулятивного-среднего-количества-заказов-на-посетителя-группы-В-к-группе-А\" data-toc-modified-id=\"График-относительного-изменения-кумулятивного-среднего-количества-заказов-на-посетителя-группы-В-к-группе-А-2.5\"><span class=\"toc-item-num\">2.5&nbsp;&nbsp;</span>График относительного изменения кумулятивного среднего количества заказов на посетителя группы В к группе А</a></span></li><li><span><a href=\"#График-количества-заказов-по-пользователям\" data-toc-modified-id=\"График-количества-заказов-по-пользователям-2.6\"><span class=\"toc-item-num\">2.6&nbsp;&nbsp;</span>График количества заказов по пользователям</a></span></li><li><span><a href=\"#Считаем-95-и-99-е-перцентили-количества-заказов-на-пользователя\" data-toc-modified-id=\"Считаем-95-и-99-е-перцентили-количества-заказов-на-пользователя-2.7\"><span class=\"toc-item-num\">2.7&nbsp;&nbsp;</span>Считаем 95 и 99-е перцентили количества заказов на пользователя</a></span></li><li><span><a href=\"#График-стоимостей-заказов\" data-toc-modified-id=\"График-стоимостей-заказов-2.8\"><span class=\"toc-item-num\">2.8&nbsp;&nbsp;</span>График стоимостей заказов</a></span></li><li><span><a href=\"#Считаем-95-и-99-е-перцентили-стоимости-заказов\" data-toc-modified-id=\"Считаем-95-и-99-е-перцентили-стоимости-заказов-2.9\"><span class=\"toc-item-num\">2.9&nbsp;&nbsp;</span>Считаем 95 и 99-е перцентили стоимости заказов</a></span></li><li><span><a href=\"#Считаем-статистическую-значимость-различий-в-среднем-количестве-заказов-на-посетителя-между-группами-по-&quot;сырым&quot;-данным\" data-toc-modified-id=\"Считаем-статистическую-значимость-различий-в-среднем-количестве-заказов-на-посетителя-между-группами-по-&quot;сырым&quot;-данным-2.10\"><span class=\"toc-item-num\">2.10&nbsp;&nbsp;</span>Считаем статистическую значимость различий в среднем количестве заказов на посетителя между группами по \"сырым\" данным</a></span></li><li><span><a href=\"#Считаем-статистическую-значимость-различий-в-среднем-чеке-заказа-между-группами-по-&quot;сырым&quot;-данным\" data-toc-modified-id=\"Считаем-статистическую-значимость-различий-в-среднем-чеке-заказа-между-группами-по-&quot;сырым&quot;-данным-2.11\"><span class=\"toc-item-num\">2.11&nbsp;&nbsp;</span>Считаем статистическую значимость различий в среднем чеке заказа между группами по \"сырым\" данным</a></span></li><li><span><a href=\"#Считаем-статистическую-значимость-различий-в-среднем-количестве-заказов-на-посетителя-между-группами-по-&quot;очищенным&quot;-данным\" data-toc-modified-id=\"Считаем-статистическую-значимость-различий-в-среднем-количестве-заказов-на-посетителя-между-группами-по-&quot;очищенным&quot;-данным-2.12\"><span class=\"toc-item-num\">2.12&nbsp;&nbsp;</span>Считаем статистическую значимость различий в среднем количестве заказов на посетителя между группами по \"очищенным\" данным</a></span></li><li><span><a href=\"#Считаем-статистическую-значимость-различий-в-среднем-чеке-заказа-между-группами-по-&quot;очищенным&quot;-данным\" data-toc-modified-id=\"Считаем-статистическую-значимость-различий-в-среднем-чеке-заказа-между-группами-по-&quot;очищенным&quot;-данным-2.13\"><span class=\"toc-item-num\">2.13&nbsp;&nbsp;</span>Считаем статистическую значимость различий в среднем чеке заказа между группами по \"очищенным\" данным</a></span></li></ul></li><li><span><a href=\"#Вывод\" data-toc-modified-id=\"Вывод-3\"><span class=\"toc-item-num\">3&nbsp;&nbsp;</span>Вывод</a></span></li></ul></div>"
   ]
  },
  {
   "cell_type": "markdown",
   "metadata": {},
   "source": [
    "Предоставлены данные от отдела маркетинга крупного интернет-магазина, содержащие:\n",
    "- список гипотез и информация о них (hypothesis.csv)\n",
    "- информация о заказах пользователей в интернет-магазине (orders.csv)\n",
    "- информация о посещениях пользователями интернет-магазина (visitors.csv)\n",
    "\n",
    "Структура файла hypothesis.csv.\n",
    "- Hypothesis — краткое описание гипотезы;\n",
    "- Reach — охват пользователей по 10-балльной шкале;\n",
    "- Impact — влияние на пользователей по 10-балльной шкале;\n",
    "- Confidence — уверенность в гипотезе по 10-балльной шкале;\n",
    "- Efforts — затраты ресурсов на проверку гипотезы по 10-балльной шкале. Чем больше значение Efforts, тем дороже проверка гипотезы.\n",
    "\n",
    "Структура файла orders.csv. \n",
    "- transactionId — идентификатор заказа;\n",
    "- visitorId — идентификатор пользователя, совершившего заказ;\n",
    "- date — дата, когда был совершён заказ;\n",
    "- revenue — выручка заказа;\n",
    "- group — группа A/B-теста, в которую попал заказ.\n",
    "\n",
    "Структура файла visitors.csv. \n",
    "- date — дата;\n",
    "- group — группа A/B-теста;\n",
    "- visitors — количество пользователей в указанную дату в указанной группе A/B-теста\n",
    "\n",
    "Необходимо:\n",
    "\n",
    "- приоритизировать гипотезы из списка гипотез, предоставленных отделом маркетинга\n",
    "- провести анализ результатов проведенного А/В-тестирования\n",
    "- аргументировать решение по результатам теста и объяснить его:\n",
    "    - остановить тест, зафиксировать победу одной из групп\n",
    "    - остановить тест, зафиксировать отсутствие различий между группами\n",
    "    - продолжить тест"
   ]
  },
  {
   "cell_type": "code",
   "execution_count": 1,
   "metadata": {},
   "outputs": [],
   "source": [
    "import pandas as pd\n",
    "import datetime as dt\n",
    "import numpy as np\n",
    "import matplotlib.pyplot as plt\n",
    "import scipy.stats as st"
   ]
  },
  {
   "cell_type": "markdown",
   "metadata": {},
   "source": [
    "## Приоритизация гипотез"
   ]
  },
  {
   "cell_type": "code",
   "execution_count": 2,
   "metadata": {},
   "outputs": [
    {
     "data": {
      "text/html": [
       "<div>\n",
       "<style scoped>\n",
       "    .dataframe tbody tr th:only-of-type {\n",
       "        vertical-align: middle;\n",
       "    }\n",
       "\n",
       "    .dataframe tbody tr th {\n",
       "        vertical-align: top;\n",
       "    }\n",
       "\n",
       "    .dataframe thead th {\n",
       "        text-align: right;\n",
       "    }\n",
       "</style>\n",
       "<table border=\"1\" class=\"dataframe\">\n",
       "  <thead>\n",
       "    <tr style=\"text-align: right;\">\n",
       "      <th></th>\n",
       "      <th>Hypothesis</th>\n",
       "      <th>Reach</th>\n",
       "      <th>Impact</th>\n",
       "      <th>Confidence</th>\n",
       "      <th>Efforts</th>\n",
       "    </tr>\n",
       "  </thead>\n",
       "  <tbody>\n",
       "    <tr>\n",
       "      <th>0</th>\n",
       "      <td>Добавить два новых канала привлечения трафика,...</td>\n",
       "      <td>3</td>\n",
       "      <td>10</td>\n",
       "      <td>8</td>\n",
       "      <td>6</td>\n",
       "    </tr>\n",
       "    <tr>\n",
       "      <th>1</th>\n",
       "      <td>Запустить собственную службу доставки, что сок...</td>\n",
       "      <td>2</td>\n",
       "      <td>5</td>\n",
       "      <td>4</td>\n",
       "      <td>10</td>\n",
       "    </tr>\n",
       "    <tr>\n",
       "      <th>2</th>\n",
       "      <td>Добавить блоки рекомендаций товаров на сайт ин...</td>\n",
       "      <td>8</td>\n",
       "      <td>3</td>\n",
       "      <td>7</td>\n",
       "      <td>3</td>\n",
       "    </tr>\n",
       "    <tr>\n",
       "      <th>3</th>\n",
       "      <td>Изменить структура категорий, что увеличит кон...</td>\n",
       "      <td>8</td>\n",
       "      <td>3</td>\n",
       "      <td>3</td>\n",
       "      <td>8</td>\n",
       "    </tr>\n",
       "    <tr>\n",
       "      <th>4</th>\n",
       "      <td>Изменить цвет фона главной страницы, чтобы уве...</td>\n",
       "      <td>3</td>\n",
       "      <td>1</td>\n",
       "      <td>1</td>\n",
       "      <td>1</td>\n",
       "    </tr>\n",
       "    <tr>\n",
       "      <th>5</th>\n",
       "      <td>Добавить страницу отзывов клиентов о магазине,...</td>\n",
       "      <td>3</td>\n",
       "      <td>2</td>\n",
       "      <td>2</td>\n",
       "      <td>3</td>\n",
       "    </tr>\n",
       "    <tr>\n",
       "      <th>6</th>\n",
       "      <td>Показать на главной странице баннеры с актуаль...</td>\n",
       "      <td>5</td>\n",
       "      <td>3</td>\n",
       "      <td>8</td>\n",
       "      <td>3</td>\n",
       "    </tr>\n",
       "    <tr>\n",
       "      <th>7</th>\n",
       "      <td>Добавить форму подписки на все основные страни...</td>\n",
       "      <td>10</td>\n",
       "      <td>7</td>\n",
       "      <td>8</td>\n",
       "      <td>5</td>\n",
       "    </tr>\n",
       "    <tr>\n",
       "      <th>8</th>\n",
       "      <td>Запустить акцию, дающую скидку на товар в день...</td>\n",
       "      <td>1</td>\n",
       "      <td>9</td>\n",
       "      <td>9</td>\n",
       "      <td>5</td>\n",
       "    </tr>\n",
       "  </tbody>\n",
       "</table>\n",
       "</div>"
      ],
      "text/plain": [
       "                                          Hypothesis  Reach  Impact  \\\n",
       "0  Добавить два новых канала привлечения трафика,...      3      10   \n",
       "1  Запустить собственную службу доставки, что сок...      2       5   \n",
       "2  Добавить блоки рекомендаций товаров на сайт ин...      8       3   \n",
       "3  Изменить структура категорий, что увеличит кон...      8       3   \n",
       "4  Изменить цвет фона главной страницы, чтобы уве...      3       1   \n",
       "5  Добавить страницу отзывов клиентов о магазине,...      3       2   \n",
       "6  Показать на главной странице баннеры с актуаль...      5       3   \n",
       "7  Добавить форму подписки на все основные страни...     10       7   \n",
       "8  Запустить акцию, дающую скидку на товар в день...      1       9   \n",
       "\n",
       "   Confidence  Efforts  \n",
       "0           8        6  \n",
       "1           4       10  \n",
       "2           7        3  \n",
       "3           3        8  \n",
       "4           1        1  \n",
       "5           2        3  \n",
       "6           8        3  \n",
       "7           8        5  \n",
       "8           9        5  "
      ]
     },
     "execution_count": 2,
     "metadata": {},
     "output_type": "execute_result"
    }
   ],
   "source": [
    "data = pd.read_csv('/datasets/hypothesis.csv', sep=',')\n",
    "data"
   ]
  },
  {
   "cell_type": "markdown",
   "metadata": {},
   "source": [
    "### Применение фреймворка ICE"
   ]
  },
  {
   "cell_type": "code",
   "execution_count": 3,
   "metadata": {},
   "outputs": [
    {
     "data": {
      "text/html": [
       "<div>\n",
       "<style scoped>\n",
       "    .dataframe tbody tr th:only-of-type {\n",
       "        vertical-align: middle;\n",
       "    }\n",
       "\n",
       "    .dataframe tbody tr th {\n",
       "        vertical-align: top;\n",
       "    }\n",
       "\n",
       "    .dataframe thead th {\n",
       "        text-align: right;\n",
       "    }\n",
       "</style>\n",
       "<table border=\"1\" class=\"dataframe\">\n",
       "  <thead>\n",
       "    <tr style=\"text-align: right;\">\n",
       "      <th></th>\n",
       "      <th>Hypothesis</th>\n",
       "      <th>ice</th>\n",
       "    </tr>\n",
       "  </thead>\n",
       "  <tbody>\n",
       "    <tr>\n",
       "      <th>8</th>\n",
       "      <td>Запустить акцию, дающую скидку на товар в день...</td>\n",
       "      <td>16.20</td>\n",
       "    </tr>\n",
       "    <tr>\n",
       "      <th>0</th>\n",
       "      <td>Добавить два новых канала привлечения трафика,...</td>\n",
       "      <td>13.33</td>\n",
       "    </tr>\n",
       "    <tr>\n",
       "      <th>7</th>\n",
       "      <td>Добавить форму подписки на все основные страни...</td>\n",
       "      <td>11.20</td>\n",
       "    </tr>\n",
       "    <tr>\n",
       "      <th>6</th>\n",
       "      <td>Показать на главной странице баннеры с актуаль...</td>\n",
       "      <td>8.00</td>\n",
       "    </tr>\n",
       "    <tr>\n",
       "      <th>2</th>\n",
       "      <td>Добавить блоки рекомендаций товаров на сайт ин...</td>\n",
       "      <td>7.00</td>\n",
       "    </tr>\n",
       "    <tr>\n",
       "      <th>1</th>\n",
       "      <td>Запустить собственную службу доставки, что сок...</td>\n",
       "      <td>2.00</td>\n",
       "    </tr>\n",
       "    <tr>\n",
       "      <th>5</th>\n",
       "      <td>Добавить страницу отзывов клиентов о магазине,...</td>\n",
       "      <td>1.33</td>\n",
       "    </tr>\n",
       "    <tr>\n",
       "      <th>3</th>\n",
       "      <td>Изменить структура категорий, что увеличит кон...</td>\n",
       "      <td>1.12</td>\n",
       "    </tr>\n",
       "    <tr>\n",
       "      <th>4</th>\n",
       "      <td>Изменить цвет фона главной страницы, чтобы уве...</td>\n",
       "      <td>1.00</td>\n",
       "    </tr>\n",
       "  </tbody>\n",
       "</table>\n",
       "</div>"
      ],
      "text/plain": [
       "                                          Hypothesis    ice\n",
       "8  Запустить акцию, дающую скидку на товар в день...  16.20\n",
       "0  Добавить два новых канала привлечения трафика,...  13.33\n",
       "7  Добавить форму подписки на все основные страни...  11.20\n",
       "6  Показать на главной странице баннеры с актуаль...   8.00\n",
       "2  Добавить блоки рекомендаций товаров на сайт ин...   7.00\n",
       "1  Запустить собственную службу доставки, что сок...   2.00\n",
       "5  Добавить страницу отзывов клиентов о магазине,...   1.33\n",
       "3  Изменить структура категорий, что увеличит кон...   1.12\n",
       "4  Изменить цвет фона главной страницы, чтобы уве...   1.00"
      ]
     },
     "execution_count": 3,
     "metadata": {},
     "output_type": "execute_result"
    }
   ],
   "source": [
    "data['ice'] = ((data['Impact'] * data['Confidence']) / data['Efforts']).round(2)\n",
    "data[['Hypothesis', 'ice']].sort_values(by='ice', ascending=False)"
   ]
  },
  {
   "cell_type": "code",
   "execution_count": 4,
   "metadata": {},
   "outputs": [
    {
     "data": {
      "image/png": "[encoded data removed]",
      "text/plain": [
       "<Figure size 432x288 with 1 Axes>"
      ]
     },
     "metadata": {
      "needs_background": "light"
     },
     "output_type": "display_data"
    }
   ],
   "source": [
    "data[['Hypothesis', 'ice']].sort_values(by='ice', ascending=True).set_index('Hypothesis').plot(kind='barh', legend=False)\n",
    "plt.title('Приоритет гипотез по методу ICE')\n",
    "plt.xlabel('Приоритет')\n",
    "plt.ylabel(' ')\n",
    "plt.show()"
   ]
  },
  {
   "cell_type": "markdown",
   "metadata": {},
   "source": [
    "### Применение фреймворка RICE"
   ]
  },
  {
   "cell_type": "code",
   "execution_count": 5,
   "metadata": {},
   "outputs": [
    {
     "data": {
      "text/html": [
       "<div>\n",
       "<style scoped>\n",
       "    .dataframe tbody tr th:only-of-type {\n",
       "        vertical-align: middle;\n",
       "    }\n",
       "\n",
       "    .dataframe tbody tr th {\n",
       "        vertical-align: top;\n",
       "    }\n",
       "\n",
       "    .dataframe thead th {\n",
       "        text-align: right;\n",
       "    }\n",
       "</style>\n",
       "<table border=\"1\" class=\"dataframe\">\n",
       "  <thead>\n",
       "    <tr style=\"text-align: right;\">\n",
       "      <th></th>\n",
       "      <th>Hypothesis</th>\n",
       "      <th>rice</th>\n",
       "    </tr>\n",
       "  </thead>\n",
       "  <tbody>\n",
       "    <tr>\n",
       "      <th>7</th>\n",
       "      <td>Добавить форму подписки на все основные страни...</td>\n",
       "      <td>112.0</td>\n",
       "    </tr>\n",
       "    <tr>\n",
       "      <th>2</th>\n",
       "      <td>Добавить блоки рекомендаций товаров на сайт ин...</td>\n",
       "      <td>56.0</td>\n",
       "    </tr>\n",
       "    <tr>\n",
       "      <th>0</th>\n",
       "      <td>Добавить два новых канала привлечения трафика,...</td>\n",
       "      <td>40.0</td>\n",
       "    </tr>\n",
       "    <tr>\n",
       "      <th>6</th>\n",
       "      <td>Показать на главной странице баннеры с актуаль...</td>\n",
       "      <td>40.0</td>\n",
       "    </tr>\n",
       "    <tr>\n",
       "      <th>8</th>\n",
       "      <td>Запустить акцию, дающую скидку на товар в день...</td>\n",
       "      <td>16.2</td>\n",
       "    </tr>\n",
       "    <tr>\n",
       "      <th>3</th>\n",
       "      <td>Изменить структура категорий, что увеличит кон...</td>\n",
       "      <td>9.0</td>\n",
       "    </tr>\n",
       "    <tr>\n",
       "      <th>1</th>\n",
       "      <td>Запустить собственную службу доставки, что сок...</td>\n",
       "      <td>4.0</td>\n",
       "    </tr>\n",
       "    <tr>\n",
       "      <th>5</th>\n",
       "      <td>Добавить страницу отзывов клиентов о магазине,...</td>\n",
       "      <td>4.0</td>\n",
       "    </tr>\n",
       "    <tr>\n",
       "      <th>4</th>\n",
       "      <td>Изменить цвет фона главной страницы, чтобы уве...</td>\n",
       "      <td>3.0</td>\n",
       "    </tr>\n",
       "  </tbody>\n",
       "</table>\n",
       "</div>"
      ],
      "text/plain": [
       "                                          Hypothesis   rice\n",
       "7  Добавить форму подписки на все основные страни...  112.0\n",
       "2  Добавить блоки рекомендаций товаров на сайт ин...   56.0\n",
       "0  Добавить два новых канала привлечения трафика,...   40.0\n",
       "6  Показать на главной странице баннеры с актуаль...   40.0\n",
       "8  Запустить акцию, дающую скидку на товар в день...   16.2\n",
       "3  Изменить структура категорий, что увеличит кон...    9.0\n",
       "1  Запустить собственную службу доставки, что сок...    4.0\n",
       "5  Добавить страницу отзывов клиентов о магазине,...    4.0\n",
       "4  Изменить цвет фона главной страницы, чтобы уве...    3.0"
      ]
     },
     "execution_count": 5,
     "metadata": {},
     "output_type": "execute_result"
    }
   ],
   "source": [
    "data['rice'] = (data['Reach'] * data['Impact'] * data['Confidence']) / data['Efforts']\n",
    "data[['Hypothesis', 'rice']].sort_values(by='rice', ascending=False)"
   ]
  },
  {
   "cell_type": "code",
   "execution_count": 6,
   "metadata": {},
   "outputs": [
    {
     "data": {
      "image/png": "[encoded data removed]",
      "text/plain": [
       "<Figure size 432x288 with 1 Axes>"
      ]
     },
     "metadata": {
      "needs_background": "light"
     },
     "output_type": "display_data"
    }
   ],
   "source": [
    "data[['Hypothesis', 'rice']].sort_values(by='rice', ascending=True).set_index('Hypothesis').plot(kind='barh', legend=False)\n",
    "plt.title('Приоритет гипотез по методу RICE')\n",
    "plt.xlabel('Приоритет')\n",
    "plt.ylabel(' ')\n",
    "plt.show()"
   ]
  },
  {
   "cell_type": "markdown",
   "metadata": {},
   "source": [
    "Приоритизация гипотез изменилась в связи с тем, что при применении фреймворка RICE добавился показатель охвата пользователей, и чем он больше, тем выше приоритет гипотезы."
   ]
  },
  {
   "cell_type": "markdown",
   "metadata": {},
   "source": [
    "Для тестирование можно выбрать гипотезу \"Добавить форму подписки на все основные страницы, чтобы собрать базу клиентов для email-рассылок\", т.к. она находится в тройке лидеров при любом методе приоритизации."
   ]
  },
  {
   "cell_type": "markdown",
   "metadata": {},
   "source": [
    "## Анализ А/В теста"
   ]
  },
  {
   "cell_type": "markdown",
   "metadata": {},
   "source": [
    "### График кумулятивной выручки по группам"
   ]
  },
  {
   "cell_type": "code",
   "execution_count": 7,
   "metadata": {},
   "outputs": [
    {
     "name": "stdout",
     "output_type": "stream",
     "text": [
      "<class 'pandas.core.frame.DataFrame'>\n",
      "RangeIndex: 1197 entries, 0 to 1196\n",
      "Data columns (total 5 columns):\n",
      " #   Column         Non-Null Count  Dtype \n",
      "---  ------         --------------  ----- \n",
      " 0   transactionId  1197 non-null   int64 \n",
      " 1   visitorId      1197 non-null   int64 \n",
      " 2   date           1197 non-null   object\n",
      " 3   revenue        1197 non-null   int64 \n",
      " 4   group          1197 non-null   object\n",
      "dtypes: int64(3), object(2)\n",
      "memory usage: 46.9+ KB\n"
     ]
    }
   ],
   "source": [
    "orders = pd.read_csv('/datasets/orders.csv', sep=',')\n",
    "orders.info()"
   ]
  },
  {
   "cell_type": "code",
   "execution_count": 8,
   "metadata": {},
   "outputs": [
    {
     "name": "stdout",
     "output_type": "stream",
     "text": [
      "<class 'pandas.core.frame.DataFrame'>\n",
      "RangeIndex: 1197 entries, 0 to 1196\n",
      "Data columns (total 5 columns):\n",
      " #   Column         Non-Null Count  Dtype         \n",
      "---  ------         --------------  -----         \n",
      " 0   transactionId  1197 non-null   int64         \n",
      " 1   visitorId      1197 non-null   int64         \n",
      " 2   date           1197 non-null   datetime64[ns]\n",
      " 3   revenue        1197 non-null   int64         \n",
      " 4   group          1197 non-null   object        \n",
      "dtypes: datetime64[ns](1), int64(3), object(1)\n",
      "memory usage: 46.9+ KB\n"
     ]
    }
   ],
   "source": [
    "orders['date'] = pd.to_datetime(orders['date'])\n",
    "orders.info()"
   ]
  },
  {
   "cell_type": "code",
   "execution_count": 9,
   "metadata": {},
   "outputs": [
    {
     "data": {
      "text/html": [
       "<div>\n",
       "<style scoped>\n",
       "    .dataframe tbody tr th:only-of-type {\n",
       "        vertical-align: middle;\n",
       "    }\n",
       "\n",
       "    .dataframe tbody tr th {\n",
       "        vertical-align: top;\n",
       "    }\n",
       "\n",
       "    .dataframe thead th {\n",
       "        text-align: right;\n",
       "    }\n",
       "</style>\n",
       "<table border=\"1\" class=\"dataframe\">\n",
       "  <thead>\n",
       "    <tr style=\"text-align: right;\">\n",
       "      <th></th>\n",
       "      <th>transactionId</th>\n",
       "      <th>visitorId</th>\n",
       "      <th>date</th>\n",
       "      <th>revenue</th>\n",
       "      <th>group</th>\n",
       "    </tr>\n",
       "  </thead>\n",
       "  <tbody>\n",
       "    <tr>\n",
       "      <th>0</th>\n",
       "      <td>3667963787</td>\n",
       "      <td>3312258926</td>\n",
       "      <td>2019-08-15</td>\n",
       "      <td>1650</td>\n",
       "      <td>B</td>\n",
       "    </tr>\n",
       "    <tr>\n",
       "      <th>1</th>\n",
       "      <td>2804400009</td>\n",
       "      <td>3642806036</td>\n",
       "      <td>2019-08-15</td>\n",
       "      <td>730</td>\n",
       "      <td>B</td>\n",
       "    </tr>\n",
       "    <tr>\n",
       "      <th>2</th>\n",
       "      <td>2961555356</td>\n",
       "      <td>4069496402</td>\n",
       "      <td>2019-08-15</td>\n",
       "      <td>400</td>\n",
       "      <td>A</td>\n",
       "    </tr>\n",
       "    <tr>\n",
       "      <th>3</th>\n",
       "      <td>3797467345</td>\n",
       "      <td>1196621759</td>\n",
       "      <td>2019-08-15</td>\n",
       "      <td>9759</td>\n",
       "      <td>B</td>\n",
       "    </tr>\n",
       "    <tr>\n",
       "      <th>4</th>\n",
       "      <td>2282983706</td>\n",
       "      <td>2322279887</td>\n",
       "      <td>2019-08-15</td>\n",
       "      <td>2308</td>\n",
       "      <td>B</td>\n",
       "    </tr>\n",
       "  </tbody>\n",
       "</table>\n",
       "</div>"
      ],
      "text/plain": [
       "   transactionId   visitorId       date  revenue group\n",
       "0     3667963787  3312258926 2019-08-15     1650     B\n",
       "1     2804400009  3642806036 2019-08-15      730     B\n",
       "2     2961555356  4069496402 2019-08-15      400     A\n",
       "3     3797467345  1196621759 2019-08-15     9759     B\n",
       "4     2282983706  2322279887 2019-08-15     2308     B"
      ]
     },
     "execution_count": 9,
     "metadata": {},
     "output_type": "execute_result"
    }
   ],
   "source": [
    "orders.head()"
   ]
  },
  {
   "cell_type": "code",
   "execution_count": 10,
   "metadata": {},
   "outputs": [
    {
     "name": "stdout",
     "output_type": "stream",
     "text": [
      "<class 'pandas.core.frame.DataFrame'>\n",
      "RangeIndex: 62 entries, 0 to 61\n",
      "Data columns (total 3 columns):\n",
      " #   Column    Non-Null Count  Dtype \n",
      "---  ------    --------------  ----- \n",
      " 0   date      62 non-null     object\n",
      " 1   group     62 non-null     object\n",
      " 2   visitors  62 non-null     int64 \n",
      "dtypes: int64(1), object(2)\n",
      "memory usage: 1.6+ KB\n"
     ]
    }
   ],
   "source": [
    "visitors = pd.read_csv('/datasets/visitors.csv', sep=',')\n",
    "visitors.info()"
   ]
  },
  {
   "cell_type": "code",
   "execution_count": 11,
   "metadata": {},
   "outputs": [
    {
     "data": {
      "text/html": [
       "<div>\n",
       "<style scoped>\n",
       "    .dataframe tbody tr th:only-of-type {\n",
       "        vertical-align: middle;\n",
       "    }\n",
       "\n",
       "    .dataframe tbody tr th {\n",
       "        vertical-align: top;\n",
       "    }\n",
       "\n",
       "    .dataframe thead th {\n",
       "        text-align: right;\n",
       "    }\n",
       "</style>\n",
       "<table border=\"1\" class=\"dataframe\">\n",
       "  <thead>\n",
       "    <tr style=\"text-align: right;\">\n",
       "      <th></th>\n",
       "      <th>date</th>\n",
       "      <th>group</th>\n",
       "      <th>visitors</th>\n",
       "    </tr>\n",
       "  </thead>\n",
       "  <tbody>\n",
       "    <tr>\n",
       "      <th>0</th>\n",
       "      <td>2019-08-01</td>\n",
       "      <td>A</td>\n",
       "      <td>719</td>\n",
       "    </tr>\n",
       "    <tr>\n",
       "      <th>1</th>\n",
       "      <td>2019-08-02</td>\n",
       "      <td>A</td>\n",
       "      <td>619</td>\n",
       "    </tr>\n",
       "    <tr>\n",
       "      <th>2</th>\n",
       "      <td>2019-08-03</td>\n",
       "      <td>A</td>\n",
       "      <td>507</td>\n",
       "    </tr>\n",
       "    <tr>\n",
       "      <th>3</th>\n",
       "      <td>2019-08-04</td>\n",
       "      <td>A</td>\n",
       "      <td>717</td>\n",
       "    </tr>\n",
       "    <tr>\n",
       "      <th>4</th>\n",
       "      <td>2019-08-05</td>\n",
       "      <td>A</td>\n",
       "      <td>756</td>\n",
       "    </tr>\n",
       "  </tbody>\n",
       "</table>\n",
       "</div>"
      ],
      "text/plain": [
       "        date group  visitors\n",
       "0 2019-08-01     A       719\n",
       "1 2019-08-02     A       619\n",
       "2 2019-08-03     A       507\n",
       "3 2019-08-04     A       717\n",
       "4 2019-08-05     A       756"
      ]
     },
     "execution_count": 11,
     "metadata": {},
     "output_type": "execute_result"
    }
   ],
   "source": [
    "visitors['date'] = pd.to_datetime(visitors['date'])\n",
    "visitors.head()"
   ]
  },
  {
   "cell_type": "code",
   "execution_count": 12,
   "metadata": {},
   "outputs": [
    {
     "data": {
      "text/plain": [
       "0"
      ]
     },
     "execution_count": 12,
     "metadata": {},
     "output_type": "execute_result"
    }
   ],
   "source": [
    "orders.duplicated().sum()"
   ]
  },
  {
   "cell_type": "code",
   "execution_count": 13,
   "metadata": {},
   "outputs": [
    {
     "data": {
      "text/plain": [
       "0"
      ]
     },
     "execution_count": 13,
     "metadata": {},
     "output_type": "execute_result"
    }
   ],
   "source": [
    "visitors.duplicated().sum()"
   ]
  },
  {
   "cell_type": "markdown",
   "metadata": {},
   "source": [
    "Загрузили и посмотрели информацию о данных, увидели, что столбцы с датами имеют тип object и заменили на тип \"Дата\". Проверили наличие дубликатов."
   ]
  },
  {
   "cell_type": "markdown",
   "metadata": {},
   "source": [
    "Проверим, нет ли пользователей, попавших одновременно в обе группы."
   ]
  },
  {
   "cell_type": "code",
   "execution_count": 14,
   "metadata": {},
   "outputs": [
    {
     "name": "stdout",
     "output_type": "stream",
     "text": [
      "Пользователей, попавших в обе группы: 58\n",
      "Сумма заказов пользователей, попавших в обе группы: 1558935\n",
      "Количество заказов пользователей, попавших в обе группы: 181\n"
     ]
    }
   ],
   "source": [
    "test = orders.groupby(['visitorId']).agg({'group':'nunique', 'transactionId':'count', 'revenue':'sum'}).reset_index()\n",
    "print(f'Пользователей, попавших в обе группы:', test[test['group'] != 1]['visitorId'].count())\n",
    "print(f'Сумма заказов пользователей, попавших в обе группы:', test[test['group'] != 1]['revenue'].sum())\n",
    "print(f'Количество заказов пользователей, попавших в обе группы:', test[test['group'] != 1]['transactionId'].sum())"
   ]
  },
  {
   "cell_type": "markdown",
   "metadata": {},
   "source": [
    "58 пользователей попали в обе группы, совершили 181 заказ на 1558935 рублей. Следует исключить этих пользователей из исследования"
   ]
  },
  {
   "cell_type": "code",
   "execution_count": 15,
   "metadata": {},
   "outputs": [],
   "source": [
    "sp = test[test['group'] != 1]['visitorId']\n",
    "orders = orders.query('visitorId not in @sp')"
   ]
  },
  {
   "cell_type": "code",
   "execution_count": 16,
   "metadata": {},
   "outputs": [],
   "source": [
    "datesGroup = orders[['date', 'group']].drop_duplicates()"
   ]
  },
  {
   "cell_type": "code",
   "execution_count": 17,
   "metadata": {},
   "outputs": [],
   "source": [
    "ordersAggregated = datesGroup.apply(lambda x: orders[np.logical_and(orders['date']<=x['date'], orders['group']==x['group'])].\n",
    "                                   agg({'date':'max', \n",
    "                                        'group':'max', \n",
    "                                        'transactionId':'nunique', \n",
    "                                        'visitorId':'nunique', \n",
    "                                        'revenue':'sum'}), \n",
    "                                    axis=1).sort_values(by=['date', 'group'])"
   ]
  },
  {
   "cell_type": "code",
   "execution_count": 18,
   "metadata": {},
   "outputs": [],
   "source": [
    "visitorsAggregated = datesGroup.apply(lambda x: visitors[np.logical_and(visitors['date']<=x['date'], visitors['group']==x['group'])].\n",
    "                                   agg({'date':'max', \n",
    "                                        'group':'max', \n",
    "                                        'visitors':'sum'}), \n",
    "                                    axis=1).sort_values(by=['date', 'group'])"
   ]
  },
  {
   "cell_type": "code",
   "execution_count": 19,
   "metadata": {},
   "outputs": [
    {
     "data": {
      "text/html": [
       "<div>\n",
       "<style scoped>\n",
       "    .dataframe tbody tr th:only-of-type {\n",
       "        vertical-align: middle;\n",
       "    }\n",
       "\n",
       "    .dataframe tbody tr th {\n",
       "        vertical-align: top;\n",
       "    }\n",
       "\n",
       "    .dataframe thead th {\n",
       "        text-align: right;\n",
       "    }\n",
       "</style>\n",
       "<table border=\"1\" class=\"dataframe\">\n",
       "  <thead>\n",
       "    <tr style=\"text-align: right;\">\n",
       "      <th></th>\n",
       "      <th>date</th>\n",
       "      <th>group</th>\n",
       "      <th>orders</th>\n",
       "      <th>buyers</th>\n",
       "      <th>revenue</th>\n",
       "      <th>visitors</th>\n",
       "    </tr>\n",
       "  </thead>\n",
       "  <tbody>\n",
       "    <tr>\n",
       "      <th>0</th>\n",
       "      <td>2019-08-01</td>\n",
       "      <td>A</td>\n",
       "      <td>23</td>\n",
       "      <td>19</td>\n",
       "      <td>142779</td>\n",
       "      <td>719</td>\n",
       "    </tr>\n",
       "    <tr>\n",
       "      <th>1</th>\n",
       "      <td>2019-08-01</td>\n",
       "      <td>B</td>\n",
       "      <td>17</td>\n",
       "      <td>17</td>\n",
       "      <td>59758</td>\n",
       "      <td>713</td>\n",
       "    </tr>\n",
       "    <tr>\n",
       "      <th>2</th>\n",
       "      <td>2019-08-02</td>\n",
       "      <td>A</td>\n",
       "      <td>42</td>\n",
       "      <td>36</td>\n",
       "      <td>234381</td>\n",
       "      <td>1338</td>\n",
       "    </tr>\n",
       "    <tr>\n",
       "      <th>3</th>\n",
       "      <td>2019-08-02</td>\n",
       "      <td>B</td>\n",
       "      <td>40</td>\n",
       "      <td>39</td>\n",
       "      <td>221801</td>\n",
       "      <td>1294</td>\n",
       "    </tr>\n",
       "    <tr>\n",
       "      <th>4</th>\n",
       "      <td>2019-08-03</td>\n",
       "      <td>A</td>\n",
       "      <td>66</td>\n",
       "      <td>60</td>\n",
       "      <td>346854</td>\n",
       "      <td>1845</td>\n",
       "    </tr>\n",
       "  </tbody>\n",
       "</table>\n",
       "</div>"
      ],
      "text/plain": [
       "        date group  orders  buyers  revenue  visitors\n",
       "0 2019-08-01     A      23      19   142779       719\n",
       "1 2019-08-01     B      17      17    59758       713\n",
       "2 2019-08-02     A      42      36   234381      1338\n",
       "3 2019-08-02     B      40      39   221801      1294\n",
       "4 2019-08-03     A      66      60   346854      1845"
      ]
     },
     "execution_count": 19,
     "metadata": {},
     "output_type": "execute_result"
    }
   ],
   "source": [
    "cumulativeData = ordersAggregated.merge(visitorsAggregated, left_on=['date', 'group'], right_on=['date', 'group'])\n",
    "cumulativeData.columns = ['date', 'group', 'orders', 'buyers', 'revenue', 'visitors']\n",
    "cumulativeData.head()"
   ]
  },
  {
   "cell_type": "code",
   "execution_count": 20,
   "metadata": {},
   "outputs": [
    {
     "name": "stdout",
     "output_type": "stream",
     "text": [
      "Минимальная дата в кумулятивном датафрейме:\n",
      "2019-08-01 00:00:00\n",
      "Максимальная дата в кумулятивном датафрейме:\n",
      "2019-08-31 00:00:00\n",
      "Минимальная дата в исходном датафрейме:\n",
      "2019-08-01 00:00:00\n",
      "Максимальная дата в исходном датафрейме:\n",
      "2019-08-31 00:00:00\n"
     ]
    }
   ],
   "source": [
    "print('Минимальная дата в кумулятивном датафрейме:', cumulativeData['date'].min(), \n",
    "      'Максимальная дата в кумулятивном датафрейме:', cumulativeData['date'].max(), sep='\\n')\n",
    "print('Минимальная дата в исходном датафрейме:', orders['date'].min(), \n",
    "      'Максимальная дата в исходном датафрейме:', orders['date'].max(), sep='\\n')"
   ]
  },
  {
   "cell_type": "markdown",
   "metadata": {},
   "source": [
    "Проверили, что кумулятивный датафрейм создан корректно. Даты начала и окончания совпадают с исходными данными."
   ]
  },
  {
   "cell_type": "code",
   "execution_count": 21,
   "metadata": {},
   "outputs": [],
   "source": [
    "cumulativeRevenueA = cumulativeData[cumulativeData['group']=='A'][['date', 'revenue', 'orders']]\n",
    "cumulativeRevenueB = cumulativeData[cumulativeData['group']=='B'][['date', 'revenue', 'orders']]"
   ]
  },
  {
   "cell_type": "code",
   "execution_count": 22,
   "metadata": {},
   "outputs": [
    {
     "data": {
      "image/png": "[encoded data removed]",
      "text/plain": [
       "<Figure size 720x504 with 1 Axes>"
      ]
     },
     "metadata": {
      "needs_background": "light"
     },
     "output_type": "display_data"
    }
   ],
   "source": [
    "plt.figure(figsize=(10,7))\n",
    "plt.plot(cumulativeRevenueA['date'], cumulativeRevenueA['revenue'], label='группа A')\n",
    "plt.plot(cumulativeRevenueB['date'], cumulativeRevenueB['revenue'], label='группа B')\n",
    "plt.legend()\n",
    "plt.title('График кумулятивной выручки по группам')\n",
    "plt.xlabel('Дата')\n",
    "plt.ylabel('Выручка')\n",
    "plt.xticks(rotation=45)\n",
    "plt.show()"
   ]
  },
  {
   "cell_type": "markdown",
   "metadata": {},
   "source": [
    "Выручка у группы А увеличивается почти равномерно и она ниже, чем у группы В, а в группе В есть резкий скачок, что может говорить о резком росте числа заказов или о появлении очень дорогих заказов в выборке."
   ]
  },
  {
   "cell_type": "markdown",
   "metadata": {},
   "source": [
    "### График кумулятивного среднего чека по группам"
   ]
  },
  {
   "cell_type": "code",
   "execution_count": 23,
   "metadata": {},
   "outputs": [
    {
     "data": {
      "image/png": "[encoded data removed]",
      "text/plain": [
       "<Figure size 720x504 with 1 Axes>"
      ]
     },
     "metadata": {
      "needs_background": "light"
     },
     "output_type": "display_data"
    }
   ],
   "source": [
    "plt.figure(figsize=(10,7))\n",
    "plt.plot(cumulativeRevenueA['date'], cumulativeRevenueA['revenue']/cumulativeRevenueA['orders'], label='группа А')\n",
    "plt.plot(cumulativeRevenueB['date'], cumulativeRevenueB['revenue']/cumulativeRevenueB['orders'], label='группа В')\n",
    "plt.legend()\n",
    "plt.title('График кумулятивного среднего чека по группам')\n",
    "plt.xlabel('Дата')\n",
    "plt.ylabel('Средний чек')\n",
    "plt.xticks(rotation=45)\n",
    "plt.show()"
   ]
  },
  {
   "cell_type": "markdown",
   "metadata": {},
   "source": [
    "В группе А средний чек становится более равномерным ближе к концу теста. В группу В после 17.08.2019 возможно папали крупные заказы(очень резкий подъем на графике).Только к концу теста видим более равномерную ситуацию. Скорее всего, нужны еще данные."
   ]
  },
  {
   "cell_type": "markdown",
   "metadata": {},
   "source": [
    "### График относительного изменения кумулятивного среднего чека группы В к группе А"
   ]
  },
  {
   "cell_type": "code",
   "execution_count": 24,
   "metadata": {},
   "outputs": [],
   "source": [
    "mergedCumulativeRevenue = cumulativeRevenueA.merge(cumulativeRevenueB, left_on='date', right_on='date', \n",
    "                                                   how='left', suffixes=['A', 'B'])"
   ]
  },
  {
   "cell_type": "code",
   "execution_count": 25,
   "metadata": {},
   "outputs": [
    {
     "data": {
      "image/png": "[encoded data removed]",
      "text/plain": [
       "<Figure size 720x504 with 1 Axes>"
      ]
     },
     "metadata": {
      "needs_background": "light"
     },
     "output_type": "display_data"
    }
   ],
   "source": [
    "plt.figure(figsize=(10,7))\n",
    "plt.plot(mergedCumulativeRevenue['date'], \n",
    "         mergedCumulativeRevenue['revenueB']/mergedCumulativeRevenue['ordersB']/(mergedCumulativeRevenue['revenueA']\n",
    "                                                                                 /mergedCumulativeRevenue['ordersA'])-1)\n",
    "plt.title('График относительного изменения кумулятивного среднего чека группы В к группе А')\n",
    "plt.xlabel('Дата')\n",
    "plt.xticks(rotation=45)\n",
    "plt.ylabel('Отношение изменения кумулявного среднего чека')\n",
    "plt.axhline(y=0, color='black', linestyle='--')\n",
    "plt.show()"
   ]
  },
  {
   "cell_type": "markdown",
   "metadata": {},
   "source": [
    "График резко меняется в нескольких точках. Значит присутствуют выбросы."
   ]
  },
  {
   "cell_type": "markdown",
   "metadata": {},
   "source": [
    "### График кумулятивного среднего количества заказов на посетителя по группам"
   ]
  },
  {
   "cell_type": "code",
   "execution_count": 26,
   "metadata": {},
   "outputs": [],
   "source": [
    "cumulativeData['conversion'] = cumulativeData['orders'] / cumulativeData['visitors']"
   ]
  },
  {
   "cell_type": "code",
   "execution_count": 27,
   "metadata": {},
   "outputs": [],
   "source": [
    "cumulativeDataA = cumulativeData[cumulativeData['group']=='A']\n",
    "cumulativeDataB = cumulativeData[cumulativeData['group']=='B']"
   ]
  },
  {
   "cell_type": "code",
   "execution_count": 28,
   "metadata": {},
   "outputs": [
    {
     "data": {
      "image/png": "[encoded data removed]",
      "text/plain": [
       "<Figure size 720x504 with 1 Axes>"
      ]
     },
     "metadata": {
      "needs_background": "light"
     },
     "output_type": "display_data"
    }
   ],
   "source": [
    "plt.figure(figsize=(10,7))\n",
    "plt.plot(cumulativeDataA['date'], cumulativeDataA['conversion'], label='группа А')\n",
    "plt.plot(cumulativeDataB['date'], cumulativeDataB['conversion'], label='группа В')\n",
    "plt.legend()\n",
    "plt.title('График кумулятивного среднего количества заказов на посетителя по группам')\n",
    "plt.xlabel('Дата')\n",
    "plt.ylabel('Среднее количество заказов')\n",
    "plt.xticks(rotation=45)\n",
    "plt.show()"
   ]
  },
  {
   "cell_type": "markdown",
   "metadata": {},
   "source": [
    "Количество заказов на посетителя в группе А сначала падала. В группе В наблюдалось резкое падение и резкий скачок заказов, затем ситуация нормализовалась. Среднее количество заказов на посетителя в группе В выглядит более привлекательно. "
   ]
  },
  {
   "cell_type": "markdown",
   "metadata": {},
   "source": [
    "### График относительного изменения кумулятивного среднего количества заказов на посетителя группы В к группе А"
   ]
  },
  {
   "cell_type": "code",
   "execution_count": 29,
   "metadata": {},
   "outputs": [
    {
     "data": {
      "text/html": [
       "<div>\n",
       "<style scoped>\n",
       "    .dataframe tbody tr th:only-of-type {\n",
       "        vertical-align: middle;\n",
       "    }\n",
       "\n",
       "    .dataframe tbody tr th {\n",
       "        vertical-align: top;\n",
       "    }\n",
       "\n",
       "    .dataframe thead th {\n",
       "        text-align: right;\n",
       "    }\n",
       "</style>\n",
       "<table border=\"1\" class=\"dataframe\">\n",
       "  <thead>\n",
       "    <tr style=\"text-align: right;\">\n",
       "      <th></th>\n",
       "      <th>date</th>\n",
       "      <th>conversionA</th>\n",
       "      <th>conversionB</th>\n",
       "    </tr>\n",
       "  </thead>\n",
       "  <tbody>\n",
       "    <tr>\n",
       "      <th>0</th>\n",
       "      <td>2019-08-01</td>\n",
       "      <td>0.031989</td>\n",
       "      <td>0.023843</td>\n",
       "    </tr>\n",
       "    <tr>\n",
       "      <th>1</th>\n",
       "      <td>2019-08-02</td>\n",
       "      <td>0.031390</td>\n",
       "      <td>0.030912</td>\n",
       "    </tr>\n",
       "    <tr>\n",
       "      <th>2</th>\n",
       "      <td>2019-08-03</td>\n",
       "      <td>0.035772</td>\n",
       "      <td>0.029950</td>\n",
       "    </tr>\n",
       "  </tbody>\n",
       "</table>\n",
       "</div>"
      ],
      "text/plain": [
       "        date  conversionA  conversionB\n",
       "0 2019-08-01     0.031989     0.023843\n",
       "1 2019-08-02     0.031390     0.030912\n",
       "2 2019-08-03     0.035772     0.029950"
      ]
     },
     "execution_count": 29,
     "metadata": {},
     "output_type": "execute_result"
    }
   ],
   "source": [
    "mergedCumulativeConversions = cumulativeDataA[['date','conversion']].merge(cumulativeDataB[['date','conversion']], \n",
    "                                                                    left_on='date', right_on='date', how='left', \n",
    "                                                                    suffixes=['A','B'])\n",
    "mergedCumulativeConversions.head(3)"
   ]
  },
  {
   "cell_type": "code",
   "execution_count": 30,
   "metadata": {},
   "outputs": [
    {
     "data": {
      "image/png": "[encoded data removed]",
      "text/plain": [
       "<Figure size 720x504 with 1 Axes>"
      ]
     },
     "metadata": {
      "needs_background": "light"
     },
     "output_type": "display_data"
    }
   ],
   "source": [
    "plt.figure(figsize=(10,7))\n",
    "plt.plot(mergedCumulativeConversions['date'], mergedCumulativeConversions['conversionB'] / mergedCumulativeConversions['conversionA']-1)\n",
    "plt.axhline(y=0, color='black', linestyle='--')\n",
    "plt.axhline(y=0.14, color='grey', linestyle='--')\n",
    "plt.title('График относительного изменения кумулятивного среднего количества заказов на посетителя группы В к группе А')\n",
    "plt.xlabel('Дата')\n",
    "plt.xticks(rotation=45)\n",
    "plt.ylabel('Отношение среднего количества заказов гр В к гр А')\n",
    "plt.show()"
   ]
  },
  {
   "cell_type": "markdown",
   "metadata": {},
   "source": [
    "В начале группа В проигрывала группе А. Затем среднее количество заказов на посетителя группы В начала расти с небольшими спадами.\n",
    "Но ранее графики показывали о наличии крупных заказов. Поэтому будет нужно проанализировать данные после чистки от выбросов."
   ]
  },
  {
   "cell_type": "markdown",
   "metadata": {},
   "source": [
    "### График количества заказов по пользователям"
   ]
  },
  {
   "cell_type": "code",
   "execution_count": 31,
   "metadata": {},
   "outputs": [
    {
     "name": "stdout",
     "output_type": "stream",
     "text": [
      "         userId  orders\n",
      "908  3967698036       3\n",
      "55    249864742       3\n",
      "478  2108163459       3\n",
      "687  2988190573       3\n",
      "890  3908431265       3\n",
      "138   611059232       3\n",
      "632  2742574263       3\n",
      "157   678354126       2\n",
      "323  1404560065       2\n",
      "452  1985475298       2\n"
     ]
    }
   ],
   "source": [
    "ordersByUsers = orders.groupby('visitorId', as_index=False).agg({'transactionId':'nunique'})\n",
    "ordersByUsers.columns = ['userId', 'orders']\n",
    "print(ordersByUsers.sort_values(by='orders', ascending=False).head(10))"
   ]
  },
  {
   "cell_type": "code",
   "execution_count": 32,
   "metadata": {},
   "outputs": [
    {
     "data": {
      "image/png": "[encoded data removed]",
      "text/plain": [
       "<Figure size 720x504 with 1 Axes>"
      ]
     },
     "metadata": {
      "needs_background": "light"
     },
     "output_type": "display_data"
    }
   ],
   "source": [
    "plt.figure(figsize=(10,7))\n",
    "plt.hist(ordersByUsers['orders'])\n",
    "plt.title('График количества заказов по пользователям')\n",
    "plt.xlabel('Количество заказов')\n",
    "plt.ylabel('Количество пользователей')\n",
    "plt.show()"
   ]
  },
  {
   "cell_type": "code",
   "execution_count": 33,
   "metadata": {},
   "outputs": [
    {
     "data": {
      "image/png": "[encoded data removed]",
      "text/plain": [
       "<Figure size 720x504 with 1 Axes>"
      ]
     },
     "metadata": {
      "needs_background": "light"
     },
     "output_type": "display_data"
    }
   ],
   "source": [
    "x_values=pd.Series(range(0,len(ordersByUsers)))\n",
    "plt.figure(figsize=(10,7))\n",
    "plt.scatter(x_values, ordersByUsers['orders'])\n",
    "plt.title('Точечный график количества заказов по пользователям')\n",
    "plt.ylabel('Количество заказов')\n",
    "plt.xlabel('Количество пользователей')\n",
    "plt.show()"
   ]
  },
  {
   "cell_type": "markdown",
   "metadata": {},
   "source": [
    "Большинство пользователей оформляют 1 заказ, несколько 2 заказа, и только 7 человек - 3 заказа. Посчитаем выборочные процентили количества заказов на одного пользователя"
   ]
  },
  {
   "cell_type": "markdown",
   "metadata": {},
   "source": [
    "### Считаем 95 и 99-е перцентили количества заказов на пользователя"
   ]
  },
  {
   "cell_type": "code",
   "execution_count": 34,
   "metadata": {},
   "outputs": [
    {
     "name": "stdout",
     "output_type": "stream",
     "text": [
      "[1. 2.]\n"
     ]
    }
   ],
   "source": [
    "print(np.percentile(ordersByUsers['orders'], [95,99]))"
   ]
  },
  {
   "cell_type": "markdown",
   "metadata": {},
   "source": [
    "Не более 5% пользователей оформляют более 1 заказа и 1% заказывали более 2 раз. Значит выберем  более 2 заказов на одного пользователя за верхнюю границу числа заказов и отсеим аномальных пользователей по ней."
   ]
  },
  {
   "cell_type": "markdown",
   "metadata": {},
   "source": [
    "### График стоимостей заказов"
   ]
  },
  {
   "cell_type": "code",
   "execution_count": 35,
   "metadata": {},
   "outputs": [
    {
     "data": {
      "image/png": "[encoded data removed]",
      "text/plain": [
       "<Figure size 720x504 with 1 Axes>"
      ]
     },
     "metadata": {
      "needs_background": "light"
     },
     "output_type": "display_data"
    }
   ],
   "source": [
    "plt.figure(figsize=(10,7))\n",
    "plt.hist(orders['revenue'])\n",
    "plt.title('График стоимостей заказов')\n",
    "plt.xlabel('Стоимость заказов')\n",
    "plt.ylabel('Количество пользователей')\n",
    "plt.show()"
   ]
  },
  {
   "cell_type": "code",
   "execution_count": 36,
   "metadata": {},
   "outputs": [
    {
     "data": {
      "image/png": "[encoded data removed]",
      "text/plain": [
       "<Figure size 720x504 with 1 Axes>"
      ]
     },
     "metadata": {
      "needs_background": "light"
     },
     "output_type": "display_data"
    }
   ],
   "source": [
    "x_values=pd.Series(range(0,len(orders['revenue'])))\n",
    "plt.figure(figsize=(10,7))\n",
    "\n",
    "plt.scatter(x_values, orders['revenue'])\n",
    "plt.title('Точечный график стоимостей заказов')\n",
    "plt.ylabel('Стоимость')\n",
    "plt.xlabel('Количество заказов')\n",
    "plt.show()"
   ]
  },
  {
   "cell_type": "code",
   "execution_count": 37,
   "metadata": {},
   "outputs": [
    {
     "data": {
      "image/png": "[encoded data removed]",
      "text/plain": [
       "<Figure size 720x504 with 1 Axes>"
      ]
     },
     "metadata": {
      "needs_background": "light"
     },
     "output_type": "display_data"
    }
   ],
   "source": [
    "x_values=pd.Series(range(0,len(orders['revenue'])))\n",
    "plt.figure(figsize=(10,7))\n",
    "\n",
    "plt.scatter(x_values, orders['revenue'])\n",
    "plt.title('Точечный график стоимостей заказов')\n",
    "plt.ylabel('Стоимость')\n",
    "plt.xlabel('Количество заказов')\n",
    "plt.ylim([0, 100000])\n",
    "plt.show()"
   ]
  },
  {
   "cell_type": "markdown",
   "metadata": {},
   "source": [
    "Видим 2 больших заказа, которые вызвали скачок на графиках кумулятивных метрик. Основная часть заказов - до 200000 руб."
   ]
  },
  {
   "cell_type": "markdown",
   "metadata": {},
   "source": [
    "### Считаем 95 и 99-е перцентили стоимости заказов "
   ]
  },
  {
   "cell_type": "code",
   "execution_count": 38,
   "metadata": {},
   "outputs": [
    {
     "name": "stdout",
     "output_type": "stream",
     "text": [
      "[26785. 53904.]\n"
     ]
    }
   ],
   "source": [
    "print(np.percentile(orders['revenue'], [95,99]))"
   ]
  },
  {
   "cell_type": "markdown",
   "metadata": {},
   "source": [
    "Не более 5% пользователей оформляют заказ на сумму более 26785 руб и 1% на сумму более 53904 руб. Значит выберем более 53904 руб. за верхнюю границу стоимости заказов и отсеим аномальных пользователей по ней."
   ]
  },
  {
   "cell_type": "markdown",
   "metadata": {},
   "source": [
    "### Считаем статистическую значимость различий в среднем количестве заказов на посетителя между группами по \"сырым\" данным"
   ]
  },
  {
   "cell_type": "markdown",
   "metadata": {},
   "source": [
    "Нулевая гипотеза: Статистически значимых различий в среднем количестве заказов между группами по \"сырым\" данным нет.\n",
    "\n",
    "Альтернативная: Статистически значимые различия в среднем количестве заказов между группами по \"сырым\" данным есть.\n",
    "\n",
    "Начнем с подготовки данных."
   ]
  },
  {
   "cell_type": "markdown",
   "metadata": {},
   "source": [
    "Так как данные о продажах и средних чеках редко бывают нормально распределены (это классический пример переменных, подверженных выбросам), для проверки гипотез будем использовать непараметрический тест Уилкоксона-Манна-Уитни.\n",
    "Для уровеня значимости установим стандартный уровень статистической значимости, равный 0.05."
   ]
  },
  {
   "cell_type": "code",
   "execution_count": 39,
   "metadata": {},
   "outputs": [],
   "source": [
    "visitorsADaily = visitors[visitors['group']=='A'][['date', 'visitors']]\n",
    "visitorsADaily.columns = ['date', 'visitorsPerDateA']"
   ]
  },
  {
   "cell_type": "code",
   "execution_count": 40,
   "metadata": {},
   "outputs": [],
   "source": [
    "visitorsACumulative = visitorsADaily.apply(lambda x: visitorsADaily[visitorsADaily['date']<=x['date']].\n",
    "                                           agg({'date':'max', 'visitorsPerDateA':'sum'}), axis=1)\n",
    "visitorsACumulative.columns = ['date', 'visitorsCumulativeA']"
   ]
  },
  {
   "cell_type": "code",
   "execution_count": 41,
   "metadata": {},
   "outputs": [],
   "source": [
    "visitorsBDaily = visitors[visitors['group']=='B'][['date', 'visitors']]\n",
    "visitorsBDaily.columns = ['date', 'visitorsPerDateB']"
   ]
  },
  {
   "cell_type": "code",
   "execution_count": 42,
   "metadata": {},
   "outputs": [],
   "source": [
    "visitorsBCumulative = visitorsBDaily.apply(lambda x: visitorsBDaily[visitorsBDaily['date']<=x['date']].\n",
    "                                           agg({'date':'max', 'visitorsPerDateB':'sum'}), axis=1)\n",
    "visitorsBCumulative.columns = ['date', 'visitorsCumulativeB']"
   ]
  },
  {
   "cell_type": "code",
   "execution_count": 43,
   "metadata": {},
   "outputs": [],
   "source": [
    "ordersADaily = (\n",
    "    orders[orders['group']=='A'][['date', 'transactionId', 'visitorId', 'revenue']].groupby('date', as_index=False)\n",
    "    .agg({'transactionId':pd.Series.nunique, 'revenue':'sum'})\n",
    ")\n",
    "ordersADaily.columns = ['date', 'ordersPerDateA', 'revenuePerDateA']"
   ]
  },
  {
   "cell_type": "code",
   "execution_count": 44,
   "metadata": {},
   "outputs": [],
   "source": [
    "ordersACumulative = (\n",
    "    ordersADaily.apply(lambda x: ordersADaily[ordersADaily['date']<=x['date']]\n",
    "                       .agg({'date':'max', 'ordersPerDateA':'sum', 'revenuePerDateA':'sum'}), axis=1).sort_values(by=['date'])\n",
    ")\n",
    "ordersACumulative.columns = ['date', 'ordersCumulativeA', 'revenueCumulativeA']"
   ]
  },
  {
   "cell_type": "code",
   "execution_count": 45,
   "metadata": {},
   "outputs": [],
   "source": [
    "ordersBDaily = (\n",
    "    orders[orders['group']=='B'][['date', 'transactionId', 'visitorId', 'revenue']].groupby('date', as_index=False)\n",
    "    .agg({'transactionId':pd.Series.nunique, 'revenue':'sum'})\n",
    ")\n",
    "ordersBDaily.columns = ['date', 'ordersPerDateB', 'revenuePerDateB']"
   ]
  },
  {
   "cell_type": "code",
   "execution_count": 46,
   "metadata": {},
   "outputs": [],
   "source": [
    "ordersBCumulative = (\n",
    "    ordersBDaily.apply(lambda x: ordersBDaily[ordersBDaily['date']<=x['date']]\n",
    "                       .agg({'date':'max', 'ordersPerDateB':'sum', 'revenuePerDateB':'sum'}), axis=1).sort_values(by=['date'])\n",
    ")\n",
    "ordersBCumulative.columns = ['date', 'ordersCumulativeB', 'revenueCumulativeB']"
   ]
  },
  {
   "cell_type": "code",
   "execution_count": 47,
   "metadata": {},
   "outputs": [
    {
     "data": {
      "text/html": [
       "<div>\n",
       "<style scoped>\n",
       "    .dataframe tbody tr th:only-of-type {\n",
       "        vertical-align: middle;\n",
       "    }\n",
       "\n",
       "    .dataframe tbody tr th {\n",
       "        vertical-align: top;\n",
       "    }\n",
       "\n",
       "    .dataframe thead th {\n",
       "        text-align: right;\n",
       "    }\n",
       "</style>\n",
       "<table border=\"1\" class=\"dataframe\">\n",
       "  <thead>\n",
       "    <tr style=\"text-align: right;\">\n",
       "      <th></th>\n",
       "      <th>date</th>\n",
       "      <th>ordersPerDateA</th>\n",
       "      <th>revenuePerDateA</th>\n",
       "      <th>ordersPerDateB</th>\n",
       "      <th>revenuePerDateB</th>\n",
       "      <th>ordersCumulativeA</th>\n",
       "      <th>revenueCumulativeA</th>\n",
       "      <th>ordersCumulativeB</th>\n",
       "      <th>revenueCumulativeB</th>\n",
       "      <th>visitorsPerDateA</th>\n",
       "      <th>visitorsPerDateB</th>\n",
       "      <th>visitorsCumulativeA</th>\n",
       "      <th>visitorsCumulativeB</th>\n",
       "    </tr>\n",
       "  </thead>\n",
       "  <tbody>\n",
       "    <tr>\n",
       "      <th>0</th>\n",
       "      <td>2019-08-01</td>\n",
       "      <td>23</td>\n",
       "      <td>142779</td>\n",
       "      <td>17</td>\n",
       "      <td>59758</td>\n",
       "      <td>23</td>\n",
       "      <td>142779</td>\n",
       "      <td>17</td>\n",
       "      <td>59758</td>\n",
       "      <td>719</td>\n",
       "      <td>713</td>\n",
       "      <td>719</td>\n",
       "      <td>713</td>\n",
       "    </tr>\n",
       "    <tr>\n",
       "      <th>1</th>\n",
       "      <td>2019-08-02</td>\n",
       "      <td>19</td>\n",
       "      <td>91602</td>\n",
       "      <td>23</td>\n",
       "      <td>162043</td>\n",
       "      <td>42</td>\n",
       "      <td>234381</td>\n",
       "      <td>40</td>\n",
       "      <td>221801</td>\n",
       "      <td>619</td>\n",
       "      <td>581</td>\n",
       "      <td>1338</td>\n",
       "      <td>1294</td>\n",
       "    </tr>\n",
       "    <tr>\n",
       "      <th>2</th>\n",
       "      <td>2019-08-03</td>\n",
       "      <td>24</td>\n",
       "      <td>112473</td>\n",
       "      <td>14</td>\n",
       "      <td>67049</td>\n",
       "      <td>66</td>\n",
       "      <td>346854</td>\n",
       "      <td>54</td>\n",
       "      <td>288850</td>\n",
       "      <td>507</td>\n",
       "      <td>509</td>\n",
       "      <td>1845</td>\n",
       "      <td>1803</td>\n",
       "    </tr>\n",
       "    <tr>\n",
       "      <th>3</th>\n",
       "      <td>2019-08-04</td>\n",
       "      <td>11</td>\n",
       "      <td>41176</td>\n",
       "      <td>14</td>\n",
       "      <td>96890</td>\n",
       "      <td>77</td>\n",
       "      <td>388030</td>\n",
       "      <td>68</td>\n",
       "      <td>385740</td>\n",
       "      <td>717</td>\n",
       "      <td>770</td>\n",
       "      <td>2562</td>\n",
       "      <td>2573</td>\n",
       "    </tr>\n",
       "    <tr>\n",
       "      <th>4</th>\n",
       "      <td>2019-08-05</td>\n",
       "      <td>22</td>\n",
       "      <td>86383</td>\n",
       "      <td>21</td>\n",
       "      <td>89908</td>\n",
       "      <td>99</td>\n",
       "      <td>474413</td>\n",
       "      <td>89</td>\n",
       "      <td>475648</td>\n",
       "      <td>756</td>\n",
       "      <td>707</td>\n",
       "      <td>3318</td>\n",
       "      <td>3280</td>\n",
       "    </tr>\n",
       "  </tbody>\n",
       "</table>\n",
       "</div>"
      ],
      "text/plain": [
       "        date  ordersPerDateA  revenuePerDateA  ordersPerDateB  \\\n",
       "0 2019-08-01              23           142779              17   \n",
       "1 2019-08-02              19            91602              23   \n",
       "2 2019-08-03              24           112473              14   \n",
       "3 2019-08-04              11            41176              14   \n",
       "4 2019-08-05              22            86383              21   \n",
       "\n",
       "   revenuePerDateB  ordersCumulativeA  revenueCumulativeA  ordersCumulativeB  \\\n",
       "0            59758                 23              142779                 17   \n",
       "1           162043                 42              234381                 40   \n",
       "2            67049                 66              346854                 54   \n",
       "3            96890                 77              388030                 68   \n",
       "4            89908                 99              474413                 89   \n",
       "\n",
       "   revenueCumulativeB  visitorsPerDateA  visitorsPerDateB  \\\n",
       "0               59758               719               713   \n",
       "1              221801               619               581   \n",
       "2              288850               507               509   \n",
       "3              385740               717               770   \n",
       "4              475648               756               707   \n",
       "\n",
       "   visitorsCumulativeA  visitorsCumulativeB  \n",
       "0                  719                  713  \n",
       "1                 1338                 1294  \n",
       "2                 1845                 1803  \n",
       "3                 2562                 2573  \n",
       "4                 3318                 3280  "
      ]
     },
     "execution_count": 47,
     "metadata": {},
     "output_type": "execute_result"
    }
   ],
   "source": [
    "data = (\n",
    "    ordersADaily.merge(ordersBDaily, left_on='date', right_on='date', how='left')\n",
    ".merge(ordersACumulative, left_on='date', right_on='date', how='left')\n",
    ".merge(ordersBCumulative, left_on='date', right_on='date', how='left')\n",
    ".merge(visitorsADaily, left_on='date', right_on='date', how='left')\n",
    ".merge(visitorsBDaily, left_on='date', right_on='date', how='left')\n",
    ".merge(visitorsACumulative, left_on='date', right_on='date', how='left')\n",
    ".merge(visitorsBCumulative, left_on='date', right_on='date', how='left')\n",
    ")\n",
    "data.head()"
   ]
  },
  {
   "cell_type": "code",
   "execution_count": 48,
   "metadata": {},
   "outputs": [],
   "source": [
    "ordersByUsersA = orders[orders['group']=='A'].groupby('visitorId', as_index=False).agg({'transactionId':pd.Series.nunique})\n",
    "ordersByUsersA.columns = ['userId', 'orders']"
   ]
  },
  {
   "cell_type": "code",
   "execution_count": 49,
   "metadata": {},
   "outputs": [],
   "source": [
    "ordersByUsersB = orders[orders['group']=='B'].groupby('visitorId', as_index=False).agg({'transactionId':pd.Series.nunique})\n",
    "ordersByUsersB.columns = ['userId', 'orders']"
   ]
  },
  {
   "cell_type": "code",
   "execution_count": 50,
   "metadata": {},
   "outputs": [],
   "source": [
    "sampleA = (\n",
    "    pd.concat([ordersByUsersA['orders'], pd.Series(0, index=np.arange(data['visitorsPerDateA'].sum()-\n",
    "                                                                      len(ordersByUsersA['orders'])), name='orders')],axis=0)\n",
    ")\n",
    "sampleB = (\n",
    "    pd.concat([ordersByUsersB['orders'], pd.Series(0, index=np.arange(data['visitorsPerDateB'].sum()-\n",
    "                                                                      len(ordersByUsersB['orders'])), name='orders')],axis=0)\n",
    ")"
   ]
  },
  {
   "cell_type": "code",
   "execution_count": 51,
   "metadata": {},
   "outputs": [
    {
     "name": "stdout",
     "output_type": "stream",
     "text": [
      "p-значение: 0.011\n",
      "Относительное различие: 0.160\n"
     ]
    }
   ],
   "source": [
    "print('p-значение:', '{0:.3f}'.format(st.mannwhitneyu(sampleA, sampleB)[1]))\n",
    "print('Относительное различие:', '{0:.3f}'.format(sampleB.mean() / sampleA.mean() - 1))"
   ]
  },
  {
   "cell_type": "markdown",
   "metadata": {},
   "source": [
    "Первое число - p-value = 0.011, меньше 0.05. Значит нулевую гипотезу о том, что различий в среднем количестве заказов между группами нет, мы отвергаем, т.е. разница статистически значима. Относительный выигрыш группы В равен 16% - второе число в выводе."
   ]
  },
  {
   "cell_type": "markdown",
   "metadata": {},
   "source": [
    "### Считаем статистическую значимость различий в среднем чеке заказа между группами по \"сырым\" данным"
   ]
  },
  {
   "cell_type": "markdown",
   "metadata": {},
   "source": [
    "Нулевая гипотеза: Статисически значимых различий в среднем чеке заказа между группами по \"сырым\" данным нет.\n",
    "\n",
    "Альтернативная: Статистические различия в среднем чеке между группами по \"сырым\" данным есть."
   ]
  },
  {
   "cell_type": "code",
   "execution_count": 52,
   "metadata": {},
   "outputs": [
    {
     "name": "stdout",
     "output_type": "stream",
     "text": [
      "p-значение: 0.829\n",
      "Относительное различие: 0.287\n"
     ]
    }
   ],
   "source": [
    "print('p-значение:', '{0:.3f}'.format(st.mannwhitneyu(orders[orders['group']=='A']['revenue'], orders[orders['group']=='B']['revenue'])[1]))\n",
    "print('Относительное различие:', '{0:.3f}'.format(orders[orders['group']=='B']['revenue'].mean() / orders[orders['group']=='A']['revenue'].mean()-1))"
   ]
  },
  {
   "cell_type": "markdown",
   "metadata": {},
   "source": [
    "p-value значительно больше 0.05. Значит, причин отвергать нулевую гипотезу нет. Но средний чек группы В значительно выше среднего чека группы А по \"сырым\" данным."
   ]
  },
  {
   "cell_type": "markdown",
   "metadata": {},
   "source": [
    "### Считаем статистическую значимость различий в среднем количестве заказов на посетителя между группами по \"очищенным\" данным"
   ]
  },
  {
   "cell_type": "markdown",
   "metadata": {},
   "source": [
    "Примем за аномальных пользователей тех, кто совершил более 2 заказов или совершил заказ дороже 53904 руб. Так мы уберем 1% пользователей с наибольшим числом заказов и 1% пользователей с дорогими заказами."
   ]
  },
  {
   "cell_type": "code",
   "execution_count": 53,
   "metadata": {},
   "outputs": [],
   "source": [
    "userWithManyOrders = (\n",
    "    pd.concat([ordersByUsersA[ordersByUsersA['orders']>np.percentile(ordersByUsers['orders'], 99)]['userId'], \n",
    "               ordersByUsersB[ordersByUsersB['orders']>np.percentile(ordersByUsers['orders'], 99)]['userId']], axis=0)\n",
    ")"
   ]
  },
  {
   "cell_type": "code",
   "execution_count": 54,
   "metadata": {},
   "outputs": [],
   "source": [
    "usersWithExpensiveOrders = orders[orders['revenue']>np.percentile(orders['revenue'], 99)]['visitorId']"
   ]
  },
  {
   "cell_type": "code",
   "execution_count": 55,
   "metadata": {},
   "outputs": [],
   "source": [
    "abnormalUsers = pd.concat([userWithManyOrders, usersWithExpensiveOrders], axis=0).drop_duplicates().sort_values()"
   ]
  },
  {
   "cell_type": "code",
   "execution_count": 56,
   "metadata": {},
   "outputs": [
    {
     "name": "stdout",
     "output_type": "stream",
     "text": [
      "1099    148427295\n",
      "33      249864742\n",
      "58      611059232\n",
      "949     887908475\n",
      "744     888512513\n",
      "dtype: int64\n",
      "16\n"
     ]
    }
   ],
   "source": [
    "print(abnormalUsers.head(5))\n",
    "print(abnormalUsers.shape[0])"
   ]
  },
  {
   "cell_type": "markdown",
   "metadata": {},
   "source": [
    "Всего 16 аномальных пользователей"
   ]
  },
  {
   "cell_type": "markdown",
   "metadata": {},
   "source": [
    "Нулевая гипотеза: Статистически значимых различий в среднем количестве заказов между группами по \"очищенным\" данным нет.\n",
    "\n",
    "Альтернативная: Статистически значимые различия в среднем количестве заказов между группами по \"очищенным\" данным есть."
   ]
  },
  {
   "cell_type": "markdown",
   "metadata": {},
   "source": [
    "Для проверки гипотез будем использовать непараметрический тест Уилкоксона-Манна-Уитни.\n",
    "Для уровеня значимости установим стандартный уровень статистической значимости, равный 0.05."
   ]
  },
  {
   "cell_type": "code",
   "execution_count": 57,
   "metadata": {},
   "outputs": [],
   "source": [
    "sampleAFiltered = (pd.concat([ordersByUsersA[np.logical_not(ordersByUsersA['userId'].isin(abnormalUsers))]['orders'],\n",
    "                             pd.Series(0, index=np.arange(data['visitorsPerDateA'].sum()-len(ordersByUsersA['orders'])), \n",
    "                                       name='orders')], axis=0)\n",
    "                  )\n",
    "sampleBFiltered = (pd.concat([ordersByUsersB[np.logical_not(ordersByUsersB['userId'].isin(abnormalUsers))]['orders'],\n",
    "                             pd.Series(0, index=np.arange(data['visitorsPerDateB'].sum()-len(ordersByUsersB['orders'])), \n",
    "                                       name='orders')], axis=0)\n",
    "                  )"
   ]
  },
  {
   "cell_type": "code",
   "execution_count": 58,
   "metadata": {},
   "outputs": [
    {
     "name": "stdout",
     "output_type": "stream",
     "text": [
      "p-значение: 0.007\n",
      "Относительное различие: 0.189\n"
     ]
    }
   ],
   "source": [
    "print('p-значение:', '{0:.3f}'.format(st.mannwhitneyu(sampleAFiltered, sampleBFiltered)[1]))\n",
    "print('Относительное различие:', '{0:.3f}'.format(sampleBFiltered.mean() / sampleAFiltered.mean() - 1))"
   ]
  },
  {
   "cell_type": "markdown",
   "metadata": {},
   "source": [
    "Результаты по среднему количеству заказов практически не изменились.\n",
    "p-value = 0.007, меньше 0.05. Значит нулевую гипотезу о том, что статистически значимых различий в среднем количестве заказов между группами с \"очищенными\" данными нет, мы отвергаем, т.е. разница статистически значима. Относительный выигрыш группы В равен 18,9% - второе число в выводе."
   ]
  },
  {
   "cell_type": "markdown",
   "metadata": {},
   "source": [
    "### Считаем статистическую значимость различий в среднем чеке заказа между группами по \"очищенным\" данным"
   ]
  },
  {
   "cell_type": "markdown",
   "metadata": {},
   "source": [
    "Нулевая гипотеза: Статисически значимых различий в среднем чеке заказа между группами по \"очищенным\" данным нет.\n",
    "\n",
    "Альтернативная: Статистические различия в среднем чеке между группами по \"очищенным\" данным есть.  "
   ]
  },
  {
   "cell_type": "code",
   "execution_count": 59,
   "metadata": {},
   "outputs": [
    {
     "name": "stdout",
     "output_type": "stream",
     "text": [
      "p-значение: 0.788\n",
      "Относительное различие: -0.032\n"
     ]
    }
   ],
   "source": [
    "print(\n",
    "    'p-значение:', '{0:.3f}'.format(\n",
    "        st.mannwhitneyu(orders[np.logical_and(orders['group']=='A', \n",
    "                                              np.logical_not(orders['visitorId'].isin(abnormalUsers)),)]['revenue'], \n",
    "                        orders[np.logical_and(orders['group']=='B', \n",
    "                                              np.logical_not(orders['visitorId'].isin(abnormalUsers)))]['revenue'],)[1])\n",
    ")\n",
    "print(\n",
    "    'Относительное различие:', '{0:.3f}'.format(\n",
    "        orders[np.logical_and(orders['group']=='B', \n",
    "                              np.logical_not(orders['visitorId'].isin(abnormalUsers)),)]['revenue'].mean() / \n",
    "        orders[np.logical_and(orders['group']=='A', \n",
    "                              np.logical_not(orders['visitorId'].isin(abnormalUsers)),)]['revenue'].mean()-1))"
   ]
  },
  {
   "cell_type": "markdown",
   "metadata": {},
   "source": [
    "p-value уменьшился, но остался значительно больше 0.05. Значит причин отвергать нулевую гипотезу нет. А разница между сегментами значительно упала. А средний чек группы B по \"очищенным\" данным стал ниже среднего чека группы A, хотя и ненамного."
   ]
  },
  {
   "cell_type": "markdown",
   "metadata": {},
   "source": [
    "## Вывод"
   ]
  },
  {
   "cell_type": "markdown",
   "metadata": {},
   "source": [
    "По результатам исследования можно сделать следующие выводы:\n",
    "\n",
    "1. В первую очередь следует обратить внимание на следующие акции:\n",
    "- Запустить акцию, дающую скидку на товар в день рождения,\n",
    "- Добавить два новых канала привлечения трафика, что позволит привлекать на 30% больше пользователей,\n",
    "- Добавить форму подписки на все основные страницы, чтобы собрать базу клиентов для email-рассылок\n",
    "2. Если учитывать охват пользователей интернет-магазина, то:\n",
    "- Добавить форму подписки на все основные страницы, чтобы собрать базу клиентов для email-рассылок,\n",
    "- Добавить блоки рекомендаций товаров на сайт интернет магазина, чтобы повысить конверсию и средний чек заказа,\n",
    "- Показать на главной странице баннеры с актуальными акциями и распродажами, чтобы увеличить конверсию.\n",
    "3. Есть статистически значимое различие по среднему количеству заказов между группами как по \"сырым\", так и по \"очищенным\" данным. Среднее количество заказов группы В больше на 16-18,9%\n",
    "4. Нет статистически значимого различия по среднему чеку между группами по \"сырым\" и \"очищенным\" данным. \n",
    "5. График различия среднего количества заказов между группами сообщает, что результаты группы В значительно выше результатов группы А\n",
    "6. График различия среднего чека говорит о том, что результаты группы В лучше результатов группы А\n",
    "\n",
    "На основании вышеизложенного рекомендуем остановить тест, зафиксировав победу группы B (ее конверсия выше конверсии группы А)."
   ]
  }
 ],
 "metadata": {
  "ExecuteTimeLog": [
   {
    "duration": 51,
    "start_time": "2024-05-15T04:43:06.345Z"
   },
   {
    "duration": 401,
    "start_time": "2024-05-15T04:43:53.064Z"
   },
   {
    "duration": 83,
    "start_time": "2024-05-15T04:43:54.407Z"
   },
   {
    "duration": 14,
    "start_time": "2024-05-15T04:49:56.226Z"
   },
   {
    "duration": 32,
    "start_time": "2024-05-15T04:50:13.890Z"
   },
   {
    "duration": 12,
    "start_time": "2024-05-15T04:51:08.259Z"
   },
   {
    "duration": 13,
    "start_time": "2024-05-15T04:52:25.834Z"
   },
   {
    "duration": 70,
    "start_time": "2024-05-15T05:06:16.470Z"
   },
   {
    "duration": 108,
    "start_time": "2024-05-15T05:06:38.230Z"
   },
   {
    "duration": 84,
    "start_time": "2024-05-15T05:07:19.766Z"
   },
   {
    "duration": 63,
    "start_time": "2024-05-15T05:10:13.767Z"
   },
   {
    "duration": 32,
    "start_time": "2024-05-15T05:11:25.248Z"
   },
   {
    "duration": 12,
    "start_time": "2024-05-15T05:16:47.304Z"
   },
   {
    "duration": 7,
    "start_time": "2024-05-15T05:17:02.145Z"
   },
   {
    "duration": 45,
    "start_time": "2024-05-15T05:22:23.690Z"
   },
   {
    "duration": 28,
    "start_time": "2024-05-15T05:22:35.099Z"
   },
   {
    "duration": 26,
    "start_time": "2024-05-15T05:23:12.258Z"
   },
   {
    "duration": 167,
    "start_time": "2024-05-15T05:23:25.956Z"
   },
   {
    "duration": 133,
    "start_time": "2024-05-15T05:25:02.723Z"
   },
   {
    "duration": 15,
    "start_time": "2024-05-15T05:28:35.683Z"
   },
   {
    "duration": 493,
    "start_time": "2024-05-15T05:37:39.792Z"
   },
   {
    "duration": 9,
    "start_time": "2024-05-15T05:39:08.254Z"
   },
   {
    "duration": 309,
    "start_time": "2024-05-15T05:40:24.721Z"
   },
   {
    "duration": 185,
    "start_time": "2024-05-15T05:40:36.713Z"
   },
   {
    "duration": 177,
    "start_time": "2024-05-15T05:41:21.760Z"
   },
   {
    "duration": 248,
    "start_time": "2024-05-15T05:41:46.648Z"
   },
   {
    "duration": 186,
    "start_time": "2024-05-15T05:42:18.079Z"
   },
   {
    "duration": 213,
    "start_time": "2024-05-15T05:43:31.931Z"
   },
   {
    "duration": 202,
    "start_time": "2024-05-15T05:43:41.622Z"
   },
   {
    "duration": 241,
    "start_time": "2024-05-15T05:44:44.825Z"
   },
   {
    "duration": 207,
    "start_time": "2024-05-15T05:44:58.335Z"
   },
   {
    "duration": 225,
    "start_time": "2024-05-15T05:47:16.432Z"
   },
   {
    "duration": 289,
    "start_time": "2024-05-15T05:47:44.919Z"
   },
   {
    "duration": 235,
    "start_time": "2024-05-15T05:51:55.953Z"
   },
   {
    "duration": 229,
    "start_time": "2024-05-15T05:52:02.545Z"
   },
   {
    "duration": 241,
    "start_time": "2024-05-15T05:53:13.873Z"
   },
   {
    "duration": 317,
    "start_time": "2024-05-15T05:58:28.307Z"
   },
   {
    "duration": 243,
    "start_time": "2024-05-15T06:09:10.623Z"
   },
   {
    "duration": 223,
    "start_time": "2024-05-15T06:09:43.663Z"
   },
   {
    "duration": 38,
    "start_time": "2024-05-15T06:12:21.258Z"
   },
   {
    "duration": 34,
    "start_time": "2024-05-15T06:14:11.127Z"
   },
   {
    "duration": 57,
    "start_time": "2024-05-15T06:16:38.391Z"
   },
   {
    "duration": 58,
    "start_time": "2024-05-15T06:17:21.088Z"
   },
   {
    "duration": 62,
    "start_time": "2024-05-15T06:17:31.352Z"
   },
   {
    "duration": 20,
    "start_time": "2024-05-15T06:19:17.627Z"
   },
   {
    "duration": 9,
    "start_time": "2024-05-15T06:21:13.281Z"
   },
   {
    "duration": 33,
    "start_time": "2024-05-15T06:21:37.057Z"
   },
   {
    "duration": 9,
    "start_time": "2024-05-15T06:21:43.986Z"
   },
   {
    "duration": 8,
    "start_time": "2024-05-15T06:22:23.817Z"
   },
   {
    "duration": 7,
    "start_time": "2024-05-15T06:22:36.753Z"
   },
   {
    "duration": 5,
    "start_time": "2024-05-15T06:22:37.953Z"
   },
   {
    "duration": 17,
    "start_time": "2024-05-15T06:29:30.804Z"
   },
   {
    "duration": 12,
    "start_time": "2024-05-15T06:31:22.596Z"
   },
   {
    "duration": 13,
    "start_time": "2024-05-15T06:31:43.467Z"
   },
   {
    "duration": 11,
    "start_time": "2024-05-15T06:31:55.940Z"
   },
   {
    "duration": 13,
    "start_time": "2024-05-15T06:32:41.164Z"
   },
   {
    "duration": 12,
    "start_time": "2024-05-15T06:33:44.463Z"
   },
   {
    "duration": 312,
    "start_time": "2024-05-15T06:33:54.459Z"
   },
   {
    "duration": 302,
    "start_time": "2024-05-15T06:34:09.084Z"
   },
   {
    "duration": 311,
    "start_time": "2024-05-15T06:34:24.396Z"
   },
   {
    "duration": 307,
    "start_time": "2024-05-15T06:34:53.862Z"
   },
   {
    "duration": 43,
    "start_time": "2024-05-15T06:35:42.854Z"
   },
   {
    "duration": 318,
    "start_time": "2024-05-15T06:35:49.542Z"
   },
   {
    "duration": 311,
    "start_time": "2024-05-15T06:36:10.005Z"
   },
   {
    "duration": 308,
    "start_time": "2024-05-15T06:36:41.452Z"
   },
   {
    "duration": 303,
    "start_time": "2024-05-15T06:36:59.012Z"
   },
   {
    "duration": 377,
    "start_time": "2024-05-15T06:39:18.375Z"
   },
   {
    "duration": 285,
    "start_time": "2024-05-15T06:39:26.295Z"
   },
   {
    "duration": 300,
    "start_time": "2024-05-15T06:39:42.886Z"
   },
   {
    "duration": 12,
    "start_time": "2024-05-15T06:40:14.184Z"
   },
   {
    "duration": 270,
    "start_time": "2024-05-15T06:40:41.181Z"
   },
   {
    "duration": 7,
    "start_time": "2024-05-15T06:48:29.455Z"
   },
   {
    "duration": 7,
    "start_time": "2024-05-15T06:48:36.878Z"
   },
   {
    "duration": 205,
    "start_time": "2024-05-15T06:50:30.208Z"
   },
   {
    "duration": 193,
    "start_time": "2024-05-15T06:51:43.384Z"
   },
   {
    "duration": 235,
    "start_time": "2024-05-15T06:53:20.561Z"
   },
   {
    "duration": 234,
    "start_time": "2024-05-15T06:53:34.001Z"
   },
   {
    "duration": 388,
    "start_time": "2024-05-15T06:53:47.416Z"
   },
   {
    "duration": 7,
    "start_time": "2024-05-15T08:21:04.246Z"
   },
   {
    "duration": 5,
    "start_time": "2024-05-15T08:21:45.021Z"
   },
   {
    "duration": 272,
    "start_time": "2024-05-15T08:24:54.550Z"
   },
   {
    "duration": 371,
    "start_time": "2024-05-15T08:38:21.543Z"
   },
   {
    "duration": 10,
    "start_time": "2024-05-15T08:42:14.674Z"
   },
   {
    "duration": 10,
    "start_time": "2024-05-15T08:44:10.083Z"
   },
   {
    "duration": 319,
    "start_time": "2024-05-15T08:45:47.195Z"
   },
   {
    "duration": 5,
    "start_time": "2024-05-15T08:46:38.358Z"
   },
   {
    "duration": 5,
    "start_time": "2024-05-15T08:47:00.803Z"
   },
   {
    "duration": 685,
    "start_time": "2024-05-15T08:48:33.056Z"
   },
   {
    "duration": 36,
    "start_time": "2024-05-15T08:48:33.743Z"
   },
   {
    "duration": 34,
    "start_time": "2024-05-15T08:48:33.784Z"
   },
   {
    "duration": 290,
    "start_time": "2024-05-15T08:48:33.820Z"
   },
   {
    "duration": 23,
    "start_time": "2024-05-15T08:48:34.112Z"
   },
   {
    "duration": 277,
    "start_time": "2024-05-15T08:48:34.137Z"
   },
   {
    "duration": 46,
    "start_time": "2024-05-15T08:48:34.416Z"
   },
   {
    "duration": 14,
    "start_time": "2024-05-15T08:48:34.464Z"
   },
   {
    "duration": 46,
    "start_time": "2024-05-15T08:48:34.481Z"
   },
   {
    "duration": 37,
    "start_time": "2024-05-15T08:48:34.529Z"
   },
   {
    "duration": 10,
    "start_time": "2024-05-15T08:48:34.568Z"
   },
   {
    "duration": 41,
    "start_time": "2024-05-15T08:48:34.580Z"
   },
   {
    "duration": 15,
    "start_time": "2024-05-15T08:48:34.623Z"
   },
   {
    "duration": 25,
    "start_time": "2024-05-15T08:48:34.640Z"
   },
   {
    "duration": 182,
    "start_time": "2024-05-15T08:48:34.667Z"
   },
   {
    "duration": 145,
    "start_time": "2024-05-15T08:48:34.851Z"
   },
   {
    "duration": 14,
    "start_time": "2024-05-15T08:48:34.998Z"
   },
   {
    "duration": 29,
    "start_time": "2024-05-15T08:48:35.014Z"
   },
   {
    "duration": 352,
    "start_time": "2024-05-15T08:48:35.045Z"
   },
   {
    "duration": 324,
    "start_time": "2024-05-15T08:48:35.398Z"
   },
   {
    "duration": 7,
    "start_time": "2024-05-15T08:48:35.729Z"
   },
   {
    "duration": 350,
    "start_time": "2024-05-15T08:48:35.738Z"
   },
   {
    "duration": 4,
    "start_time": "2024-05-15T08:48:36.090Z"
   },
   {
    "duration": 18,
    "start_time": "2024-05-15T08:48:36.096Z"
   },
   {
    "duration": 254,
    "start_time": "2024-05-15T08:48:36.116Z"
   },
   {
    "duration": 8,
    "start_time": "2024-05-15T08:48:36.372Z"
   },
   {
    "duration": 45,
    "start_time": "2024-05-15T08:48:36.383Z"
   },
   {
    "duration": 53,
    "start_time": "2024-05-15T08:51:09.789Z"
   },
   {
    "duration": 53,
    "start_time": "2024-05-15T08:51:37.524Z"
   },
   {
    "duration": 3,
    "start_time": "2024-05-15T08:52:15.020Z"
   },
   {
    "duration": 32,
    "start_time": "2024-05-15T08:52:16.748Z"
   },
   {
    "duration": 11,
    "start_time": "2024-05-15T08:52:18.219Z"
   },
   {
    "duration": 284,
    "start_time": "2024-05-15T08:52:18.979Z"
   },
   {
    "duration": 13,
    "start_time": "2024-05-15T08:52:23.132Z"
   },
   {
    "duration": 256,
    "start_time": "2024-05-15T08:52:24.052Z"
   },
   {
    "duration": 55,
    "start_time": "2024-05-15T08:52:31.148Z"
   },
   {
    "duration": 13,
    "start_time": "2024-05-15T08:52:31.860Z"
   },
   {
    "duration": 9,
    "start_time": "2024-05-15T08:52:32.459Z"
   },
   {
    "duration": 34,
    "start_time": "2024-05-15T08:52:34.203Z"
   },
   {
    "duration": 9,
    "start_time": "2024-05-15T08:52:35.267Z"
   },
   {
    "duration": 6,
    "start_time": "2024-05-15T08:52:35.917Z"
   },
   {
    "duration": 6,
    "start_time": "2024-05-15T08:52:36.468Z"
   },
   {
    "duration": 7,
    "start_time": "2024-05-15T08:52:37.804Z"
   },
   {
    "duration": 169,
    "start_time": "2024-05-15T08:52:38.492Z"
   },
   {
    "duration": 160,
    "start_time": "2024-05-15T08:52:39.033Z"
   },
   {
    "duration": 15,
    "start_time": "2024-05-15T08:52:40.109Z"
   },
   {
    "duration": 12,
    "start_time": "2024-05-15T08:52:40.764Z"
   },
   {
    "duration": 245,
    "start_time": "2024-05-15T08:52:41.436Z"
   },
   {
    "duration": 266,
    "start_time": "2024-05-15T08:52:45.791Z"
   },
   {
    "duration": 6,
    "start_time": "2024-05-15T08:52:49.167Z"
   },
   {
    "duration": 338,
    "start_time": "2024-05-15T08:52:49.680Z"
   },
   {
    "duration": 4,
    "start_time": "2024-05-15T08:52:51.676Z"
   },
   {
    "duration": 4,
    "start_time": "2024-05-15T08:52:53.316Z"
   },
   {
    "duration": 247,
    "start_time": "2024-05-15T08:52:54.371Z"
   },
   {
    "duration": 9,
    "start_time": "2024-05-15T08:52:59.638Z"
   },
   {
    "duration": 55,
    "start_time": "2024-05-15T08:53:00.721Z"
   },
   {
    "duration": 62,
    "start_time": "2024-05-15T08:54:46.848Z"
   },
   {
    "duration": 70,
    "start_time": "2024-05-15T08:54:57.140Z"
   },
   {
    "duration": 85,
    "start_time": "2024-05-15T08:55:07.709Z"
   },
   {
    "duration": 61,
    "start_time": "2024-05-15T08:55:29.773Z"
   },
   {
    "duration": 51,
    "start_time": "2024-05-15T08:56:29.859Z"
   },
   {
    "duration": 11,
    "start_time": "2024-05-15T08:57:35.686Z"
   },
   {
    "duration": 8,
    "start_time": "2024-05-15T08:57:37.613Z"
   },
   {
    "duration": 53,
    "start_time": "2024-05-15T08:57:38.698Z"
   },
   {
    "duration": 9,
    "start_time": "2024-05-15T08:58:45.142Z"
   },
   {
    "duration": 54,
    "start_time": "2024-05-15T08:58:46.477Z"
   },
   {
    "duration": 53,
    "start_time": "2024-05-15T09:00:09.191Z"
   },
   {
    "duration": 17,
    "start_time": "2024-05-15T09:00:49.015Z"
   },
   {
    "duration": 15,
    "start_time": "2024-05-15T09:01:07.579Z"
   },
   {
    "duration": 142,
    "start_time": "2024-05-15T09:01:15.350Z"
   },
   {
    "duration": 50,
    "start_time": "2024-05-15T09:01:36.030Z"
   },
   {
    "duration": 4,
    "start_time": "2024-05-15T09:02:19.457Z"
   },
   {
    "duration": 294,
    "start_time": "2024-05-15T09:02:42.583Z"
   },
   {
    "duration": 354,
    "start_time": "2024-05-15T09:02:49.751Z"
   },
   {
    "duration": 425,
    "start_time": "2024-05-15T09:03:03.039Z"
   },
   {
    "duration": 340,
    "start_time": "2024-05-15T09:03:28.358Z"
   },
   {
    "duration": 351,
    "start_time": "2024-05-15T09:03:53.984Z"
   },
   {
    "duration": 337,
    "start_time": "2024-05-15T09:04:04.055Z"
   },
   {
    "duration": 366,
    "start_time": "2024-05-15T09:05:01.097Z"
   },
   {
    "duration": 322,
    "start_time": "2024-05-15T09:05:11.656Z"
   },
   {
    "duration": 359,
    "start_time": "2024-05-15T09:05:47.418Z"
   },
   {
    "duration": 17,
    "start_time": "2024-05-15T09:47:58.710Z"
   },
   {
    "duration": 85,
    "start_time": "2024-05-15T09:54:30.964Z"
   },
   {
    "duration": 9,
    "start_time": "2024-05-15T09:54:38.586Z"
   },
   {
    "duration": 128,
    "start_time": "2024-05-15T09:57:07.374Z"
   },
   {
    "duration": 113,
    "start_time": "2024-05-15T09:57:16.564Z"
   },
   {
    "duration": 126,
    "start_time": "2024-05-15T09:58:24.165Z"
   },
   {
    "duration": 134,
    "start_time": "2024-05-15T09:59:23.317Z"
   },
   {
    "duration": 4,
    "start_time": "2024-05-15T10:00:26.188Z"
   },
   {
    "duration": 233,
    "start_time": "2024-05-15T10:01:09.557Z"
   },
   {
    "duration": 137,
    "start_time": "2024-05-15T10:02:44.304Z"
   },
   {
    "duration": 4,
    "start_time": "2024-05-15T10:07:36.535Z"
   },
   {
    "duration": 148,
    "start_time": "2024-05-15T10:18:33.539Z"
   },
   {
    "duration": 157,
    "start_time": "2024-05-15T10:19:52.983Z"
   },
   {
    "duration": 170,
    "start_time": "2024-05-15T10:20:45.244Z"
   },
   {
    "duration": 13,
    "start_time": "2024-05-15T10:20:59.022Z"
   },
   {
    "duration": 10,
    "start_time": "2024-05-15T10:21:07.920Z"
   },
   {
    "duration": 151,
    "start_time": "2024-05-15T10:21:16.378Z"
   },
   {
    "duration": 155,
    "start_time": "2024-05-15T10:21:26.466Z"
   },
   {
    "duration": 192,
    "start_time": "2024-05-15T10:21:35.954Z"
   },
   {
    "duration": 163,
    "start_time": "2024-05-15T10:24:26.764Z"
   },
   {
    "duration": 170,
    "start_time": "2024-05-15T10:25:11.086Z"
   },
   {
    "duration": 5,
    "start_time": "2024-05-15T10:29:46.957Z"
   },
   {
    "duration": 587,
    "start_time": "2024-05-15T10:33:46.790Z"
   },
   {
    "duration": 7,
    "start_time": "2024-05-15T10:45:18.192Z"
   },
   {
    "duration": 62,
    "start_time": "2024-05-15T10:48:57.328Z"
   },
   {
    "duration": 63,
    "start_time": "2024-05-15T10:49:43.640Z"
   },
   {
    "duration": 39,
    "start_time": "2024-05-15T10:50:29.208Z"
   },
   {
    "duration": 5,
    "start_time": "2024-05-15T10:50:57.257Z"
   },
   {
    "duration": 48,
    "start_time": "2024-05-15T10:50:58.256Z"
   },
   {
    "duration": 16,
    "start_time": "2024-05-15T10:55:38.617Z"
   },
   {
    "duration": 14,
    "start_time": "2024-05-15T10:56:07.896Z"
   },
   {
    "duration": 50,
    "start_time": "2024-05-15T10:58:57.233Z"
   },
   {
    "duration": 54,
    "start_time": "2024-05-15T11:00:19.713Z"
   },
   {
    "duration": 16,
    "start_time": "2024-05-15T11:00:57.770Z"
   },
   {
    "duration": 52,
    "start_time": "2024-05-15T11:01:36.281Z"
   },
   {
    "duration": 26,
    "start_time": "2024-05-15T11:05:16.996Z"
   },
   {
    "duration": 30,
    "start_time": "2024-05-15T11:05:57.858Z"
   },
   {
    "duration": 82,
    "start_time": "2024-05-15T11:10:52.804Z"
   },
   {
    "duration": 79,
    "start_time": "2024-05-15T11:11:20.212Z"
   },
   {
    "duration": 42,
    "start_time": "2024-05-16T03:15:06.846Z"
   },
   {
    "duration": 1130,
    "start_time": "2024-05-16T03:15:16.379Z"
   },
   {
    "duration": 81,
    "start_time": "2024-05-16T03:15:17.510Z"
   },
   {
    "duration": 9,
    "start_time": "2024-05-16T03:15:17.592Z"
   },
   {
    "duration": 225,
    "start_time": "2024-05-16T03:15:17.603Z"
   },
   {
    "duration": 9,
    "start_time": "2024-05-16T03:15:17.829Z"
   },
   {
    "duration": 209,
    "start_time": "2024-05-16T03:15:17.839Z"
   },
   {
    "duration": 152,
    "start_time": "2024-05-16T03:15:18.049Z"
   },
   {
    "duration": 9,
    "start_time": "2024-05-16T03:15:18.203Z"
   },
   {
    "duration": 10,
    "start_time": "2024-05-16T03:15:18.213Z"
   },
   {
    "duration": 76,
    "start_time": "2024-05-16T03:15:18.225Z"
   },
   {
    "duration": 7,
    "start_time": "2024-05-16T03:15:18.302Z"
   },
   {
    "duration": 8,
    "start_time": "2024-05-16T03:15:18.311Z"
   },
   {
    "duration": 21,
    "start_time": "2024-05-16T03:15:18.320Z"
   },
   {
    "duration": 5,
    "start_time": "2024-05-16T03:15:18.342Z"
   },
   {
    "duration": 135,
    "start_time": "2024-05-16T03:15:18.348Z"
   },
   {
    "duration": 99,
    "start_time": "2024-05-16T03:15:18.485Z"
   },
   {
    "duration": 17,
    "start_time": "2024-05-16T03:15:18.585Z"
   },
   {
    "duration": 7,
    "start_time": "2024-05-16T03:15:18.603Z"
   },
   {
    "duration": 246,
    "start_time": "2024-05-16T03:15:18.611Z"
   },
   {
    "duration": 179,
    "start_time": "2024-05-16T03:15:18.859Z"
   },
   {
    "duration": 4,
    "start_time": "2024-05-16T03:15:19.039Z"
   },
   {
    "duration": 303,
    "start_time": "2024-05-16T03:15:19.045Z"
   },
   {
    "duration": 4,
    "start_time": "2024-05-16T03:15:19.349Z"
   },
   {
    "duration": 7,
    "start_time": "2024-05-16T03:15:19.354Z"
   },
   {
    "duration": 205,
    "start_time": "2024-05-16T03:15:19.362Z"
   },
   {
    "duration": 10,
    "start_time": "2024-05-16T03:15:19.568Z"
   },
   {
    "duration": 312,
    "start_time": "2024-05-16T03:15:19.579Z"
   },
   {
    "duration": 14,
    "start_time": "2024-05-16T03:15:19.894Z"
   },
   {
    "duration": 128,
    "start_time": "2024-05-16T03:15:19.909Z"
   },
   {
    "duration": 172,
    "start_time": "2024-05-16T03:15:20.038Z"
   },
   {
    "duration": 3,
    "start_time": "2024-05-16T03:15:20.212Z"
   },
   {
    "duration": 156,
    "start_time": "2024-05-16T03:15:20.216Z"
   },
   {
    "duration": 128,
    "start_time": "2024-05-16T03:15:20.374Z"
   },
   {
    "duration": 3,
    "start_time": "2024-05-16T03:15:20.503Z"
   },
   {
    "duration": 17,
    "start_time": "2024-05-16T03:15:20.507Z"
   },
   {
    "duration": 42,
    "start_time": "2024-05-16T03:15:20.525Z"
   },
   {
    "duration": 4,
    "start_time": "2024-05-16T03:15:20.568Z"
   },
   {
    "duration": 60,
    "start_time": "2024-05-16T03:15:20.573Z"
   },
   {
    "duration": 15,
    "start_time": "2024-05-16T03:15:20.635Z"
   },
   {
    "duration": 58,
    "start_time": "2024-05-16T03:15:20.651Z"
   },
   {
    "duration": 20,
    "start_time": "2024-05-16T03:15:20.710Z"
   },
   {
    "duration": 48,
    "start_time": "2024-05-16T03:15:20.731Z"
   },
   {
    "duration": 35,
    "start_time": "2024-05-16T03:15:20.781Z"
   },
   {
    "duration": 60,
    "start_time": "2024-05-16T03:15:20.817Z"
   },
   {
    "duration": 72,
    "start_time": "2024-05-16T03:15:20.878Z"
   },
   {
    "duration": 1748,
    "start_time": "2024-05-16T03:15:20.952Z"
   },
   {
    "duration": 4,
    "start_time": "2024-05-16T03:16:54.432Z"
   },
   {
    "duration": 6,
    "start_time": "2024-05-16T03:17:52.368Z"
   },
   {
    "duration": 6,
    "start_time": "2024-05-16T03:17:58.143Z"
   },
   {
    "duration": 56,
    "start_time": "2024-05-16T03:20:46.025Z"
   },
   {
    "duration": 53,
    "start_time": "2024-05-16T03:21:14.786Z"
   },
   {
    "duration": 19,
    "start_time": "2024-05-16T03:25:45.059Z"
   },
   {
    "duration": 10,
    "start_time": "2024-05-16T03:37:43.300Z"
   },
   {
    "duration": 5,
    "start_time": "2024-05-16T03:50:47.744Z"
   },
   {
    "duration": 4,
    "start_time": "2024-05-16T03:52:08.876Z"
   },
   {
    "duration": 4,
    "start_time": "2024-05-16T03:53:51.979Z"
   },
   {
    "duration": 3,
    "start_time": "2024-05-16T03:54:30.731Z"
   },
   {
    "duration": 9,
    "start_time": "2024-05-16T03:59:28.203Z"
   },
   {
    "duration": 4,
    "start_time": "2024-05-16T03:59:44.507Z"
   },
   {
    "duration": 8,
    "start_time": "2024-05-16T04:00:23.811Z"
   },
   {
    "duration": 20,
    "start_time": "2024-05-16T04:01:29.972Z"
   },
   {
    "duration": 12,
    "start_time": "2024-05-16T04:17:55.966Z"
   },
   {
    "duration": 16,
    "start_time": "2024-05-16T04:19:56.199Z"
   },
   {
    "duration": 19,
    "start_time": "2024-05-16T04:21:46.040Z"
   },
   {
    "duration": 12,
    "start_time": "2024-05-16T04:22:11.559Z"
   },
   {
    "duration": 1361,
    "start_time": "2024-05-16T06:26:37.024Z"
   },
   {
    "duration": 96,
    "start_time": "2024-05-16T06:26:38.390Z"
   },
   {
    "duration": 12,
    "start_time": "2024-05-16T06:26:38.488Z"
   },
   {
    "duration": 294,
    "start_time": "2024-05-16T06:26:38.501Z"
   },
   {
    "duration": 12,
    "start_time": "2024-05-16T06:26:38.797Z"
   },
   {
    "duration": 260,
    "start_time": "2024-05-16T06:26:38.811Z"
   },
   {
    "duration": 85,
    "start_time": "2024-05-16T06:26:39.073Z"
   },
   {
    "duration": 13,
    "start_time": "2024-05-16T06:26:39.160Z"
   },
   {
    "duration": 31,
    "start_time": "2024-05-16T06:26:39.174Z"
   },
   {
    "duration": 73,
    "start_time": "2024-05-16T06:26:39.208Z"
   },
   {
    "duration": 9,
    "start_time": "2024-05-16T06:26:39.282Z"
   },
   {
    "duration": 28,
    "start_time": "2024-05-16T06:26:39.293Z"
   },
   {
    "duration": 23,
    "start_time": "2024-05-16T06:26:39.323Z"
   },
   {
    "duration": 11,
    "start_time": "2024-05-16T06:26:39.347Z"
   },
   {
    "duration": 191,
    "start_time": "2024-05-16T06:26:39.360Z"
   },
   {
    "duration": 141,
    "start_time": "2024-05-16T06:26:39.553Z"
   },
   {
    "duration": 12,
    "start_time": "2024-05-16T06:26:39.695Z"
   },
   {
    "duration": 6,
    "start_time": "2024-05-16T06:26:39.709Z"
   },
   {
    "duration": 316,
    "start_time": "2024-05-16T06:26:39.716Z"
   },
   {
    "duration": 241,
    "start_time": "2024-05-16T06:26:40.034Z"
   },
   {
    "duration": 6,
    "start_time": "2024-05-16T06:26:40.277Z"
   },
   {
    "duration": 341,
    "start_time": "2024-05-16T06:26:40.285Z"
   },
   {
    "duration": 4,
    "start_time": "2024-05-16T06:26:40.628Z"
   },
   {
    "duration": 17,
    "start_time": "2024-05-16T06:26:40.634Z"
   },
   {
    "duration": 245,
    "start_time": "2024-05-16T06:26:40.653Z"
   },
   {
    "duration": 14,
    "start_time": "2024-05-16T06:26:40.899Z"
   },
   {
    "duration": 378,
    "start_time": "2024-05-16T06:26:40.915Z"
   },
   {
    "duration": 9,
    "start_time": "2024-05-16T06:26:41.297Z"
   },
   {
    "duration": 157,
    "start_time": "2024-05-16T06:26:41.307Z"
   },
   {
    "duration": 232,
    "start_time": "2024-05-16T06:26:41.465Z"
   },
   {
    "duration": 4,
    "start_time": "2024-05-16T06:26:41.699Z"
   },
   {
    "duration": 184,
    "start_time": "2024-05-16T06:26:41.704Z"
   },
   {
    "duration": 177,
    "start_time": "2024-05-16T06:26:41.889Z"
   },
   {
    "duration": 6,
    "start_time": "2024-05-16T06:26:42.068Z"
   },
   {
    "duration": 11,
    "start_time": "2024-05-16T06:26:42.076Z"
   },
   {
    "duration": 47,
    "start_time": "2024-05-16T06:26:42.089Z"
   },
   {
    "duration": 23,
    "start_time": "2024-05-16T06:26:42.138Z"
   },
   {
    "duration": 46,
    "start_time": "2024-05-16T06:26:42.163Z"
   },
   {
    "duration": 18,
    "start_time": "2024-05-16T06:26:42.211Z"
   },
   {
    "duration": 69,
    "start_time": "2024-05-16T06:26:42.230Z"
   },
   {
    "duration": 15,
    "start_time": "2024-05-16T06:26:42.300Z"
   },
   {
    "duration": 83,
    "start_time": "2024-05-16T06:26:42.317Z"
   },
   {
    "duration": 29,
    "start_time": "2024-05-16T06:26:42.402Z"
   },
   {
    "duration": 84,
    "start_time": "2024-05-16T06:26:42.432Z"
   },
   {
    "duration": 82,
    "start_time": "2024-05-16T06:26:42.518Z"
   },
   {
    "duration": 7,
    "start_time": "2024-05-16T06:26:42.601Z"
   },
   {
    "duration": 29,
    "start_time": "2024-05-16T06:26:42.609Z"
   },
   {
    "duration": 27,
    "start_time": "2024-05-16T06:26:42.640Z"
   },
   {
    "duration": 5,
    "start_time": "2024-05-16T06:26:42.669Z"
   },
   {
    "duration": 21,
    "start_time": "2024-05-16T06:26:42.675Z"
   },
   {
    "duration": 5,
    "start_time": "2024-05-16T06:26:42.698Z"
   },
   {
    "duration": 15,
    "start_time": "2024-05-16T06:26:42.704Z"
   },
   {
    "duration": 7,
    "start_time": "2024-05-16T06:26:42.721Z"
   },
   {
    "duration": 30,
    "start_time": "2024-05-16T06:26:42.730Z"
   },
   {
    "duration": 13,
    "start_time": "2024-05-16T06:26:42.762Z"
   },
   {
    "duration": 49,
    "start_time": "2024-05-16T07:09:50.190Z"
   },
   {
    "duration": 1349,
    "start_time": "2024-05-16T07:10:01.051Z"
   },
   {
    "duration": 83,
    "start_time": "2024-05-16T07:10:03.787Z"
   },
   {
    "duration": 18,
    "start_time": "2024-05-16T07:11:11.077Z"
   },
   {
    "duration": 406,
    "start_time": "2024-05-16T07:16:14.054Z"
   },
   {
    "duration": 11,
    "start_time": "2024-05-16T07:16:41.364Z"
   },
   {
    "duration": 11,
    "start_time": "2024-05-16T07:45:42.652Z"
   },
   {
    "duration": 3,
    "start_time": "2024-05-16T07:46:03.080Z"
   },
   {
    "duration": 38,
    "start_time": "2024-05-16T07:46:03.097Z"
   },
   {
    "duration": 13,
    "start_time": "2024-05-16T07:46:03.137Z"
   },
   {
    "duration": 36,
    "start_time": "2024-05-16T07:46:03.152Z"
   },
   {
    "duration": 0,
    "start_time": "2024-05-16T07:46:03.191Z"
   },
   {
    "duration": 0,
    "start_time": "2024-05-16T07:46:03.193Z"
   },
   {
    "duration": 0,
    "start_time": "2024-05-16T07:46:03.195Z"
   },
   {
    "duration": 0,
    "start_time": "2024-05-16T07:46:03.198Z"
   },
   {
    "duration": 0,
    "start_time": "2024-05-16T07:46:03.199Z"
   },
   {
    "duration": 0,
    "start_time": "2024-05-16T07:46:03.200Z"
   },
   {
    "duration": 0,
    "start_time": "2024-05-16T07:46:03.201Z"
   },
   {
    "duration": 0,
    "start_time": "2024-05-16T07:46:03.202Z"
   },
   {
    "duration": 0,
    "start_time": "2024-05-16T07:46:03.203Z"
   },
   {
    "duration": 8,
    "start_time": "2024-05-16T07:46:07.392Z"
   },
   {
    "duration": 9,
    "start_time": "2024-05-16T07:46:30.200Z"
   },
   {
    "duration": 9,
    "start_time": "2024-05-16T07:48:07.192Z"
   },
   {
    "duration": 3,
    "start_time": "2024-05-16T07:53:43.387Z"
   },
   {
    "duration": 32,
    "start_time": "2024-05-16T07:53:45.465Z"
   },
   {
    "duration": 12,
    "start_time": "2024-05-16T07:53:49.146Z"
   },
   {
    "duration": 16,
    "start_time": "2024-05-16T07:53:51.761Z"
   },
   {
    "duration": 10,
    "start_time": "2024-05-16T07:55:34.961Z"
   },
   {
    "duration": 257,
    "start_time": "2024-05-16T07:55:37.090Z"
   },
   {
    "duration": 12,
    "start_time": "2024-05-16T07:55:54.657Z"
   },
   {
    "duration": 236,
    "start_time": "2024-05-16T07:55:56.866Z"
   },
   {
    "duration": 11,
    "start_time": "2024-05-16T07:56:09.682Z"
   },
   {
    "duration": 18,
    "start_time": "2024-05-16T07:56:12.330Z"
   },
   {
    "duration": 15,
    "start_time": "2024-05-16T07:57:21.098Z"
   },
   {
    "duration": 10,
    "start_time": "2024-05-16T07:57:37.274Z"
   },
   {
    "duration": 244,
    "start_time": "2024-05-16T07:57:43.523Z"
   },
   {
    "duration": 16,
    "start_time": "2024-05-16T08:03:49.121Z"
   },
   {
    "duration": 258,
    "start_time": "2024-05-16T08:03:54.538Z"
   },
   {
    "duration": 11,
    "start_time": "2024-05-16T08:04:03.427Z"
   },
   {
    "duration": 271,
    "start_time": "2024-05-16T08:04:05.771Z"
   },
   {
    "duration": 12,
    "start_time": "2024-05-16T08:04:11.387Z"
   },
   {
    "duration": 254,
    "start_time": "2024-05-16T08:04:14.812Z"
   },
   {
    "duration": 109,
    "start_time": "2024-05-16T08:14:58.591Z"
   },
   {
    "duration": 14,
    "start_time": "2024-05-16T08:14:59.724Z"
   },
   {
    "duration": 9,
    "start_time": "2024-05-16T08:15:02.719Z"
   },
   {
    "duration": 87,
    "start_time": "2024-05-16T08:15:03.533Z"
   },
   {
    "duration": 10,
    "start_time": "2024-05-16T08:15:04.655Z"
   },
   {
    "duration": 6,
    "start_time": "2024-05-16T08:15:07.223Z"
   },
   {
    "duration": 5,
    "start_time": "2024-05-16T08:15:07.964Z"
   },
   {
    "duration": 10,
    "start_time": "2024-05-16T08:19:58.222Z"
   },
   {
    "duration": 8,
    "start_time": "2024-05-16T08:20:19.877Z"
   },
   {
    "duration": 81,
    "start_time": "2024-05-16T08:22:07.403Z"
   },
   {
    "duration": 62,
    "start_time": "2024-05-16T08:23:00.017Z"
   },
   {
    "duration": 48,
    "start_time": "2024-05-16T08:24:56.591Z"
   },
   {
    "duration": 11,
    "start_time": "2024-05-16T08:25:38.040Z"
   },
   {
    "duration": 9,
    "start_time": "2024-05-16T08:25:48.348Z"
   },
   {
    "duration": 9,
    "start_time": "2024-05-16T08:26:01.919Z"
   },
   {
    "duration": 12,
    "start_time": "2024-05-16T08:27:33.152Z"
   },
   {
    "duration": 12,
    "start_time": "2024-05-16T08:29:04.736Z"
   },
   {
    "duration": 52,
    "start_time": "2024-05-16T08:32:47.129Z"
   },
   {
    "duration": 37,
    "start_time": "2024-05-16T08:53:28.338Z"
   },
   {
    "duration": 64,
    "start_time": "2024-05-16T08:54:33.650Z"
   },
   {
    "duration": 52,
    "start_time": "2024-05-16T08:54:52.969Z"
   },
   {
    "duration": 10,
    "start_time": "2024-05-16T08:55:20.825Z"
   },
   {
    "duration": 10,
    "start_time": "2024-05-16T08:55:59.378Z"
   },
   {
    "duration": 10,
    "start_time": "2024-05-16T08:56:03.746Z"
   },
   {
    "duration": 10,
    "start_time": "2024-05-16T08:57:57.475Z"
   },
   {
    "duration": 7,
    "start_time": "2024-05-16T08:58:59.611Z"
   },
   {
    "duration": 13,
    "start_time": "2024-05-16T08:59:21.270Z"
   },
   {
    "duration": 9,
    "start_time": "2024-05-16T09:05:31.005Z"
   },
   {
    "duration": 12,
    "start_time": "2024-05-16T09:05:39.517Z"
   },
   {
    "duration": 6,
    "start_time": "2024-05-16T09:05:40.630Z"
   },
   {
    "duration": 6,
    "start_time": "2024-05-16T09:05:41.447Z"
   },
   {
    "duration": 188,
    "start_time": "2024-05-16T09:05:42.564Z"
   },
   {
    "duration": 134,
    "start_time": "2024-05-16T09:05:43.460Z"
   },
   {
    "duration": 18,
    "start_time": "2024-05-16T09:05:44.741Z"
   },
   {
    "duration": 4,
    "start_time": "2024-05-16T09:05:48.822Z"
   },
   {
    "duration": 5,
    "start_time": "2024-05-16T09:06:20.446Z"
   },
   {
    "duration": 5,
    "start_time": "2024-05-16T09:12:58.231Z"
   },
   {
    "duration": 6,
    "start_time": "2024-05-16T09:13:43.310Z"
   },
   {
    "duration": 7,
    "start_time": "2024-05-16T09:13:50.074Z"
   },
   {
    "duration": 6,
    "start_time": "2024-05-16T09:14:00.296Z"
   },
   {
    "duration": 15,
    "start_time": "2024-05-16T09:16:35.545Z"
   },
   {
    "duration": 7,
    "start_time": "2024-05-16T09:16:56.557Z"
   },
   {
    "duration": 333,
    "start_time": "2024-05-16T09:16:57.773Z"
   },
   {
    "duration": 318,
    "start_time": "2024-05-16T09:17:02.903Z"
   },
   {
    "duration": 7,
    "start_time": "2024-05-16T09:17:09.469Z"
   },
   {
    "duration": 334,
    "start_time": "2024-05-16T09:17:10.109Z"
   },
   {
    "duration": 4,
    "start_time": "2024-05-16T09:17:58.039Z"
   },
   {
    "duration": 5,
    "start_time": "2024-05-16T09:17:58.671Z"
   },
   {
    "duration": 261,
    "start_time": "2024-05-16T09:18:00.086Z"
   },
   {
    "duration": 13,
    "start_time": "2024-05-16T09:18:12.654Z"
   },
   {
    "duration": 326,
    "start_time": "2024-05-16T09:19:18.800Z"
   },
   {
    "duration": 9,
    "start_time": "2024-05-16T09:19:27.294Z"
   },
   {
    "duration": 166,
    "start_time": "2024-05-16T09:19:28.821Z"
   },
   {
    "duration": 206,
    "start_time": "2024-05-16T09:19:35.965Z"
   },
   {
    "duration": 5,
    "start_time": "2024-05-16T09:19:42.917Z"
   },
   {
    "duration": 3,
    "start_time": "2024-05-16T09:21:04.301Z"
   },
   {
    "duration": 32,
    "start_time": "2024-05-16T09:21:06.221Z"
   },
   {
    "duration": 12,
    "start_time": "2024-05-16T09:21:07.621Z"
   },
   {
    "duration": 264,
    "start_time": "2024-05-16T09:21:09.590Z"
   },
   {
    "duration": 16,
    "start_time": "2024-05-16T09:21:10.813Z"
   },
   {
    "duration": 266,
    "start_time": "2024-05-16T09:21:12.101Z"
   },
   {
    "duration": 55,
    "start_time": "2024-05-16T09:21:15.829Z"
   },
   {
    "duration": 13,
    "start_time": "2024-05-16T09:21:16.877Z"
   },
   {
    "duration": 9,
    "start_time": "2024-05-16T09:21:17.653Z"
   },
   {
    "duration": 37,
    "start_time": "2024-05-16T09:21:18.357Z"
   },
   {
    "duration": 9,
    "start_time": "2024-05-16T09:21:19.000Z"
   },
   {
    "duration": 6,
    "start_time": "2024-05-16T09:21:19.558Z"
   },
   {
    "duration": 6,
    "start_time": "2024-05-16T09:21:20.093Z"
   },
   {
    "duration": 12,
    "start_time": "2024-05-16T09:21:22.832Z"
   },
   {
    "duration": 6,
    "start_time": "2024-05-16T09:21:24.350Z"
   },
   {
    "duration": 6,
    "start_time": "2024-05-16T09:21:25.996Z"
   },
   {
    "duration": 197,
    "start_time": "2024-05-16T09:21:26.726Z"
   },
   {
    "duration": 119,
    "start_time": "2024-05-16T09:21:27.526Z"
   },
   {
    "duration": 15,
    "start_time": "2024-05-16T09:21:28.300Z"
   },
   {
    "duration": 6,
    "start_time": "2024-05-16T09:21:30.637Z"
   },
   {
    "duration": 7,
    "start_time": "2024-05-16T09:21:33.029Z"
   },
   {
    "duration": 222,
    "start_time": "2024-05-16T09:21:33.933Z"
   },
   {
    "duration": 226,
    "start_time": "2024-05-16T09:21:45.429Z"
   },
   {
    "duration": 6,
    "start_time": "2024-05-16T09:21:55.030Z"
   },
   {
    "duration": 285,
    "start_time": "2024-05-16T09:21:56.625Z"
   },
   {
    "duration": 4,
    "start_time": "2024-05-16T09:22:22.325Z"
   },
   {
    "duration": 4,
    "start_time": "2024-05-16T09:22:23.005Z"
   },
   {
    "duration": 344,
    "start_time": "2024-05-16T09:22:23.749Z"
   },
   {
    "duration": 14,
    "start_time": "2024-05-16T09:22:40.397Z"
   },
   {
    "duration": 319,
    "start_time": "2024-05-16T09:22:42.105Z"
   },
   {
    "duration": 346,
    "start_time": "2024-05-16T09:23:18.958Z"
   },
   {
    "duration": 12,
    "start_time": "2024-05-16T09:23:32.973Z"
   },
   {
    "duration": 176,
    "start_time": "2024-05-16T09:24:03.237Z"
   },
   {
    "duration": 171,
    "start_time": "2024-05-16T09:24:10.030Z"
   },
   {
    "duration": 4,
    "start_time": "2024-05-16T09:25:12.726Z"
   },
   {
    "duration": 167,
    "start_time": "2024-05-16T09:27:05.678Z"
   },
   {
    "duration": 154,
    "start_time": "2024-05-16T09:27:16.733Z"
   },
   {
    "duration": 5,
    "start_time": "2024-05-16T09:27:45.325Z"
   },
   {
    "duration": 54,
    "start_time": "2024-05-16T11:22:19.476Z"
   },
   {
    "duration": 1406,
    "start_time": "2024-05-16T11:22:26.623Z"
   },
   {
    "duration": 82,
    "start_time": "2024-05-16T11:22:28.032Z"
   },
   {
    "duration": 12,
    "start_time": "2024-05-16T11:22:28.116Z"
   },
   {
    "duration": 286,
    "start_time": "2024-05-16T11:22:28.131Z"
   },
   {
    "duration": 19,
    "start_time": "2024-05-16T11:22:28.419Z"
   },
   {
    "duration": 282,
    "start_time": "2024-05-16T11:22:28.440Z"
   },
   {
    "duration": 99,
    "start_time": "2024-05-16T11:22:28.729Z"
   },
   {
    "duration": 12,
    "start_time": "2024-05-16T11:22:28.830Z"
   },
   {
    "duration": 20,
    "start_time": "2024-05-16T11:22:28.844Z"
   },
   {
    "duration": 98,
    "start_time": "2024-05-16T11:22:28.867Z"
   },
   {
    "duration": 9,
    "start_time": "2024-05-16T11:22:28.967Z"
   },
   {
    "duration": 19,
    "start_time": "2024-05-16T11:22:28.978Z"
   },
   {
    "duration": 11,
    "start_time": "2024-05-16T11:22:28.999Z"
   },
   {
    "duration": 22,
    "start_time": "2024-05-16T11:22:29.011Z"
   },
   {
    "duration": 29,
    "start_time": "2024-05-16T11:22:29.035Z"
   },
   {
    "duration": 17,
    "start_time": "2024-05-16T11:22:29.066Z"
   },
   {
    "duration": 182,
    "start_time": "2024-05-16T11:22:29.085Z"
   },
   {
    "duration": 129,
    "start_time": "2024-05-16T11:22:29.269Z"
   },
   {
    "duration": 13,
    "start_time": "2024-05-16T11:22:29.400Z"
   },
   {
    "duration": 33,
    "start_time": "2024-05-16T11:22:29.415Z"
   },
   {
    "duration": 17,
    "start_time": "2024-05-16T11:22:29.449Z"
   },
   {
    "duration": 306,
    "start_time": "2024-05-16T11:22:29.468Z"
   },
   {
    "duration": 253,
    "start_time": "2024-05-16T11:22:29.776Z"
   },
   {
    "duration": 7,
    "start_time": "2024-05-16T11:22:30.031Z"
   },
   {
    "duration": 463,
    "start_time": "2024-05-16T11:22:30.040Z"
   },
   {
    "duration": 4,
    "start_time": "2024-05-16T11:22:30.505Z"
   },
   {
    "duration": 190,
    "start_time": "2024-05-16T11:22:30.511Z"
   },
   {
    "duration": 365,
    "start_time": "2024-05-16T11:22:30.705Z"
   },
   {
    "duration": 15,
    "start_time": "2024-05-16T11:22:31.071Z"
   },
   {
    "duration": 391,
    "start_time": "2024-05-16T11:22:31.087Z"
   },
   {
    "duration": 11,
    "start_time": "2024-05-16T11:22:31.479Z"
   },
   {
    "duration": 339,
    "start_time": "2024-05-16T11:22:31.492Z"
   },
   {
    "duration": 254,
    "start_time": "2024-05-16T11:22:31.833Z"
   },
   {
    "duration": 11,
    "start_time": "2024-05-16T11:22:32.089Z"
   },
   {
    "duration": 301,
    "start_time": "2024-05-16T11:22:32.101Z"
   },
   {
    "duration": 162,
    "start_time": "2024-05-16T11:22:32.403Z"
   },
   {
    "duration": 186,
    "start_time": "2024-05-16T11:22:37.439Z"
   },
   {
    "duration": 162,
    "start_time": "2024-05-16T11:24:12.688Z"
   },
   {
    "duration": 162,
    "start_time": "2024-05-16T11:24:39.081Z"
   },
   {
    "duration": 165,
    "start_time": "2024-05-16T11:24:45.608Z"
   },
   {
    "duration": 66,
    "start_time": "2024-05-16T11:26:58.329Z"
   },
   {
    "duration": 48,
    "start_time": "2024-05-16T11:27:44.249Z"
   },
   {
    "duration": 149,
    "start_time": "2024-05-16T11:28:02.152Z"
   },
   {
    "duration": 168,
    "start_time": "2024-05-16T11:28:30.457Z"
   },
   {
    "duration": 176,
    "start_time": "2024-05-16T11:31:33.505Z"
   },
   {
    "duration": 164,
    "start_time": "2024-05-16T11:33:12.877Z"
   },
   {
    "duration": 152,
    "start_time": "2024-05-16T11:33:27.836Z"
   },
   {
    "duration": 257,
    "start_time": "2024-05-16T11:36:06.019Z"
   },
   {
    "duration": 168,
    "start_time": "2024-05-16T11:37:20.219Z"
   },
   {
    "duration": 16,
    "start_time": "2024-05-16T11:38:44.638Z"
   },
   {
    "duration": 21,
    "start_time": "2024-05-16T11:39:10.619Z"
   },
   {
    "duration": 331,
    "start_time": "2024-05-16T11:39:27.271Z"
   },
   {
    "duration": 260,
    "start_time": "2024-05-16T11:40:12.029Z"
   },
   {
    "duration": 240,
    "start_time": "2024-05-16T11:41:06.740Z"
   },
   {
    "duration": 246,
    "start_time": "2024-05-16T11:41:18.527Z"
   },
   {
    "duration": 240,
    "start_time": "2024-05-16T11:41:53.948Z"
   },
   {
    "duration": 251,
    "start_time": "2024-05-16T11:43:07.070Z"
   },
   {
    "duration": 263,
    "start_time": "2024-05-16T11:43:26.018Z"
   },
   {
    "duration": 357,
    "start_time": "2024-05-16T11:43:53.573Z"
   },
   {
    "duration": 246,
    "start_time": "2024-05-16T11:44:20.205Z"
   },
   {
    "duration": 114,
    "start_time": "2024-05-16T11:44:33.973Z"
   },
   {
    "duration": 158,
    "start_time": "2024-05-16T11:45:31.693Z"
   },
   {
    "duration": 4,
    "start_time": "2024-05-16T11:45:55.862Z"
   },
   {
    "duration": 139,
    "start_time": "2024-05-16T11:48:29.078Z"
   },
   {
    "duration": 177,
    "start_time": "2024-05-16T11:48:43.198Z"
   },
   {
    "duration": 170,
    "start_time": "2024-05-16T11:49:07.429Z"
   },
   {
    "duration": 173,
    "start_time": "2024-05-16T11:49:28.135Z"
   },
   {
    "duration": 162,
    "start_time": "2024-05-16T11:49:58.087Z"
   },
   {
    "duration": 153,
    "start_time": "2024-05-16T11:50:05.894Z"
   },
   {
    "duration": 158,
    "start_time": "2024-05-16T11:50:12.702Z"
   },
   {
    "duration": 4,
    "start_time": "2024-05-16T11:51:10.011Z"
   },
   {
    "duration": 1266,
    "start_time": "2024-05-17T03:16:37.890Z"
   },
   {
    "duration": 94,
    "start_time": "2024-05-17T03:16:41.433Z"
   },
   {
    "duration": 11,
    "start_time": "2024-05-17T03:16:49.817Z"
   },
   {
    "duration": 254,
    "start_time": "2024-05-17T03:16:55.393Z"
   },
   {
    "duration": 12,
    "start_time": "2024-05-17T03:17:17.448Z"
   },
   {
    "duration": 259,
    "start_time": "2024-05-17T03:17:25.361Z"
   },
   {
    "duration": 112,
    "start_time": "2024-05-17T03:17:58.196Z"
   },
   {
    "duration": 12,
    "start_time": "2024-05-17T03:18:00.649Z"
   },
   {
    "duration": 8,
    "start_time": "2024-05-17T03:18:09.898Z"
   },
   {
    "duration": 89,
    "start_time": "2024-05-17T03:18:11.928Z"
   },
   {
    "duration": 9,
    "start_time": "2024-05-17T03:18:12.809Z"
   },
   {
    "duration": 7,
    "start_time": "2024-05-17T03:18:17.023Z"
   },
   {
    "duration": 6,
    "start_time": "2024-05-17T03:18:17.897Z"
   },
   {
    "duration": 12,
    "start_time": "2024-05-17T03:18:36.225Z"
   },
   {
    "duration": 6,
    "start_time": "2024-05-17T03:18:52.898Z"
   },
   {
    "duration": 6,
    "start_time": "2024-05-17T03:19:19.569Z"
   },
   {
    "duration": 164,
    "start_time": "2024-05-17T03:19:25.114Z"
   },
   {
    "duration": 121,
    "start_time": "2024-05-17T03:19:26.314Z"
   },
   {
    "duration": 13,
    "start_time": "2024-05-17T03:19:28.017Z"
   },
   {
    "duration": 5,
    "start_time": "2024-05-17T03:19:43.938Z"
   },
   {
    "duration": 6,
    "start_time": "2024-05-17T03:19:56.137Z"
   },
   {
    "duration": 295,
    "start_time": "2024-05-17T03:20:01.340Z"
   },
   {
    "duration": 219,
    "start_time": "2024-05-17T03:20:21.034Z"
   },
   {
    "duration": 6,
    "start_time": "2024-05-17T03:20:38.194Z"
   },
   {
    "duration": 306,
    "start_time": "2024-05-17T03:21:04.098Z"
   },
   {
    "duration": 4,
    "start_time": "2024-05-17T03:21:25.100Z"
   },
   {
    "duration": 4,
    "start_time": "2024-05-17T03:21:27.202Z"
   },
   {
    "duration": 242,
    "start_time": "2024-05-17T03:21:31.813Z"
   },
   {
    "duration": 20,
    "start_time": "2024-05-17T03:21:53.091Z"
   },
   {
    "duration": 326,
    "start_time": "2024-05-17T03:22:02.355Z"
   },
   {
    "duration": 8,
    "start_time": "2024-05-17T03:22:52.851Z"
   },
   {
    "duration": 150,
    "start_time": "2024-05-17T03:23:03.291Z"
   },
   {
    "duration": 227,
    "start_time": "2024-05-17T03:23:05.770Z"
   },
   {
    "duration": 4,
    "start_time": "2024-05-17T03:23:19.517Z"
   },
   {
    "duration": 155,
    "start_time": "2024-05-17T03:23:29.159Z"
   },
   {
    "duration": 160,
    "start_time": "2024-05-17T03:23:30.650Z"
   },
   {
    "duration": 182,
    "start_time": "2024-05-17T03:23:59.802Z"
   },
   {
    "duration": 5,
    "start_time": "2024-05-17T03:24:09.523Z"
   },
   {
    "duration": 3,
    "start_time": "2024-05-17T03:37:35.487Z"
   },
   {
    "duration": 96,
    "start_time": "2024-05-17T03:45:49.551Z"
   },
   {
    "duration": 5,
    "start_time": "2024-05-17T03:46:00.671Z"
   },
   {
    "duration": 45,
    "start_time": "2024-05-17T03:46:01.388Z"
   },
   {
    "duration": 4,
    "start_time": "2024-05-17T03:46:02.126Z"
   },
   {
    "duration": 48,
    "start_time": "2024-05-17T03:46:02.670Z"
   },
   {
    "duration": 14,
    "start_time": "2024-05-17T03:46:03.247Z"
   },
   {
    "duration": 46,
    "start_time": "2024-05-17T03:46:03.767Z"
   },
   {
    "duration": 15,
    "start_time": "2024-05-17T03:46:04.359Z"
   },
   {
    "duration": 48,
    "start_time": "2024-05-17T03:46:06.614Z"
   },
   {
    "duration": 35,
    "start_time": "2024-05-17T03:46:07.719Z"
   },
   {
    "duration": 64,
    "start_time": "2024-05-17T03:46:13.127Z"
   },
   {
    "duration": 87,
    "start_time": "2024-05-17T03:46:13.768Z"
   },
   {
    "duration": 6,
    "start_time": "2024-05-17T03:46:14.317Z"
   },
   {
    "duration": 27,
    "start_time": "2024-05-17T03:46:14.930Z"
   },
   {
    "duration": 25,
    "start_time": "2024-05-17T03:47:40.031Z"
   },
   {
    "duration": 10,
    "start_time": "2024-05-17T03:49:33.255Z"
   },
   {
    "duration": 28,
    "start_time": "2024-05-17T03:50:13.919Z"
   },
   {
    "duration": 10,
    "start_time": "2024-05-17T03:50:20.287Z"
   },
   {
    "duration": 6,
    "start_time": "2024-05-17T03:56:49.433Z"
   },
   {
    "duration": 4,
    "start_time": "2024-05-17T03:57:15.744Z"
   },
   {
    "duration": 4,
    "start_time": "2024-05-17T03:57:34.249Z"
   },
   {
    "duration": 4,
    "start_time": "2024-05-17T03:57:35.945Z"
   },
   {
    "duration": 8,
    "start_time": "2024-05-17T03:57:52.224Z"
   },
   {
    "duration": 8,
    "start_time": "2024-05-17T04:00:04.114Z"
   },
   {
    "duration": 37,
    "start_time": "2024-05-17T04:01:16.274Z"
   },
   {
    "duration": 17,
    "start_time": "2024-05-17T04:04:52.971Z"
   },
   {
    "duration": 17,
    "start_time": "2024-05-17T04:05:31.827Z"
   },
   {
    "duration": 930,
    "start_time": "2024-05-17T04:29:40.613Z"
   },
   {
    "duration": 79,
    "start_time": "2024-05-17T04:29:41.545Z"
   },
   {
    "duration": 10,
    "start_time": "2024-05-17T04:29:41.625Z"
   },
   {
    "duration": 249,
    "start_time": "2024-05-17T04:29:41.637Z"
   },
   {
    "duration": 14,
    "start_time": "2024-05-17T04:29:41.888Z"
   },
   {
    "duration": 223,
    "start_time": "2024-05-17T04:29:41.903Z"
   },
   {
    "duration": 98,
    "start_time": "2024-05-17T04:29:42.128Z"
   },
   {
    "duration": 10,
    "start_time": "2024-05-17T04:29:42.227Z"
   },
   {
    "duration": 16,
    "start_time": "2024-05-17T04:29:42.238Z"
   },
   {
    "duration": 96,
    "start_time": "2024-05-17T04:29:42.256Z"
   },
   {
    "duration": 7,
    "start_time": "2024-05-17T04:29:42.353Z"
   },
   {
    "duration": 7,
    "start_time": "2024-05-17T04:29:42.361Z"
   },
   {
    "duration": 7,
    "start_time": "2024-05-17T04:29:42.369Z"
   },
   {
    "duration": 14,
    "start_time": "2024-05-17T04:29:42.377Z"
   },
   {
    "duration": 18,
    "start_time": "2024-05-17T04:29:42.392Z"
   },
   {
    "duration": 7,
    "start_time": "2024-05-17T04:29:42.411Z"
   },
   {
    "duration": 135,
    "start_time": "2024-05-17T04:29:42.419Z"
   },
   {
    "duration": 95,
    "start_time": "2024-05-17T04:29:42.556Z"
   },
   {
    "duration": 11,
    "start_time": "2024-05-17T04:29:42.653Z"
   },
   {
    "duration": 35,
    "start_time": "2024-05-17T04:29:42.665Z"
   },
   {
    "duration": 13,
    "start_time": "2024-05-17T04:29:42.701Z"
   },
   {
    "duration": 262,
    "start_time": "2024-05-17T04:29:42.716Z"
   },
   {
    "duration": 199,
    "start_time": "2024-05-17T04:29:42.979Z"
   },
   {
    "duration": 5,
    "start_time": "2024-05-17T04:29:43.179Z"
   },
   {
    "duration": 300,
    "start_time": "2024-05-17T04:29:43.185Z"
   },
   {
    "duration": 3,
    "start_time": "2024-05-17T04:29:43.486Z"
   },
   {
    "duration": 11,
    "start_time": "2024-05-17T04:29:43.490Z"
   },
   {
    "duration": 184,
    "start_time": "2024-05-17T04:29:43.505Z"
   },
   {
    "duration": 13,
    "start_time": "2024-05-17T04:29:43.690Z"
   },
   {
    "duration": 290,
    "start_time": "2024-05-17T04:29:43.704Z"
   },
   {
    "duration": 7,
    "start_time": "2024-05-17T04:29:44.001Z"
   },
   {
    "duration": 151,
    "start_time": "2024-05-17T04:29:44.009Z"
   },
   {
    "duration": 172,
    "start_time": "2024-05-17T04:29:44.161Z"
   },
   {
    "duration": 4,
    "start_time": "2024-05-17T04:29:44.335Z"
   },
   {
    "duration": 138,
    "start_time": "2024-05-17T04:29:44.340Z"
   },
   {
    "duration": 130,
    "start_time": "2024-05-17T04:29:44.479Z"
   },
   {
    "duration": 128,
    "start_time": "2024-05-17T04:29:44.610Z"
   },
   {
    "duration": 4,
    "start_time": "2024-05-17T04:29:44.740Z"
   },
   {
    "duration": 5,
    "start_time": "2024-05-17T04:29:44.745Z"
   },
   {
    "duration": 51,
    "start_time": "2024-05-17T04:29:44.751Z"
   },
   {
    "duration": 7,
    "start_time": "2024-05-17T04:29:44.803Z"
   },
   {
    "duration": 38,
    "start_time": "2024-05-17T04:29:44.811Z"
   },
   {
    "duration": 15,
    "start_time": "2024-05-17T04:29:44.851Z"
   },
   {
    "duration": 39,
    "start_time": "2024-05-17T04:29:44.868Z"
   },
   {
    "duration": 11,
    "start_time": "2024-05-17T04:29:44.908Z"
   },
   {
    "duration": 36,
    "start_time": "2024-05-17T04:29:44.920Z"
   },
   {
    "duration": 23,
    "start_time": "2024-05-17T04:29:44.957Z"
   },
   {
    "duration": 66,
    "start_time": "2024-05-17T04:29:44.981Z"
   },
   {
    "duration": 65,
    "start_time": "2024-05-17T04:29:45.049Z"
   },
   {
    "duration": 5,
    "start_time": "2024-05-17T04:29:45.115Z"
   },
   {
    "duration": 49,
    "start_time": "2024-05-17T04:29:45.121Z"
   },
   {
    "duration": 11,
    "start_time": "2024-05-17T04:29:45.172Z"
   },
   {
    "duration": 17,
    "start_time": "2024-05-17T04:29:45.184Z"
   },
   {
    "duration": 30,
    "start_time": "2024-05-17T04:29:45.203Z"
   },
   {
    "duration": 24,
    "start_time": "2024-05-17T04:29:45.234Z"
   },
   {
    "duration": 23,
    "start_time": "2024-05-17T04:29:45.259Z"
   },
   {
    "duration": 27,
    "start_time": "2024-05-17T04:29:45.283Z"
   },
   {
    "duration": 52,
    "start_time": "2024-05-17T04:29:45.311Z"
   },
   {
    "duration": 11,
    "start_time": "2024-05-17T04:29:45.365Z"
   }
  ],
  "kernelspec": {
   "display_name": "Python 3 (ipykernel)",
   "language": "python",
   "name": "python3"
  },
  "language_info": {
   "codemirror_mode": {
    "name": "ipython",
    "version": 3
   },
   "file_extension": ".py",
   "mimetype": "text/x-python",
   "name": "python",
   "nbconvert_exporter": "python",
   "pygments_lexer": "ipython3",
   "version": "3.11.7"
  },
  "toc": {
   "base_numbering": 1,
   "nav_menu": {},
   "number_sections": true,
   "sideBar": true,
   "skip_h1_title": true,
   "title_cell": "Содержание",
   "title_sidebar": "Contents",
   "toc_cell": true,
   "toc_position": {
    "height": "calc(100% - 180px)",
    "left": "10px",
    "top": "150px",
    "width": "598px"
   },
   "toc_section_display": true,
   "toc_window_display": true
  }
 },
 "nbformat": 4,
 "nbformat_minor": 4
}
