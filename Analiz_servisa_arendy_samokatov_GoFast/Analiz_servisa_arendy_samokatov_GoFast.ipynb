{
 "cells": [
  {
   "cell_type": "markdown",
   "id": "e49e39cb",
   "metadata": {},
   "source": [
    "<h1>Анализ сервиса аренды самокатов GoFast<span class=\"tocSkip\"></span></h1>"
   ]
  },
  {
   "cell_type": "markdown",
   "id": "db9ba1b3",
   "metadata": {
    "toc": true
   },
   "source": [
    "<h1>Содержание<span class=\"tocSkip\"></span></h1>\n",
    "<div class=\"toc\"><ul class=\"toc-item\"><li><span><a href=\"#Шаг-1.-Загрузка-данных\" data-toc-modified-id=\"Шаг-1.-Загрузка-данных-1\"><span class=\"toc-item-num\">1&nbsp;&nbsp;</span>Шаг 1. Загрузка данных</a></span><ul class=\"toc-item\"><li><span><a href=\"#Изучим-информацию-о-пользователях\" data-toc-modified-id=\"Изучим-информацию-о-пользователях-1.1\"><span class=\"toc-item-num\">1.1&nbsp;&nbsp;</span>Изучим информацию о пользователях</a></span></li><li><span><a href=\"#Изучим-информацию-о-поездках\" data-toc-modified-id=\"Изучим-информацию-о-поездках-1.2\"><span class=\"toc-item-num\">1.2&nbsp;&nbsp;</span>Изучим информацию о поездках</a></span></li><li><span><a href=\"#Изучим-информацию-о-подписках\" data-toc-modified-id=\"Изучим-информацию-о-подписках-1.3\"><span class=\"toc-item-num\">1.3&nbsp;&nbsp;</span>Изучим информацию о подписках</a></span></li></ul></li><li><span><a href=\"#Шаг-2.-Предобработка-данных\" data-toc-modified-id=\"Шаг-2.-Предобработка-данных-2\"><span class=\"toc-item-num\">2&nbsp;&nbsp;</span>Шаг 2. Предобработка данных</a></span></li><li><span><a href=\"#Шаг-3.-Исследовательский-анализ-данных\" data-toc-modified-id=\"Шаг-3.-Исследовательский-анализ-данных-3\"><span class=\"toc-item-num\">3&nbsp;&nbsp;</span>Шаг 3. Исследовательский анализ данных</a></span></li><li><span><a href=\"#Шаг-4.-Объединение-данных\" data-toc-modified-id=\"Шаг-4.-Объединение-данных-4\"><span class=\"toc-item-num\">4&nbsp;&nbsp;</span>Шаг 4. Объединение данных</a></span><ul class=\"toc-item\"><li><span><a href=\"#Создаем-3-итоговые-таблицы\" data-toc-modified-id=\"Создаем-3-итоговые-таблицы-4.1\"><span class=\"toc-item-num\">4.1&nbsp;&nbsp;</span>Создаем 3 итоговые таблицы</a></span></li><li><span><a href=\"#Исследуем-данные-о-расстояниях,-которые-преодолели-пользователи-с-подпиской-и-без.\" data-toc-modified-id=\"Исследуем-данные-о-расстояниях,-которые-преодолели-пользователи-с-подпиской-и-без.-4.2\"><span class=\"toc-item-num\">4.2&nbsp;&nbsp;</span>Исследуем данные о расстояниях, которые преодолели пользователи с подпиской и без.</a></span></li><li><span><a href=\"#Исследуем-данные-о-времени,-которое--затратили-пользователи-с-подпиской-и-без.\" data-toc-modified-id=\"Исследуем-данные-о-времени,-которое--затратили-пользователи-с-подпиской-и-без.-4.3\"><span class=\"toc-item-num\">4.3&nbsp;&nbsp;</span>Исследуем данные о времени, которое  затратили пользователи с подпиской и без.</a></span></li></ul></li><li><span><a href=\"#Шаг-5.-Подсчёт-выручки\" data-toc-modified-id=\"Шаг-5.-Подсчёт-выручки-5\"><span class=\"toc-item-num\">5&nbsp;&nbsp;</span>Шаг 5. Подсчёт выручки</a></span></li><li><span><a href=\"#Шаг-6.-Проверка-гипотез\" data-toc-modified-id=\"Шаг-6.-Проверка-гипотез-6\"><span class=\"toc-item-num\">6&nbsp;&nbsp;</span>Шаг 6. Проверка гипотез</a></span><ul class=\"toc-item\"><li><span><a href=\"#Проверим-гипотезу:-тратят-ли-пользователи-с-подпиской-больше-времени-на-поездки.\" data-toc-modified-id=\"Проверим-гипотезу:-тратят-ли-пользователи-с-подпиской-больше-времени-на-поездки.-6.1\"><span class=\"toc-item-num\">6.1&nbsp;&nbsp;</span>Проверим гипотезу: тратят ли пользователи с подпиской больше времени на поездки.</a></span></li><li><span><a href=\"#Проверим-гипотезу:-расстояние,-которое-проезжают-пользователи-с-подпиской-за-1-поездку-не-превышает-3130-м.\" data-toc-modified-id=\"Проверим-гипотезу:-расстояние,-которое-проезжают-пользователи-с-подпиской-за-1-поездку-не-превышает-3130-м.-6.2\"><span class=\"toc-item-num\">6.2&nbsp;&nbsp;</span>Проверим гипотезу: расстояние, которое проезжают пользователи с подпиской за 1 поездку не превышает 3130 м.</a></span></li><li><span><a href=\"#Проверим-гипотезу:-будет-ли-помесячная-выручка-от-пользователей-с-подпиской-по-месяцам-выше,-чем-выручка-от-пользователей-без-подписки.\" data-toc-modified-id=\"Проверим-гипотезу:-будет-ли-помесячная-выручка-от-пользователей-с-подпиской-по-месяцам-выше,-чем-выручка-от-пользователей-без-подписки.-6.3\"><span class=\"toc-item-num\">6.3&nbsp;&nbsp;</span>Проверим гипотезу: будет ли помесячная выручка от пользователей с подпиской по месяцам выше, чем выручка от пользователей без подписки.</a></span></li><li><span><a href=\"#Проверка-гипотезы-о-снижении-обращений-в-техподдержку-после-обновления-сервера.\" data-toc-modified-id=\"Проверка-гипотезы-о-снижении-обращений-в-техподдержку-после-обновления-сервера.-6.4\"><span class=\"toc-item-num\">6.4&nbsp;&nbsp;</span>Проверка гипотезы о снижении обращений в техподдержку после обновления сервера.</a></span></li></ul></li><li><span><a href=\"#Шаг-7.-Распределения\" data-toc-modified-id=\"Шаг-7.-Распределения-7\"><span class=\"toc-item-num\">7&nbsp;&nbsp;</span>Шаг 7. Распределения</a></span><ul class=\"toc-item\"><li><span><a href=\"#Выясним-какое-минимальное-количество-промокодов-нужно-разослать,-чтобы-вероятность-не-выполнить-план-была-примерно-5%.\" data-toc-modified-id=\"Выясним-какое-минимальное-количество-промокодов-нужно-разослать,-чтобы-вероятность-не-выполнить-план-была-примерно-5%.-7.1\"><span class=\"toc-item-num\">7.1&nbsp;&nbsp;</span>Выясним какое минимальное количество промокодов нужно разослать, чтобы вероятность не выполнить план была примерно 5%.</a></span></li><li><span><a href=\"#Найдем-вероятность-того,-что-уведомления-откроют-не-более-399,5-тыс-пользователей-при-рассылке-1-млн-уведомлений,-с-вероятностью-того,-что-их-открывает-40%-получивших-клиентов.\" data-toc-modified-id=\"Найдем-вероятность-того,-что-уведомления-откроют-не-более-399,5-тыс-пользователей-при-рассылке-1-млн-уведомлений,-с-вероятностью-того,-что-их-открывает-40%-получивших-клиентов.-7.2\"><span class=\"toc-item-num\">7.2&nbsp;&nbsp;</span>Найдем вероятность того, что уведомления откроют не более 399,5 тыс пользователей при рассылке 1 млн уведомлений, с вероятностью того, что их открывает 40% получивших клиентов.</a></span></li></ul></li><li><span><a href=\"#Вывод\" data-toc-modified-id=\"Вывод-8\"><span class=\"toc-item-num\">8&nbsp;&nbsp;</span>Вывод</a></span></li></ul></div>"
   ]
  },
  {
   "cell_type": "markdown",
   "id": "b323f6f3",
   "metadata": {},
   "source": [
    "Вы аналитик популярного сервиса аренды самокатов GoFast. Вам передали данные о некоторых пользователях из нескольких городов, а также об их поездках. Проанализируйте данные и проверьте некоторые гипотезы, которые могут помочь бизнесу вырасти.\n",
    "Чтобы совершать поездки по городу, пользователи сервиса GoFast пользуются мобильным приложением. Сервисом можно пользоваться:\n",
    "\n",
    "без подписки\n",
    "\n",
    "абонентская плата отсутствует;\n",
    "стоимость одной минуты поездки — 8 рублей;\n",
    "\n",
    "стоимость старта (начала поездки) — 50 рублей;\n",
    "\n",
    "с подпиской Ultra\n",
    "\n",
    "абонентская плата — 199 рублей в месяц;\n",
    "\n",
    "стоимость одной минуты поездки — 6 рублей;\n",
    "\n",
    "стоимость старта — бесплатно."
   ]
  },
  {
   "cell_type": "code",
   "execution_count": 1,
   "id": "3d2ef118",
   "metadata": {},
   "outputs": [],
   "source": [
    "import pandas as pd\n",
    "import matplotlib.pyplot as plt\n",
    "import numpy as np\n",
    "from scipy import stats as st\n",
    "from math import factorial"
   ]
  },
  {
   "cell_type": "markdown",
   "id": "4e777506",
   "metadata": {},
   "source": [
    "#### Шаг 1. Загрузка данных"
   ]
  },
  {
   "cell_type": "code",
   "execution_count": 2,
   "id": "9d61ecb8",
   "metadata": {},
   "outputs": [],
   "source": [
    "users = pd.read_csv('/datasets/users_go.csv')\n",
    "rides = pd.read_csv('/datasets/rides_go.csv')\n",
    "subscriptions = pd.read_csv('/datasets/subscriptions_go.csv')"
   ]
  },
  {
   "cell_type": "markdown",
   "id": "eb7d4191",
   "metadata": {},
   "source": [
    "##### Изучим информацию о пользователях"
   ]
  },
  {
   "cell_type": "code",
   "execution_count": 3,
   "id": "4264c2ec",
   "metadata": {},
   "outputs": [
    {
     "data": {
      "text/html": [
       "<div>\n",
       "<style scoped>\n",
       "    .dataframe tbody tr th:only-of-type {\n",
       "        vertical-align: middle;\n",
       "    }\n",
       "\n",
       "    .dataframe tbody tr th {\n",
       "        vertical-align: top;\n",
       "    }\n",
       "\n",
       "    .dataframe thead th {\n",
       "        text-align: right;\n",
       "    }\n",
       "</style>\n",
       "<table border=\"1\" class=\"dataframe\">\n",
       "  <thead>\n",
       "    <tr style=\"text-align: right;\">\n",
       "      <th></th>\n",
       "      <th>user_id</th>\n",
       "      <th>name</th>\n",
       "      <th>age</th>\n",
       "      <th>city</th>\n",
       "      <th>subscription_type</th>\n",
       "    </tr>\n",
       "  </thead>\n",
       "  <tbody>\n",
       "    <tr>\n",
       "      <th>0</th>\n",
       "      <td>1</td>\n",
       "      <td>Кира</td>\n",
       "      <td>22</td>\n",
       "      <td>Тюмень</td>\n",
       "      <td>ultra</td>\n",
       "    </tr>\n",
       "    <tr>\n",
       "      <th>1</th>\n",
       "      <td>2</td>\n",
       "      <td>Станислав</td>\n",
       "      <td>31</td>\n",
       "      <td>Омск</td>\n",
       "      <td>ultra</td>\n",
       "    </tr>\n",
       "    <tr>\n",
       "      <th>2</th>\n",
       "      <td>3</td>\n",
       "      <td>Алексей</td>\n",
       "      <td>20</td>\n",
       "      <td>Москва</td>\n",
       "      <td>ultra</td>\n",
       "    </tr>\n",
       "    <tr>\n",
       "      <th>3</th>\n",
       "      <td>4</td>\n",
       "      <td>Константин</td>\n",
       "      <td>26</td>\n",
       "      <td>Ростов-на-Дону</td>\n",
       "      <td>ultra</td>\n",
       "    </tr>\n",
       "    <tr>\n",
       "      <th>4</th>\n",
       "      <td>5</td>\n",
       "      <td>Адель</td>\n",
       "      <td>28</td>\n",
       "      <td>Омск</td>\n",
       "      <td>ultra</td>\n",
       "    </tr>\n",
       "    <tr>\n",
       "      <th>5</th>\n",
       "      <td>6</td>\n",
       "      <td>Регина</td>\n",
       "      <td>25</td>\n",
       "      <td>Краснодар</td>\n",
       "      <td>ultra</td>\n",
       "    </tr>\n",
       "    <tr>\n",
       "      <th>6</th>\n",
       "      <td>7</td>\n",
       "      <td>Игорь</td>\n",
       "      <td>23</td>\n",
       "      <td>Омск</td>\n",
       "      <td>ultra</td>\n",
       "    </tr>\n",
       "    <tr>\n",
       "      <th>7</th>\n",
       "      <td>8</td>\n",
       "      <td>Юрий</td>\n",
       "      <td>23</td>\n",
       "      <td>Краснодар</td>\n",
       "      <td>ultra</td>\n",
       "    </tr>\n",
       "    <tr>\n",
       "      <th>8</th>\n",
       "      <td>9</td>\n",
       "      <td>Ян</td>\n",
       "      <td>21</td>\n",
       "      <td>Пятигорск</td>\n",
       "      <td>ultra</td>\n",
       "    </tr>\n",
       "    <tr>\n",
       "      <th>9</th>\n",
       "      <td>10</td>\n",
       "      <td>Валерий</td>\n",
       "      <td>18</td>\n",
       "      <td>Екатеринбург</td>\n",
       "      <td>ultra</td>\n",
       "    </tr>\n",
       "  </tbody>\n",
       "</table>\n",
       "</div>"
      ],
      "text/plain": [
       "   user_id        name  age            city subscription_type\n",
       "0        1        Кира   22          Тюмень             ultra\n",
       "1        2   Станислав   31            Омск             ultra\n",
       "2        3     Алексей   20          Москва             ultra\n",
       "3        4  Константин   26  Ростов-на-Дону             ultra\n",
       "4        5       Адель   28            Омск             ultra\n",
       "5        6      Регина   25       Краснодар             ultra\n",
       "6        7       Игорь   23            Омск             ultra\n",
       "7        8        Юрий   23       Краснодар             ultra\n",
       "8        9          Ян   21       Пятигорск             ultra\n",
       "9       10     Валерий   18    Екатеринбург             ultra"
      ]
     },
     "execution_count": 3,
     "metadata": {},
     "output_type": "execute_result"
    }
   ],
   "source": [
    "users.head(10)"
   ]
  },
  {
   "cell_type": "code",
   "execution_count": 4,
   "id": "5fac887b",
   "metadata": {},
   "outputs": [
    {
     "name": "stdout",
     "output_type": "stream",
     "text": [
      "<class 'pandas.core.frame.DataFrame'>\n",
      "RangeIndex: 1565 entries, 0 to 1564\n",
      "Data columns (total 5 columns):\n",
      " #   Column             Non-Null Count  Dtype \n",
      "---  ------             --------------  ----- \n",
      " 0   user_id            1565 non-null   int64 \n",
      " 1   name               1565 non-null   object\n",
      " 2   age                1565 non-null   int64 \n",
      " 3   city               1565 non-null   object\n",
      " 4   subscription_type  1565 non-null   object\n",
      "dtypes: int64(2), object(3)\n",
      "memory usage: 61.3+ KB\n"
     ]
    }
   ],
   "source": [
    "users.info()"
   ]
  },
  {
   "cell_type": "markdown",
   "id": "1962ed0d",
   "metadata": {},
   "source": [
    "##### Изучим информацию о поездках"
   ]
  },
  {
   "cell_type": "code",
   "execution_count": 5,
   "id": "61de9ac9",
   "metadata": {},
   "outputs": [
    {
     "data": {
      "text/html": [
       "<div>\n",
       "<style scoped>\n",
       "    .dataframe tbody tr th:only-of-type {\n",
       "        vertical-align: middle;\n",
       "    }\n",
       "\n",
       "    .dataframe tbody tr th {\n",
       "        vertical-align: top;\n",
       "    }\n",
       "\n",
       "    .dataframe thead th {\n",
       "        text-align: right;\n",
       "    }\n",
       "</style>\n",
       "<table border=\"1\" class=\"dataframe\">\n",
       "  <thead>\n",
       "    <tr style=\"text-align: right;\">\n",
       "      <th></th>\n",
       "      <th>user_id</th>\n",
       "      <th>distance</th>\n",
       "      <th>duration</th>\n",
       "      <th>date</th>\n",
       "    </tr>\n",
       "  </thead>\n",
       "  <tbody>\n",
       "    <tr>\n",
       "      <th>0</th>\n",
       "      <td>1</td>\n",
       "      <td>4409.919140</td>\n",
       "      <td>25.599769</td>\n",
       "      <td>2021-01-01</td>\n",
       "    </tr>\n",
       "    <tr>\n",
       "      <th>1</th>\n",
       "      <td>1</td>\n",
       "      <td>2617.592153</td>\n",
       "      <td>15.816871</td>\n",
       "      <td>2021-01-18</td>\n",
       "    </tr>\n",
       "    <tr>\n",
       "      <th>2</th>\n",
       "      <td>1</td>\n",
       "      <td>754.159807</td>\n",
       "      <td>6.232113</td>\n",
       "      <td>2021-04-20</td>\n",
       "    </tr>\n",
       "    <tr>\n",
       "      <th>3</th>\n",
       "      <td>1</td>\n",
       "      <td>2694.783254</td>\n",
       "      <td>18.511000</td>\n",
       "      <td>2021-08-11</td>\n",
       "    </tr>\n",
       "    <tr>\n",
       "      <th>4</th>\n",
       "      <td>1</td>\n",
       "      <td>4028.687306</td>\n",
       "      <td>26.265803</td>\n",
       "      <td>2021-08-28</td>\n",
       "    </tr>\n",
       "    <tr>\n",
       "      <th>5</th>\n",
       "      <td>1</td>\n",
       "      <td>2770.890808</td>\n",
       "      <td>16.650138</td>\n",
       "      <td>2021-10-09</td>\n",
       "    </tr>\n",
       "    <tr>\n",
       "      <th>6</th>\n",
       "      <td>1</td>\n",
       "      <td>3039.020292</td>\n",
       "      <td>14.927879</td>\n",
       "      <td>2021-10-19</td>\n",
       "    </tr>\n",
       "    <tr>\n",
       "      <th>7</th>\n",
       "      <td>1</td>\n",
       "      <td>2842.118050</td>\n",
       "      <td>23.117468</td>\n",
       "      <td>2021-11-06</td>\n",
       "    </tr>\n",
       "    <tr>\n",
       "      <th>8</th>\n",
       "      <td>1</td>\n",
       "      <td>3412.690668</td>\n",
       "      <td>15.238072</td>\n",
       "      <td>2021-11-14</td>\n",
       "    </tr>\n",
       "    <tr>\n",
       "      <th>9</th>\n",
       "      <td>1</td>\n",
       "      <td>748.690645</td>\n",
       "      <td>15.041884</td>\n",
       "      <td>2021-11-22</td>\n",
       "    </tr>\n",
       "  </tbody>\n",
       "</table>\n",
       "</div>"
      ],
      "text/plain": [
       "   user_id     distance   duration        date\n",
       "0        1  4409.919140  25.599769  2021-01-01\n",
       "1        1  2617.592153  15.816871  2021-01-18\n",
       "2        1   754.159807   6.232113  2021-04-20\n",
       "3        1  2694.783254  18.511000  2021-08-11\n",
       "4        1  4028.687306  26.265803  2021-08-28\n",
       "5        1  2770.890808  16.650138  2021-10-09\n",
       "6        1  3039.020292  14.927879  2021-10-19\n",
       "7        1  2842.118050  23.117468  2021-11-06\n",
       "8        1  3412.690668  15.238072  2021-11-14\n",
       "9        1   748.690645  15.041884  2021-11-22"
      ]
     },
     "execution_count": 5,
     "metadata": {},
     "output_type": "execute_result"
    }
   ],
   "source": [
    "rides.head(10)"
   ]
  },
  {
   "cell_type": "code",
   "execution_count": 6,
   "id": "462e44c2",
   "metadata": {},
   "outputs": [
    {
     "name": "stdout",
     "output_type": "stream",
     "text": [
      "<class 'pandas.core.frame.DataFrame'>\n",
      "RangeIndex: 18068 entries, 0 to 18067\n",
      "Data columns (total 4 columns):\n",
      " #   Column    Non-Null Count  Dtype  \n",
      "---  ------    --------------  -----  \n",
      " 0   user_id   18068 non-null  int64  \n",
      " 1   distance  18068 non-null  float64\n",
      " 2   duration  18068 non-null  float64\n",
      " 3   date      18068 non-null  object \n",
      "dtypes: float64(2), int64(1), object(1)\n",
      "memory usage: 564.8+ KB\n"
     ]
    }
   ],
   "source": [
    "rides.info()"
   ]
  },
  {
   "cell_type": "code",
   "execution_count": 7,
   "id": "0145b1ad",
   "metadata": {},
   "outputs": [
    {
     "name": "stdout",
     "output_type": "stream",
     "text": [
      "Период с: 2021-01-01 по 2021-12-30\n"
     ]
    }
   ],
   "source": [
    "print('Период с:', rides['date'].min(), 'по', rides['date'].max())"
   ]
  },
  {
   "cell_type": "markdown",
   "id": "835400f4",
   "metadata": {},
   "source": [
    "##### Изучим информацию о подписках"
   ]
  },
  {
   "cell_type": "code",
   "execution_count": 8,
   "id": "0dce22ab",
   "metadata": {},
   "outputs": [
    {
     "data": {
      "text/html": [
       "<div>\n",
       "<style scoped>\n",
       "    .dataframe tbody tr th:only-of-type {\n",
       "        vertical-align: middle;\n",
       "    }\n",
       "\n",
       "    .dataframe tbody tr th {\n",
       "        vertical-align: top;\n",
       "    }\n",
       "\n",
       "    .dataframe thead th {\n",
       "        text-align: right;\n",
       "    }\n",
       "</style>\n",
       "<table border=\"1\" class=\"dataframe\">\n",
       "  <thead>\n",
       "    <tr style=\"text-align: right;\">\n",
       "      <th></th>\n",
       "      <th>subscription_type</th>\n",
       "      <th>minute_price</th>\n",
       "      <th>start_ride_price</th>\n",
       "      <th>subscription_fee</th>\n",
       "    </tr>\n",
       "  </thead>\n",
       "  <tbody>\n",
       "    <tr>\n",
       "      <th>0</th>\n",
       "      <td>free</td>\n",
       "      <td>8</td>\n",
       "      <td>50</td>\n",
       "      <td>0</td>\n",
       "    </tr>\n",
       "    <tr>\n",
       "      <th>1</th>\n",
       "      <td>ultra</td>\n",
       "      <td>6</td>\n",
       "      <td>0</td>\n",
       "      <td>199</td>\n",
       "    </tr>\n",
       "  </tbody>\n",
       "</table>\n",
       "</div>"
      ],
      "text/plain": [
       "  subscription_type  minute_price  start_ride_price  subscription_fee\n",
       "0              free             8                50                 0\n",
       "1             ultra             6                 0               199"
      ]
     },
     "execution_count": 8,
     "metadata": {},
     "output_type": "execute_result"
    }
   ],
   "source": [
    "subscriptions.head()"
   ]
  },
  {
   "cell_type": "code",
   "execution_count": 9,
   "id": "6dbe2b7f",
   "metadata": {},
   "outputs": [
    {
     "name": "stdout",
     "output_type": "stream",
     "text": [
      "<class 'pandas.core.frame.DataFrame'>\n",
      "RangeIndex: 2 entries, 0 to 1\n",
      "Data columns (total 4 columns):\n",
      " #   Column             Non-Null Count  Dtype \n",
      "---  ------             --------------  ----- \n",
      " 0   subscription_type  2 non-null      object\n",
      " 1   minute_price       2 non-null      int64 \n",
      " 2   start_ride_price   2 non-null      int64 \n",
      " 3   subscription_fee   2 non-null      int64 \n",
      "dtypes: int64(3), object(1)\n",
      "memory usage: 192.0+ bytes\n"
     ]
    }
   ],
   "source": [
    "subscriptions.info()"
   ]
  },
  {
   "cell_type": "markdown",
   "id": "58149a27",
   "metadata": {},
   "source": [
    "Мы загрузили данные из csv-файлов, посмотрели основную информацию о датафреймах: количество строк и столбцов, типы данных. \n",
    "\n",
    "Пропуски отсутствуют. \n",
    "\n",
    "Типы данных соответствуют хранимым в них данным. В датафрейме \"Поездки\" поле 'date' имеет тип 'object'. Следует исправить тип на \"date\". \n",
    "\n",
    "Наименования столбцов соотвествуют правилам наименования.\n",
    "\n",
    "Данные загружены с 01.01.2021 по 31.12.2021."
   ]
  },
  {
   "cell_type": "markdown",
   "id": "0dbfe097",
   "metadata": {},
   "source": [
    "#### Шаг 2. Предобработка данных"
   ]
  },
  {
   "cell_type": "code",
   "execution_count": 10,
   "id": "eb40f7fc",
   "metadata": {},
   "outputs": [],
   "source": [
    "rides['date'] = pd.to_datetime(rides['date'], format='%Y-%m-%d')"
   ]
  },
  {
   "cell_type": "code",
   "execution_count": 11,
   "id": "8fc5b68c",
   "metadata": {},
   "outputs": [
    {
     "data": {
      "text/html": [
       "<div>\n",
       "<style scoped>\n",
       "    .dataframe tbody tr th:only-of-type {\n",
       "        vertical-align: middle;\n",
       "    }\n",
       "\n",
       "    .dataframe tbody tr th {\n",
       "        vertical-align: top;\n",
       "    }\n",
       "\n",
       "    .dataframe thead th {\n",
       "        text-align: right;\n",
       "    }\n",
       "</style>\n",
       "<table border=\"1\" class=\"dataframe\">\n",
       "  <thead>\n",
       "    <tr style=\"text-align: right;\">\n",
       "      <th></th>\n",
       "      <th>user_id</th>\n",
       "      <th>distance</th>\n",
       "      <th>duration</th>\n",
       "      <th>date</th>\n",
       "      <th>month</th>\n",
       "    </tr>\n",
       "  </thead>\n",
       "  <tbody>\n",
       "    <tr>\n",
       "      <th>0</th>\n",
       "      <td>1</td>\n",
       "      <td>4409.919140</td>\n",
       "      <td>25.599769</td>\n",
       "      <td>2021-01-01</td>\n",
       "      <td>1</td>\n",
       "    </tr>\n",
       "    <tr>\n",
       "      <th>1</th>\n",
       "      <td>1</td>\n",
       "      <td>2617.592153</td>\n",
       "      <td>15.816871</td>\n",
       "      <td>2021-01-18</td>\n",
       "      <td>1</td>\n",
       "    </tr>\n",
       "    <tr>\n",
       "      <th>2</th>\n",
       "      <td>1</td>\n",
       "      <td>754.159807</td>\n",
       "      <td>6.232113</td>\n",
       "      <td>2021-04-20</td>\n",
       "      <td>4</td>\n",
       "    </tr>\n",
       "    <tr>\n",
       "      <th>3</th>\n",
       "      <td>1</td>\n",
       "      <td>2694.783254</td>\n",
       "      <td>18.511000</td>\n",
       "      <td>2021-08-11</td>\n",
       "      <td>8</td>\n",
       "    </tr>\n",
       "    <tr>\n",
       "      <th>4</th>\n",
       "      <td>1</td>\n",
       "      <td>4028.687306</td>\n",
       "      <td>26.265803</td>\n",
       "      <td>2021-08-28</td>\n",
       "      <td>8</td>\n",
       "    </tr>\n",
       "  </tbody>\n",
       "</table>\n",
       "</div>"
      ],
      "text/plain": [
       "   user_id     distance   duration       date  month\n",
       "0        1  4409.919140  25.599769 2021-01-01      1\n",
       "1        1  2617.592153  15.816871 2021-01-18      1\n",
       "2        1   754.159807   6.232113 2021-04-20      4\n",
       "3        1  2694.783254  18.511000 2021-08-11      8\n",
       "4        1  4028.687306  26.265803 2021-08-28      8"
      ]
     },
     "execution_count": 11,
     "metadata": {},
     "output_type": "execute_result"
    }
   ],
   "source": [
    "rides['month'] = rides['date'].dt.month\n",
    "rides.head()"
   ]
  },
  {
   "cell_type": "code",
   "execution_count": 12,
   "id": "a3411c40",
   "metadata": {},
   "outputs": [
    {
     "data": {
      "text/plain": [
       "user_id              0\n",
       "name                 0\n",
       "age                  0\n",
       "city                 0\n",
       "subscription_type    0\n",
       "dtype: int64"
      ]
     },
     "execution_count": 12,
     "metadata": {},
     "output_type": "execute_result"
    }
   ],
   "source": [
    "users.isna().sum()"
   ]
  },
  {
   "cell_type": "code",
   "execution_count": 13,
   "id": "bb8828f7",
   "metadata": {},
   "outputs": [
    {
     "data": {
      "text/plain": [
       "user_id     0\n",
       "distance    0\n",
       "duration    0\n",
       "date        0\n",
       "month       0\n",
       "dtype: int64"
      ]
     },
     "execution_count": 13,
     "metadata": {},
     "output_type": "execute_result"
    }
   ],
   "source": [
    "rides.isna().sum()"
   ]
  },
  {
   "cell_type": "code",
   "execution_count": 14,
   "id": "4c66b5af",
   "metadata": {},
   "outputs": [
    {
     "data": {
      "text/plain": [
       "subscription_type    0\n",
       "minute_price         0\n",
       "start_ride_price     0\n",
       "subscription_fee     0\n",
       "dtype: int64"
      ]
     },
     "execution_count": 14,
     "metadata": {},
     "output_type": "execute_result"
    }
   ],
   "source": [
    "subscriptions.isna().sum()"
   ]
  },
  {
   "cell_type": "code",
   "execution_count": 15,
   "id": "e8090599",
   "metadata": {},
   "outputs": [
    {
     "data": {
      "text/plain": [
       "31"
      ]
     },
     "execution_count": 15,
     "metadata": {},
     "output_type": "execute_result"
    }
   ],
   "source": [
    "users.duplicated().sum()"
   ]
  },
  {
   "cell_type": "code",
   "execution_count": 16,
   "id": "6981db00",
   "metadata": {},
   "outputs": [],
   "source": [
    "users = users.drop_duplicates().reset_index(drop=True)"
   ]
  },
  {
   "cell_type": "code",
   "execution_count": 17,
   "id": "143641a9",
   "metadata": {},
   "outputs": [
    {
     "data": {
      "text/plain": [
       "0"
      ]
     },
     "execution_count": 17,
     "metadata": {},
     "output_type": "execute_result"
    }
   ],
   "source": [
    "rides.duplicated().sum()"
   ]
  },
  {
   "cell_type": "code",
   "execution_count": 18,
   "id": "3ecbed14",
   "metadata": {},
   "outputs": [
    {
     "data": {
      "text/plain": [
       "0"
      ]
     },
     "execution_count": 18,
     "metadata": {},
     "output_type": "execute_result"
    }
   ],
   "source": [
    "subscriptions.duplicated().sum()"
   ]
  },
  {
   "cell_type": "code",
   "execution_count": 19,
   "id": "a3433563",
   "metadata": {},
   "outputs": [
    {
     "data": {
      "text/plain": [
       "array(['Тюмень', 'Омск', 'Москва', 'Ростов-на-Дону', 'Краснодар',\n",
       "       'Пятигорск', 'Екатеринбург', 'Сочи'], dtype=object)"
      ]
     },
     "execution_count": 19,
     "metadata": {},
     "output_type": "execute_result"
    }
   ],
   "source": [
    "users['city'].unique()"
   ]
  },
  {
   "cell_type": "markdown",
   "id": "ad7f68bc",
   "metadata": {},
   "source": [
    "Мы привели столбец 'date' в датафрейме с поездками к типу \"Дата\", добавили столбец \"Месяц\".\n",
    "\n",
    "Удостоверились, что наши датафреймы не имеют пропусков.\n",
    "\n",
    "Также обнаружили, что датафрейм с пользователями содержит 31 явный дубликат. Удалили эти строки.\n",
    "\n",
    "Проверили наличие неявных дубликатов в названии городов."
   ]
  },
  {
   "cell_type": "markdown",
   "id": "5ec38e89",
   "metadata": {},
   "source": [
    "#### Шаг 3. Исследовательский анализ данных"
   ]
  },
  {
   "cell_type": "code",
   "execution_count": 20,
   "id": "24919586",
   "metadata": {},
   "outputs": [
    {
     "data": {
      "text/plain": [
       "Пятигорск         219\n",
       "Екатеринбург      204\n",
       "Ростов-на-Дону    198\n",
       "Краснодар         193\n",
       "Сочи              189\n",
       "Омск              183\n",
       "Тюмень            180\n",
       "Москва            168\n",
       "Name: city, dtype: int64"
      ]
     },
     "execution_count": 20,
     "metadata": {},
     "output_type": "execute_result"
    }
   ],
   "source": [
    "users['city'].value_counts()"
   ]
  },
  {
   "cell_type": "code",
   "execution_count": 21,
   "id": "5430a0eb",
   "metadata": {},
   "outputs": [
    {
     "data": {
      "text/plain": [
       "Text(0.5, 0, 'Частота')"
      ]
     },
     "execution_count": 21,
     "metadata": {},
     "output_type": "execute_result"
    },
    {
     "data": {
      "image/png": "[encoded data removed]",
      "text/plain": [
       "<Figure size 432x288 with 1 Axes>"
      ]
     },
     "metadata": {
      "needs_background": "light"
     },
     "output_type": "display_data"
    }
   ],
   "source": [
    "users['city'].value_counts(ascending=True).plot.barh(grid=True, title='Частота встречаемости городов')\n",
    "plt.ylabel('Город')\n",
    "plt.xlabel('Частота')"
   ]
  },
  {
   "cell_type": "code",
   "execution_count": 22,
   "id": "651b7710",
   "metadata": {},
   "outputs": [
    {
     "data": {
      "text/plain": [
       "<AxesSubplot:title={'center':'Соотношение пользователей с подпиской и без нее'}, ylabel='subscription_type'>"
      ]
     },
     "execution_count": 22,
     "metadata": {},
     "output_type": "execute_result"
    },
    {
     "data": {
      "image/png": "[encoded data removed]",
      "text/plain": [
       "<Figure size 432x432 with 1 Axes>"
      ]
     },
     "metadata": {},
     "output_type": "display_data"
    }
   ],
   "source": [
    "users['subscription_type'].value_counts().plot(kind='pie', grid=True, figsize=(6, 6), legend=True,  autopct='%1.1f%%', \n",
    "                                               pctdistance=0.7, labels=None,\n",
    "                                               title='Соотношение пользователей с подпиской и без нее')"
   ]
  },
  {
   "cell_type": "code",
   "execution_count": 23,
   "id": "2318e331",
   "metadata": {},
   "outputs": [
    {
     "data": {
      "text/plain": [
       "array([22, 31, 20, 26, 28, 25, 23, 21, 18, 27, 24, 29, 32, 14, 19, 30, 17,\n",
       "       12, 35, 33, 13, 15, 37, 16, 34, 38, 36, 39, 43])"
      ]
     },
     "execution_count": 23,
     "metadata": {},
     "output_type": "execute_result"
    }
   ],
   "source": [
    "users['age'].unique()"
   ]
  },
  {
   "cell_type": "code",
   "execution_count": 24,
   "id": "1cb63317",
   "metadata": {},
   "outputs": [
    {
     "name": "stdout",
     "output_type": "stream",
     "text": [
      "count    1534.000000\n",
      "mean       24.903520\n",
      "std         4.572367\n",
      "min        12.000000\n",
      "25%        22.000000\n",
      "50%        25.000000\n",
      "75%        28.000000\n",
      "max        43.000000\n",
      "Name: age, dtype: float64\n"
     ]
    }
   ],
   "source": [
    "print(users['age'].describe())"
   ]
  },
  {
   "cell_type": "code",
   "execution_count": 25,
   "id": "a08cebd6",
   "metadata": {},
   "outputs": [
    {
     "data": {
      "text/plain": [
       "25    145\n",
       "24    132\n",
       "26    131\n",
       "23    129\n",
       "27    119\n",
       "22    119\n",
       "28    112\n",
       "21     93\n",
       "20     71\n",
       "30     68\n",
       "29     68\n",
       "31     48\n",
       "19     47\n",
       "18     46\n",
       "32     41\n",
       "33     39\n",
       "17     26\n",
       "34     19\n",
       "16     19\n",
       "35     15\n",
       "15     13\n",
       "14      9\n",
       "13      8\n",
       "36      6\n",
       "12      4\n",
       "38      3\n",
       "37      2\n",
       "39      1\n",
       "43      1\n",
       "Name: age, dtype: int64"
      ]
     },
     "execution_count": 25,
     "metadata": {},
     "output_type": "execute_result"
    }
   ],
   "source": [
    "users['age'].value_counts()"
   ]
  },
  {
   "cell_type": "code",
   "execution_count": 26,
   "id": "2080f974",
   "metadata": {},
   "outputs": [
    {
     "data": {
      "text/plain": [
       "Text(0.5, 0, 'Частота')"
      ]
     },
     "execution_count": 26,
     "metadata": {},
     "output_type": "execute_result"
    },
    {
     "data": {
      "image/png": "[encoded data removed]",
      "text/plain": [
       "<Figure size 648x504 with 1 Axes>"
      ]
     },
     "metadata": {
      "needs_background": "light"
     },
     "output_type": "display_data"
    }
   ],
   "source": [
    "users['age'].value_counts(ascending=True).plot.barh(grid=True, figsize=(9,7), title='Возраст пользователей')\n",
    "plt.ylabel('Возраст')\n",
    "plt.xlabel('Частота')"
   ]
  },
  {
   "cell_type": "code",
   "execution_count": 27,
   "id": "f0d457dc",
   "metadata": {},
   "outputs": [
    {
     "name": "stdout",
     "output_type": "stream",
     "text": [
      "count    18068.000000\n",
      "mean      3070.659976\n",
      "std       1116.831209\n",
      "min          0.855683\n",
      "25%       2543.226360\n",
      "50%       3133.609994\n",
      "75%       3776.222735\n",
      "max       7211.007745\n",
      "Name: distance, dtype: float64\n"
     ]
    },
    {
     "data": {
      "text/plain": [
       "Text(0.5, 0, 'Расстояние, м')"
      ]
     },
     "execution_count": 27,
     "metadata": {},
     "output_type": "execute_result"
    },
    {
     "data": {
      "image/png": "[encoded data removed]",
      "text/plain": [
       "<Figure size 432x288 with 1 Axes>"
      ]
     },
     "metadata": {
      "needs_background": "light"
     },
     "output_type": "display_data"
    }
   ],
   "source": [
    "print(rides['distance'].describe())\n",
    "rides['distance'].hist(bins=1000, range=(0.800, 7300), grid=True)\n",
    "plt.title('Расстояние, которое пользователь преодолел за 1 поездку')\n",
    "plt.ylabel('Количество')\n",
    "plt.xlabel('Расстояние, м')"
   ]
  },
  {
   "cell_type": "markdown",
   "id": "06747c72",
   "metadata": {},
   "source": [
    "<div class=\"alert alert-block alert-info\">\n",
    "Первый всплеск (600 м) возможен по причине того, что люди добирались до метро.  Второй (3000 м) - добирались до работы\n",
    "<b> ✔ \n",
    "</div> "
   ]
  },
  {
   "cell_type": "code",
   "execution_count": 28,
   "id": "141108c7",
   "metadata": {},
   "outputs": [],
   "source": [
    "def categoria_dist(m):\n",
    "    if m < 1500:\n",
    "        return 'менее 1500'\n",
    "    elif 1500 <= m < 2500:\n",
    "        return 'от 1500 до 2500'\n",
    "    elif 2500 <= m < 4500:\n",
    "        return 'от 2500 до 4000'\n",
    "    else:\n",
    "        return 'более 4000'\n",
    "\n",
    "rides['distance_categoria'] = rides['distance'].apply(categoria_dist)"
   ]
  },
  {
   "cell_type": "code",
   "execution_count": 29,
   "id": "f3315e44",
   "metadata": {},
   "outputs": [
    {
     "data": {
      "text/plain": [
       "Text(0.5, 0, 'Расстояние, м')"
      ]
     },
     "execution_count": 29,
     "metadata": {},
     "output_type": "execute_result"
    },
    {
     "data": {
      "image/png": "[encoded data removed]",
      "text/plain": [
       "<Figure size 432x288 with 1 Axes>"
      ]
     },
     "metadata": {
      "needs_background": "light"
     },
     "output_type": "display_data"
    }
   ],
   "source": [
    "rides['distance_categoria'].value_counts().plot.bar(grid=True, title='Расстояние, которое пользователь преодолел за 1 поездку')\n",
    "plt.ylabel('Частота')\n",
    "plt.xlabel('Расстояние, м')"
   ]
  },
  {
   "cell_type": "code",
   "execution_count": 30,
   "id": "a5fc1472",
   "metadata": {},
   "outputs": [
    {
     "name": "stdout",
     "output_type": "stream",
     "text": [
      "count    18068.000000\n",
      "mean        17.805011\n",
      "std          6.091051\n",
      "min          0.500000\n",
      "25%         13.597563\n",
      "50%         17.678395\n",
      "75%         21.724800\n",
      "max         40.823963\n",
      "Name: duration, dtype: float64\n"
     ]
    }
   ],
   "source": [
    "print(rides['duration'].describe())"
   ]
  },
  {
   "cell_type": "code",
   "execution_count": 31,
   "id": "0a9dd0f0",
   "metadata": {},
   "outputs": [
    {
     "data": {
      "text/plain": [
       "Text(0.5, 0, 'Время, мин')"
      ]
     },
     "execution_count": 31,
     "metadata": {},
     "output_type": "execute_result"
    },
    {
     "data": {
      "image/png": "[encoded data removed]",
      "text/plain": [
       "<Figure size 432x288 with 1 Axes>"
      ]
     },
     "metadata": {
      "needs_background": "light"
     },
     "output_type": "display_data"
    }
   ],
   "source": [
    "rides['duration'].hist(bins=100, range=(0, 41), grid=True)\n",
    "plt.title('Продолжительность поездки')\n",
    "plt.ylabel('Количество')\n",
    "plt.xlabel('Время, мин')"
   ]
  },
  {
   "cell_type": "code",
   "execution_count": 32,
   "id": "5d1d0a3c",
   "metadata": {},
   "outputs": [],
   "source": [
    "def categoria_duration(mn):\n",
    "    if mn < 8:\n",
    "        return 'менее 8'\n",
    "    elif 8 <= mn < 15:\n",
    "        return 'от 8 до 15'\n",
    "    elif 15 <= mn < 25:\n",
    "        return 'от 15 до 25'\n",
    "    else:\n",
    "        return 'более 25'\n",
    "\n",
    "rides['duration_categoria'] = rides['duration'].apply(categoria_duration)"
   ]
  },
  {
   "cell_type": "code",
   "execution_count": 33,
   "id": "b05103fd",
   "metadata": {},
   "outputs": [
    {
     "data": {
      "text/plain": [
       "Text(0.5, 0, 'Время, мин')"
      ]
     },
     "execution_count": 33,
     "metadata": {},
     "output_type": "execute_result"
    },
    {
     "data": {
      "image/png": "[encoded data removed]",
      "text/plain": [
       "<Figure size 432x288 with 1 Axes>"
      ]
     },
     "metadata": {
      "needs_background": "light"
     },
     "output_type": "display_data"
    }
   ],
   "source": [
    "rides['duration_categoria'].value_counts().plot.bar(grid=True, title='Продолжительность поездки')\n",
    "plt.ylabel('Частота')\n",
    "plt.xlabel('Время, мин')"
   ]
  },
  {
   "cell_type": "markdown",
   "id": "782e0e37",
   "metadata": {},
   "source": [
    "В ходе исследовательского анализа мы выявили, что:\n",
    "- наиболее популярный город - это Пятигорск, наименее - Москва.\n",
    "- пользователей без подписки больше, чем с подпиской.\n",
    "- средний возраст пользователей самокатов 25 лет, минимальный - 12, максимальный - 43. Чаще всего самокатами пользуются люди 23-26 лет. \n",
    "- среднее расстояние, которое пользователь преодолел за 1 поездку - 3 км 133 м, минимальное - 0,85 м, максимальное - 7 км 211 м. Чаще всего люди проезжают расстояние от 2500 до 4000 м, и реже всего - свыше 4000 м. Есть небольшое увеличение поездок примерно на расстоянии 600 м. Возможно люди добирались до метро. И увеличение поездок на расстоянии 3000 м. В этом случае возможно люди добирались до работы.\n",
    "- средняя продолжительность 1 поездки - около 17 мин, минимальное - 0,5 минуты, максимальное - около 41 минут. Чаще всего люди катаются от 15 до 25 мин, реже всего - менее 8 мин."
   ]
  },
  {
   "cell_type": "markdown",
   "id": "a1741e2f",
   "metadata": {},
   "source": [
    "#### Шаг 4. Объединение данных"
   ]
  },
  {
   "cell_type": "markdown",
   "id": "67652e2e",
   "metadata": {},
   "source": [
    "##### Создаем 3 итоговые таблицы"
   ]
  },
  {
   "cell_type": "code",
   "execution_count": 34,
   "id": "3630b66a",
   "metadata": {},
   "outputs": [],
   "source": [
    "users_rides = users.merge(rides, on = 'user_id', how='outer')"
   ]
  },
  {
   "cell_type": "code",
   "execution_count": 35,
   "id": "497e3fce",
   "metadata": {},
   "outputs": [
    {
     "data": {
      "text/html": [
       "<div>\n",
       "<style scoped>\n",
       "    .dataframe tbody tr th:only-of-type {\n",
       "        vertical-align: middle;\n",
       "    }\n",
       "\n",
       "    .dataframe tbody tr th {\n",
       "        vertical-align: top;\n",
       "    }\n",
       "\n",
       "    .dataframe thead th {\n",
       "        text-align: right;\n",
       "    }\n",
       "</style>\n",
       "<table border=\"1\" class=\"dataframe\">\n",
       "  <thead>\n",
       "    <tr style=\"text-align: right;\">\n",
       "      <th></th>\n",
       "      <th>user_id</th>\n",
       "      <th>name</th>\n",
       "      <th>age</th>\n",
       "      <th>city</th>\n",
       "      <th>subscription_type</th>\n",
       "      <th>distance</th>\n",
       "      <th>duration</th>\n",
       "      <th>date</th>\n",
       "      <th>month</th>\n",
       "      <th>distance_categoria</th>\n",
       "      <th>duration_categoria</th>\n",
       "      <th>minute_price</th>\n",
       "      <th>start_ride_price</th>\n",
       "      <th>subscription_fee</th>\n",
       "    </tr>\n",
       "  </thead>\n",
       "  <tbody>\n",
       "    <tr>\n",
       "      <th>0</th>\n",
       "      <td>1</td>\n",
       "      <td>Кира</td>\n",
       "      <td>22</td>\n",
       "      <td>Тюмень</td>\n",
       "      <td>ultra</td>\n",
       "      <td>4409.919140</td>\n",
       "      <td>25.599769</td>\n",
       "      <td>2021-01-01</td>\n",
       "      <td>1</td>\n",
       "      <td>от 2500 до 4000</td>\n",
       "      <td>более 25</td>\n",
       "      <td>6</td>\n",
       "      <td>0</td>\n",
       "      <td>199</td>\n",
       "    </tr>\n",
       "    <tr>\n",
       "      <th>1</th>\n",
       "      <td>1</td>\n",
       "      <td>Кира</td>\n",
       "      <td>22</td>\n",
       "      <td>Тюмень</td>\n",
       "      <td>ultra</td>\n",
       "      <td>2617.592153</td>\n",
       "      <td>15.816871</td>\n",
       "      <td>2021-01-18</td>\n",
       "      <td>1</td>\n",
       "      <td>от 2500 до 4000</td>\n",
       "      <td>от 15 до 25</td>\n",
       "      <td>6</td>\n",
       "      <td>0</td>\n",
       "      <td>199</td>\n",
       "    </tr>\n",
       "    <tr>\n",
       "      <th>2</th>\n",
       "      <td>1</td>\n",
       "      <td>Кира</td>\n",
       "      <td>22</td>\n",
       "      <td>Тюмень</td>\n",
       "      <td>ultra</td>\n",
       "      <td>754.159807</td>\n",
       "      <td>6.232113</td>\n",
       "      <td>2021-04-20</td>\n",
       "      <td>4</td>\n",
       "      <td>менее 1500</td>\n",
       "      <td>менее 8</td>\n",
       "      <td>6</td>\n",
       "      <td>0</td>\n",
       "      <td>199</td>\n",
       "    </tr>\n",
       "    <tr>\n",
       "      <th>3</th>\n",
       "      <td>1</td>\n",
       "      <td>Кира</td>\n",
       "      <td>22</td>\n",
       "      <td>Тюмень</td>\n",
       "      <td>ultra</td>\n",
       "      <td>2694.783254</td>\n",
       "      <td>18.511000</td>\n",
       "      <td>2021-08-11</td>\n",
       "      <td>8</td>\n",
       "      <td>от 2500 до 4000</td>\n",
       "      <td>от 15 до 25</td>\n",
       "      <td>6</td>\n",
       "      <td>0</td>\n",
       "      <td>199</td>\n",
       "    </tr>\n",
       "    <tr>\n",
       "      <th>4</th>\n",
       "      <td>1</td>\n",
       "      <td>Кира</td>\n",
       "      <td>22</td>\n",
       "      <td>Тюмень</td>\n",
       "      <td>ultra</td>\n",
       "      <td>4028.687306</td>\n",
       "      <td>26.265803</td>\n",
       "      <td>2021-08-28</td>\n",
       "      <td>8</td>\n",
       "      <td>от 2500 до 4000</td>\n",
       "      <td>более 25</td>\n",
       "      <td>6</td>\n",
       "      <td>0</td>\n",
       "      <td>199</td>\n",
       "    </tr>\n",
       "  </tbody>\n",
       "</table>\n",
       "</div>"
      ],
      "text/plain": [
       "   user_id  name  age    city subscription_type     distance   duration  \\\n",
       "0        1  Кира   22  Тюмень             ultra  4409.919140  25.599769   \n",
       "1        1  Кира   22  Тюмень             ultra  2617.592153  15.816871   \n",
       "2        1  Кира   22  Тюмень             ultra   754.159807   6.232113   \n",
       "3        1  Кира   22  Тюмень             ultra  2694.783254  18.511000   \n",
       "4        1  Кира   22  Тюмень             ultra  4028.687306  26.265803   \n",
       "\n",
       "        date  month distance_categoria duration_categoria  minute_price  \\\n",
       "0 2021-01-01      1    от 2500 до 4000           более 25             6   \n",
       "1 2021-01-18      1    от 2500 до 4000        от 15 до 25             6   \n",
       "2 2021-04-20      4         менее 1500            менее 8             6   \n",
       "3 2021-08-11      8    от 2500 до 4000        от 15 до 25             6   \n",
       "4 2021-08-28      8    от 2500 до 4000           более 25             6   \n",
       "\n",
       "   start_ride_price  subscription_fee  \n",
       "0                 0               199  \n",
       "1                 0               199  \n",
       "2                 0               199  \n",
       "3                 0               199  \n",
       "4                 0               199  "
      ]
     },
     "metadata": {},
     "output_type": "display_data"
    }
   ],
   "source": [
    "total_table = users_rides.merge(subscriptions, on = 'subscription_type')\n",
    "display(total_table.head())"
   ]
  },
  {
   "cell_type": "code",
   "execution_count": 36,
   "id": "1ae39e38",
   "metadata": {},
   "outputs": [
    {
     "name": "stdout",
     "output_type": "stream",
     "text": [
      "<class 'pandas.core.frame.DataFrame'>\n",
      "Int64Index: 18068 entries, 0 to 18067\n",
      "Data columns (total 14 columns):\n",
      " #   Column              Non-Null Count  Dtype         \n",
      "---  ------              --------------  -----         \n",
      " 0   user_id             18068 non-null  int64         \n",
      " 1   name                18068 non-null  object        \n",
      " 2   age                 18068 non-null  int64         \n",
      " 3   city                18068 non-null  object        \n",
      " 4   subscription_type   18068 non-null  object        \n",
      " 5   distance            18068 non-null  float64       \n",
      " 6   duration            18068 non-null  float64       \n",
      " 7   date                18068 non-null  datetime64[ns]\n",
      " 8   month               18068 non-null  int64         \n",
      " 9   distance_categoria  18068 non-null  object        \n",
      " 10  duration_categoria  18068 non-null  object        \n",
      " 11  minute_price        18068 non-null  int64         \n",
      " 12  start_ride_price    18068 non-null  int64         \n",
      " 13  subscription_fee    18068 non-null  int64         \n",
      "dtypes: datetime64[ns](1), float64(2), int64(6), object(5)\n",
      "memory usage: 2.1+ MB\n"
     ]
    }
   ],
   "source": [
    "total_table.info()"
   ]
  },
  {
   "cell_type": "code",
   "execution_count": 37,
   "id": "cf654e10",
   "metadata": {},
   "outputs": [
    {
     "data": {
      "text/html": [
       "<div>\n",
       "<style scoped>\n",
       "    .dataframe tbody tr th:only-of-type {\n",
       "        vertical-align: middle;\n",
       "    }\n",
       "\n",
       "    .dataframe tbody tr th {\n",
       "        vertical-align: top;\n",
       "    }\n",
       "\n",
       "    .dataframe thead th {\n",
       "        text-align: right;\n",
       "    }\n",
       "</style>\n",
       "<table border=\"1\" class=\"dataframe\">\n",
       "  <thead>\n",
       "    <tr style=\"text-align: right;\">\n",
       "      <th></th>\n",
       "      <th>user_id</th>\n",
       "      <th>name</th>\n",
       "      <th>age</th>\n",
       "      <th>city</th>\n",
       "      <th>subscription_type</th>\n",
       "      <th>distance</th>\n",
       "      <th>duration</th>\n",
       "      <th>date</th>\n",
       "      <th>month</th>\n",
       "      <th>distance_categoria</th>\n",
       "      <th>duration_categoria</th>\n",
       "      <th>minute_price</th>\n",
       "      <th>start_ride_price</th>\n",
       "      <th>subscription_fee</th>\n",
       "    </tr>\n",
       "  </thead>\n",
       "  <tbody>\n",
       "    <tr>\n",
       "      <th>6500</th>\n",
       "      <td>700</td>\n",
       "      <td>Айдар</td>\n",
       "      <td>22</td>\n",
       "      <td>Омск</td>\n",
       "      <td>free</td>\n",
       "      <td>2515.690719</td>\n",
       "      <td>14.944286</td>\n",
       "      <td>2021-01-02</td>\n",
       "      <td>1</td>\n",
       "      <td>от 2500 до 4000</td>\n",
       "      <td>от 8 до 15</td>\n",
       "      <td>8</td>\n",
       "      <td>50</td>\n",
       "      <td>0</td>\n",
       "    </tr>\n",
       "    <tr>\n",
       "      <th>6501</th>\n",
       "      <td>700</td>\n",
       "      <td>Айдар</td>\n",
       "      <td>22</td>\n",
       "      <td>Омск</td>\n",
       "      <td>free</td>\n",
       "      <td>846.932642</td>\n",
       "      <td>16.234663</td>\n",
       "      <td>2021-02-01</td>\n",
       "      <td>2</td>\n",
       "      <td>менее 1500</td>\n",
       "      <td>от 15 до 25</td>\n",
       "      <td>8</td>\n",
       "      <td>50</td>\n",
       "      <td>0</td>\n",
       "    </tr>\n",
       "    <tr>\n",
       "      <th>6502</th>\n",
       "      <td>700</td>\n",
       "      <td>Айдар</td>\n",
       "      <td>22</td>\n",
       "      <td>Омск</td>\n",
       "      <td>free</td>\n",
       "      <td>4004.434142</td>\n",
       "      <td>20.016628</td>\n",
       "      <td>2021-02-04</td>\n",
       "      <td>2</td>\n",
       "      <td>от 2500 до 4000</td>\n",
       "      <td>от 15 до 25</td>\n",
       "      <td>8</td>\n",
       "      <td>50</td>\n",
       "      <td>0</td>\n",
       "    </tr>\n",
       "    <tr>\n",
       "      <th>6503</th>\n",
       "      <td>700</td>\n",
       "      <td>Айдар</td>\n",
       "      <td>22</td>\n",
       "      <td>Омск</td>\n",
       "      <td>free</td>\n",
       "      <td>1205.911290</td>\n",
       "      <td>9.782872</td>\n",
       "      <td>2021-02-10</td>\n",
       "      <td>2</td>\n",
       "      <td>менее 1500</td>\n",
       "      <td>от 8 до 15</td>\n",
       "      <td>8</td>\n",
       "      <td>50</td>\n",
       "      <td>0</td>\n",
       "    </tr>\n",
       "    <tr>\n",
       "      <th>6504</th>\n",
       "      <td>700</td>\n",
       "      <td>Айдар</td>\n",
       "      <td>22</td>\n",
       "      <td>Омск</td>\n",
       "      <td>free</td>\n",
       "      <td>3047.379435</td>\n",
       "      <td>17.427673</td>\n",
       "      <td>2021-02-14</td>\n",
       "      <td>2</td>\n",
       "      <td>от 2500 до 4000</td>\n",
       "      <td>от 15 до 25</td>\n",
       "      <td>8</td>\n",
       "      <td>50</td>\n",
       "      <td>0</td>\n",
       "    </tr>\n",
       "  </tbody>\n",
       "</table>\n",
       "</div>"
      ],
      "text/plain": [
       "      user_id   name  age  city subscription_type     distance   duration  \\\n",
       "6500      700  Айдар   22  Омск              free  2515.690719  14.944286   \n",
       "6501      700  Айдар   22  Омск              free   846.932642  16.234663   \n",
       "6502      700  Айдар   22  Омск              free  4004.434142  20.016628   \n",
       "6503      700  Айдар   22  Омск              free  1205.911290   9.782872   \n",
       "6504      700  Айдар   22  Омск              free  3047.379435  17.427673   \n",
       "\n",
       "           date  month distance_categoria duration_categoria  minute_price  \\\n",
       "6500 2021-01-02      1    от 2500 до 4000         от 8 до 15             8   \n",
       "6501 2021-02-01      2         менее 1500        от 15 до 25             8   \n",
       "6502 2021-02-04      2    от 2500 до 4000        от 15 до 25             8   \n",
       "6503 2021-02-10      2         менее 1500         от 8 до 15             8   \n",
       "6504 2021-02-14      2    от 2500 до 4000        от 15 до 25             8   \n",
       "\n",
       "      start_ride_price  subscription_fee  \n",
       "6500                50                 0  \n",
       "6501                50                 0  \n",
       "6502                50                 0  \n",
       "6503                50                 0  \n",
       "6504                50                 0  "
      ]
     },
     "execution_count": 37,
     "metadata": {},
     "output_type": "execute_result"
    }
   ],
   "source": [
    "total_table_without_subscription = total_table.query('subscription_type == \"free\"')\n",
    "total_table_without_subscription.head()"
   ]
  },
  {
   "cell_type": "code",
   "execution_count": 38,
   "id": "57b3d7a5",
   "metadata": {},
   "outputs": [
    {
     "name": "stdout",
     "output_type": "stream",
     "text": [
      "<class 'pandas.core.frame.DataFrame'>\n",
      "Int64Index: 11568 entries, 6500 to 18067\n",
      "Data columns (total 14 columns):\n",
      " #   Column              Non-Null Count  Dtype         \n",
      "---  ------              --------------  -----         \n",
      " 0   user_id             11568 non-null  int64         \n",
      " 1   name                11568 non-null  object        \n",
      " 2   age                 11568 non-null  int64         \n",
      " 3   city                11568 non-null  object        \n",
      " 4   subscription_type   11568 non-null  object        \n",
      " 5   distance            11568 non-null  float64       \n",
      " 6   duration            11568 non-null  float64       \n",
      " 7   date                11568 non-null  datetime64[ns]\n",
      " 8   month               11568 non-null  int64         \n",
      " 9   distance_categoria  11568 non-null  object        \n",
      " 10  duration_categoria  11568 non-null  object        \n",
      " 11  minute_price        11568 non-null  int64         \n",
      " 12  start_ride_price    11568 non-null  int64         \n",
      " 13  subscription_fee    11568 non-null  int64         \n",
      "dtypes: datetime64[ns](1), float64(2), int64(6), object(5)\n",
      "memory usage: 1.3+ MB\n"
     ]
    }
   ],
   "source": [
    "total_table_without_subscription.info()"
   ]
  },
  {
   "cell_type": "code",
   "execution_count": 39,
   "id": "3e5432b7",
   "metadata": {},
   "outputs": [
    {
     "data": {
      "text/html": [
       "<div>\n",
       "<style scoped>\n",
       "    .dataframe tbody tr th:only-of-type {\n",
       "        vertical-align: middle;\n",
       "    }\n",
       "\n",
       "    .dataframe tbody tr th {\n",
       "        vertical-align: top;\n",
       "    }\n",
       "\n",
       "    .dataframe thead th {\n",
       "        text-align: right;\n",
       "    }\n",
       "</style>\n",
       "<table border=\"1\" class=\"dataframe\">\n",
       "  <thead>\n",
       "    <tr style=\"text-align: right;\">\n",
       "      <th></th>\n",
       "      <th>user_id</th>\n",
       "      <th>name</th>\n",
       "      <th>age</th>\n",
       "      <th>city</th>\n",
       "      <th>subscription_type</th>\n",
       "      <th>distance</th>\n",
       "      <th>duration</th>\n",
       "      <th>date</th>\n",
       "      <th>month</th>\n",
       "      <th>distance_categoria</th>\n",
       "      <th>duration_categoria</th>\n",
       "      <th>minute_price</th>\n",
       "      <th>start_ride_price</th>\n",
       "      <th>subscription_fee</th>\n",
       "    </tr>\n",
       "  </thead>\n",
       "  <tbody>\n",
       "    <tr>\n",
       "      <th>0</th>\n",
       "      <td>1</td>\n",
       "      <td>Кира</td>\n",
       "      <td>22</td>\n",
       "      <td>Тюмень</td>\n",
       "      <td>ultra</td>\n",
       "      <td>4409.919140</td>\n",
       "      <td>25.599769</td>\n",
       "      <td>2021-01-01</td>\n",
       "      <td>1</td>\n",
       "      <td>от 2500 до 4000</td>\n",
       "      <td>более 25</td>\n",
       "      <td>6</td>\n",
       "      <td>0</td>\n",
       "      <td>199</td>\n",
       "    </tr>\n",
       "    <tr>\n",
       "      <th>1</th>\n",
       "      <td>1</td>\n",
       "      <td>Кира</td>\n",
       "      <td>22</td>\n",
       "      <td>Тюмень</td>\n",
       "      <td>ultra</td>\n",
       "      <td>2617.592153</td>\n",
       "      <td>15.816871</td>\n",
       "      <td>2021-01-18</td>\n",
       "      <td>1</td>\n",
       "      <td>от 2500 до 4000</td>\n",
       "      <td>от 15 до 25</td>\n",
       "      <td>6</td>\n",
       "      <td>0</td>\n",
       "      <td>199</td>\n",
       "    </tr>\n",
       "    <tr>\n",
       "      <th>2</th>\n",
       "      <td>1</td>\n",
       "      <td>Кира</td>\n",
       "      <td>22</td>\n",
       "      <td>Тюмень</td>\n",
       "      <td>ultra</td>\n",
       "      <td>754.159807</td>\n",
       "      <td>6.232113</td>\n",
       "      <td>2021-04-20</td>\n",
       "      <td>4</td>\n",
       "      <td>менее 1500</td>\n",
       "      <td>менее 8</td>\n",
       "      <td>6</td>\n",
       "      <td>0</td>\n",
       "      <td>199</td>\n",
       "    </tr>\n",
       "    <tr>\n",
       "      <th>3</th>\n",
       "      <td>1</td>\n",
       "      <td>Кира</td>\n",
       "      <td>22</td>\n",
       "      <td>Тюмень</td>\n",
       "      <td>ultra</td>\n",
       "      <td>2694.783254</td>\n",
       "      <td>18.511000</td>\n",
       "      <td>2021-08-11</td>\n",
       "      <td>8</td>\n",
       "      <td>от 2500 до 4000</td>\n",
       "      <td>от 15 до 25</td>\n",
       "      <td>6</td>\n",
       "      <td>0</td>\n",
       "      <td>199</td>\n",
       "    </tr>\n",
       "    <tr>\n",
       "      <th>4</th>\n",
       "      <td>1</td>\n",
       "      <td>Кира</td>\n",
       "      <td>22</td>\n",
       "      <td>Тюмень</td>\n",
       "      <td>ultra</td>\n",
       "      <td>4028.687306</td>\n",
       "      <td>26.265803</td>\n",
       "      <td>2021-08-28</td>\n",
       "      <td>8</td>\n",
       "      <td>от 2500 до 4000</td>\n",
       "      <td>более 25</td>\n",
       "      <td>6</td>\n",
       "      <td>0</td>\n",
       "      <td>199</td>\n",
       "    </tr>\n",
       "  </tbody>\n",
       "</table>\n",
       "</div>"
      ],
      "text/plain": [
       "   user_id  name  age    city subscription_type     distance   duration  \\\n",
       "0        1  Кира   22  Тюмень             ultra  4409.919140  25.599769   \n",
       "1        1  Кира   22  Тюмень             ultra  2617.592153  15.816871   \n",
       "2        1  Кира   22  Тюмень             ultra   754.159807   6.232113   \n",
       "3        1  Кира   22  Тюмень             ultra  2694.783254  18.511000   \n",
       "4        1  Кира   22  Тюмень             ultra  4028.687306  26.265803   \n",
       "\n",
       "        date  month distance_categoria duration_categoria  minute_price  \\\n",
       "0 2021-01-01      1    от 2500 до 4000           более 25             6   \n",
       "1 2021-01-18      1    от 2500 до 4000        от 15 до 25             6   \n",
       "2 2021-04-20      4         менее 1500            менее 8             6   \n",
       "3 2021-08-11      8    от 2500 до 4000        от 15 до 25             6   \n",
       "4 2021-08-28      8    от 2500 до 4000           более 25             6   \n",
       "\n",
       "   start_ride_price  subscription_fee  \n",
       "0                 0               199  \n",
       "1                 0               199  \n",
       "2                 0               199  \n",
       "3                 0               199  \n",
       "4                 0               199  "
      ]
     },
     "execution_count": 39,
     "metadata": {},
     "output_type": "execute_result"
    }
   ],
   "source": [
    "total_table_with_subscription = total_table.query('subscription_type == \"ultra\"')\n",
    "total_table_with_subscription.head()"
   ]
  },
  {
   "cell_type": "code",
   "execution_count": 40,
   "id": "28205569",
   "metadata": {},
   "outputs": [
    {
     "name": "stdout",
     "output_type": "stream",
     "text": [
      "<class 'pandas.core.frame.DataFrame'>\n",
      "Int64Index: 6500 entries, 0 to 6499\n",
      "Data columns (total 14 columns):\n",
      " #   Column              Non-Null Count  Dtype         \n",
      "---  ------              --------------  -----         \n",
      " 0   user_id             6500 non-null   int64         \n",
      " 1   name                6500 non-null   object        \n",
      " 2   age                 6500 non-null   int64         \n",
      " 3   city                6500 non-null   object        \n",
      " 4   subscription_type   6500 non-null   object        \n",
      " 5   distance            6500 non-null   float64       \n",
      " 6   duration            6500 non-null   float64       \n",
      " 7   date                6500 non-null   datetime64[ns]\n",
      " 8   month               6500 non-null   int64         \n",
      " 9   distance_categoria  6500 non-null   object        \n",
      " 10  duration_categoria  6500 non-null   object        \n",
      " 11  minute_price        6500 non-null   int64         \n",
      " 12  start_ride_price    6500 non-null   int64         \n",
      " 13  subscription_fee    6500 non-null   int64         \n",
      "dtypes: datetime64[ns](1), float64(2), int64(6), object(5)\n",
      "memory usage: 761.7+ KB\n"
     ]
    }
   ],
   "source": [
    "total_table_with_subscription.info()"
   ]
  },
  {
   "cell_type": "markdown",
   "id": "2b937def",
   "metadata": {},
   "source": [
    "##### Исследуем данные о расстояниях, которые преодолели пользователи с подпиской и без."
   ]
  },
  {
   "cell_type": "code",
   "execution_count": 41,
   "id": "8d8f43bf",
   "metadata": {},
   "outputs": [
    {
     "data": {
      "text/plain": [
       "Text(0.5, 0, 'Расстояние, м')"
      ]
     },
     "execution_count": 41,
     "metadata": {},
     "output_type": "execute_result"
    },
    {
     "data": {
      "image/png": "[encoded data removed]",
      "text/plain": [
       "<Figure size 720x360 with 1 Axes>"
      ]
     },
     "metadata": {
      "needs_background": "light"
     },
     "output_type": "display_data"
    }
   ],
   "source": [
    "ax = total_table_without_subscription['distance'].plot(kind='hist', bins=50, range=(5, 6500), grid=True, figsize = (10,5), \n",
    "                                                       label='без подписки', legend=True)\n",
    "ax = total_table_with_subscription['distance'].plot(kind='hist', bins=50, range=(5, 6500), grid=True, figsize = (10,5),\n",
    "                                                   label='с подпиской Ultra', legend=True)\n",
    "plt.title('Расстояние, которое пользователь преодолел за 1 поездку')\n",
    "plt.ylabel('Количество')\n",
    "plt.xlabel('Расстояние, м')"
   ]
  },
  {
   "cell_type": "code",
   "execution_count": 42,
   "id": "26760183",
   "metadata": {},
   "outputs": [
    {
     "data": {
      "text/plain": [
       "Text(0.5, 0, 'Расстояние, м')"
      ]
     },
     "execution_count": 42,
     "metadata": {},
     "output_type": "execute_result"
    },
    {
     "data": {
      "image/png": "[encoded data removed]",
      "text/plain": [
       "<Figure size 720x360 with 1 Axes>"
      ]
     },
     "metadata": {
      "needs_background": "light"
     },
     "output_type": "display_data"
    }
   ],
   "source": [
    "total_table_without_subscription['distance_categoria'].value_counts().plot(kind ='bar', grid=True, figsize = (10,5),\n",
    "                                                                           title='Расстояние, которое пользователь без подписки преодолел за 1 поездку')\n",
    "plt.ylabel('Частота')\n",
    "plt.xlabel('Расстояние, м')"
   ]
  },
  {
   "cell_type": "code",
   "execution_count": 43,
   "id": "988b524e",
   "metadata": {},
   "outputs": [
    {
     "data": {
      "text/plain": [
       "Text(0.5, 0, 'Расстояние, м')"
      ]
     },
     "execution_count": 43,
     "metadata": {},
     "output_type": "execute_result"
    },
    {
     "data": {
      "image/png": "[encoded data removed]",
      "text/plain": [
       "<Figure size 720x360 with 1 Axes>"
      ]
     },
     "metadata": {
      "needs_background": "light"
     },
     "output_type": "display_data"
    }
   ],
   "source": [
    "total_table_with_subscription['distance_categoria'].value_counts().plot(kind='bar', grid=True, figsize = (10,5),\n",
    "                                                                        title='Расстояние, которое пользователь с подпиской преодолел за 1 поездку')\n",
    "plt.ylabel('Частота')\n",
    "plt.xlabel('Расстояние, м')\n"
   ]
  },
  {
   "cell_type": "code",
   "execution_count": 44,
   "id": "cbc4c170",
   "metadata": {},
   "outputs": [
    {
     "data": {
      "text/plain": [
       "count    11568.000000\n",
       "mean      3045.495282\n",
       "std       1246.173806\n",
       "min          0.855683\n",
       "25%       2366.562689\n",
       "50%       3114.648465\n",
       "75%       3905.697894\n",
       "max       7211.007745\n",
       "Name: distance, dtype: float64"
      ]
     },
     "execution_count": 44,
     "metadata": {},
     "output_type": "execute_result"
    }
   ],
   "source": [
    "total_table_without_subscription['distance'].describe()"
   ]
  },
  {
   "cell_type": "code",
   "execution_count": 45,
   "id": "2328fa5b",
   "metadata": {},
   "outputs": [
    {
     "data": {
      "text/plain": [
       "count    6500.000000\n",
       "mean     3115.445388\n",
       "std       836.895330\n",
       "min       244.210438\n",
       "25%      2785.444017\n",
       "50%      3148.637229\n",
       "75%      3560.574425\n",
       "max      5699.769662\n",
       "Name: distance, dtype: float64"
      ]
     },
     "execution_count": 45,
     "metadata": {},
     "output_type": "execute_result"
    }
   ],
   "source": [
    "total_table_with_subscription['distance'].describe()"
   ]
  },
  {
   "cell_type": "markdown",
   "id": "71c33878",
   "metadata": {},
   "source": [
    "##### Исследуем данные о времени, которое  затратили пользователи с подпиской и без."
   ]
  },
  {
   "cell_type": "code",
   "execution_count": 46,
   "id": "ca3455f7",
   "metadata": {},
   "outputs": [
    {
     "data": {
      "text/plain": [
       "Text(0.5, 0, 'Время, мин')"
      ]
     },
     "execution_count": 46,
     "metadata": {},
     "output_type": "execute_result"
    },
    {
     "data": {
      "image/png": "[encoded data removed]",
      "text/plain": [
       "<Figure size 720x360 with 1 Axes>"
      ]
     },
     "metadata": {
      "needs_background": "light"
     },
     "output_type": "display_data"
    }
   ],
   "source": [
    "ax = total_table_without_subscription['duration'].plot(kind='hist', bins=30, range=(0, 38), grid=True, figsize = (10,5), \n",
    "                                                       label='без подписки', legend=True)\n",
    "ax = total_table_with_subscription['duration'].plot(kind='hist', bins=30, range=(0, 38), grid=True, figsize = (10,5), \n",
    "                                                       label='подписка Ultra', legend=True)\n",
    "plt.title('Продолжительность поездки')\n",
    "plt.ylabel('Количество')\n",
    "plt.xlabel('Время, мин')"
   ]
  },
  {
   "cell_type": "code",
   "execution_count": 47,
   "id": "08656816",
   "metadata": {},
   "outputs": [
    {
     "data": {
      "text/plain": [
       "Text(0.5, 0, 'Время, мин')"
      ]
     },
     "execution_count": 47,
     "metadata": {},
     "output_type": "execute_result"
    },
    {
     "data": {
      "image/png": "[encoded data removed]",
      "text/plain": [
       "<Figure size 720x360 with 1 Axes>"
      ]
     },
     "metadata": {
      "needs_background": "light"
     },
     "output_type": "display_data"
    }
   ],
   "source": [
    "total_table_without_subscription['duration_categoria'].value_counts().plot(kind='bar', grid=True, figsize = (10,5), \n",
    "                                                                           title='Продолжительность поездки пользователей без подписки')\n",
    "plt.ylabel('Частота')\n",
    "plt.xlabel('Время, мин')"
   ]
  },
  {
   "cell_type": "code",
   "execution_count": 48,
   "id": "887ef3e7",
   "metadata": {},
   "outputs": [
    {
     "data": {
      "text/plain": [
       "Text(0.5, 0, 'Время, мин')"
      ]
     },
     "execution_count": 48,
     "metadata": {},
     "output_type": "execute_result"
    },
    {
     "data": {
      "image/png": "[encoded data removed]",
      "text/plain": [
       "<Figure size 720x360 with 1 Axes>"
      ]
     },
     "metadata": {
      "needs_background": "light"
     },
     "output_type": "display_data"
    }
   ],
   "source": [
    "total_table_with_subscription['duration_categoria'].value_counts().plot(kind='bar', grid=True, figsize = (10,5), \n",
    "                                                                           title='Продолжительность поездки пользователей с подпиской')\n",
    "plt.ylabel('Частота')\n",
    "plt.xlabel('Время, мин')"
   ]
  },
  {
   "cell_type": "code",
   "execution_count": 49,
   "id": "fa599253",
   "metadata": {},
   "outputs": [
    {
     "data": {
      "text/plain": [
       "count    11568.000000\n",
       "mean        17.390909\n",
       "std          6.326803\n",
       "min          0.500000\n",
       "25%         12.958437\n",
       "50%         17.326890\n",
       "75%         21.594071\n",
       "max         34.948498\n",
       "Name: duration, dtype: float64"
      ]
     },
     "execution_count": 49,
     "metadata": {},
     "output_type": "execute_result"
    }
   ],
   "source": [
    "total_table_without_subscription['duration'].describe()"
   ]
  },
  {
   "cell_type": "code",
   "execution_count": 50,
   "id": "97727ed0",
   "metadata": {},
   "outputs": [
    {
     "data": {
      "text/plain": [
       "count    6500.000000\n",
       "mean       18.541985\n",
       "std         5.572048\n",
       "min         3.760353\n",
       "25%        14.524654\n",
       "50%        18.178153\n",
       "75%        21.884129\n",
       "max        40.823963\n",
       "Name: duration, dtype: float64"
      ]
     },
     "execution_count": 50,
     "metadata": {},
     "output_type": "execute_result"
    }
   ],
   "source": [
    "total_table_with_subscription['duration'].describe()"
   ]
  },
  {
   "cell_type": "markdown",
   "id": "4032898e",
   "metadata": {},
   "source": [
    "Создали 3 общие таблицы. \n",
    "\n",
    "Люди, у которых есть подписка, в среднем едут на более длинные расстояния, чем те, у кого подписки нет. И в среднем времени тратят больше пользватели с подпиской."
   ]
  },
  {
   "cell_type": "markdown",
   "id": "275a01a7",
   "metadata": {},
   "source": [
    "#### Шаг 5. Подсчёт выручки"
   ]
  },
  {
   "cell_type": "code",
   "execution_count": 51,
   "id": "569736f7",
   "metadata": {},
   "outputs": [
    {
     "data": {
      "text/html": [
       "<div>\n",
       "<style scoped>\n",
       "    .dataframe tbody tr th:only-of-type {\n",
       "        vertical-align: middle;\n",
       "    }\n",
       "\n",
       "    .dataframe tbody tr th {\n",
       "        vertical-align: top;\n",
       "    }\n",
       "\n",
       "    .dataframe thead th {\n",
       "        text-align: right;\n",
       "    }\n",
       "</style>\n",
       "<table border=\"1\" class=\"dataframe\">\n",
       "  <thead>\n",
       "    <tr style=\"text-align: right;\">\n",
       "      <th></th>\n",
       "      <th>user_id</th>\n",
       "      <th>month</th>\n",
       "      <th>quantity</th>\n",
       "      <th>total_distance, m</th>\n",
       "      <th>total_duration, min</th>\n",
       "    </tr>\n",
       "  </thead>\n",
       "  <tbody>\n",
       "    <tr>\n",
       "      <th>0</th>\n",
       "      <td>1</td>\n",
       "      <td>1</td>\n",
       "      <td>2</td>\n",
       "      <td>7027.511294</td>\n",
       "      <td>42</td>\n",
       "    </tr>\n",
       "    <tr>\n",
       "      <th>1</th>\n",
       "      <td>1</td>\n",
       "      <td>4</td>\n",
       "      <td>1</td>\n",
       "      <td>754.159807</td>\n",
       "      <td>7</td>\n",
       "    </tr>\n",
       "    <tr>\n",
       "      <th>2</th>\n",
       "      <td>1</td>\n",
       "      <td>8</td>\n",
       "      <td>2</td>\n",
       "      <td>6723.470560</td>\n",
       "      <td>46</td>\n",
       "    </tr>\n",
       "    <tr>\n",
       "      <th>3</th>\n",
       "      <td>1</td>\n",
       "      <td>10</td>\n",
       "      <td>2</td>\n",
       "      <td>5809.911100</td>\n",
       "      <td>32</td>\n",
       "    </tr>\n",
       "    <tr>\n",
       "      <th>4</th>\n",
       "      <td>1</td>\n",
       "      <td>11</td>\n",
       "      <td>3</td>\n",
       "      <td>7003.499363</td>\n",
       "      <td>56</td>\n",
       "    </tr>\n",
       "    <tr>\n",
       "      <th>5</th>\n",
       "      <td>1</td>\n",
       "      <td>12</td>\n",
       "      <td>2</td>\n",
       "      <td>6751.629942</td>\n",
       "      <td>28</td>\n",
       "    </tr>\n",
       "    <tr>\n",
       "      <th>6</th>\n",
       "      <td>2</td>\n",
       "      <td>3</td>\n",
       "      <td>3</td>\n",
       "      <td>10187.723006</td>\n",
       "      <td>63</td>\n",
       "    </tr>\n",
       "    <tr>\n",
       "      <th>7</th>\n",
       "      <td>2</td>\n",
       "      <td>4</td>\n",
       "      <td>2</td>\n",
       "      <td>6164.381824</td>\n",
       "      <td>40</td>\n",
       "    </tr>\n",
       "    <tr>\n",
       "      <th>8</th>\n",
       "      <td>2</td>\n",
       "      <td>6</td>\n",
       "      <td>1</td>\n",
       "      <td>3255.338202</td>\n",
       "      <td>14</td>\n",
       "    </tr>\n",
       "    <tr>\n",
       "      <th>9</th>\n",
       "      <td>2</td>\n",
       "      <td>7</td>\n",
       "      <td>2</td>\n",
       "      <td>6780.722964</td>\n",
       "      <td>48</td>\n",
       "    </tr>\n",
       "    <tr>\n",
       "      <th>10</th>\n",
       "      <td>2</td>\n",
       "      <td>8</td>\n",
       "      <td>1</td>\n",
       "      <td>923.007439</td>\n",
       "      <td>7</td>\n",
       "    </tr>\n",
       "    <tr>\n",
       "      <th>11</th>\n",
       "      <td>2</td>\n",
       "      <td>10</td>\n",
       "      <td>1</td>\n",
       "      <td>2824.636598</td>\n",
       "      <td>19</td>\n",
       "    </tr>\n",
       "    <tr>\n",
       "      <th>12</th>\n",
       "      <td>2</td>\n",
       "      <td>12</td>\n",
       "      <td>1</td>\n",
       "      <td>3828.248580</td>\n",
       "      <td>12</td>\n",
       "    </tr>\n",
       "    <tr>\n",
       "      <th>13</th>\n",
       "      <td>3</td>\n",
       "      <td>1</td>\n",
       "      <td>1</td>\n",
       "      <td>3061.777147</td>\n",
       "      <td>13</td>\n",
       "    </tr>\n",
       "    <tr>\n",
       "      <th>14</th>\n",
       "      <td>3</td>\n",
       "      <td>2</td>\n",
       "      <td>2</td>\n",
       "      <td>5421.152016</td>\n",
       "      <td>39</td>\n",
       "    </tr>\n",
       "  </tbody>\n",
       "</table>\n",
       "</div>"
      ],
      "text/plain": [
       "    user_id  month  quantity  total_distance, m  total_duration, min\n",
       "0         1      1         2        7027.511294                   42\n",
       "1         1      4         1         754.159807                    7\n",
       "2         1      8         2        6723.470560                   46\n",
       "3         1     10         2        5809.911100                   32\n",
       "4         1     11         3        7003.499363                   56\n",
       "5         1     12         2        6751.629942                   28\n",
       "6         2      3         3       10187.723006                   63\n",
       "7         2      4         2        6164.381824                   40\n",
       "8         2      6         1        3255.338202                   14\n",
       "9         2      7         2        6780.722964                   48\n",
       "10        2      8         1         923.007439                    7\n",
       "11        2     10         1        2824.636598                   19\n",
       "12        2     12         1        3828.248580                   12\n",
       "13        3      1         1        3061.777147                   13\n",
       "14        3      2         2        5421.152016                   39"
      ]
     },
     "execution_count": 51,
     "metadata": {},
     "output_type": "execute_result"
    }
   ],
   "source": [
    "total_table['duration'] = np.ceil(total_table['duration'])\n",
    "total_table['duration'] = total_table['duration'].astype('int')\n",
    "\n",
    "total_table_pivot = (total_table.pivot_table(index=['user_id', 'month'], values=['distance', 'duration'], \n",
    "                                            aggfunc={'distance':['sum', 'count'], 'duration':'sum'}).droplevel(1,axis=1)\n",
    "                    )\n",
    "total_table_pivot.columns = ['quantity', 'total_distance, m', 'total_duration, min']\n",
    "total_table_pivot = total_table_pivot.reset_index()\n",
    "total_table_pivot.head(15)"
   ]
  },
  {
   "cell_type": "code",
   "execution_count": 52,
   "id": "5da97bbf",
   "metadata": {},
   "outputs": [
    {
     "data": {
      "text/html": [
       "<div>\n",
       "<style scoped>\n",
       "    .dataframe tbody tr th:only-of-type {\n",
       "        vertical-align: middle;\n",
       "    }\n",
       "\n",
       "    .dataframe tbody tr th {\n",
       "        vertical-align: top;\n",
       "    }\n",
       "\n",
       "    .dataframe thead th {\n",
       "        text-align: right;\n",
       "    }\n",
       "</style>\n",
       "<table border=\"1\" class=\"dataframe\">\n",
       "  <thead>\n",
       "    <tr style=\"text-align: right;\">\n",
       "      <th></th>\n",
       "      <th>user_id</th>\n",
       "      <th>month</th>\n",
       "      <th>quantity</th>\n",
       "      <th>total_distance, m</th>\n",
       "      <th>total_duration, min</th>\n",
       "      <th>name</th>\n",
       "      <th>age</th>\n",
       "      <th>city</th>\n",
       "      <th>subscription_type</th>\n",
       "      <th>minute_price</th>\n",
       "      <th>start_ride_price</th>\n",
       "      <th>subscription_fee</th>\n",
       "    </tr>\n",
       "  </thead>\n",
       "  <tbody>\n",
       "    <tr>\n",
       "      <th>0</th>\n",
       "      <td>1</td>\n",
       "      <td>1</td>\n",
       "      <td>2</td>\n",
       "      <td>7027.511294</td>\n",
       "      <td>42</td>\n",
       "      <td>Кира</td>\n",
       "      <td>22</td>\n",
       "      <td>Тюмень</td>\n",
       "      <td>ultra</td>\n",
       "      <td>6</td>\n",
       "      <td>0</td>\n",
       "      <td>199</td>\n",
       "    </tr>\n",
       "    <tr>\n",
       "      <th>1</th>\n",
       "      <td>1</td>\n",
       "      <td>4</td>\n",
       "      <td>1</td>\n",
       "      <td>754.159807</td>\n",
       "      <td>7</td>\n",
       "      <td>Кира</td>\n",
       "      <td>22</td>\n",
       "      <td>Тюмень</td>\n",
       "      <td>ultra</td>\n",
       "      <td>6</td>\n",
       "      <td>0</td>\n",
       "      <td>199</td>\n",
       "    </tr>\n",
       "    <tr>\n",
       "      <th>2</th>\n",
       "      <td>1</td>\n",
       "      <td>8</td>\n",
       "      <td>2</td>\n",
       "      <td>6723.470560</td>\n",
       "      <td>46</td>\n",
       "      <td>Кира</td>\n",
       "      <td>22</td>\n",
       "      <td>Тюмень</td>\n",
       "      <td>ultra</td>\n",
       "      <td>6</td>\n",
       "      <td>0</td>\n",
       "      <td>199</td>\n",
       "    </tr>\n",
       "    <tr>\n",
       "      <th>3</th>\n",
       "      <td>1</td>\n",
       "      <td>10</td>\n",
       "      <td>2</td>\n",
       "      <td>5809.911100</td>\n",
       "      <td>32</td>\n",
       "      <td>Кира</td>\n",
       "      <td>22</td>\n",
       "      <td>Тюмень</td>\n",
       "      <td>ultra</td>\n",
       "      <td>6</td>\n",
       "      <td>0</td>\n",
       "      <td>199</td>\n",
       "    </tr>\n",
       "    <tr>\n",
       "      <th>4</th>\n",
       "      <td>1</td>\n",
       "      <td>11</td>\n",
       "      <td>3</td>\n",
       "      <td>7003.499363</td>\n",
       "      <td>56</td>\n",
       "      <td>Кира</td>\n",
       "      <td>22</td>\n",
       "      <td>Тюмень</td>\n",
       "      <td>ultra</td>\n",
       "      <td>6</td>\n",
       "      <td>0</td>\n",
       "      <td>199</td>\n",
       "    </tr>\n",
       "  </tbody>\n",
       "</table>\n",
       "</div>"
      ],
      "text/plain": [
       "   user_id  month  quantity  total_distance, m  total_duration, min  name  \\\n",
       "0        1      1         2        7027.511294                   42  Кира   \n",
       "1        1      4         1         754.159807                    7  Кира   \n",
       "2        1      8         2        6723.470560                   46  Кира   \n",
       "3        1     10         2        5809.911100                   32  Кира   \n",
       "4        1     11         3        7003.499363                   56  Кира   \n",
       "\n",
       "   age    city subscription_type  minute_price  start_ride_price  \\\n",
       "0   22  Тюмень             ultra             6                 0   \n",
       "1   22  Тюмень             ultra             6                 0   \n",
       "2   22  Тюмень             ultra             6                 0   \n",
       "3   22  Тюмень             ultra             6                 0   \n",
       "4   22  Тюмень             ultra             6                 0   \n",
       "\n",
       "   subscription_fee  \n",
       "0               199  \n",
       "1               199  \n",
       "2               199  \n",
       "3               199  \n",
       "4               199  "
      ]
     },
     "execution_count": 52,
     "metadata": {},
     "output_type": "execute_result"
    }
   ],
   "source": [
    "total_table_pivot = total_table_pivot.merge(users, how='left', on='user_id')\n",
    "total_table_pivot = total_table_pivot.merge(subscriptions, how='left', on='subscription_type')\n",
    "total_table_pivot.head()"
   ]
  },
  {
   "cell_type": "code",
   "execution_count": 53,
   "id": "9cf53a8b",
   "metadata": {},
   "outputs": [
    {
     "data": {
      "text/html": [
       "<div>\n",
       "<style scoped>\n",
       "    .dataframe tbody tr th:only-of-type {\n",
       "        vertical-align: middle;\n",
       "    }\n",
       "\n",
       "    .dataframe tbody tr th {\n",
       "        vertical-align: top;\n",
       "    }\n",
       "\n",
       "    .dataframe thead th {\n",
       "        text-align: right;\n",
       "    }\n",
       "</style>\n",
       "<table border=\"1\" class=\"dataframe\">\n",
       "  <thead>\n",
       "    <tr style=\"text-align: right;\">\n",
       "      <th></th>\n",
       "      <th>user_id</th>\n",
       "      <th>month</th>\n",
       "      <th>quantity</th>\n",
       "      <th>total_distance, m</th>\n",
       "      <th>total_duration, min</th>\n",
       "      <th>name</th>\n",
       "      <th>age</th>\n",
       "      <th>city</th>\n",
       "      <th>subscription_type</th>\n",
       "      <th>minute_price</th>\n",
       "      <th>start_ride_price</th>\n",
       "      <th>subscription_fee</th>\n",
       "      <th>gain</th>\n",
       "    </tr>\n",
       "  </thead>\n",
       "  <tbody>\n",
       "    <tr>\n",
       "      <th>0</th>\n",
       "      <td>1</td>\n",
       "      <td>1</td>\n",
       "      <td>2</td>\n",
       "      <td>7027.511294</td>\n",
       "      <td>42</td>\n",
       "      <td>Кира</td>\n",
       "      <td>22</td>\n",
       "      <td>Тюмень</td>\n",
       "      <td>ultra</td>\n",
       "      <td>6</td>\n",
       "      <td>0</td>\n",
       "      <td>199</td>\n",
       "      <td>451</td>\n",
       "    </tr>\n",
       "    <tr>\n",
       "      <th>1</th>\n",
       "      <td>1</td>\n",
       "      <td>4</td>\n",
       "      <td>1</td>\n",
       "      <td>754.159807</td>\n",
       "      <td>7</td>\n",
       "      <td>Кира</td>\n",
       "      <td>22</td>\n",
       "      <td>Тюмень</td>\n",
       "      <td>ultra</td>\n",
       "      <td>6</td>\n",
       "      <td>0</td>\n",
       "      <td>199</td>\n",
       "      <td>241</td>\n",
       "    </tr>\n",
       "    <tr>\n",
       "      <th>2</th>\n",
       "      <td>1</td>\n",
       "      <td>8</td>\n",
       "      <td>2</td>\n",
       "      <td>6723.470560</td>\n",
       "      <td>46</td>\n",
       "      <td>Кира</td>\n",
       "      <td>22</td>\n",
       "      <td>Тюмень</td>\n",
       "      <td>ultra</td>\n",
       "      <td>6</td>\n",
       "      <td>0</td>\n",
       "      <td>199</td>\n",
       "      <td>475</td>\n",
       "    </tr>\n",
       "    <tr>\n",
       "      <th>3</th>\n",
       "      <td>1</td>\n",
       "      <td>10</td>\n",
       "      <td>2</td>\n",
       "      <td>5809.911100</td>\n",
       "      <td>32</td>\n",
       "      <td>Кира</td>\n",
       "      <td>22</td>\n",
       "      <td>Тюмень</td>\n",
       "      <td>ultra</td>\n",
       "      <td>6</td>\n",
       "      <td>0</td>\n",
       "      <td>199</td>\n",
       "      <td>391</td>\n",
       "    </tr>\n",
       "    <tr>\n",
       "      <th>4</th>\n",
       "      <td>1</td>\n",
       "      <td>11</td>\n",
       "      <td>3</td>\n",
       "      <td>7003.499363</td>\n",
       "      <td>56</td>\n",
       "      <td>Кира</td>\n",
       "      <td>22</td>\n",
       "      <td>Тюмень</td>\n",
       "      <td>ultra</td>\n",
       "      <td>6</td>\n",
       "      <td>0</td>\n",
       "      <td>199</td>\n",
       "      <td>535</td>\n",
       "    </tr>\n",
       "    <tr>\n",
       "      <th>...</th>\n",
       "      <td>...</td>\n",
       "      <td>...</td>\n",
       "      <td>...</td>\n",
       "      <td>...</td>\n",
       "      <td>...</td>\n",
       "      <td>...</td>\n",
       "      <td>...</td>\n",
       "      <td>...</td>\n",
       "      <td>...</td>\n",
       "      <td>...</td>\n",
       "      <td>...</td>\n",
       "      <td>...</td>\n",
       "      <td>...</td>\n",
       "    </tr>\n",
       "    <tr>\n",
       "      <th>11326</th>\n",
       "      <td>1534</td>\n",
       "      <td>6</td>\n",
       "      <td>2</td>\n",
       "      <td>3409.468534</td>\n",
       "      <td>26</td>\n",
       "      <td>Альберт</td>\n",
       "      <td>25</td>\n",
       "      <td>Краснодар</td>\n",
       "      <td>free</td>\n",
       "      <td>8</td>\n",
       "      <td>50</td>\n",
       "      <td>0</td>\n",
       "      <td>308</td>\n",
       "    </tr>\n",
       "    <tr>\n",
       "      <th>11327</th>\n",
       "      <td>1534</td>\n",
       "      <td>8</td>\n",
       "      <td>2</td>\n",
       "      <td>7622.453034</td>\n",
       "      <td>48</td>\n",
       "      <td>Альберт</td>\n",
       "      <td>25</td>\n",
       "      <td>Краснодар</td>\n",
       "      <td>free</td>\n",
       "      <td>8</td>\n",
       "      <td>50</td>\n",
       "      <td>0</td>\n",
       "      <td>484</td>\n",
       "    </tr>\n",
       "    <tr>\n",
       "      <th>11328</th>\n",
       "      <td>1534</td>\n",
       "      <td>9</td>\n",
       "      <td>1</td>\n",
       "      <td>4928.173852</td>\n",
       "      <td>23</td>\n",
       "      <td>Альберт</td>\n",
       "      <td>25</td>\n",
       "      <td>Краснодар</td>\n",
       "      <td>free</td>\n",
       "      <td>8</td>\n",
       "      <td>50</td>\n",
       "      <td>0</td>\n",
       "      <td>234</td>\n",
       "    </tr>\n",
       "    <tr>\n",
       "      <th>11329</th>\n",
       "      <td>1534</td>\n",
       "      <td>11</td>\n",
       "      <td>4</td>\n",
       "      <td>13350.015305</td>\n",
       "      <td>78</td>\n",
       "      <td>Альберт</td>\n",
       "      <td>25</td>\n",
       "      <td>Краснодар</td>\n",
       "      <td>free</td>\n",
       "      <td>8</td>\n",
       "      <td>50</td>\n",
       "      <td>0</td>\n",
       "      <td>824</td>\n",
       "    </tr>\n",
       "    <tr>\n",
       "      <th>11330</th>\n",
       "      <td>1534</td>\n",
       "      <td>12</td>\n",
       "      <td>1</td>\n",
       "      <td>2371.711192</td>\n",
       "      <td>16</td>\n",
       "      <td>Альберт</td>\n",
       "      <td>25</td>\n",
       "      <td>Краснодар</td>\n",
       "      <td>free</td>\n",
       "      <td>8</td>\n",
       "      <td>50</td>\n",
       "      <td>0</td>\n",
       "      <td>178</td>\n",
       "    </tr>\n",
       "  </tbody>\n",
       "</table>\n",
       "<p>11331 rows × 13 columns</p>\n",
       "</div>"
      ],
      "text/plain": [
       "       user_id  month  quantity  total_distance, m  total_duration, min  \\\n",
       "0            1      1         2        7027.511294                   42   \n",
       "1            1      4         1         754.159807                    7   \n",
       "2            1      8         2        6723.470560                   46   \n",
       "3            1     10         2        5809.911100                   32   \n",
       "4            1     11         3        7003.499363                   56   \n",
       "...        ...    ...       ...                ...                  ...   \n",
       "11326     1534      6         2        3409.468534                   26   \n",
       "11327     1534      8         2        7622.453034                   48   \n",
       "11328     1534      9         1        4928.173852                   23   \n",
       "11329     1534     11         4       13350.015305                   78   \n",
       "11330     1534     12         1        2371.711192                   16   \n",
       "\n",
       "          name  age       city subscription_type  minute_price  \\\n",
       "0         Кира   22     Тюмень             ultra             6   \n",
       "1         Кира   22     Тюмень             ultra             6   \n",
       "2         Кира   22     Тюмень             ultra             6   \n",
       "3         Кира   22     Тюмень             ultra             6   \n",
       "4         Кира   22     Тюмень             ultra             6   \n",
       "...        ...  ...        ...               ...           ...   \n",
       "11326  Альберт   25  Краснодар              free             8   \n",
       "11327  Альберт   25  Краснодар              free             8   \n",
       "11328  Альберт   25  Краснодар              free             8   \n",
       "11329  Альберт   25  Краснодар              free             8   \n",
       "11330  Альберт   25  Краснодар              free             8   \n",
       "\n",
       "       start_ride_price  subscription_fee  gain  \n",
       "0                     0               199   451  \n",
       "1                     0               199   241  \n",
       "2                     0               199   475  \n",
       "3                     0               199   391  \n",
       "4                     0               199   535  \n",
       "...                 ...               ...   ...  \n",
       "11326                50                 0   308  \n",
       "11327                50                 0   484  \n",
       "11328                50                 0   234  \n",
       "11329                50                 0   824  \n",
       "11330                50                 0   178  \n",
       "\n",
       "[11331 rows x 13 columns]"
      ]
     },
     "execution_count": 53,
     "metadata": {},
     "output_type": "execute_result"
    }
   ],
   "source": [
    "def price_total(row):\n",
    "    price = (row['start_ride_price'] * row['quantity'] + \n",
    "             row['minute_price'] * row['total_duration, min'] + \n",
    "             row['subscription_fee']\n",
    "            )\n",
    "    return price\n",
    "\n",
    "total_table_pivot['gain'] = total_table_pivot.apply(price_total, axis=1)\n",
    "total_table_pivot"
   ]
  },
  {
   "cell_type": "markdown",
   "id": "ebbaf9e6",
   "metadata": {},
   "source": [
    "Создали сводную таблицу с данными о поездках, на основе датафрейма с объединенными данными. Нашли суммарное расстояние, количество поездок и суммарное время для каждого пользователя за каждый месяц.\n",
    "\n",
    "В итоговый датафрейм добавили столбец с помесячной выручкой, которую принес каждый пользователь. "
   ]
  },
  {
   "cell_type": "markdown",
   "id": "7f8b9aee",
   "metadata": {},
   "source": [
    "#### Шаг 6. Проверка гипотез"
   ]
  },
  {
   "cell_type": "markdown",
   "id": "2ac8da9a",
   "metadata": {},
   "source": [
    "##### Проверим гипотезу: тратят ли пользователи с подпиской больше времени на поездки."
   ]
  },
  {
   "cell_type": "markdown",
   "id": "c98bed33",
   "metadata": {},
   "source": [
    "Нулевая гипотеза: среднее время поездки одинаковое у пользователей с подпиской и без.\n",
    "\n",
    "Альтернативная гипотеза: пользователи с подпиской тратят больше времени на поездки."
   ]
  },
  {
   "cell_type": "code",
   "execution_count": 54,
   "id": "c34d2386",
   "metadata": {},
   "outputs": [
    {
     "name": "stdout",
     "output_type": "stream",
     "text": [
      "p-значение: 1.2804098316645618e-34\n",
      "Отвергаем нулевую гипотезу\n"
     ]
    }
   ],
   "source": [
    "alpha = 0.05\n",
    "results = st.ttest_ind(total_table_with_subscription['duration'], total_table_without_subscription['duration'], \n",
    "                       alternative='greater')\n",
    "print('p-значение:', results.pvalue)\n",
    "if (results.pvalue) < alpha:\n",
    "    print('Отвергаем нулевую гипотезу')\n",
    "else:\n",
    "    print('Не отвергаем нулевую гипотезу')"
   ]
  },
  {
   "cell_type": "code",
   "execution_count": 55,
   "id": "49a68169",
   "metadata": {},
   "outputs": [
    {
     "name": "stdout",
     "output_type": "stream",
     "text": [
      "Среднее время пользователей с подпиской 18.54\n",
      "Среднее время пользователей без подписки 17.39\n"
     ]
    }
   ],
   "source": [
    "print('Среднее время пользователей с подпиской', total_table_with_subscription['duration'].mean().round(2))\n",
    "print('Среднее время пользователей без подписки', total_table_without_subscription['duration'].mean().round(2))"
   ]
  },
  {
   "cell_type": "markdown",
   "id": "d3e97726",
   "metadata": {},
   "source": [
    "Значение p-value очень маленькое, значит наша нулевая гипотеза опровергнута, т.е. пользователи с подпиской тратят в среднем больше времени, чем пользователи без подписки, в чем мы удостоверились подсчетом среднего и глядя на гистограмму."
   ]
  },
  {
   "cell_type": "markdown",
   "id": "44dca765",
   "metadata": {},
   "source": [
    "##### Проверим гипотезу: расстояние, которое проезжают пользователи с подпиской за 1 поездку не превышает 3130 м."
   ]
  },
  {
   "cell_type": "markdown",
   "id": "49c426b5",
   "metadata": {},
   "source": [
    "Нулевая гипотеза: пользователи с подпиской проезжают за 1 поездку расстояние, равное 3130 м.\n",
    "\n",
    "Альтернативная гипотеза: пользователи с подпиской проезжают за 1 поездку расстояние, большее 3130 м."
   ]
  },
  {
   "cell_type": "code",
   "execution_count": 56,
   "id": "379a9a69",
   "metadata": {},
   "outputs": [
    {
     "name": "stdout",
     "output_type": "stream",
     "text": [
      "p-значение: 0.9195368847849785\n",
      "Не отвергаем нулевую гипотезу\n"
     ]
    }
   ],
   "source": [
    "alpha = 0.05\n",
    "value = 3130\n",
    "\n",
    "results = st.ttest_1samp(total_table_with_subscription['distance'], value, alternative='greater')\n",
    "print('p-значение:', results.pvalue)\n",
    "if (results.pvalue) < alpha:\n",
    "    print('Отвергаем нулевую гипотезу')\n",
    "else:\n",
    "    print('Не отвергаем нулевую гипотезу')"
   ]
  },
  {
   "cell_type": "code",
   "execution_count": 57,
   "id": "1c60615a",
   "metadata": {},
   "outputs": [
    {
     "name": "stdout",
     "output_type": "stream",
     "text": [
      "Среднее расстояние, которое проезжают пользователи с подпиской 3115.45\n"
     ]
    }
   ],
   "source": [
    "print('Среднее расстояние, которое проезжают пользователи с подпиской', \n",
    "      total_table_with_subscription['distance'].mean().round(2))"
   ]
  },
  {
   "cell_type": "markdown",
   "id": "bb7ca953",
   "metadata": {},
   "source": [
    "Мы не можем опровергнуть нашу нулевую гипотезу, т.к. вероятность получить значение близкое к контрольному велика."
   ]
  },
  {
   "cell_type": "markdown",
   "id": "c0eeaf15",
   "metadata": {},
   "source": [
    "##### Проверим гипотезу: будет ли помесячная выручка от пользователей с подпиской по месяцам выше, чем выручка от пользователей без подписки."
   ]
  },
  {
   "cell_type": "markdown",
   "id": "3d639ee0",
   "metadata": {},
   "source": [
    "Нулевая гипотеза: средняя выручка пользователей с подпиской по месяцам равна средней выручке пользователей без подписки.\n",
    "\n",
    "Альтернативная гипотеза: средняя выручка пользователей с подпиской по месяцам больше средней выручки пользователей без подписки."
   ]
  },
  {
   "cell_type": "code",
   "execution_count": 58,
   "id": "56045976",
   "metadata": {},
   "outputs": [],
   "source": [
    "total_table_pivot_with = total_table_pivot[total_table_pivot['subscription_type'] == 'ultra']\n",
    "total_table_pivot_without = total_table_pivot[total_table_pivot['subscription_type'] == 'free']"
   ]
  },
  {
   "cell_type": "code",
   "execution_count": 59,
   "id": "3b661aae",
   "metadata": {},
   "outputs": [
    {
     "name": "stdout",
     "output_type": "stream",
     "text": [
      "p-значение: 1.8850394384715216e-31\n",
      "Отвергаем нулевую гипотезу\n"
     ]
    }
   ],
   "source": [
    "alpha = 0.05\n",
    "results = st.ttest_ind(total_table_pivot_with['gain'], total_table_pivot_without['gain'], alternative='greater')\n",
    "print('p-значение:', results.pvalue)\n",
    "if (results.pvalue) < alpha:\n",
    "    print('Отвергаем нулевую гипотезу')\n",
    "else:\n",
    "    print('Не отвергаем нулевую гипотезу')"
   ]
  },
  {
   "cell_type": "code",
   "execution_count": 60,
   "id": "f674ec54",
   "metadata": {},
   "outputs": [
    {
     "name": "stdout",
     "output_type": "stream",
     "text": [
      "Средняя выручка пользователей с подпиской 362.79\n",
      "Средняя выручка пользователей без подписки 328.64\n"
     ]
    }
   ],
   "source": [
    "print('Средняя выручка пользователей с подпиской', total_table_pivot_with['gain'].mean().round(2))\n",
    "print('Средняя выручка пользователей без подписки', total_table_pivot_without['gain'].mean().round(2))"
   ]
  },
  {
   "cell_type": "markdown",
   "id": "bce43de1",
   "metadata": {},
   "source": [
    "Полученное значение p-value меньше заданного уровня значимости, поэтому отвергаем нулевую гипотезу. Можно предположить, что помесячная выручка от пользователей с подпиской больше."
   ]
  },
  {
   "cell_type": "markdown",
   "id": "02a685c1",
   "metadata": {},
   "source": [
    "##### Проверка гипотезы о снижении обращений в техподдержку после обновления сервера."
   ]
  },
  {
   "cell_type": "markdown",
   "id": "1d087c51",
   "metadata": {},
   "source": [
    "Для проверки гипотезы, что после обновления сервера количество обращений в техподдержку снизилось, можно воспользоваться тестом на проверку гипотезы о равенстве средних для зависимых (парных) выборок .scipy.stats.ttest_rel(), в который нужно передать 2 параметра: данные до обновления и после"
   ]
  },
  {
   "cell_type": "markdown",
   "id": "5ec45c85",
   "metadata": {},
   "source": [
    "#### Шаг 7. Распределения"
   ]
  },
  {
   "cell_type": "markdown",
   "id": "3cea4f29",
   "metadata": {},
   "source": [
    "##### Выясним какое минимальное количество промокодов нужно разослать, чтобы вероятность не выполнить план была примерно 5%."
   ]
  },
  {
   "cell_type": "code",
   "execution_count": 61,
   "id": "c5558365",
   "metadata": {},
   "outputs": [
    {
     "data": {
      "text/plain": [
       "Text(0.5, 1.0, 'График биномиального распределения')"
      ]
     },
     "execution_count": 61,
     "metadata": {},
     "output_type": "execute_result"
    },
    {
     "data": {
      "image/png": "[encoded data removed]",
      "text/plain": [
       "<Figure size 432x288 with 1 Axes>"
      ]
     },
     "metadata": {
      "needs_background": "light"
     },
     "output_type": "display_data"
    }
   ],
   "source": [
    "p = 0.1\n",
    "n = 1000\n",
    "distr = []\n",
    "for k in range(0, n+1):\n",
    "    combination = factorial(n) / (factorial(k) * factorial(n-k))\n",
    "    rez = combination * p**k * (1-p)**(n-k)\n",
    "    distr.append(rez)\n",
    "    \n",
    "plt.bar(range(0, n+1), distr)\n",
    "plt.title('График биномиального распределения')"
   ]
  },
  {
   "cell_type": "markdown",
   "id": "664597b4",
   "metadata": {},
   "source": [
    "Построили график биномиального распределения"
   ]
  },
  {
   "cell_type": "code",
   "execution_count": 62,
   "id": "d330d33d",
   "metadata": {},
   "outputs": [
    {
     "name": "stdout",
     "output_type": "stream",
     "text": [
      "Минимальное число промокодов: 1161\n"
     ]
    }
   ],
   "source": [
    "for n in range (500,1500):\n",
    "    if st.binom.cdf(99, n, p) < 0.05:\n",
    "        print(\"Минимальное число промокодов:\", n)\n",
    "        break"
   ]
  },
  {
   "cell_type": "markdown",
   "id": "1f350c38",
   "metadata": {},
   "source": [
    "Чтобы минимум 100 существующих клиентов продлили подписку по завершении пробного периода, с вероятностью не выполнить план 5%, нужно раздать как минимум 1161 промокод."
   ]
  },
  {
   "cell_type": "markdown",
   "id": "4df9a3a6",
   "metadata": {},
   "source": [
    "##### Найдем вероятность того, что уведомления откроют не более 399,5 тыс пользователей при рассылке 1 млн уведомлений, с вероятностью того, что их открывает 40% получивших клиентов."
   ]
  },
  {
   "cell_type": "code",
   "execution_count": 63,
   "id": "032e1d25",
   "metadata": {},
   "outputs": [
    {
     "name": "stdout",
     "output_type": "stream",
     "text": [
      "Вероятность того, что push-уведомения откроют не более 399500 пользователей =  15.0 %\n"
     ]
    }
   ],
   "source": [
    "p = 0.4\n",
    "n = 1000000\n",
    "\n",
    "mu = n*p # мат.ожидание\n",
    "sigma = (n * p * (1 - p))**0.5 #cтандартное отклонение\n",
    "\n",
    "distr = st.norm(mu, sigma) #задаем нормальное распределение\n",
    "\n",
    "x = 399500 #знач-е, для к-го находим вер-сть\n",
    "\n",
    "result = distr.cdf(x)\n",
    "print('Вероятность того, что push-уведомения откроют не более', x, 'пользователей = ', round(result,2)*100, '%')"
   ]
  },
  {
   "cell_type": "code",
   "execution_count": 64,
   "id": "edff5092",
   "metadata": {},
   "outputs": [
    {
     "data": {
      "text/plain": [
       "Text(0.5, 1.0, 'График биномиального распределения')"
      ]
     },
     "execution_count": 64,
     "metadata": {},
     "output_type": "execute_result"
    },
    {
     "data": {
      "image/png": "[encoded data removed]",
      "text/plain": [
       "<Figure size 432x288 with 1 Axes>"
      ]
     },
     "metadata": {
      "needs_background": "light"
     },
     "output_type": "display_data"
    }
   ],
   "source": [
    "# границы промежутка, в котором будем строить аппроксимацию - от мат.ожид-3 ст.откл-я бином.распр-ния\n",
    "# до мат.ожид-я+3 ст.откл-я бином.распр-ния (там, где вероятности значений почти не равны нулю)\n",
    "left = int(mu - 3 * sigma)\n",
    "right = int(mu + 3 * sigma)\n",
    "\n",
    "# зададим набор значений биномиальной величины на выбранном промежутке: все неотрицательные целые числа от left до right\n",
    "x = list(range(max(0, left), right))\n",
    "# рисуем график биномиального распределения\n",
    "ax = plt.subplot()\n",
    "ax.plot(x, st.binom.pmf(x, n, p), 'bo', ms=3)\n",
    "plt.title('График биномиального распределения')"
   ]
  },
  {
   "cell_type": "markdown",
   "id": "6b9916bc",
   "metadata": {},
   "source": [
    "Вероятность того, что push-уведомления откроют не более 399,5 тыс. пользователей при рассылке 1 млн уведомлений, с вероятностью того, что их открывает 40% получивших клиентов равна 15%."
   ]
  },
  {
   "cell_type": "markdown",
   "id": "2ce44f32",
   "metadata": {},
   "source": [
    "#### Вывод"
   ]
  },
  {
   "cell_type": "markdown",
   "id": "8b81dabc",
   "metadata": {},
   "source": [
    "В ходе исследовательского анализа мы выявили, что:\n",
    "- наибольшее (219) количество пользователей самокатами в Пятигорске, наименьшее (168) - в Москве.\n",
    "- пользователей без подписки больше, чем с подпиской.\n",
    "- средний возраст пользователей самокатов 25 лет, минимальный - 12, максимальный - 43. Чаще всего самокатами пользуются люди 23-26 лет. \n",
    "- среднее расстояние, которое пользователь преодолел за 1 поездку - 3 км 133 м, минимальное - 0,85 м, максимальное - 7 км 211 м. Чаще всего люди проезжают расстояние от 2500 до 4000 м, и реже всего - свыше 4000 м. Есть небольшое увеличение поездок примерно на расстоянии 600 м. Возможно люди добирались до метро. А увеличение в районе 3000 м возможно говорит о том, что люди добирались до работы.\n",
    "- средняя продолжительность 1 поездки - около 17 мин, минимальное - 0,5 минуты, максимальное - 41 минута. Чаще всего люди катаются от 15 до 25 мин, реже всего - менее 8 мин.\n",
    "\n",
    "Люди, у которых есть подписка, в среднем едут на более длинные расстояния, чем те, у кого подписки нет. И в среднем времени тратят больше пользватели с подпиской.\n",
    "\n",
    "Создали сводную таблицу с данными о поездках, на основе датафрейма с объединенными данными. Нашли суммарное расстояние, количество поездок и суммарное время для каждого пользователя за каждый месяц.\n",
    "\n",
    "В итоговый датафрейм добавили столбец с помесячной выручкой, которую принес каждый пользователь. \n",
    "\n",
    "Мы подтвердили гипотезу о том, что пользователи с подпиской тратят в среднем больше времени, чем пользователи без подписки. Среднее время пользователей с подпиской 18.54\n",
    "Среднее время пользователей без подписки 17.39\n",
    "\n",
    "Мы не смогли опровергнуть нашу гипотезу о том, что пользователи с подпиской проезжают за 1 поездку расстояние, равное 3130 м.\n",
    "Среднее расстояние, которое проезжают пользователи с подпиской 3115.45\n",
    "\n",
    "Мы предположили , что средняя выручка пользователей с подпиской по месяцам равна средней выручке пользователей без подписки.\n",
    "В ходе исследования отвергли эту гипотезу. Можно утверждать, что помесячная выручка от пользователей с подпиской больше.\n",
    "Средняя выручка пользователей с подпиской 362.79\n",
    "Средняя выручка пользователей без подписки 328.64\n",
    "\n",
    "\n",
    "Для отдела маркетинга посчитали:\n",
    "- чтобы минимум 100 существующих клиентов продлили подписку по завершении пробного периода, с вероятностью не выполнить план 5%, нужно раздать как минимум 1161 промокод.\n",
    "- вероятность того, что push-уведомления откроют не более 399,5 тыс. пользователей при рассылке 1 млн уведомлений, с вероятностью того, что их открывает 40% получивших клиентов равна 15%."
   ]
  }
 ],
 "metadata": {
  "ExecuteTimeLog": [
   {
    "duration": 792,
    "start_time": "2024-02-27T04:54:18.364Z"
   },
   {
    "duration": 188,
    "start_time": "2024-02-27T04:56:37.964Z"
   },
   {
    "duration": 106,
    "start_time": "2024-02-27T04:57:25.705Z"
   },
   {
    "duration": 31,
    "start_time": "2024-02-27T04:57:31.153Z"
   },
   {
    "duration": 31,
    "start_time": "2024-02-27T04:57:48.488Z"
   },
   {
    "duration": 66,
    "start_time": "2024-02-27T04:58:54.073Z"
   },
   {
    "duration": 6,
    "start_time": "2024-02-27T05:00:33.340Z"
   },
   {
    "duration": 11,
    "start_time": "2024-02-27T05:00:55.553Z"
   },
   {
    "duration": 12,
    "start_time": "2024-02-27T05:20:03.169Z"
   },
   {
    "duration": 10,
    "start_time": "2024-02-27T05:20:40.934Z"
   },
   {
    "duration": 7,
    "start_time": "2024-02-27T05:22:35.253Z"
   },
   {
    "duration": 12,
    "start_time": "2024-02-27T05:22:54.615Z"
   },
   {
    "duration": 6,
    "start_time": "2024-02-27T05:23:26.727Z"
   },
   {
    "duration": 10,
    "start_time": "2024-02-27T05:23:40.102Z"
   },
   {
    "duration": 9,
    "start_time": "2024-02-27T05:32:43.674Z"
   },
   {
    "duration": 18,
    "start_time": "2024-02-27T05:32:59.153Z"
   },
   {
    "duration": 18,
    "start_time": "2024-02-27T05:33:06.954Z"
   },
   {
    "duration": 11,
    "start_time": "2024-02-27T05:33:14.537Z"
   },
   {
    "duration": 10,
    "start_time": "2024-02-27T05:37:33.450Z"
   },
   {
    "duration": 11,
    "start_time": "2024-02-27T05:40:25.209Z"
   },
   {
    "duration": 8,
    "start_time": "2024-02-27T05:41:34.957Z"
   },
   {
    "duration": 5,
    "start_time": "2024-02-27T05:41:50.020Z"
   },
   {
    "duration": 5,
    "start_time": "2024-02-27T05:42:03.063Z"
   },
   {
    "duration": 6,
    "start_time": "2024-02-27T05:42:51.516Z"
   },
   {
    "duration": 7,
    "start_time": "2024-02-27T05:43:13.501Z"
   },
   {
    "duration": 5,
    "start_time": "2024-02-27T05:43:17.124Z"
   },
   {
    "duration": 11,
    "start_time": "2024-02-27T05:44:02.173Z"
   },
   {
    "duration": 12,
    "start_time": "2024-02-27T05:46:13.031Z"
   },
   {
    "duration": 13,
    "start_time": "2024-02-27T05:48:47.167Z"
   },
   {
    "duration": 13,
    "start_time": "2024-02-27T05:49:09.539Z"
   },
   {
    "duration": 13,
    "start_time": "2024-02-27T05:49:21.022Z"
   },
   {
    "duration": 12,
    "start_time": "2024-02-27T05:49:33.158Z"
   },
   {
    "duration": 9,
    "start_time": "2024-02-27T05:50:27.495Z"
   },
   {
    "duration": 6,
    "start_time": "2024-02-27T05:50:35.933Z"
   },
   {
    "duration": 14,
    "start_time": "2024-02-27T05:50:44.502Z"
   },
   {
    "duration": 6,
    "start_time": "2024-02-27T05:51:46.186Z"
   },
   {
    "duration": 5,
    "start_time": "2024-02-27T05:52:06.005Z"
   },
   {
    "duration": 5,
    "start_time": "2024-02-27T05:52:10.367Z"
   },
   {
    "duration": 10,
    "start_time": "2024-02-27T05:52:28.056Z"
   },
   {
    "duration": 4,
    "start_time": "2024-02-27T05:54:21.119Z"
   },
   {
    "duration": 9,
    "start_time": "2024-02-27T05:56:21.400Z"
   },
   {
    "duration": 8,
    "start_time": "2024-02-27T05:56:29.032Z"
   },
   {
    "duration": 9,
    "start_time": "2024-02-27T05:56:33.352Z"
   },
   {
    "duration": 10,
    "start_time": "2024-02-27T05:56:43.000Z"
   },
   {
    "duration": 10,
    "start_time": "2024-02-27T05:56:48.825Z"
   },
   {
    "duration": 6,
    "start_time": "2024-02-27T05:56:53.920Z"
   },
   {
    "duration": 7,
    "start_time": "2024-02-27T05:56:58.344Z"
   },
   {
    "duration": 9,
    "start_time": "2024-02-27T05:57:01.256Z"
   },
   {
    "duration": 11,
    "start_time": "2024-02-27T05:57:09.072Z"
   },
   {
    "duration": 10,
    "start_time": "2024-02-27T05:57:10.584Z"
   },
   {
    "duration": 9,
    "start_time": "2024-02-27T05:57:42.937Z"
   },
   {
    "duration": 10,
    "start_time": "2024-02-27T05:57:54.080Z"
   },
   {
    "duration": 10,
    "start_time": "2024-02-27T06:14:38.036Z"
   },
   {
    "duration": 5,
    "start_time": "2024-02-27T06:15:06.036Z"
   },
   {
    "duration": 411,
    "start_time": "2024-02-27T06:18:12.063Z"
   },
   {
    "duration": 141,
    "start_time": "2024-02-27T06:20:30.885Z"
   },
   {
    "duration": 125,
    "start_time": "2024-02-27T06:23:14.335Z"
   },
   {
    "duration": 150,
    "start_time": "2024-02-27T06:25:06.456Z"
   },
   {
    "duration": 133,
    "start_time": "2024-02-27T06:25:20.663Z"
   },
   {
    "duration": 202,
    "start_time": "2024-02-27T06:25:58.327Z"
   },
   {
    "duration": 6,
    "start_time": "2024-02-27T06:27:23.887Z"
   },
   {
    "duration": 118,
    "start_time": "2024-02-27T06:27:59.575Z"
   },
   {
    "duration": 4,
    "start_time": "2024-02-27T06:29:01.783Z"
   },
   {
    "duration": 4,
    "start_time": "2024-02-27T06:29:28.143Z"
   },
   {
    "duration": 3,
    "start_time": "2024-02-27T06:29:49.199Z"
   },
   {
    "duration": 180,
    "start_time": "2024-02-27T06:35:58.426Z"
   },
   {
    "duration": 136,
    "start_time": "2024-02-27T06:36:35.193Z"
   },
   {
    "duration": 138,
    "start_time": "2024-02-27T06:36:41.784Z"
   },
   {
    "duration": 124,
    "start_time": "2024-02-27T06:38:00.155Z"
   },
   {
    "duration": 122,
    "start_time": "2024-02-27T06:38:19.386Z"
   },
   {
    "duration": 126,
    "start_time": "2024-02-27T06:38:37.516Z"
   },
   {
    "duration": 123,
    "start_time": "2024-02-27T06:38:56.658Z"
   },
   {
    "duration": 126,
    "start_time": "2024-02-27T06:43:52.931Z"
   },
   {
    "duration": 149,
    "start_time": "2024-02-27T06:44:35.315Z"
   },
   {
    "duration": 245,
    "start_time": "2024-02-27T06:44:58.731Z"
   },
   {
    "duration": 141,
    "start_time": "2024-02-27T06:45:13.972Z"
   },
   {
    "duration": 150,
    "start_time": "2024-02-27T06:46:19.683Z"
   },
   {
    "duration": 153,
    "start_time": "2024-02-27T06:48:06.859Z"
   },
   {
    "duration": 131,
    "start_time": "2024-02-27T06:48:22.819Z"
   },
   {
    "duration": 129,
    "start_time": "2024-02-27T06:48:33.139Z"
   },
   {
    "duration": 144,
    "start_time": "2024-02-27T06:49:18.899Z"
   },
   {
    "duration": 126,
    "start_time": "2024-02-27T06:49:28.707Z"
   },
   {
    "duration": 232,
    "start_time": "2024-02-27T06:50:19.852Z"
   },
   {
    "duration": 110,
    "start_time": "2024-02-27T06:53:20.139Z"
   },
   {
    "duration": 199,
    "start_time": "2024-02-27T06:53:57.733Z"
   },
   {
    "duration": 254,
    "start_time": "2024-02-27T06:56:16.021Z"
   },
   {
    "duration": 1078,
    "start_time": "2024-02-27T06:57:43.077Z"
   },
   {
    "duration": 69,
    "start_time": "2024-02-27T06:57:44.157Z"
   },
   {
    "duration": 12,
    "start_time": "2024-02-27T06:57:44.227Z"
   },
   {
    "duration": 15,
    "start_time": "2024-02-27T06:57:44.240Z"
   },
   {
    "duration": 21,
    "start_time": "2024-02-27T06:57:44.257Z"
   },
   {
    "duration": 10,
    "start_time": "2024-02-27T06:57:44.280Z"
   },
   {
    "duration": 6,
    "start_time": "2024-02-27T06:57:44.291Z"
   },
   {
    "duration": 25,
    "start_time": "2024-02-27T06:57:44.299Z"
   },
   {
    "duration": 7,
    "start_time": "2024-02-27T06:57:44.326Z"
   },
   {
    "duration": 11,
    "start_time": "2024-02-27T06:57:44.335Z"
   },
   {
    "duration": 5,
    "start_time": "2024-02-27T06:57:44.348Z"
   },
   {
    "duration": 10,
    "start_time": "2024-02-27T06:57:44.354Z"
   },
   {
    "duration": 6,
    "start_time": "2024-02-27T06:57:44.365Z"
   },
   {
    "duration": 6,
    "start_time": "2024-02-27T06:57:44.374Z"
   },
   {
    "duration": 5,
    "start_time": "2024-02-27T06:57:44.381Z"
   },
   {
    "duration": 35,
    "start_time": "2024-02-27T06:57:44.388Z"
   },
   {
    "duration": 5,
    "start_time": "2024-02-27T06:57:44.425Z"
   },
   {
    "duration": 5,
    "start_time": "2024-02-27T06:57:44.431Z"
   },
   {
    "duration": 6,
    "start_time": "2024-02-27T06:57:44.437Z"
   },
   {
    "duration": 165,
    "start_time": "2024-02-27T06:57:44.444Z"
   },
   {
    "duration": 133,
    "start_time": "2024-02-27T06:57:44.611Z"
   },
   {
    "duration": 5,
    "start_time": "2024-02-27T06:57:44.745Z"
   },
   {
    "duration": 13,
    "start_time": "2024-02-27T06:57:44.752Z"
   },
   {
    "duration": 275,
    "start_time": "2024-02-27T06:57:44.767Z"
   },
   {
    "duration": 1081,
    "start_time": "2024-02-27T07:02:05.886Z"
   },
   {
    "duration": 69,
    "start_time": "2024-02-27T07:02:06.969Z"
   },
   {
    "duration": 11,
    "start_time": "2024-02-27T07:02:07.039Z"
   },
   {
    "duration": 10,
    "start_time": "2024-02-27T07:02:07.052Z"
   },
   {
    "duration": 12,
    "start_time": "2024-02-27T07:02:07.064Z"
   },
   {
    "duration": 13,
    "start_time": "2024-02-27T07:02:07.077Z"
   },
   {
    "duration": 15,
    "start_time": "2024-02-27T07:02:07.091Z"
   },
   {
    "duration": 23,
    "start_time": "2024-02-27T07:02:07.107Z"
   },
   {
    "duration": 11,
    "start_time": "2024-02-27T07:02:07.132Z"
   },
   {
    "duration": 10,
    "start_time": "2024-02-27T07:02:07.145Z"
   },
   {
    "duration": 12,
    "start_time": "2024-02-27T07:02:07.157Z"
   },
   {
    "duration": 6,
    "start_time": "2024-02-27T07:02:07.170Z"
   },
   {
    "duration": 5,
    "start_time": "2024-02-27T07:02:07.177Z"
   },
   {
    "duration": 37,
    "start_time": "2024-02-27T07:02:07.184Z"
   },
   {
    "duration": 5,
    "start_time": "2024-02-27T07:02:07.222Z"
   },
   {
    "duration": 10,
    "start_time": "2024-02-27T07:02:07.229Z"
   },
   {
    "duration": 4,
    "start_time": "2024-02-27T07:02:07.241Z"
   },
   {
    "duration": 22,
    "start_time": "2024-02-27T07:02:07.247Z"
   },
   {
    "duration": 5,
    "start_time": "2024-02-27T07:02:07.271Z"
   },
   {
    "duration": 185,
    "start_time": "2024-02-27T07:02:07.277Z"
   },
   {
    "duration": 123,
    "start_time": "2024-02-27T07:02:07.464Z"
   },
   {
    "duration": 5,
    "start_time": "2024-02-27T07:02:07.589Z"
   },
   {
    "duration": 23,
    "start_time": "2024-02-27T07:02:07.595Z"
   },
   {
    "duration": 249,
    "start_time": "2024-02-27T07:02:07.620Z"
   },
   {
    "duration": 5,
    "start_time": "2024-02-27T07:02:07.870Z"
   },
   {
    "duration": 783,
    "start_time": "2024-02-27T07:04:07.334Z"
   },
   {
    "duration": 725,
    "start_time": "2024-02-27T07:05:07.839Z"
   },
   {
    "duration": 852,
    "start_time": "2024-02-27T07:05:19.626Z"
   },
   {
    "duration": 1039,
    "start_time": "2024-02-27T07:09:08.774Z"
   },
   {
    "duration": 69,
    "start_time": "2024-02-27T07:09:09.815Z"
   },
   {
    "duration": 13,
    "start_time": "2024-02-27T07:09:09.885Z"
   },
   {
    "duration": 11,
    "start_time": "2024-02-27T07:09:09.900Z"
   },
   {
    "duration": 9,
    "start_time": "2024-02-27T07:09:09.912Z"
   },
   {
    "duration": 12,
    "start_time": "2024-02-27T07:09:09.922Z"
   },
   {
    "duration": 7,
    "start_time": "2024-02-27T07:09:09.935Z"
   },
   {
    "duration": 14,
    "start_time": "2024-02-27T07:09:09.944Z"
   },
   {
    "duration": 8,
    "start_time": "2024-02-27T07:09:09.960Z"
   },
   {
    "duration": 13,
    "start_time": "2024-02-27T07:09:09.970Z"
   },
   {
    "duration": 8,
    "start_time": "2024-02-27T07:09:09.985Z"
   },
   {
    "duration": 26,
    "start_time": "2024-02-27T07:09:10.017Z"
   },
   {
    "duration": 15,
    "start_time": "2024-02-27T07:09:10.045Z"
   },
   {
    "duration": 19,
    "start_time": "2024-02-27T07:09:10.061Z"
   },
   {
    "duration": 7,
    "start_time": "2024-02-27T07:09:10.082Z"
   },
   {
    "duration": 18,
    "start_time": "2024-02-27T07:09:10.090Z"
   },
   {
    "duration": 5,
    "start_time": "2024-02-27T07:09:10.110Z"
   },
   {
    "duration": 5,
    "start_time": "2024-02-27T07:09:10.116Z"
   },
   {
    "duration": 7,
    "start_time": "2024-02-27T07:09:10.123Z"
   },
   {
    "duration": 162,
    "start_time": "2024-02-27T07:09:10.132Z"
   },
   {
    "duration": 124,
    "start_time": "2024-02-27T07:09:10.296Z"
   },
   {
    "duration": 6,
    "start_time": "2024-02-27T07:09:10.422Z"
   },
   {
    "duration": 5,
    "start_time": "2024-02-27T07:09:10.429Z"
   },
   {
    "duration": 251,
    "start_time": "2024-02-27T07:09:10.435Z"
   },
   {
    "duration": 802,
    "start_time": "2024-02-27T07:09:10.688Z"
   },
   {
    "duration": 8,
    "start_time": "2024-02-27T07:09:11.492Z"
   },
   {
    "duration": 188,
    "start_time": "2024-02-27T07:11:09.809Z"
   },
   {
    "duration": 175,
    "start_time": "2024-02-27T07:11:24.725Z"
   },
   {
    "duration": 209,
    "start_time": "2024-02-27T07:11:35.082Z"
   },
   {
    "duration": 5,
    "start_time": "2024-02-27T07:14:58.630Z"
   },
   {
    "duration": 7,
    "start_time": "2024-02-27T07:15:17.394Z"
   },
   {
    "duration": 1332,
    "start_time": "2024-02-27T08:32:07.006Z"
   },
   {
    "duration": 4,
    "start_time": "2024-02-27T08:37:20.021Z"
   },
   {
    "duration": 11,
    "start_time": "2024-02-27T08:43:53.827Z"
   },
   {
    "duration": 16,
    "start_time": "2024-02-27T08:44:12.951Z"
   },
   {
    "duration": 10,
    "start_time": "2024-02-27T08:45:28.824Z"
   },
   {
    "duration": 120,
    "start_time": "2024-02-27T08:46:34.536Z"
   },
   {
    "duration": 151,
    "start_time": "2024-02-27T08:49:27.027Z"
   },
   {
    "duration": 130,
    "start_time": "2024-02-27T08:49:43.031Z"
   },
   {
    "duration": 242,
    "start_time": "2024-02-27T08:50:09.991Z"
   },
   {
    "duration": 235,
    "start_time": "2024-02-27T08:50:30.328Z"
   },
   {
    "duration": 1423,
    "start_time": "2024-02-27T08:51:05.281Z"
   },
   {
    "duration": 1407,
    "start_time": "2024-02-27T08:55:24.057Z"
   },
   {
    "duration": 1430,
    "start_time": "2024-02-27T08:55:54.075Z"
   },
   {
    "duration": 136,
    "start_time": "2024-02-27T08:56:58.801Z"
   },
   {
    "duration": 10,
    "start_time": "2024-02-27T08:59:48.515Z"
   },
   {
    "duration": 10,
    "start_time": "2024-02-27T08:59:53.619Z"
   },
   {
    "duration": 155,
    "start_time": "2024-02-27T08:59:55.667Z"
   },
   {
    "duration": 238,
    "start_time": "2024-02-27T09:01:12.995Z"
   },
   {
    "duration": 23,
    "start_time": "2024-02-27T09:06:19.627Z"
   },
   {
    "duration": 11,
    "start_time": "2024-02-27T09:06:35.956Z"
   },
   {
    "duration": 117,
    "start_time": "2024-02-27T09:07:39.863Z"
   },
   {
    "duration": 49,
    "start_time": "2024-02-28T03:32:43.389Z"
   },
   {
    "duration": 1351,
    "start_time": "2024-02-28T03:32:56.545Z"
   },
   {
    "duration": 289,
    "start_time": "2024-02-28T03:33:00.353Z"
   },
   {
    "duration": 12,
    "start_time": "2024-02-28T03:33:01.841Z"
   },
   {
    "duration": 11,
    "start_time": "2024-02-28T03:33:02.921Z"
   },
   {
    "duration": 9,
    "start_time": "2024-02-28T03:33:08.937Z"
   },
   {
    "duration": 10,
    "start_time": "2024-02-28T03:33:12.673Z"
   },
   {
    "duration": 7,
    "start_time": "2024-02-28T03:33:14.049Z"
   },
   {
    "duration": 10,
    "start_time": "2024-02-28T03:33:14.776Z"
   },
   {
    "duration": 8,
    "start_time": "2024-02-28T03:33:18.840Z"
   },
   {
    "duration": 11,
    "start_time": "2024-02-28T03:33:19.336Z"
   },
   {
    "duration": 5,
    "start_time": "2024-02-28T03:33:20.019Z"
   },
   {
    "duration": 5,
    "start_time": "2024-02-28T03:33:20.577Z"
   },
   {
    "duration": 5,
    "start_time": "2024-02-28T03:33:21.185Z"
   },
   {
    "duration": 6,
    "start_time": "2024-02-28T03:33:21.800Z"
   },
   {
    "duration": 5,
    "start_time": "2024-02-28T03:33:22.312Z"
   },
   {
    "duration": 9,
    "start_time": "2024-02-28T03:33:22.783Z"
   },
   {
    "duration": 5,
    "start_time": "2024-02-28T03:33:23.296Z"
   },
   {
    "duration": 4,
    "start_time": "2024-02-28T03:33:23.827Z"
   },
   {
    "duration": 5,
    "start_time": "2024-02-28T03:33:28.017Z"
   },
   {
    "duration": 151,
    "start_time": "2024-02-28T03:33:28.696Z"
   },
   {
    "duration": 116,
    "start_time": "2024-02-28T03:33:32.738Z"
   },
   {
    "duration": 5,
    "start_time": "2024-02-28T03:33:33.890Z"
   },
   {
    "duration": 6,
    "start_time": "2024-02-28T03:33:34.776Z"
   },
   {
    "duration": 57,
    "start_time": "2024-02-28T03:33:37.881Z"
   },
   {
    "duration": 237,
    "start_time": "2024-02-28T03:34:12.113Z"
   },
   {
    "duration": 236,
    "start_time": "2024-02-28T03:34:22.889Z"
   },
   {
    "duration": 257,
    "start_time": "2024-02-28T03:34:32.442Z"
   },
   {
    "duration": 237,
    "start_time": "2024-02-28T03:37:58.115Z"
   },
   {
    "duration": 1352,
    "start_time": "2024-02-28T03:38:25.138Z"
   },
   {
    "duration": 11,
    "start_time": "2024-02-28T03:38:31.874Z"
   },
   {
    "duration": 130,
    "start_time": "2024-02-28T03:38:42.699Z"
   },
   {
    "duration": 127,
    "start_time": "2024-02-28T03:39:01.123Z"
   },
   {
    "duration": 8,
    "start_time": "2024-02-28T03:39:07.058Z"
   },
   {
    "duration": 225,
    "start_time": "2024-02-28T03:39:16.555Z"
   },
   {
    "duration": 10,
    "start_time": "2024-02-28T03:39:19.339Z"
   },
   {
    "duration": 127,
    "start_time": "2024-02-28T03:39:29.482Z"
   },
   {
    "duration": 21,
    "start_time": "2024-02-28T03:58:41.273Z"
   },
   {
    "duration": 23,
    "start_time": "2024-02-28T04:01:30.394Z"
   },
   {
    "duration": 11,
    "start_time": "2024-02-28T04:04:40.379Z"
   },
   {
    "duration": 21,
    "start_time": "2024-02-28T04:04:52.987Z"
   },
   {
    "duration": 21,
    "start_time": "2024-02-28T04:05:04.197Z"
   },
   {
    "duration": 19,
    "start_time": "2024-02-28T04:05:22.132Z"
   },
   {
    "duration": 20,
    "start_time": "2024-02-28T04:07:20.332Z"
   },
   {
    "duration": 19,
    "start_time": "2024-02-28T04:11:53.933Z"
   },
   {
    "duration": 15,
    "start_time": "2024-02-28T04:15:45.685Z"
   },
   {
    "duration": 11,
    "start_time": "2024-02-28T04:18:11.595Z"
   },
   {
    "duration": 30,
    "start_time": "2024-02-28T04:18:25.527Z"
   },
   {
    "duration": 19,
    "start_time": "2024-02-28T04:18:49.640Z"
   },
   {
    "duration": 18,
    "start_time": "2024-02-28T04:19:57.326Z"
   },
   {
    "duration": 19,
    "start_time": "2024-02-28T04:20:23.199Z"
   },
   {
    "duration": 16,
    "start_time": "2024-02-28T04:20:38.918Z"
   },
   {
    "duration": 15,
    "start_time": "2024-02-28T04:20:43.510Z"
   },
   {
    "duration": 14,
    "start_time": "2024-02-28T04:20:48.078Z"
   },
   {
    "duration": 16,
    "start_time": "2024-02-28T04:21:20.070Z"
   },
   {
    "duration": 1441,
    "start_time": "2024-02-28T04:22:58.536Z"
   },
   {
    "duration": 3,
    "start_time": "2024-02-28T04:23:29.046Z"
   },
   {
    "duration": 1634,
    "start_time": "2024-02-28T04:24:37.152Z"
   },
   {
    "duration": 14,
    "start_time": "2024-02-28T04:24:58.415Z"
   },
   {
    "duration": 1087,
    "start_time": "2024-02-28T04:25:24.378Z"
   },
   {
    "duration": 67,
    "start_time": "2024-02-28T04:25:25.467Z"
   },
   {
    "duration": 11,
    "start_time": "2024-02-28T04:25:25.535Z"
   },
   {
    "duration": 49,
    "start_time": "2024-02-28T04:25:25.547Z"
   },
   {
    "duration": 45,
    "start_time": "2024-02-28T04:25:25.599Z"
   },
   {
    "duration": 26,
    "start_time": "2024-02-28T04:25:25.646Z"
   },
   {
    "duration": 20,
    "start_time": "2024-02-28T04:25:25.673Z"
   },
   {
    "duration": 27,
    "start_time": "2024-02-28T04:25:25.695Z"
   },
   {
    "duration": 49,
    "start_time": "2024-02-28T04:25:25.723Z"
   },
   {
    "duration": 59,
    "start_time": "2024-02-28T04:25:25.773Z"
   },
   {
    "duration": 68,
    "start_time": "2024-02-28T04:25:25.834Z"
   },
   {
    "duration": 39,
    "start_time": "2024-02-28T04:25:25.903Z"
   },
   {
    "duration": 57,
    "start_time": "2024-02-28T04:25:25.944Z"
   },
   {
    "duration": 37,
    "start_time": "2024-02-28T04:25:26.003Z"
   },
   {
    "duration": 12,
    "start_time": "2024-02-28T04:25:26.041Z"
   },
   {
    "duration": 24,
    "start_time": "2024-02-28T04:25:26.055Z"
   },
   {
    "duration": 23,
    "start_time": "2024-02-28T04:25:26.081Z"
   },
   {
    "duration": 24,
    "start_time": "2024-02-28T04:25:26.105Z"
   },
   {
    "duration": 27,
    "start_time": "2024-02-28T04:25:26.130Z"
   },
   {
    "duration": 153,
    "start_time": "2024-02-28T04:25:26.158Z"
   },
   {
    "duration": 132,
    "start_time": "2024-02-28T04:25:26.312Z"
   },
   {
    "duration": 4,
    "start_time": "2024-02-28T04:25:26.445Z"
   },
   {
    "duration": 29,
    "start_time": "2024-02-28T04:25:26.451Z"
   },
   {
    "duration": 260,
    "start_time": "2024-02-28T04:25:26.482Z"
   },
   {
    "duration": 1321,
    "start_time": "2024-02-28T04:25:26.744Z"
   },
   {
    "duration": 9,
    "start_time": "2024-02-28T04:25:28.067Z"
   },
   {
    "duration": 191,
    "start_time": "2024-02-28T04:25:28.078Z"
   },
   {
    "duration": 7,
    "start_time": "2024-02-28T04:25:28.271Z"
   },
   {
    "duration": 248,
    "start_time": "2024-02-28T04:25:28.279Z"
   },
   {
    "duration": 9,
    "start_time": "2024-02-28T04:25:28.529Z"
   },
   {
    "duration": 161,
    "start_time": "2024-02-28T04:25:28.540Z"
   },
   {
    "duration": 11,
    "start_time": "2024-02-28T04:25:28.702Z"
   },
   {
    "duration": 31,
    "start_time": "2024-02-28T04:25:28.714Z"
   },
   {
    "duration": 2,
    "start_time": "2024-02-28T04:25:28.746Z"
   },
   {
    "duration": 134,
    "start_time": "2024-02-28T04:25:28.750Z"
   },
   {
    "duration": 1370,
    "start_time": "2024-02-28T04:25:28.885Z"
   },
   {
    "duration": 156,
    "start_time": "2024-02-28T04:25:30.256Z"
   },
   {
    "duration": 16,
    "start_time": "2024-02-28T04:25:30.414Z"
   },
   {
    "duration": 7,
    "start_time": "2024-02-28T04:26:20.624Z"
   },
   {
    "duration": 9,
    "start_time": "2024-02-28T04:28:37.699Z"
   },
   {
    "duration": 8,
    "start_time": "2024-02-28T04:30:59.961Z"
   },
   {
    "duration": 10,
    "start_time": "2024-02-28T04:32:19.801Z"
   },
   {
    "duration": 5,
    "start_time": "2024-02-28T04:32:41.747Z"
   },
   {
    "duration": 5,
    "start_time": "2024-02-28T04:32:51.457Z"
   },
   {
    "duration": 6,
    "start_time": "2024-02-28T04:32:56.900Z"
   },
   {
    "duration": 1057,
    "start_time": "2024-02-28T04:33:07.705Z"
   },
   {
    "duration": 68,
    "start_time": "2024-02-28T04:33:08.763Z"
   },
   {
    "duration": 13,
    "start_time": "2024-02-28T04:33:08.833Z"
   },
   {
    "duration": 33,
    "start_time": "2024-02-28T04:33:08.848Z"
   },
   {
    "duration": 59,
    "start_time": "2024-02-28T04:33:08.883Z"
   },
   {
    "duration": 46,
    "start_time": "2024-02-28T04:33:08.943Z"
   },
   {
    "duration": 41,
    "start_time": "2024-02-28T04:33:08.997Z"
   },
   {
    "duration": 20,
    "start_time": "2024-02-28T04:33:09.040Z"
   },
   {
    "duration": 17,
    "start_time": "2024-02-28T04:33:09.061Z"
   },
   {
    "duration": 14,
    "start_time": "2024-02-28T04:33:09.081Z"
   },
   {
    "duration": 8,
    "start_time": "2024-02-28T04:33:09.097Z"
   },
   {
    "duration": 15,
    "start_time": "2024-02-28T04:33:09.106Z"
   },
   {
    "duration": 24,
    "start_time": "2024-02-28T04:33:09.122Z"
   },
   {
    "duration": 8,
    "start_time": "2024-02-28T04:33:09.147Z"
   },
   {
    "duration": 30,
    "start_time": "2024-02-28T04:33:09.157Z"
   },
   {
    "duration": 28,
    "start_time": "2024-02-28T04:33:09.188Z"
   },
   {
    "duration": 5,
    "start_time": "2024-02-28T04:33:09.217Z"
   },
   {
    "duration": 14,
    "start_time": "2024-02-28T04:33:09.224Z"
   },
   {
    "duration": 16,
    "start_time": "2024-02-28T04:33:09.240Z"
   },
   {
    "duration": 162,
    "start_time": "2024-02-28T04:33:09.258Z"
   },
   {
    "duration": 131,
    "start_time": "2024-02-28T04:33:09.421Z"
   },
   {
    "duration": 4,
    "start_time": "2024-02-28T04:33:09.554Z"
   },
   {
    "duration": 29,
    "start_time": "2024-02-28T04:33:09.559Z"
   },
   {
    "duration": 242,
    "start_time": "2024-02-28T04:33:09.589Z"
   },
   {
    "duration": 5,
    "start_time": "2024-02-28T04:33:09.833Z"
   },
   {
    "duration": 20,
    "start_time": "2024-02-28T04:33:09.839Z"
   },
   {
    "duration": 26,
    "start_time": "2024-02-28T04:33:09.860Z"
   },
   {
    "duration": 1369,
    "start_time": "2024-02-28T04:33:09.889Z"
   },
   {
    "duration": 10,
    "start_time": "2024-02-28T04:33:11.260Z"
   },
   {
    "duration": 183,
    "start_time": "2024-02-28T04:33:11.271Z"
   },
   {
    "duration": 10,
    "start_time": "2024-02-28T04:33:11.456Z"
   },
   {
    "duration": 246,
    "start_time": "2024-02-28T04:33:11.468Z"
   },
   {
    "duration": 10,
    "start_time": "2024-02-28T04:33:11.716Z"
   },
   {
    "duration": 152,
    "start_time": "2024-02-28T04:33:11.727Z"
   },
   {
    "duration": 20,
    "start_time": "2024-02-28T04:33:11.880Z"
   },
   {
    "duration": 18,
    "start_time": "2024-02-28T04:33:11.902Z"
   },
   {
    "duration": 26,
    "start_time": "2024-02-28T04:33:11.922Z"
   },
   {
    "duration": 23,
    "start_time": "2024-02-28T04:33:11.949Z"
   },
   {
    "duration": 1495,
    "start_time": "2024-02-28T04:33:11.973Z"
   },
   {
    "duration": 151,
    "start_time": "2024-02-28T04:33:13.469Z"
   },
   {
    "duration": 7,
    "start_time": "2024-02-28T04:33:13.621Z"
   },
   {
    "duration": 18,
    "start_time": "2024-02-28T04:33:13.630Z"
   },
   {
    "duration": 65,
    "start_time": "2024-02-28T04:33:44.483Z"
   },
   {
    "duration": 9,
    "start_time": "2024-02-28T04:33:46.362Z"
   },
   {
    "duration": 10,
    "start_time": "2024-02-28T04:33:46.761Z"
   },
   {
    "duration": 9,
    "start_time": "2024-02-28T04:33:53.289Z"
   },
   {
    "duration": 11,
    "start_time": "2024-02-28T04:33:54.441Z"
   },
   {
    "duration": 7,
    "start_time": "2024-02-28T04:33:57.057Z"
   },
   {
    "duration": 10,
    "start_time": "2024-02-28T04:34:01.066Z"
   },
   {
    "duration": 8,
    "start_time": "2024-02-28T04:34:02.821Z"
   },
   {
    "duration": 10,
    "start_time": "2024-02-28T04:34:03.298Z"
   },
   {
    "duration": 5,
    "start_time": "2024-02-28T04:34:03.751Z"
   },
   {
    "duration": 6,
    "start_time": "2024-02-28T04:34:04.331Z"
   },
   {
    "duration": 6,
    "start_time": "2024-02-28T04:34:07.777Z"
   },
   {
    "duration": 6,
    "start_time": "2024-02-28T04:34:08.348Z"
   },
   {
    "duration": 5,
    "start_time": "2024-02-28T04:34:08.786Z"
   },
   {
    "duration": 8,
    "start_time": "2024-02-28T04:34:09.170Z"
   },
   {
    "duration": 5,
    "start_time": "2024-02-28T04:34:09.500Z"
   },
   {
    "duration": 4,
    "start_time": "2024-02-28T04:34:09.882Z"
   },
   {
    "duration": 5,
    "start_time": "2024-02-28T04:34:12.410Z"
   },
   {
    "duration": 149,
    "start_time": "2024-02-28T04:34:15.090Z"
   },
   {
    "duration": 120,
    "start_time": "2024-02-28T04:34:16.031Z"
   },
   {
    "duration": 5,
    "start_time": "2024-02-28T04:34:16.634Z"
   },
   {
    "duration": 7,
    "start_time": "2024-02-28T04:34:18.627Z"
   },
   {
    "duration": 245,
    "start_time": "2024-02-28T04:34:27.362Z"
   },
   {
    "duration": 236,
    "start_time": "2024-02-28T04:34:51.884Z"
   },
   {
    "duration": 5,
    "start_time": "2024-02-28T04:34:53.320Z"
   },
   {
    "duration": 8,
    "start_time": "2024-02-28T04:34:59.937Z"
   },
   {
    "duration": 7,
    "start_time": "2024-02-28T04:35:40.898Z"
   },
   {
    "duration": 2,
    "start_time": "2024-02-28T04:36:25.955Z"
   },
   {
    "duration": 3,
    "start_time": "2024-02-28T04:36:55.892Z"
   },
   {
    "duration": 63,
    "start_time": "2024-02-28T04:36:57.285Z"
   },
   {
    "duration": 9,
    "start_time": "2024-02-28T04:36:58.138Z"
   },
   {
    "duration": 11,
    "start_time": "2024-02-28T04:36:58.378Z"
   },
   {
    "duration": 10,
    "start_time": "2024-02-28T04:36:58.786Z"
   },
   {
    "duration": 12,
    "start_time": "2024-02-28T04:36:59.010Z"
   },
   {
    "duration": 7,
    "start_time": "2024-02-28T04:36:59.736Z"
   },
   {
    "duration": 10,
    "start_time": "2024-02-28T04:36:59.938Z"
   },
   {
    "duration": 8,
    "start_time": "2024-02-28T04:37:00.858Z"
   },
   {
    "duration": 11,
    "start_time": "2024-02-28T04:37:02.530Z"
   },
   {
    "duration": 5,
    "start_time": "2024-02-28T04:37:03.363Z"
   },
   {
    "duration": 6,
    "start_time": "2024-02-28T04:37:03.715Z"
   },
   {
    "duration": 6,
    "start_time": "2024-02-28T04:37:03.963Z"
   },
   {
    "duration": 6,
    "start_time": "2024-02-28T04:37:04.233Z"
   },
   {
    "duration": 5,
    "start_time": "2024-02-28T04:37:04.514Z"
   },
   {
    "duration": 9,
    "start_time": "2024-02-28T04:37:04.794Z"
   },
   {
    "duration": 6,
    "start_time": "2024-02-28T04:37:05.010Z"
   },
   {
    "duration": 5,
    "start_time": "2024-02-28T04:37:05.316Z"
   },
   {
    "duration": 7,
    "start_time": "2024-02-28T04:37:06.571Z"
   },
   {
    "duration": 153,
    "start_time": "2024-02-28T04:37:06.947Z"
   },
   {
    "duration": 127,
    "start_time": "2024-02-28T04:37:07.875Z"
   },
   {
    "duration": 5,
    "start_time": "2024-02-28T04:37:08.747Z"
   },
   {
    "duration": 6,
    "start_time": "2024-02-28T04:37:10.381Z"
   },
   {
    "duration": 256,
    "start_time": "2024-02-28T04:37:15.700Z"
   },
   {
    "duration": 5,
    "start_time": "2024-02-28T04:37:20.548Z"
   },
   {
    "duration": 6,
    "start_time": "2024-02-28T04:37:43.458Z"
   },
   {
    "duration": 8,
    "start_time": "2024-02-28T04:38:42.706Z"
   },
   {
    "duration": 4,
    "start_time": "2024-02-28T04:38:53.579Z"
   },
   {
    "duration": 14,
    "start_time": "2024-02-28T04:39:07.258Z"
   },
   {
    "duration": 4,
    "start_time": "2024-02-28T04:39:47.895Z"
   },
   {
    "duration": 93,
    "start_time": "2024-02-28T04:39:47.901Z"
   },
   {
    "duration": 8,
    "start_time": "2024-02-28T04:39:47.995Z"
   },
   {
    "duration": 38,
    "start_time": "2024-02-28T04:39:48.005Z"
   },
   {
    "duration": 33,
    "start_time": "2024-02-28T04:39:48.045Z"
   },
   {
    "duration": 44,
    "start_time": "2024-02-28T04:39:48.080Z"
   },
   {
    "duration": 32,
    "start_time": "2024-02-28T04:39:48.125Z"
   },
   {
    "duration": 18,
    "start_time": "2024-02-28T04:39:48.158Z"
   },
   {
    "duration": 26,
    "start_time": "2024-02-28T04:39:48.177Z"
   },
   {
    "duration": 20,
    "start_time": "2024-02-28T04:39:48.205Z"
   },
   {
    "duration": 13,
    "start_time": "2024-02-28T04:39:48.226Z"
   },
   {
    "duration": 39,
    "start_time": "2024-02-28T04:39:48.241Z"
   },
   {
    "duration": 18,
    "start_time": "2024-02-28T04:39:48.281Z"
   },
   {
    "duration": 20,
    "start_time": "2024-02-28T04:39:48.302Z"
   },
   {
    "duration": 28,
    "start_time": "2024-02-28T04:39:48.324Z"
   },
   {
    "duration": 17,
    "start_time": "2024-02-28T04:39:48.353Z"
   },
   {
    "duration": 41,
    "start_time": "2024-02-28T04:39:48.371Z"
   },
   {
    "duration": 29,
    "start_time": "2024-02-28T04:39:48.414Z"
   },
   {
    "duration": 31,
    "start_time": "2024-02-28T04:39:48.444Z"
   },
   {
    "duration": 145,
    "start_time": "2024-02-28T04:39:48.476Z"
   },
   {
    "duration": 120,
    "start_time": "2024-02-28T04:39:48.622Z"
   },
   {
    "duration": 4,
    "start_time": "2024-02-28T04:39:48.744Z"
   },
   {
    "duration": 18,
    "start_time": "2024-02-28T04:39:48.749Z"
   },
   {
    "duration": 271,
    "start_time": "2024-02-28T04:39:48.768Z"
   },
   {
    "duration": 5,
    "start_time": "2024-02-28T04:39:49.040Z"
   },
   {
    "duration": 9,
    "start_time": "2024-02-28T04:39:56.635Z"
   },
   {
    "duration": 5,
    "start_time": "2024-02-28T04:40:54.189Z"
   },
   {
    "duration": 2,
    "start_time": "2024-02-28T04:40:58.041Z"
   },
   {
    "duration": 79,
    "start_time": "2024-02-28T04:40:58.045Z"
   },
   {
    "duration": 8,
    "start_time": "2024-02-28T04:40:58.125Z"
   },
   {
    "duration": 27,
    "start_time": "2024-02-28T04:40:58.135Z"
   },
   {
    "duration": 45,
    "start_time": "2024-02-28T04:40:58.165Z"
   },
   {
    "duration": 27,
    "start_time": "2024-02-28T04:40:58.212Z"
   },
   {
    "duration": 26,
    "start_time": "2024-02-28T04:40:58.240Z"
   },
   {
    "duration": 53,
    "start_time": "2024-02-28T04:40:58.268Z"
   },
   {
    "duration": 27,
    "start_time": "2024-02-28T04:40:58.323Z"
   },
   {
    "duration": 36,
    "start_time": "2024-02-28T04:40:58.351Z"
   },
   {
    "duration": 184,
    "start_time": "2024-02-28T04:40:58.388Z"
   },
   {
    "duration": 57,
    "start_time": "2024-02-28T04:40:58.574Z"
   },
   {
    "duration": 41,
    "start_time": "2024-02-28T04:40:58.633Z"
   },
   {
    "duration": 20,
    "start_time": "2024-02-28T04:40:58.677Z"
   },
   {
    "duration": 29,
    "start_time": "2024-02-28T04:40:58.698Z"
   },
   {
    "duration": 14,
    "start_time": "2024-02-28T04:40:58.728Z"
   },
   {
    "duration": 5,
    "start_time": "2024-02-28T04:40:58.744Z"
   },
   {
    "duration": 46,
    "start_time": "2024-02-28T04:40:58.751Z"
   },
   {
    "duration": 15,
    "start_time": "2024-02-28T04:40:58.798Z"
   },
   {
    "duration": 156,
    "start_time": "2024-02-28T04:40:58.815Z"
   },
   {
    "duration": 142,
    "start_time": "2024-02-28T04:40:58.973Z"
   },
   {
    "duration": 5,
    "start_time": "2024-02-28T04:40:59.116Z"
   },
   {
    "duration": 18,
    "start_time": "2024-02-28T04:40:59.122Z"
   },
   {
    "duration": 255,
    "start_time": "2024-02-28T04:40:59.141Z"
   },
   {
    "duration": 5,
    "start_time": "2024-02-28T04:40:59.398Z"
   },
   {
    "duration": 7,
    "start_time": "2024-02-28T04:42:48.397Z"
   },
   {
    "duration": 8,
    "start_time": "2024-02-28T04:43:07.396Z"
   },
   {
    "duration": 9,
    "start_time": "2024-02-28T04:43:14.124Z"
   },
   {
    "duration": 8,
    "start_time": "2024-02-28T04:43:21.740Z"
   },
   {
    "duration": 7,
    "start_time": "2024-02-28T04:43:30.412Z"
   },
   {
    "duration": 6,
    "start_time": "2024-02-28T04:43:38.332Z"
   },
   {
    "duration": 6,
    "start_time": "2024-02-28T04:43:42.927Z"
   },
   {
    "duration": 9,
    "start_time": "2024-02-28T04:43:48.053Z"
   },
   {
    "duration": 9,
    "start_time": "2024-02-28T04:43:54.694Z"
   },
   {
    "duration": 7,
    "start_time": "2024-02-28T04:44:02.720Z"
   },
   {
    "duration": 5,
    "start_time": "2024-02-28T04:44:50.293Z"
   },
   {
    "duration": 15,
    "start_time": "2024-02-28T04:45:02.252Z"
   },
   {
    "duration": 14,
    "start_time": "2024-02-28T04:45:27.829Z"
   },
   {
    "duration": 5,
    "start_time": "2024-02-28T04:45:50.946Z"
   },
   {
    "duration": 14,
    "start_time": "2024-02-28T04:46:50.047Z"
   },
   {
    "duration": 5,
    "start_time": "2024-02-28T04:48:14.670Z"
   },
   {
    "duration": 3,
    "start_time": "2024-02-28T04:48:39.650Z"
   },
   {
    "duration": 107,
    "start_time": "2024-02-28T04:48:39.654Z"
   },
   {
    "duration": 8,
    "start_time": "2024-02-28T04:48:39.762Z"
   },
   {
    "duration": 20,
    "start_time": "2024-02-28T04:48:39.772Z"
   },
   {
    "duration": 12,
    "start_time": "2024-02-28T04:48:39.794Z"
   },
   {
    "duration": 24,
    "start_time": "2024-02-28T04:48:39.807Z"
   },
   {
    "duration": 6,
    "start_time": "2024-02-28T04:48:39.833Z"
   },
   {
    "duration": 20,
    "start_time": "2024-02-28T04:48:39.840Z"
   },
   {
    "duration": 23,
    "start_time": "2024-02-28T04:48:39.862Z"
   },
   {
    "duration": 20,
    "start_time": "2024-02-28T04:48:39.887Z"
   },
   {
    "duration": 26,
    "start_time": "2024-02-28T04:48:39.908Z"
   },
   {
    "duration": 14,
    "start_time": "2024-02-28T04:48:39.935Z"
   },
   {
    "duration": 5,
    "start_time": "2024-02-28T04:48:39.952Z"
   },
   {
    "duration": 11,
    "start_time": "2024-02-28T04:48:39.958Z"
   },
   {
    "duration": 19,
    "start_time": "2024-02-28T04:48:39.970Z"
   },
   {
    "duration": 19,
    "start_time": "2024-02-28T04:48:39.990Z"
   },
   {
    "duration": 20,
    "start_time": "2024-02-28T04:48:40.011Z"
   },
   {
    "duration": 14,
    "start_time": "2024-02-28T04:48:40.032Z"
   },
   {
    "duration": 38,
    "start_time": "2024-02-28T04:48:40.047Z"
   },
   {
    "duration": 161,
    "start_time": "2024-02-28T04:48:40.086Z"
   },
   {
    "duration": 126,
    "start_time": "2024-02-28T04:48:40.249Z"
   },
   {
    "duration": 5,
    "start_time": "2024-02-28T04:48:40.376Z"
   },
   {
    "duration": 9,
    "start_time": "2024-02-28T04:48:40.393Z"
   },
   {
    "duration": 8,
    "start_time": "2024-02-28T04:48:40.404Z"
   },
   {
    "duration": 13,
    "start_time": "2024-02-28T04:48:51.950Z"
   },
   {
    "duration": 6,
    "start_time": "2024-02-28T04:49:15.055Z"
   },
   {
    "duration": 247,
    "start_time": "2024-02-28T04:51:04.097Z"
   },
   {
    "duration": 1479,
    "start_time": "2024-02-28T04:51:18.911Z"
   },
   {
    "duration": 7,
    "start_time": "2024-02-28T04:52:09.592Z"
   },
   {
    "duration": 10,
    "start_time": "2024-02-28T04:54:30.928Z"
   },
   {
    "duration": 9,
    "start_time": "2024-02-28T04:54:49.968Z"
   },
   {
    "duration": 8,
    "start_time": "2024-02-28T04:55:10.104Z"
   },
   {
    "duration": 8,
    "start_time": "2024-02-28T04:55:18.872Z"
   },
   {
    "duration": 7,
    "start_time": "2024-02-28T04:55:32.826Z"
   },
   {
    "duration": 7,
    "start_time": "2024-02-28T04:55:39.760Z"
   },
   {
    "duration": 6,
    "start_time": "2024-02-28T04:55:48.113Z"
   },
   {
    "duration": 6,
    "start_time": "2024-02-28T04:55:53.737Z"
   },
   {
    "duration": 7,
    "start_time": "2024-02-28T04:55:59.984Z"
   },
   {
    "duration": 6,
    "start_time": "2024-02-28T04:56:15.370Z"
   },
   {
    "duration": 7,
    "start_time": "2024-02-28T04:56:25.257Z"
   },
   {
    "duration": 7,
    "start_time": "2024-02-28T04:56:40.353Z"
   },
   {
    "duration": 6,
    "start_time": "2024-02-28T04:57:20.518Z"
   },
   {
    "duration": 11,
    "start_time": "2024-02-28T04:57:58.514Z"
   },
   {
    "duration": 11,
    "start_time": "2024-02-28T04:58:11.249Z"
   },
   {
    "duration": 5,
    "start_time": "2024-02-28T04:58:25.513Z"
   },
   {
    "duration": 9,
    "start_time": "2024-02-28T04:58:27.306Z"
   },
   {
    "duration": 3,
    "start_time": "2024-02-28T04:58:44.365Z"
   },
   {
    "duration": 86,
    "start_time": "2024-02-28T04:58:44.370Z"
   },
   {
    "duration": 8,
    "start_time": "2024-02-28T04:58:44.458Z"
   },
   {
    "duration": 15,
    "start_time": "2024-02-28T04:58:44.468Z"
   },
   {
    "duration": 19,
    "start_time": "2024-02-28T04:58:44.485Z"
   },
   {
    "duration": 18,
    "start_time": "2024-02-28T04:58:44.506Z"
   },
   {
    "duration": 7,
    "start_time": "2024-02-28T04:58:44.526Z"
   },
   {
    "duration": 13,
    "start_time": "2024-02-28T04:58:44.535Z"
   },
   {
    "duration": 8,
    "start_time": "2024-02-28T04:58:44.550Z"
   },
   {
    "duration": 11,
    "start_time": "2024-02-28T04:58:44.559Z"
   },
   {
    "duration": 6,
    "start_time": "2024-02-28T04:58:44.594Z"
   },
   {
    "duration": 14,
    "start_time": "2024-02-28T04:58:44.601Z"
   },
   {
    "duration": 40,
    "start_time": "2024-02-28T04:58:44.617Z"
   },
   {
    "duration": 25,
    "start_time": "2024-02-28T04:58:44.659Z"
   },
   {
    "duration": 22,
    "start_time": "2024-02-28T04:58:44.685Z"
   },
   {
    "duration": 25,
    "start_time": "2024-02-28T04:58:44.708Z"
   },
   {
    "duration": 4,
    "start_time": "2024-02-28T04:58:44.734Z"
   },
   {
    "duration": 13,
    "start_time": "2024-02-28T04:58:44.740Z"
   },
   {
    "duration": 13,
    "start_time": "2024-02-28T04:58:44.755Z"
   },
   {
    "duration": 158,
    "start_time": "2024-02-28T04:58:44.769Z"
   },
   {
    "duration": 151,
    "start_time": "2024-02-28T04:58:44.929Z"
   },
   {
    "duration": 5,
    "start_time": "2024-02-28T04:58:45.081Z"
   },
   {
    "duration": 98,
    "start_time": "2024-02-28T04:58:45.087Z"
   },
   {
    "duration": 80,
    "start_time": "2024-02-28T04:58:45.187Z"
   },
   {
    "duration": 143,
    "start_time": "2024-02-28T04:58:45.269Z"
   },
   {
    "duration": 35,
    "start_time": "2024-02-28T04:58:45.414Z"
   },
   {
    "duration": 289,
    "start_time": "2024-02-28T04:58:45.451Z"
   },
   {
    "duration": 1515,
    "start_time": "2024-02-28T04:58:45.741Z"
   },
   {
    "duration": 7,
    "start_time": "2024-02-28T04:58:47.258Z"
   },
   {
    "duration": 8,
    "start_time": "2024-02-28T04:58:58.985Z"
   },
   {
    "duration": 7,
    "start_time": "2024-02-28T04:59:02.692Z"
   },
   {
    "duration": 11,
    "start_time": "2024-02-28T04:59:04.114Z"
   },
   {
    "duration": 1249,
    "start_time": "2024-02-28T04:59:51.946Z"
   },
   {
    "duration": 11,
    "start_time": "2024-02-28T05:01:02.882Z"
   },
   {
    "duration": 457,
    "start_time": "2024-02-28T05:01:05.083Z"
   },
   {
    "duration": 7,
    "start_time": "2024-02-28T05:02:59.189Z"
   },
   {
    "duration": 225,
    "start_time": "2024-02-28T05:03:44.041Z"
   },
   {
    "duration": 12,
    "start_time": "2024-02-28T05:03:55.612Z"
   },
   {
    "duration": 124,
    "start_time": "2024-02-28T05:03:57.781Z"
   },
   {
    "duration": 12,
    "start_time": "2024-02-28T05:04:11.051Z"
   },
   {
    "duration": 19,
    "start_time": "2024-02-28T05:04:12.203Z"
   },
   {
    "duration": 20,
    "start_time": "2024-02-28T05:04:23.922Z"
   },
   {
    "duration": 1255,
    "start_time": "2024-02-28T05:04:27.093Z"
   },
   {
    "duration": 1626,
    "start_time": "2024-02-28T05:04:41.747Z"
   },
   {
    "duration": 137,
    "start_time": "2024-02-28T05:05:07.859Z"
   },
   {
    "duration": 6,
    "start_time": "2024-02-28T05:05:17.349Z"
   },
   {
    "duration": 7,
    "start_time": "2024-02-28T05:06:34.341Z"
   },
   {
    "duration": 10,
    "start_time": "2024-02-28T05:06:55.548Z"
   },
   {
    "duration": 11,
    "start_time": "2024-02-28T05:07:04.044Z"
   },
   {
    "duration": 11,
    "start_time": "2024-02-28T05:07:09.853Z"
   },
   {
    "duration": 11,
    "start_time": "2024-02-28T05:07:21.236Z"
   },
   {
    "duration": 9,
    "start_time": "2024-02-28T05:07:32.725Z"
   },
   {
    "duration": 10,
    "start_time": "2024-02-28T05:07:39.236Z"
   },
   {
    "duration": 102,
    "start_time": "2024-02-28T05:07:46.492Z"
   },
   {
    "duration": 11,
    "start_time": "2024-02-28T05:07:53.172Z"
   },
   {
    "duration": 11,
    "start_time": "2024-02-28T05:08:00.900Z"
   },
   {
    "duration": 8,
    "start_time": "2024-02-28T05:08:18.664Z"
   },
   {
    "duration": 8,
    "start_time": "2024-02-28T05:08:48.164Z"
   },
   {
    "duration": 3,
    "start_time": "2024-02-28T05:09:15.683Z"
   },
   {
    "duration": 81,
    "start_time": "2024-02-28T05:09:15.687Z"
   },
   {
    "duration": 8,
    "start_time": "2024-02-28T05:09:15.769Z"
   },
   {
    "duration": 10,
    "start_time": "2024-02-28T05:09:15.779Z"
   },
   {
    "duration": 12,
    "start_time": "2024-02-28T05:09:15.791Z"
   },
   {
    "duration": 32,
    "start_time": "2024-02-28T05:09:15.804Z"
   },
   {
    "duration": 7,
    "start_time": "2024-02-28T05:09:15.838Z"
   },
   {
    "duration": 11,
    "start_time": "2024-02-28T05:09:15.846Z"
   },
   {
    "duration": 10,
    "start_time": "2024-02-28T05:09:15.858Z"
   },
   {
    "duration": 9,
    "start_time": "2024-02-28T05:09:15.870Z"
   },
   {
    "duration": 8,
    "start_time": "2024-02-28T05:09:15.881Z"
   },
   {
    "duration": 10,
    "start_time": "2024-02-28T05:09:15.890Z"
   },
   {
    "duration": 6,
    "start_time": "2024-02-28T05:09:15.903Z"
   },
   {
    "duration": 47,
    "start_time": "2024-02-28T05:09:15.910Z"
   },
   {
    "duration": 28,
    "start_time": "2024-02-28T05:09:15.958Z"
   },
   {
    "duration": 13,
    "start_time": "2024-02-28T05:09:15.987Z"
   },
   {
    "duration": 5,
    "start_time": "2024-02-28T05:09:16.002Z"
   },
   {
    "duration": 8,
    "start_time": "2024-02-28T05:09:16.008Z"
   },
   {
    "duration": 11,
    "start_time": "2024-02-28T05:09:16.017Z"
   },
   {
    "duration": 149,
    "start_time": "2024-02-28T05:09:16.029Z"
   },
   {
    "duration": 134,
    "start_time": "2024-02-28T05:09:16.180Z"
   },
   {
    "duration": 4,
    "start_time": "2024-02-28T05:09:16.316Z"
   },
   {
    "duration": 18,
    "start_time": "2024-02-28T05:09:16.321Z"
   },
   {
    "duration": 14,
    "start_time": "2024-02-28T05:09:16.341Z"
   },
   {
    "duration": 31,
    "start_time": "2024-02-28T05:09:16.356Z"
   },
   {
    "duration": 40,
    "start_time": "2024-02-28T05:09:16.389Z"
   },
   {
    "duration": 332,
    "start_time": "2024-02-28T05:09:16.431Z"
   },
   {
    "duration": 1701,
    "start_time": "2024-02-28T05:09:16.764Z"
   },
   {
    "duration": 10,
    "start_time": "2024-02-28T05:09:29.117Z"
   },
   {
    "duration": 11,
    "start_time": "2024-02-28T05:09:37.421Z"
   },
   {
    "duration": 6,
    "start_time": "2024-02-28T05:10:17.541Z"
   },
   {
    "duration": 9,
    "start_time": "2024-02-28T05:10:22.701Z"
   },
   {
    "duration": 1264,
    "start_time": "2024-02-28T05:11:05.525Z"
   },
   {
    "duration": 11,
    "start_time": "2024-02-28T05:11:31.014Z"
   },
   {
    "duration": 142,
    "start_time": "2024-02-28T05:11:33.086Z"
   },
   {
    "duration": 132,
    "start_time": "2024-02-28T05:11:51.262Z"
   },
   {
    "duration": 6,
    "start_time": "2024-02-28T05:11:52.686Z"
   },
   {
    "duration": 245,
    "start_time": "2024-02-28T05:11:58.549Z"
   },
   {
    "duration": 13,
    "start_time": "2024-02-28T05:14:57.687Z"
   },
   {
    "duration": 11,
    "start_time": "2024-02-28T05:15:03.790Z"
   },
   {
    "duration": 10,
    "start_time": "2024-02-28T05:15:14.951Z"
   },
   {
    "duration": 10,
    "start_time": "2024-02-28T05:15:21.958Z"
   },
   {
    "duration": 14,
    "start_time": "2024-02-28T05:15:47.087Z"
   },
   {
    "duration": 14,
    "start_time": "2024-02-28T05:15:51.975Z"
   },
   {
    "duration": 14,
    "start_time": "2024-02-28T05:15:57.383Z"
   },
   {
    "duration": 14,
    "start_time": "2024-02-28T05:16:02.455Z"
   },
   {
    "duration": 15,
    "start_time": "2024-02-28T05:16:08.335Z"
   },
   {
    "duration": 15,
    "start_time": "2024-02-28T05:18:11.431Z"
   },
   {
    "duration": 15,
    "start_time": "2024-02-28T05:18:16.159Z"
   },
   {
    "duration": 14,
    "start_time": "2024-02-28T05:18:21.360Z"
   },
   {
    "duration": 13,
    "start_time": "2024-02-28T05:18:29.992Z"
   },
   {
    "duration": 14,
    "start_time": "2024-02-28T05:18:37.048Z"
   },
   {
    "duration": 14,
    "start_time": "2024-02-28T05:18:49.243Z"
   },
   {
    "duration": 155,
    "start_time": "2024-02-28T05:23:30.879Z"
   },
   {
    "duration": 1729,
    "start_time": "2024-02-28T05:24:09.695Z"
   },
   {
    "duration": 6,
    "start_time": "2024-02-28T05:33:12.084Z"
   },
   {
    "duration": 8,
    "start_time": "2024-02-28T05:33:22.416Z"
   },
   {
    "duration": 21,
    "start_time": "2024-02-28T05:33:32.641Z"
   },
   {
    "duration": 8,
    "start_time": "2024-02-28T05:35:14.264Z"
   },
   {
    "duration": 216,
    "start_time": "2024-02-28T05:35:48.553Z"
   },
   {
    "duration": 12,
    "start_time": "2024-02-28T05:37:22.145Z"
   },
   {
    "duration": 129,
    "start_time": "2024-02-28T05:37:23.456Z"
   },
   {
    "duration": 13,
    "start_time": "2024-02-28T05:37:53.425Z"
   },
   {
    "duration": 20,
    "start_time": "2024-02-28T05:37:54.499Z"
   },
   {
    "duration": 22,
    "start_time": "2024-02-28T05:38:12.786Z"
   },
   {
    "duration": 1793,
    "start_time": "2024-02-28T05:38:19.905Z"
   },
   {
    "duration": 1265,
    "start_time": "2024-02-28T05:39:18.202Z"
   },
   {
    "duration": 133,
    "start_time": "2024-02-28T05:39:29.873Z"
   },
   {
    "duration": 10,
    "start_time": "2024-02-28T05:39:39.305Z"
   },
   {
    "duration": 10,
    "start_time": "2024-02-28T05:40:32.529Z"
   },
   {
    "duration": 11,
    "start_time": "2024-02-28T05:41:43.419Z"
   },
   {
    "duration": 242,
    "start_time": "2024-02-28T05:46:49.226Z"
   },
   {
    "duration": 11,
    "start_time": "2024-02-28T05:48:00.211Z"
   },
   {
    "duration": 10,
    "start_time": "2024-02-28T05:48:06.005Z"
   },
   {
    "duration": 11,
    "start_time": "2024-02-28T05:48:10.771Z"
   },
   {
    "duration": 11,
    "start_time": "2024-02-28T05:48:24.447Z"
   },
   {
    "duration": 11,
    "start_time": "2024-02-28T05:48:30.139Z"
   },
   {
    "duration": 16,
    "start_time": "2024-02-28T05:48:39.032Z"
   },
   {
    "duration": 13,
    "start_time": "2024-02-28T05:48:47.923Z"
   },
   {
    "duration": 8,
    "start_time": "2024-02-28T05:49:33.115Z"
   },
   {
    "duration": 10,
    "start_time": "2024-02-28T05:49:35.212Z"
   },
   {
    "duration": 7,
    "start_time": "2024-02-28T05:50:21.660Z"
   },
   {
    "duration": 278,
    "start_time": "2024-02-28T05:50:22.563Z"
   },
   {
    "duration": 12,
    "start_time": "2024-02-28T05:50:26.635Z"
   },
   {
    "duration": 2,
    "start_time": "2024-02-28T05:51:02.467Z"
   },
   {
    "duration": 97,
    "start_time": "2024-02-28T05:51:02.471Z"
   },
   {
    "duration": 19,
    "start_time": "2024-02-28T05:51:02.570Z"
   },
   {
    "duration": 31,
    "start_time": "2024-02-28T05:51:02.591Z"
   },
   {
    "duration": 30,
    "start_time": "2024-02-28T05:51:02.626Z"
   },
   {
    "duration": 50,
    "start_time": "2024-02-28T05:51:02.657Z"
   },
   {
    "duration": 16,
    "start_time": "2024-02-28T05:51:02.709Z"
   },
   {
    "duration": 32,
    "start_time": "2024-02-28T05:51:02.727Z"
   },
   {
    "duration": 25,
    "start_time": "2024-02-28T05:51:02.760Z"
   },
   {
    "duration": 42,
    "start_time": "2024-02-28T05:51:02.786Z"
   },
   {
    "duration": 16,
    "start_time": "2024-02-28T05:51:02.830Z"
   },
   {
    "duration": 36,
    "start_time": "2024-02-28T05:51:02.847Z"
   },
   {
    "duration": 94,
    "start_time": "2024-02-28T05:51:02.885Z"
   },
   {
    "duration": 145,
    "start_time": "2024-02-28T05:51:02.981Z"
   },
   {
    "duration": 184,
    "start_time": "2024-02-28T05:51:03.128Z"
   },
   {
    "duration": 29,
    "start_time": "2024-02-28T05:51:03.314Z"
   },
   {
    "duration": 56,
    "start_time": "2024-02-28T05:51:03.345Z"
   },
   {
    "duration": 253,
    "start_time": "2024-02-28T05:51:03.403Z"
   },
   {
    "duration": 162,
    "start_time": "2024-02-28T05:51:03.658Z"
   },
   {
    "duration": 197,
    "start_time": "2024-02-28T05:51:03.822Z"
   },
   {
    "duration": 157,
    "start_time": "2024-02-28T05:51:04.021Z"
   },
   {
    "duration": 4,
    "start_time": "2024-02-28T05:51:04.179Z"
   },
   {
    "duration": 441,
    "start_time": "2024-02-28T05:51:04.185Z"
   },
   {
    "duration": 296,
    "start_time": "2024-02-28T05:51:04.629Z"
   },
   {
    "duration": 63,
    "start_time": "2024-02-28T05:51:04.927Z"
   },
   {
    "duration": 19,
    "start_time": "2024-02-28T05:51:04.992Z"
   },
   {
    "duration": 285,
    "start_time": "2024-02-28T05:51:05.013Z"
   },
   {
    "duration": 2156,
    "start_time": "2024-02-28T05:51:05.300Z"
   },
   {
    "duration": 11,
    "start_time": "2024-02-28T05:51:07.458Z"
   },
   {
    "duration": 57,
    "start_time": "2024-02-28T05:51:07.471Z"
   },
   {
    "duration": 40,
    "start_time": "2024-02-28T05:51:07.530Z"
   },
   {
    "duration": 38,
    "start_time": "2024-02-28T05:51:07.571Z"
   },
   {
    "duration": 1533,
    "start_time": "2024-02-28T05:51:07.611Z"
   },
   {
    "duration": 10,
    "start_time": "2024-02-28T05:51:09.145Z"
   },
   {
    "duration": 179,
    "start_time": "2024-02-28T05:51:09.157Z"
   },
   {
    "duration": 7,
    "start_time": "2024-02-28T05:51:09.338Z"
   },
   {
    "duration": 292,
    "start_time": "2024-02-28T05:51:09.346Z"
   },
   {
    "duration": 14,
    "start_time": "2024-02-28T05:51:09.639Z"
   },
   {
    "duration": 22,
    "start_time": "2024-02-28T05:51:09.655Z"
   },
   {
    "duration": 67,
    "start_time": "2024-02-28T05:51:09.679Z"
   },
   {
    "duration": 30,
    "start_time": "2024-02-28T05:51:09.751Z"
   },
   {
    "duration": 40,
    "start_time": "2024-02-28T05:51:09.782Z"
   },
   {
    "duration": 351,
    "start_time": "2024-02-28T05:51:09.824Z"
   },
   {
    "duration": 14,
    "start_time": "2024-02-28T05:51:16.027Z"
   },
   {
    "duration": 157,
    "start_time": "2024-02-28T05:51:17.388Z"
   },
   {
    "duration": 16,
    "start_time": "2024-02-28T05:51:31.808Z"
   },
   {
    "duration": 50,
    "start_time": "2024-02-28T05:51:31.827Z"
   },
   {
    "duration": 71,
    "start_time": "2024-02-28T05:51:31.879Z"
   },
   {
    "duration": 2265,
    "start_time": "2024-02-28T05:51:34.148Z"
   },
   {
    "duration": 145,
    "start_time": "2024-02-28T05:51:36.644Z"
   },
   {
    "duration": 10,
    "start_time": "2024-02-28T05:51:40.995Z"
   },
   {
    "duration": 288,
    "start_time": "2024-02-28T05:51:49.659Z"
   },
   {
    "duration": 143,
    "start_time": "2024-02-28T05:53:20.229Z"
   },
   {
    "duration": 8,
    "start_time": "2024-02-28T05:53:49.140Z"
   },
   {
    "duration": 20,
    "start_time": "2024-02-28T05:54:34.908Z"
   },
   {
    "duration": 12,
    "start_time": "2024-02-28T05:54:58.198Z"
   },
   {
    "duration": 16,
    "start_time": "2024-02-28T05:55:08.396Z"
   },
   {
    "duration": 14,
    "start_time": "2024-02-28T05:55:18.917Z"
   },
   {
    "duration": 1291,
    "start_time": "2024-02-28T06:01:21.805Z"
   },
   {
    "duration": 135,
    "start_time": "2024-02-28T06:01:29.892Z"
   },
   {
    "duration": 8,
    "start_time": "2024-02-28T06:01:38.205Z"
   },
   {
    "duration": 252,
    "start_time": "2024-02-28T06:01:59.125Z"
   },
   {
    "duration": 137,
    "start_time": "2024-02-28T06:02:04.198Z"
   },
   {
    "duration": 9,
    "start_time": "2024-02-28T06:02:08.919Z"
   },
   {
    "duration": 3368,
    "start_time": "2024-02-28T06:30:12.285Z"
   },
   {
    "duration": 49,
    "start_time": "2024-02-28T06:30:44.348Z"
   },
   {
    "duration": 1113,
    "start_time": "2024-02-28T06:31:05.938Z"
   },
   {
    "duration": 295,
    "start_time": "2024-02-28T06:31:07.053Z"
   },
   {
    "duration": 12,
    "start_time": "2024-02-28T06:31:07.349Z"
   },
   {
    "duration": 33,
    "start_time": "2024-02-28T06:31:07.362Z"
   },
   {
    "duration": 18,
    "start_time": "2024-02-28T06:31:07.398Z"
   },
   {
    "duration": 27,
    "start_time": "2024-02-28T06:31:07.418Z"
   },
   {
    "duration": 34,
    "start_time": "2024-02-28T06:31:07.447Z"
   },
   {
    "duration": 42,
    "start_time": "2024-02-28T06:31:07.483Z"
   },
   {
    "duration": 18,
    "start_time": "2024-02-28T06:31:07.527Z"
   },
   {
    "duration": 24,
    "start_time": "2024-02-28T06:31:07.547Z"
   },
   {
    "duration": 29,
    "start_time": "2024-02-28T06:31:07.573Z"
   },
   {
    "duration": 26,
    "start_time": "2024-02-28T06:31:07.603Z"
   },
   {
    "duration": 18,
    "start_time": "2024-02-28T06:31:07.631Z"
   },
   {
    "duration": 21,
    "start_time": "2024-02-28T06:31:07.652Z"
   },
   {
    "duration": 17,
    "start_time": "2024-02-28T06:31:07.675Z"
   },
   {
    "duration": 22,
    "start_time": "2024-02-28T06:31:07.694Z"
   },
   {
    "duration": 13,
    "start_time": "2024-02-28T06:31:07.718Z"
   },
   {
    "duration": 37,
    "start_time": "2024-02-28T06:31:07.733Z"
   },
   {
    "duration": 53,
    "start_time": "2024-02-28T06:31:07.771Z"
   },
   {
    "duration": 184,
    "start_time": "2024-02-28T06:31:07.826Z"
   },
   {
    "duration": 125,
    "start_time": "2024-02-28T06:31:08.011Z"
   },
   {
    "duration": 4,
    "start_time": "2024-02-28T06:31:08.138Z"
   },
   {
    "duration": 48,
    "start_time": "2024-02-28T06:31:08.143Z"
   },
   {
    "duration": 54,
    "start_time": "2024-02-28T06:31:08.193Z"
   },
   {
    "duration": 63,
    "start_time": "2024-02-28T06:31:08.249Z"
   },
   {
    "duration": 6,
    "start_time": "2024-02-28T06:31:08.313Z"
   },
   {
    "duration": 256,
    "start_time": "2024-02-28T06:31:08.321Z"
   },
   {
    "duration": 1351,
    "start_time": "2024-02-28T06:31:08.579Z"
   },
   {
    "duration": 10,
    "start_time": "2024-02-28T06:31:09.932Z"
   },
   {
    "duration": 81,
    "start_time": "2024-02-28T06:31:09.943Z"
   },
   {
    "duration": 142,
    "start_time": "2024-02-28T06:31:10.026Z"
   },
   {
    "duration": 26,
    "start_time": "2024-02-28T06:31:10.169Z"
   },
   {
    "duration": 1423,
    "start_time": "2024-02-28T06:31:10.196Z"
   },
   {
    "duration": 10,
    "start_time": "2024-02-28T06:31:11.621Z"
   },
   {
    "duration": 148,
    "start_time": "2024-02-28T06:31:11.633Z"
   },
   {
    "duration": 11,
    "start_time": "2024-02-28T06:31:11.783Z"
   },
   {
    "duration": 277,
    "start_time": "2024-02-28T06:31:11.796Z"
   },
   {
    "duration": 19,
    "start_time": "2024-02-28T06:31:12.075Z"
   },
   {
    "duration": 25,
    "start_time": "2024-02-28T06:31:12.096Z"
   },
   {
    "duration": 23,
    "start_time": "2024-02-28T06:31:12.123Z"
   },
   {
    "duration": 6,
    "start_time": "2024-02-28T06:31:12.151Z"
   },
   {
    "duration": 8,
    "start_time": "2024-02-28T06:31:12.158Z"
   },
   {
    "duration": 372,
    "start_time": "2024-02-28T06:31:12.167Z"
   },
   {
    "duration": 11,
    "start_time": "2024-02-28T06:31:12.540Z"
   },
   {
    "duration": 143,
    "start_time": "2024-02-28T06:31:12.552Z"
   },
   {
    "duration": 12,
    "start_time": "2024-02-28T06:31:12.697Z"
   },
   {
    "duration": 44,
    "start_time": "2024-02-28T06:31:12.711Z"
   },
   {
    "duration": 43,
    "start_time": "2024-02-28T06:31:12.756Z"
   },
   {
    "duration": 49,
    "start_time": "2024-02-28T06:31:12.800Z"
   },
   {
    "duration": 56,
    "start_time": "2024-02-28T06:31:12.851Z"
   },
   {
    "duration": 34,
    "start_time": "2024-02-28T06:31:12.909Z"
   },
   {
    "duration": 1427,
    "start_time": "2024-02-28T06:31:12.945Z"
   },
   {
    "duration": 148,
    "start_time": "2024-02-28T06:31:14.374Z"
   },
   {
    "duration": 8,
    "start_time": "2024-02-28T06:31:14.524Z"
   },
   {
    "duration": 277,
    "start_time": "2024-02-28T06:31:14.533Z"
   },
   {
    "duration": 140,
    "start_time": "2024-02-28T06:31:14.811Z"
   },
   {
    "duration": 8,
    "start_time": "2024-02-28T06:31:14.952Z"
   },
   {
    "duration": 1526,
    "start_time": "2024-02-28T06:31:14.961Z"
   },
   {
    "duration": 135,
    "start_time": "2024-02-28T06:31:16.488Z"
   },
   {
    "duration": 24,
    "start_time": "2024-02-28T06:31:16.625Z"
   },
   {
    "duration": 304,
    "start_time": "2024-02-28T06:31:16.651Z"
   },
   {
    "duration": 150,
    "start_time": "2024-02-28T06:31:16.957Z"
   },
   {
    "duration": 8,
    "start_time": "2024-02-28T06:31:17.108Z"
   },
   {
    "duration": 3876,
    "start_time": "2024-02-28T06:31:25.251Z"
   },
   {
    "duration": 14,
    "start_time": "2024-02-28T06:32:15.239Z"
   },
   {
    "duration": 19,
    "start_time": "2024-02-28T06:33:38.464Z"
   },
   {
    "duration": 3,
    "start_time": "2024-02-28T06:36:00.144Z"
   },
   {
    "duration": 20,
    "start_time": "2024-02-28T06:36:15.894Z"
   },
   {
    "duration": 21,
    "start_time": "2024-02-28T06:37:51.376Z"
   },
   {
    "duration": 99,
    "start_time": "2024-02-28T06:39:21.479Z"
   },
   {
    "duration": 100,
    "start_time": "2024-02-28T06:39:30.742Z"
   },
   {
    "duration": 14,
    "start_time": "2024-02-28T06:39:44.759Z"
   },
   {
    "duration": 19,
    "start_time": "2024-02-28T06:39:55.119Z"
   },
   {
    "duration": 71,
    "start_time": "2024-02-28T06:40:08.599Z"
   },
   {
    "duration": 24,
    "start_time": "2024-02-28T06:40:14.399Z"
   },
   {
    "duration": 21,
    "start_time": "2024-02-28T06:40:23.039Z"
   },
   {
    "duration": 18,
    "start_time": "2024-02-28T06:40:35.832Z"
   },
   {
    "duration": 20,
    "start_time": "2024-02-28T06:41:47.638Z"
   },
   {
    "duration": 21,
    "start_time": "2024-02-28T06:43:26.906Z"
   },
   {
    "duration": 20,
    "start_time": "2024-02-28T06:43:36.139Z"
   },
   {
    "duration": 23,
    "start_time": "2024-02-28T06:46:03.067Z"
   },
   {
    "duration": 24,
    "start_time": "2024-02-28T06:46:37.186Z"
   },
   {
    "duration": 35,
    "start_time": "2024-02-28T06:46:49.201Z"
   },
   {
    "duration": 30,
    "start_time": "2024-02-28T06:47:06.786Z"
   },
   {
    "duration": 19,
    "start_time": "2024-02-28T06:49:33.381Z"
   },
   {
    "duration": 19,
    "start_time": "2024-02-28T06:49:46.778Z"
   },
   {
    "duration": 18,
    "start_time": "2024-02-28T06:50:49.659Z"
   },
   {
    "duration": 18,
    "start_time": "2024-02-28T06:51:12.337Z"
   },
   {
    "duration": 3,
    "start_time": "2024-02-28T06:51:26.201Z"
   },
   {
    "duration": 83,
    "start_time": "2024-02-28T06:51:26.205Z"
   },
   {
    "duration": 8,
    "start_time": "2024-02-28T06:51:26.289Z"
   },
   {
    "duration": 11,
    "start_time": "2024-02-28T06:51:26.299Z"
   },
   {
    "duration": 20,
    "start_time": "2024-02-28T06:51:26.312Z"
   },
   {
    "duration": 13,
    "start_time": "2024-02-28T06:51:26.333Z"
   },
   {
    "duration": 21,
    "start_time": "2024-02-28T06:51:26.347Z"
   },
   {
    "duration": 24,
    "start_time": "2024-02-28T06:51:26.370Z"
   },
   {
    "duration": 12,
    "start_time": "2024-02-28T06:51:31.866Z"
   },
   {
    "duration": 11,
    "start_time": "2024-02-28T06:51:38.607Z"
   },
   {
    "duration": 17,
    "start_time": "2024-02-28T06:51:46.514Z"
   },
   {
    "duration": 5,
    "start_time": "2024-02-28T06:51:47.666Z"
   },
   {
    "duration": 11,
    "start_time": "2024-02-28T06:51:58.235Z"
   },
   {
    "duration": 10,
    "start_time": "2024-02-28T06:52:02.410Z"
   },
   {
    "duration": 5,
    "start_time": "2024-02-28T06:52:04.251Z"
   },
   {
    "duration": 6,
    "start_time": "2024-02-28T06:52:04.715Z"
   },
   {
    "duration": 9,
    "start_time": "2024-02-28T06:52:05.131Z"
   },
   {
    "duration": 6,
    "start_time": "2024-02-28T06:52:05.443Z"
   },
   {
    "duration": 6,
    "start_time": "2024-02-28T06:52:05.730Z"
   },
   {
    "duration": 8,
    "start_time": "2024-02-28T06:52:06.018Z"
   },
   {
    "duration": 5,
    "start_time": "2024-02-28T06:52:06.276Z"
   },
   {
    "duration": 5,
    "start_time": "2024-02-28T06:52:06.490Z"
   },
   {
    "duration": 5,
    "start_time": "2024-02-28T06:52:07.141Z"
   },
   {
    "duration": 153,
    "start_time": "2024-02-28T06:52:07.338Z"
   },
   {
    "duration": 130,
    "start_time": "2024-02-28T06:52:07.530Z"
   },
   {
    "duration": 5,
    "start_time": "2024-02-28T06:52:07.747Z"
   },
   {
    "duration": 6,
    "start_time": "2024-02-28T06:52:07.957Z"
   },
   {
    "duration": 5,
    "start_time": "2024-02-28T06:52:08.155Z"
   },
   {
    "duration": 14,
    "start_time": "2024-02-28T06:52:08.354Z"
   },
   {
    "duration": 7,
    "start_time": "2024-02-28T06:52:08.594Z"
   },
   {
    "duration": 229,
    "start_time": "2024-02-28T06:52:10.939Z"
   },
   {
    "duration": 1536,
    "start_time": "2024-02-28T06:52:11.293Z"
   },
   {
    "duration": 10,
    "start_time": "2024-02-28T06:52:12.831Z"
   },
   {
    "duration": 25,
    "start_time": "2024-02-28T06:52:12.842Z"
   },
   {
    "duration": 20,
    "start_time": "2024-02-28T06:52:12.869Z"
   },
   {
    "duration": 18,
    "start_time": "2024-02-28T06:52:12.890Z"
   },
   {
    "duration": 1238,
    "start_time": "2024-02-28T06:52:13.059Z"
   },
   {
    "duration": 10,
    "start_time": "2024-02-28T06:52:17.098Z"
   },
   {
    "duration": 461,
    "start_time": "2024-02-28T06:52:17.780Z"
   },
   {
    "duration": 7,
    "start_time": "2024-02-28T06:52:18.307Z"
   },
   {
    "duration": 233,
    "start_time": "2024-02-28T06:52:18.997Z"
   },
   {
    "duration": 15,
    "start_time": "2024-02-28T06:52:19.835Z"
   },
   {
    "duration": 4,
    "start_time": "2024-02-28T06:52:20.196Z"
   },
   {
    "duration": 10,
    "start_time": "2024-02-28T06:52:20.396Z"
   },
   {
    "duration": 5,
    "start_time": "2024-02-28T06:52:20.654Z"
   },
   {
    "duration": 7,
    "start_time": "2024-02-28T06:52:21.724Z"
   },
   {
    "duration": 232,
    "start_time": "2024-02-28T06:52:22.035Z"
   },
   {
    "duration": 10,
    "start_time": "2024-02-28T06:52:22.269Z"
   },
   {
    "duration": 118,
    "start_time": "2024-02-28T06:52:22.778Z"
   },
   {
    "duration": 12,
    "start_time": "2024-02-28T06:52:24.709Z"
   },
   {
    "duration": 18,
    "start_time": "2024-02-28T06:52:25.060Z"
   },
   {
    "duration": 19,
    "start_time": "2024-02-28T06:52:25.416Z"
   },
   {
    "duration": 13,
    "start_time": "2024-02-28T06:52:28.220Z"
   },
   {
    "duration": 17,
    "start_time": "2024-02-28T06:52:29.940Z"
   },
   {
    "duration": 13,
    "start_time": "2024-02-28T06:52:30.649Z"
   },
   {
    "duration": 1281,
    "start_time": "2024-02-28T06:52:31.664Z"
   },
   {
    "duration": 149,
    "start_time": "2024-02-28T06:52:32.947Z"
   },
   {
    "duration": 8,
    "start_time": "2024-02-28T06:52:33.097Z"
   },
   {
    "duration": 249,
    "start_time": "2024-02-28T06:52:33.106Z"
   },
   {
    "duration": 539,
    "start_time": "2024-02-28T06:52:33.357Z"
   },
   {
    "duration": 11,
    "start_time": "2024-02-28T06:52:33.973Z"
   },
   {
    "duration": 1218,
    "start_time": "2024-02-28T06:52:35.271Z"
   },
   {
    "duration": 144,
    "start_time": "2024-02-28T06:52:36.491Z"
   },
   {
    "duration": 8,
    "start_time": "2024-02-28T06:52:36.636Z"
   },
   {
    "duration": 275,
    "start_time": "2024-02-28T06:52:37.565Z"
   },
   {
    "duration": 131,
    "start_time": "2024-02-28T06:52:38.408Z"
   },
   {
    "duration": 8,
    "start_time": "2024-02-28T06:52:39.389Z"
   },
   {
    "duration": 25,
    "start_time": "2024-02-28T06:52:41.739Z"
   },
   {
    "duration": 29,
    "start_time": "2024-02-28T06:53:03.116Z"
   },
   {
    "duration": 396,
    "start_time": "2024-02-28T06:53:39.176Z"
   },
   {
    "duration": 28,
    "start_time": "2024-02-28T06:53:47.675Z"
   },
   {
    "duration": 33,
    "start_time": "2024-02-28T06:56:21.029Z"
   },
   {
    "duration": 42,
    "start_time": "2024-02-28T06:56:43.997Z"
   },
   {
    "duration": 38,
    "start_time": "2024-02-28T06:57:29.398Z"
   },
   {
    "duration": 29,
    "start_time": "2024-02-28T07:04:07.543Z"
   },
   {
    "duration": 18,
    "start_time": "2024-02-28T07:04:25.674Z"
   },
   {
    "duration": 36,
    "start_time": "2024-02-28T07:04:41.296Z"
   },
   {
    "duration": 19,
    "start_time": "2024-02-28T07:05:03.951Z"
   },
   {
    "duration": 1594,
    "start_time": "2024-02-28T07:52:44.387Z"
   },
   {
    "duration": 3,
    "start_time": "2024-02-28T07:53:12.030Z"
   },
   {
    "duration": 96,
    "start_time": "2024-02-28T07:53:12.034Z"
   },
   {
    "duration": 8,
    "start_time": "2024-02-28T07:53:12.132Z"
   },
   {
    "duration": 30,
    "start_time": "2024-02-28T07:53:12.142Z"
   },
   {
    "duration": 32,
    "start_time": "2024-02-28T07:53:12.175Z"
   },
   {
    "duration": 35,
    "start_time": "2024-02-28T07:53:12.208Z"
   },
   {
    "duration": 18,
    "start_time": "2024-02-28T07:53:12.245Z"
   },
   {
    "duration": 34,
    "start_time": "2024-02-28T07:53:12.264Z"
   },
   {
    "duration": 21,
    "start_time": "2024-02-28T07:53:12.299Z"
   },
   {
    "duration": 27,
    "start_time": "2024-02-28T07:53:12.322Z"
   },
   {
    "duration": 26,
    "start_time": "2024-02-28T07:53:12.351Z"
   },
   {
    "duration": 21,
    "start_time": "2024-02-28T07:53:12.378Z"
   },
   {
    "duration": 19,
    "start_time": "2024-02-28T07:53:12.401Z"
   },
   {
    "duration": 46,
    "start_time": "2024-02-28T07:53:12.421Z"
   },
   {
    "duration": 28,
    "start_time": "2024-02-28T07:53:12.468Z"
   },
   {
    "duration": 32,
    "start_time": "2024-02-28T07:53:12.498Z"
   },
   {
    "duration": 15,
    "start_time": "2024-02-28T07:53:12.531Z"
   },
   {
    "duration": 16,
    "start_time": "2024-02-28T07:53:12.547Z"
   },
   {
    "duration": 24,
    "start_time": "2024-02-28T07:53:12.564Z"
   },
   {
    "duration": 154,
    "start_time": "2024-02-28T07:53:12.589Z"
   },
   {
    "duration": 124,
    "start_time": "2024-02-28T07:53:12.744Z"
   },
   {
    "duration": 4,
    "start_time": "2024-02-28T07:53:12.870Z"
   },
   {
    "duration": 25,
    "start_time": "2024-02-28T07:53:12.876Z"
   },
   {
    "duration": 15,
    "start_time": "2024-02-28T07:53:12.903Z"
   },
   {
    "duration": 22,
    "start_time": "2024-02-28T07:53:12.920Z"
   },
   {
    "duration": 19,
    "start_time": "2024-02-28T07:53:12.943Z"
   },
   {
    "duration": 238,
    "start_time": "2024-02-28T07:53:12.963Z"
   },
   {
    "duration": 1841,
    "start_time": "2024-02-28T07:53:13.202Z"
   },
   {
    "duration": 11,
    "start_time": "2024-02-28T07:53:15.044Z"
   },
   {
    "duration": 76,
    "start_time": "2024-02-28T07:53:15.056Z"
   },
   {
    "duration": 153,
    "start_time": "2024-02-28T07:53:15.133Z"
   },
   {
    "duration": 49,
    "start_time": "2024-02-28T07:53:15.288Z"
   },
   {
    "duration": 1435,
    "start_time": "2024-02-28T07:53:15.338Z"
   },
   {
    "duration": 11,
    "start_time": "2024-02-28T07:53:16.774Z"
   },
   {
    "duration": 222,
    "start_time": "2024-02-28T07:53:16.787Z"
   },
   {
    "duration": 8,
    "start_time": "2024-02-28T07:53:17.010Z"
   },
   {
    "duration": 276,
    "start_time": "2024-02-28T07:53:17.022Z"
   },
   {
    "duration": 15,
    "start_time": "2024-02-28T07:53:17.299Z"
   },
   {
    "duration": 89,
    "start_time": "2024-02-28T07:53:17.316Z"
   },
   {
    "duration": 43,
    "start_time": "2024-02-28T07:53:17.406Z"
   },
   {
    "duration": 27,
    "start_time": "2024-02-28T07:53:17.451Z"
   },
   {
    "duration": 19,
    "start_time": "2024-02-28T07:53:17.479Z"
   },
   {
    "duration": 253,
    "start_time": "2024-02-28T07:53:17.499Z"
   },
   {
    "duration": 11,
    "start_time": "2024-02-28T07:53:17.753Z"
   },
   {
    "duration": 142,
    "start_time": "2024-02-28T07:53:17.765Z"
   },
   {
    "duration": 11,
    "start_time": "2024-02-28T07:53:21.545Z"
   },
   {
    "duration": 1647,
    "start_time": "2024-02-28T07:53:22.201Z"
   },
   {
    "duration": 17,
    "start_time": "2024-02-28T07:53:55.249Z"
   },
   {
    "duration": 16,
    "start_time": "2024-02-28T07:54:15.467Z"
   },
   {
    "duration": 16,
    "start_time": "2024-02-28T07:55:04.917Z"
   },
   {
    "duration": 3,
    "start_time": "2024-02-28T07:55:31.962Z"
   },
   {
    "duration": 20,
    "start_time": "2024-02-28T07:55:54.089Z"
   },
   {
    "duration": 21,
    "start_time": "2024-02-28T07:57:23.459Z"
   },
   {
    "duration": 21,
    "start_time": "2024-02-28T07:57:37.450Z"
   },
   {
    "duration": 21,
    "start_time": "2024-02-28T07:57:50.780Z"
   },
   {
    "duration": 15,
    "start_time": "2024-02-28T07:57:54.994Z"
   },
   {
    "duration": 19,
    "start_time": "2024-02-28T07:57:57.266Z"
   },
   {
    "duration": 13,
    "start_time": "2024-02-28T07:57:58.346Z"
   },
   {
    "duration": 1866,
    "start_time": "2024-02-28T07:58:00.050Z"
   },
   {
    "duration": 155,
    "start_time": "2024-02-28T07:58:01.918Z"
   },
   {
    "duration": 9,
    "start_time": "2024-02-28T07:58:02.074Z"
   },
   {
    "duration": 251,
    "start_time": "2024-02-28T07:58:03.161Z"
   },
   {
    "duration": 130,
    "start_time": "2024-02-28T07:58:03.769Z"
   },
   {
    "duration": 11,
    "start_time": "2024-02-28T07:58:38.970Z"
   },
   {
    "duration": 1278,
    "start_time": "2024-02-28T07:58:41.322Z"
   },
   {
    "duration": 143,
    "start_time": "2024-02-28T07:58:42.601Z"
   },
   {
    "duration": 8,
    "start_time": "2024-02-28T07:58:44.890Z"
   },
   {
    "duration": 246,
    "start_time": "2024-02-28T07:58:46.610Z"
   },
   {
    "duration": 137,
    "start_time": "2024-02-28T07:58:47.792Z"
   },
   {
    "duration": 8,
    "start_time": "2024-02-28T07:58:50.364Z"
   },
   {
    "duration": 28,
    "start_time": "2024-02-28T07:58:59.485Z"
   },
   {
    "duration": 1548,
    "start_time": "2024-02-28T08:32:20.834Z"
   },
   {
    "duration": 1689,
    "start_time": "2024-02-28T08:32:38.275Z"
   },
   {
    "duration": 1709,
    "start_time": "2024-02-28T08:33:00.451Z"
   },
   {
    "duration": 1652,
    "start_time": "2024-02-28T08:33:35.994Z"
   },
   {
    "duration": 8,
    "start_time": "2024-02-28T08:38:14.683Z"
   },
   {
    "duration": 1593,
    "start_time": "2024-02-28T08:38:46.867Z"
   },
   {
    "duration": 1641,
    "start_time": "2024-02-28T08:39:25.811Z"
   },
   {
    "duration": 8,
    "start_time": "2024-02-28T08:40:37.853Z"
   },
   {
    "duration": 10,
    "start_time": "2024-02-28T08:40:46.395Z"
   },
   {
    "duration": 5150,
    "start_time": "2024-02-28T08:41:11.484Z"
   },
   {
    "duration": 5,
    "start_time": "2024-02-28T08:51:56.879Z"
   },
   {
    "duration": 3293,
    "start_time": "2024-02-28T09:03:27.450Z"
   },
   {
    "duration": 344,
    "start_time": "2024-02-28T09:03:50.699Z"
   },
   {
    "duration": 349,
    "start_time": "2024-02-28T09:07:02.610Z"
   },
   {
    "duration": 376,
    "start_time": "2024-02-28T09:07:17.322Z"
   },
   {
    "duration": 478,
    "start_time": "2024-02-28T09:08:34.659Z"
   },
   {
    "duration": 480,
    "start_time": "2024-02-28T09:08:55.154Z"
   },
   {
    "duration": 8,
    "start_time": "2024-02-28T09:11:20.542Z"
   },
   {
    "duration": 958,
    "start_time": "2024-02-28T09:12:59.042Z"
   },
   {
    "duration": 475,
    "start_time": "2024-02-28T09:13:42.449Z"
   },
   {
    "duration": 131,
    "start_time": "2024-02-28T09:14:26.226Z"
   },
   {
    "duration": 133,
    "start_time": "2024-02-28T09:15:31.974Z"
   },
   {
    "duration": 140,
    "start_time": "2024-02-28T09:16:37.122Z"
   },
   {
    "duration": 150,
    "start_time": "2024-02-28T09:17:09.994Z"
   },
   {
    "duration": 161,
    "start_time": "2024-02-28T09:17:23.386Z"
   },
   {
    "duration": 160,
    "start_time": "2024-02-28T09:18:21.602Z"
   },
   {
    "duration": 4,
    "start_time": "2024-02-28T09:24:45.306Z"
   },
   {
    "duration": 541,
    "start_time": "2024-02-28T09:24:53.858Z"
   },
   {
    "duration": 358,
    "start_time": "2024-02-28T09:25:12.481Z"
   },
   {
    "duration": 281,
    "start_time": "2024-02-28T09:25:24.074Z"
   },
   {
    "duration": 158,
    "start_time": "2024-02-28T09:25:53.377Z"
   },
   {
    "duration": 149,
    "start_time": "2024-02-28T09:26:34.674Z"
   },
   {
    "duration": 158,
    "start_time": "2024-02-28T09:26:53.506Z"
   },
   {
    "duration": 3,
    "start_time": "2024-02-28T09:27:59.971Z"
   },
   {
    "duration": 72,
    "start_time": "2024-02-28T09:27:59.975Z"
   },
   {
    "duration": 11,
    "start_time": "2024-02-28T09:28:00.048Z"
   },
   {
    "duration": 71,
    "start_time": "2024-02-28T09:28:00.060Z"
   },
   {
    "duration": 63,
    "start_time": "2024-02-28T09:28:00.133Z"
   },
   {
    "duration": 145,
    "start_time": "2024-02-28T09:28:00.198Z"
   },
   {
    "duration": 79,
    "start_time": "2024-02-28T09:28:00.345Z"
   },
   {
    "duration": 47,
    "start_time": "2024-02-28T09:28:00.426Z"
   },
   {
    "duration": 48,
    "start_time": "2024-02-28T09:28:00.475Z"
   },
   {
    "duration": 102,
    "start_time": "2024-02-28T09:28:00.525Z"
   },
   {
    "duration": 63,
    "start_time": "2024-02-28T09:28:00.629Z"
   },
   {
    "duration": 91,
    "start_time": "2024-02-28T09:28:00.693Z"
   },
   {
    "duration": 70,
    "start_time": "2024-02-28T09:28:00.785Z"
   },
   {
    "duration": 55,
    "start_time": "2024-02-28T09:28:00.857Z"
   },
   {
    "duration": 144,
    "start_time": "2024-02-28T09:28:00.914Z"
   },
   {
    "duration": 67,
    "start_time": "2024-02-28T09:28:01.059Z"
   },
   {
    "duration": 92,
    "start_time": "2024-02-28T09:28:01.128Z"
   },
   {
    "duration": 135,
    "start_time": "2024-02-28T09:28:01.222Z"
   },
   {
    "duration": 99,
    "start_time": "2024-02-28T09:28:01.358Z"
   },
   {
    "duration": 139,
    "start_time": "2024-02-28T09:28:01.459Z"
   },
   {
    "duration": 227,
    "start_time": "2024-02-28T09:28:01.599Z"
   },
   {
    "duration": 137,
    "start_time": "2024-02-28T09:28:01.827Z"
   },
   {
    "duration": 4,
    "start_time": "2024-02-28T09:28:01.966Z"
   },
   {
    "duration": 54,
    "start_time": "2024-02-28T09:28:01.971Z"
   },
   {
    "duration": 83,
    "start_time": "2024-02-28T09:28:02.026Z"
   },
   {
    "duration": 58,
    "start_time": "2024-02-28T09:28:02.111Z"
   },
   {
    "duration": 29,
    "start_time": "2024-02-28T09:28:02.171Z"
   },
   {
    "duration": 274,
    "start_time": "2024-02-28T09:28:02.202Z"
   },
   {
    "duration": 1440,
    "start_time": "2024-02-28T09:28:02.478Z"
   },
   {
    "duration": 11,
    "start_time": "2024-02-28T09:28:03.920Z"
   },
   {
    "duration": 186,
    "start_time": "2024-02-28T09:28:03.932Z"
   },
   {
    "duration": 114,
    "start_time": "2024-02-28T09:28:04.121Z"
   },
   {
    "duration": 66,
    "start_time": "2024-02-28T09:28:04.237Z"
   },
   {
    "duration": 1420,
    "start_time": "2024-02-28T09:28:04.305Z"
   },
   {
    "duration": 10,
    "start_time": "2024-02-28T09:28:05.726Z"
   },
   {
    "duration": 194,
    "start_time": "2024-02-28T09:28:05.738Z"
   },
   {
    "duration": 7,
    "start_time": "2024-02-28T09:28:05.934Z"
   },
   {
    "duration": 1126,
    "start_time": "2024-02-28T09:28:05.942Z"
   },
   {
    "duration": 14,
    "start_time": "2024-02-28T09:28:07.070Z"
   },
   {
    "duration": 47,
    "start_time": "2024-02-28T09:28:07.094Z"
   },
   {
    "duration": 30,
    "start_time": "2024-02-28T09:28:07.145Z"
   },
   {
    "duration": 40,
    "start_time": "2024-02-28T09:28:07.176Z"
   },
   {
    "duration": 18,
    "start_time": "2024-02-28T09:28:07.218Z"
   },
   {
    "duration": 289,
    "start_time": "2024-02-28T09:28:07.238Z"
   },
   {
    "duration": 10,
    "start_time": "2024-02-28T09:28:07.528Z"
   },
   {
    "duration": 164,
    "start_time": "2024-02-28T09:28:07.540Z"
   },
   {
    "duration": 13,
    "start_time": "2024-02-28T09:28:07.706Z"
   },
   {
    "duration": 29,
    "start_time": "2024-02-28T09:28:07.721Z"
   },
   {
    "duration": 35,
    "start_time": "2024-02-28T09:28:07.752Z"
   },
   {
    "duration": 23,
    "start_time": "2024-02-28T09:28:07.789Z"
   },
   {
    "duration": 18,
    "start_time": "2024-02-28T09:28:07.814Z"
   },
   {
    "duration": 23,
    "start_time": "2024-02-28T09:28:07.833Z"
   },
   {
    "duration": 482,
    "start_time": "2024-02-28T09:28:07.857Z"
   },
   {
    "duration": 174,
    "start_time": "2024-02-28T09:28:08.341Z"
   },
   {
    "duration": 153,
    "start_time": "2024-02-28T09:28:08.516Z"
   },
   {
    "duration": 7,
    "start_time": "2024-02-28T09:28:08.671Z"
   },
   {
    "duration": 26,
    "start_time": "2024-02-28T09:28:08.679Z"
   },
   {
    "duration": 290,
    "start_time": "2024-02-28T09:28:08.706Z"
   },
   {
    "duration": 161,
    "start_time": "2024-02-28T09:28:08.998Z"
   },
   {
    "duration": 154,
    "start_time": "2024-02-28T09:28:09.161Z"
   },
   {
    "duration": 11,
    "start_time": "2024-02-28T09:28:09.316Z"
   },
   {
    "duration": 20,
    "start_time": "2024-02-28T09:28:09.329Z"
   },
   {
    "duration": 8,
    "start_time": "2024-02-28T09:28:28.169Z"
   },
   {
    "duration": 35,
    "start_time": "2024-02-28T09:29:37.425Z"
   },
   {
    "duration": 335,
    "start_time": "2024-02-28T09:30:44.426Z"
   },
   {
    "duration": 20,
    "start_time": "2024-02-28T09:32:07.106Z"
   },
   {
    "duration": 19,
    "start_time": "2024-02-28T09:32:09.499Z"
   },
   {
    "duration": 13,
    "start_time": "2024-02-28T09:32:10.870Z"
   },
   {
    "duration": 16,
    "start_time": "2024-02-28T09:32:13.290Z"
   },
   {
    "duration": 12,
    "start_time": "2024-02-28T09:32:14.146Z"
   },
   {
    "duration": 309,
    "start_time": "2024-02-28T09:32:17.995Z"
   },
   {
    "duration": 158,
    "start_time": "2024-02-28T09:32:19.580Z"
   },
   {
    "duration": 145,
    "start_time": "2024-02-28T09:32:20.362Z"
   },
   {
    "duration": 8,
    "start_time": "2024-02-28T09:32:21.210Z"
   },
   {
    "duration": 8,
    "start_time": "2024-02-28T09:32:22.257Z"
   },
   {
    "duration": 257,
    "start_time": "2024-02-28T09:32:24.691Z"
   },
   {
    "duration": 136,
    "start_time": "2024-02-28T09:32:27.044Z"
   },
   {
    "duration": 156,
    "start_time": "2024-02-28T09:33:01.898Z"
   },
   {
    "duration": 7,
    "start_time": "2024-02-28T09:33:02.922Z"
   },
   {
    "duration": 8,
    "start_time": "2024-02-28T09:33:03.761Z"
   },
   {
    "duration": 31,
    "start_time": "2024-02-28T09:34:22.595Z"
   },
   {
    "duration": 38,
    "start_time": "2024-02-28T09:37:12.803Z"
   },
   {
    "duration": 39,
    "start_time": "2024-02-28T09:37:46.791Z"
   },
   {
    "duration": 51,
    "start_time": "2024-02-28T09:37:56.579Z"
   },
   {
    "duration": 19,
    "start_time": "2024-02-28T09:52:28.131Z"
   },
   {
    "duration": 16,
    "start_time": "2024-02-28T09:52:52.529Z"
   },
   {
    "duration": 30,
    "start_time": "2024-02-28T09:53:09.422Z"
   },
   {
    "duration": 3,
    "start_time": "2024-02-28T09:54:04.480Z"
   },
   {
    "duration": 105,
    "start_time": "2024-02-28T09:54:04.485Z"
   },
   {
    "duration": 11,
    "start_time": "2024-02-28T09:54:04.592Z"
   },
   {
    "duration": 30,
    "start_time": "2024-02-28T09:54:04.606Z"
   },
   {
    "duration": 78,
    "start_time": "2024-02-28T09:54:04.638Z"
   },
   {
    "duration": 63,
    "start_time": "2024-02-28T09:54:04.718Z"
   },
   {
    "duration": 7,
    "start_time": "2024-02-28T09:54:04.782Z"
   },
   {
    "duration": 8,
    "start_time": "2024-02-28T09:54:04.790Z"
   },
   {
    "duration": 11,
    "start_time": "2024-02-28T09:54:04.800Z"
   },
   {
    "duration": 9,
    "start_time": "2024-02-28T09:54:04.813Z"
   },
   {
    "duration": 10,
    "start_time": "2024-02-28T09:54:04.823Z"
   },
   {
    "duration": 23,
    "start_time": "2024-02-28T09:54:04.834Z"
   },
   {
    "duration": 8,
    "start_time": "2024-02-28T09:54:04.858Z"
   },
   {
    "duration": 15,
    "start_time": "2024-02-28T09:54:04.869Z"
   },
   {
    "duration": 19,
    "start_time": "2024-02-28T09:54:04.886Z"
   },
   {
    "duration": 8,
    "start_time": "2024-02-28T09:54:04.907Z"
   },
   {
    "duration": 15,
    "start_time": "2024-02-28T09:54:04.917Z"
   },
   {
    "duration": 15,
    "start_time": "2024-02-28T09:54:04.934Z"
   },
   {
    "duration": 30,
    "start_time": "2024-02-28T09:54:04.951Z"
   },
   {
    "duration": 10,
    "start_time": "2024-02-28T09:54:04.983Z"
   },
   {
    "duration": 176,
    "start_time": "2024-02-28T09:54:04.995Z"
   },
   {
    "duration": 133,
    "start_time": "2024-02-28T09:54:05.172Z"
   },
   {
    "duration": 4,
    "start_time": "2024-02-28T09:54:05.307Z"
   },
   {
    "duration": 13,
    "start_time": "2024-02-28T09:54:05.313Z"
   },
   {
    "duration": 8,
    "start_time": "2024-02-28T09:54:05.328Z"
   },
   {
    "duration": 18,
    "start_time": "2024-02-28T09:54:05.338Z"
   },
   {
    "duration": 8,
    "start_time": "2024-02-28T09:54:05.357Z"
   },
   {
    "duration": 265,
    "start_time": "2024-02-28T09:54:05.366Z"
   },
   {
    "duration": 1283,
    "start_time": "2024-02-28T09:54:05.633Z"
   },
   {
    "duration": 11,
    "start_time": "2024-02-28T09:54:06.917Z"
   },
   {
    "duration": 8,
    "start_time": "2024-02-28T09:54:06.929Z"
   },
   {
    "duration": 12,
    "start_time": "2024-02-28T09:54:06.939Z"
   },
   {
    "duration": 36,
    "start_time": "2024-02-28T09:54:06.952Z"
   },
   {
    "duration": 1305,
    "start_time": "2024-02-28T09:54:06.990Z"
   },
   {
    "duration": 10,
    "start_time": "2024-02-28T09:54:08.297Z"
   },
   {
    "duration": 149,
    "start_time": "2024-02-28T09:54:08.309Z"
   },
   {
    "duration": 7,
    "start_time": "2024-02-28T09:54:08.460Z"
   },
   {
    "duration": 253,
    "start_time": "2024-02-28T09:54:08.468Z"
   },
   {
    "duration": 14,
    "start_time": "2024-02-28T09:54:08.723Z"
   },
   {
    "duration": 44,
    "start_time": "2024-02-28T09:54:08.739Z"
   },
   {
    "duration": 46,
    "start_time": "2024-02-28T09:54:08.786Z"
   },
   {
    "duration": 48,
    "start_time": "2024-02-28T09:54:08.833Z"
   },
   {
    "duration": 70,
    "start_time": "2024-02-28T09:54:08.883Z"
   },
   {
    "duration": 310,
    "start_time": "2024-02-28T09:54:08.954Z"
   },
   {
    "duration": 10,
    "start_time": "2024-02-28T09:54:09.265Z"
   },
   {
    "duration": 135,
    "start_time": "2024-02-28T09:54:09.277Z"
   },
   {
    "duration": 13,
    "start_time": "2024-02-28T09:54:09.414Z"
   },
   {
    "duration": 28,
    "start_time": "2024-02-28T09:54:09.429Z"
   },
   {
    "duration": 36,
    "start_time": "2024-02-28T09:54:09.459Z"
   },
   {
    "duration": 13,
    "start_time": "2024-02-28T09:54:09.496Z"
   },
   {
    "duration": 36,
    "start_time": "2024-02-28T09:54:09.510Z"
   },
   {
    "duration": 11,
    "start_time": "2024-02-28T09:54:09.548Z"
   },
   {
    "duration": 320,
    "start_time": "2024-02-28T09:54:09.561Z"
   },
   {
    "duration": 165,
    "start_time": "2024-02-28T09:54:09.882Z"
   },
   {
    "duration": 146,
    "start_time": "2024-02-28T09:54:10.049Z"
   },
   {
    "duration": 9,
    "start_time": "2024-02-28T09:54:10.197Z"
   },
   {
    "duration": 24,
    "start_time": "2024-02-28T09:54:10.207Z"
   },
   {
    "duration": 1278,
    "start_time": "2024-02-28T09:54:10.233Z"
   },
   {
    "duration": 150,
    "start_time": "2024-02-28T09:54:11.514Z"
   },
   {
    "duration": 151,
    "start_time": "2024-02-28T09:54:11.666Z"
   },
   {
    "duration": 9,
    "start_time": "2024-02-28T09:54:11.819Z"
   },
   {
    "duration": 39,
    "start_time": "2024-02-28T09:54:11.829Z"
   },
   {
    "duration": 50,
    "start_time": "2024-02-28T09:54:11.870Z"
   },
   {
    "duration": 23,
    "start_time": "2024-02-28T09:54:16.104Z"
   },
   {
    "duration": 33,
    "start_time": "2024-02-28T10:03:11.474Z"
   },
   {
    "duration": 21,
    "start_time": "2024-02-28T10:03:17.026Z"
   },
   {
    "duration": 194,
    "start_time": "2024-02-28T10:12:51.043Z"
   },
   {
    "duration": 188,
    "start_time": "2024-02-28T10:13:55.094Z"
   },
   {
    "duration": 193,
    "start_time": "2024-02-28T10:14:15.850Z"
   },
   {
    "duration": 217,
    "start_time": "2024-02-28T10:15:44.653Z"
   },
   {
    "duration": 192,
    "start_time": "2024-02-28T10:19:54.105Z"
   },
   {
    "duration": 11,
    "start_time": "2024-02-28T10:24:54.123Z"
   },
   {
    "duration": 31,
    "start_time": "2024-02-28T10:25:56.515Z"
   },
   {
    "duration": 22,
    "start_time": "2024-02-28T10:27:34.351Z"
   },
   {
    "duration": 27,
    "start_time": "2024-02-28T10:27:50.904Z"
   },
   {
    "duration": 21,
    "start_time": "2024-02-28T10:28:14.235Z"
   },
   {
    "duration": 23,
    "start_time": "2024-02-28T10:28:19.898Z"
   },
   {
    "duration": 186,
    "start_time": "2024-02-28T10:30:05.714Z"
   },
   {
    "duration": 22,
    "start_time": "2024-02-28T10:30:18.545Z"
   },
   {
    "duration": 23,
    "start_time": "2024-02-28T10:35:58.392Z"
   },
   {
    "duration": 20,
    "start_time": "2024-02-28T10:36:20.696Z"
   },
   {
    "duration": 92,
    "start_time": "2024-02-28T10:49:53.723Z"
   },
   {
    "duration": 11,
    "start_time": "2024-02-28T10:51:34.059Z"
   },
   {
    "duration": 3,
    "start_time": "2024-02-28T10:52:25.363Z"
   },
   {
    "duration": 3,
    "start_time": "2024-02-28T10:52:46.656Z"
   },
   {
    "duration": 78,
    "start_time": "2024-02-28T10:52:46.660Z"
   },
   {
    "duration": 9,
    "start_time": "2024-02-28T10:52:46.739Z"
   },
   {
    "duration": 16,
    "start_time": "2024-02-28T10:52:46.750Z"
   },
   {
    "duration": 26,
    "start_time": "2024-02-28T10:52:46.767Z"
   },
   {
    "duration": 22,
    "start_time": "2024-02-28T10:52:46.794Z"
   },
   {
    "duration": 15,
    "start_time": "2024-02-28T10:52:46.818Z"
   },
   {
    "duration": 22,
    "start_time": "2024-02-28T10:52:46.835Z"
   },
   {
    "duration": 18,
    "start_time": "2024-02-28T10:52:46.859Z"
   },
   {
    "duration": 13,
    "start_time": "2024-02-28T10:52:46.879Z"
   },
   {
    "duration": 17,
    "start_time": "2024-02-28T10:52:46.893Z"
   },
   {
    "duration": 8,
    "start_time": "2024-02-28T10:52:46.912Z"
   },
   {
    "duration": 27,
    "start_time": "2024-02-28T10:52:46.922Z"
   },
   {
    "duration": 8,
    "start_time": "2024-02-28T10:52:46.951Z"
   },
   {
    "duration": 7,
    "start_time": "2024-02-28T10:52:46.961Z"
   },
   {
    "duration": 5,
    "start_time": "2024-02-28T10:52:46.969Z"
   },
   {
    "duration": 8,
    "start_time": "2024-02-28T10:52:46.975Z"
   },
   {
    "duration": 22,
    "start_time": "2024-02-28T10:52:46.984Z"
   },
   {
    "duration": 31,
    "start_time": "2024-02-28T10:52:47.007Z"
   },
   {
    "duration": 8,
    "start_time": "2024-02-28T10:52:47.040Z"
   },
   {
    "duration": 140,
    "start_time": "2024-02-28T10:52:47.049Z"
   },
   {
    "duration": 130,
    "start_time": "2024-02-28T10:52:47.193Z"
   },
   {
    "duration": 4,
    "start_time": "2024-02-28T10:52:47.325Z"
   },
   {
    "duration": 23,
    "start_time": "2024-02-28T10:52:47.332Z"
   },
   {
    "duration": 5,
    "start_time": "2024-02-28T10:52:47.356Z"
   },
   {
    "duration": 26,
    "start_time": "2024-02-28T10:52:47.363Z"
   },
   {
    "duration": 63,
    "start_time": "2024-02-28T10:52:47.391Z"
   },
   {
    "duration": 250,
    "start_time": "2024-02-28T10:52:47.457Z"
   },
   {
    "duration": 1333,
    "start_time": "2024-02-28T10:52:47.709Z"
   },
   {
    "duration": 11,
    "start_time": "2024-02-28T10:52:49.044Z"
   },
   {
    "duration": 16,
    "start_time": "2024-02-28T10:52:49.057Z"
   },
   {
    "duration": 21,
    "start_time": "2024-02-28T10:52:49.075Z"
   },
   {
    "duration": 35,
    "start_time": "2024-02-28T10:52:49.097Z"
   },
   {
    "duration": 1313,
    "start_time": "2024-02-28T10:52:49.134Z"
   },
   {
    "duration": 11,
    "start_time": "2024-02-28T10:52:50.449Z"
   },
   {
    "duration": 144,
    "start_time": "2024-02-28T10:52:50.461Z"
   },
   {
    "duration": 7,
    "start_time": "2024-02-28T10:52:50.606Z"
   },
   {
    "duration": 254,
    "start_time": "2024-02-28T10:52:50.615Z"
   },
   {
    "duration": 14,
    "start_time": "2024-02-28T10:52:50.871Z"
   },
   {
    "duration": 50,
    "start_time": "2024-02-28T10:52:50.886Z"
   },
   {
    "duration": 39,
    "start_time": "2024-02-28T10:52:50.938Z"
   },
   {
    "duration": 22,
    "start_time": "2024-02-28T10:52:50.978Z"
   },
   {
    "duration": 18,
    "start_time": "2024-02-28T10:52:51.001Z"
   },
   {
    "duration": 270,
    "start_time": "2024-02-28T10:52:51.020Z"
   },
   {
    "duration": 11,
    "start_time": "2024-02-28T10:52:51.292Z"
   },
   {
    "duration": 155,
    "start_time": "2024-02-28T10:52:51.304Z"
   },
   {
    "duration": 14,
    "start_time": "2024-02-28T10:52:51.460Z"
   },
   {
    "duration": 32,
    "start_time": "2024-02-28T10:52:51.475Z"
   },
   {
    "duration": 19,
    "start_time": "2024-02-28T10:52:51.509Z"
   },
   {
    "duration": 29,
    "start_time": "2024-02-28T10:52:51.530Z"
   },
   {
    "duration": 16,
    "start_time": "2024-02-28T10:52:51.561Z"
   },
   {
    "duration": 22,
    "start_time": "2024-02-28T10:52:51.579Z"
   },
   {
    "duration": 340,
    "start_time": "2024-02-28T10:52:51.602Z"
   },
   {
    "duration": 161,
    "start_time": "2024-02-28T10:52:51.944Z"
   },
   {
    "duration": 150,
    "start_time": "2024-02-28T10:52:52.107Z"
   },
   {
    "duration": 9,
    "start_time": "2024-02-28T10:52:52.259Z"
   },
   {
    "duration": 7,
    "start_time": "2024-02-28T10:52:52.270Z"
   },
   {
    "duration": 288,
    "start_time": "2024-02-28T10:52:52.278Z"
   },
   {
    "duration": 155,
    "start_time": "2024-02-28T10:52:52.568Z"
   },
   {
    "duration": 152,
    "start_time": "2024-02-28T10:52:52.724Z"
   },
   {
    "duration": 16,
    "start_time": "2024-02-28T10:52:52.878Z"
   },
   {
    "duration": 7,
    "start_time": "2024-02-28T10:52:52.896Z"
   },
   {
    "duration": 40,
    "start_time": "2024-02-28T10:52:52.905Z"
   },
   {
    "duration": 19,
    "start_time": "2024-02-28T10:52:52.947Z"
   },
   {
    "duration": 207,
    "start_time": "2024-02-28T10:52:52.968Z"
   },
   {
    "duration": 33,
    "start_time": "2024-02-28T10:52:53.176Z"
   },
   {
    "duration": 10,
    "start_time": "2024-02-28T10:53:00.219Z"
   },
   {
    "duration": 3,
    "start_time": "2024-02-28T10:55:44.453Z"
   },
   {
    "duration": 78,
    "start_time": "2024-02-28T10:56:06.174Z"
   },
   {
    "duration": 90,
    "start_time": "2024-02-28T10:56:25.501Z"
   },
   {
    "duration": 5,
    "start_time": "2024-02-28T10:59:42.782Z"
   },
   {
    "duration": 251,
    "start_time": "2024-02-28T11:00:18.046Z"
   },
   {
    "duration": 6,
    "start_time": "2024-02-28T11:02:31.686Z"
   },
   {
    "duration": 6,
    "start_time": "2024-02-28T11:07:35.979Z"
   },
   {
    "duration": 5,
    "start_time": "2024-02-28T11:07:56.054Z"
   },
   {
    "duration": 5,
    "start_time": "2024-02-28T11:10:37.542Z"
   },
   {
    "duration": 4,
    "start_time": "2024-02-28T11:10:56.497Z"
   },
   {
    "duration": 5,
    "start_time": "2024-02-28T11:11:11.798Z"
   },
   {
    "duration": 5,
    "start_time": "2024-02-28T11:13:26.630Z"
   },
   {
    "duration": 5,
    "start_time": "2024-02-28T11:19:29.768Z"
   },
   {
    "duration": 5,
    "start_time": "2024-02-28T11:26:16.954Z"
   },
   {
    "duration": 3,
    "start_time": "2024-02-28T11:26:39.154Z"
   },
   {
    "duration": 206,
    "start_time": "2024-02-28T11:29:59.339Z"
   },
   {
    "duration": 178,
    "start_time": "2024-02-28T11:30:26.116Z"
   },
   {
    "duration": 26,
    "start_time": "2024-02-28T11:30:45.524Z"
   },
   {
    "duration": 11,
    "start_time": "2024-02-28T11:31:23.402Z"
   },
   {
    "duration": 9,
    "start_time": "2024-02-28T11:38:09.185Z"
   },
   {
    "duration": 4,
    "start_time": "2024-02-28T11:38:37.249Z"
   },
   {
    "duration": 6,
    "start_time": "2024-02-28T11:38:47.649Z"
   },
   {
    "duration": 8,
    "start_time": "2024-02-28T11:38:57.129Z"
   },
   {
    "duration": 1746,
    "start_time": "2024-02-28T11:40:00.368Z"
   },
   {
    "duration": 6,
    "start_time": "2024-02-28T11:40:02.680Z"
   },
   {
    "duration": 1526,
    "start_time": "2024-02-28T11:40:16.568Z"
   },
   {
    "duration": 1681,
    "start_time": "2024-02-28T11:40:38.392Z"
   },
   {
    "duration": 23,
    "start_time": "2024-02-28T11:41:32.152Z"
   },
   {
    "duration": 1729,
    "start_time": "2024-02-28T11:41:34.447Z"
   },
   {
    "duration": 3,
    "start_time": "2024-02-28T11:42:37.301Z"
   },
   {
    "duration": 100,
    "start_time": "2024-02-28T11:42:37.307Z"
   },
   {
    "duration": 12,
    "start_time": "2024-02-28T11:42:37.408Z"
   },
   {
    "duration": 17,
    "start_time": "2024-02-28T11:42:37.422Z"
   },
   {
    "duration": 60,
    "start_time": "2024-02-28T11:42:37.442Z"
   },
   {
    "duration": 26,
    "start_time": "2024-02-28T11:42:37.503Z"
   },
   {
    "duration": 11,
    "start_time": "2024-02-28T11:42:37.531Z"
   },
   {
    "duration": 41,
    "start_time": "2024-02-28T11:42:37.543Z"
   },
   {
    "duration": 22,
    "start_time": "2024-02-28T11:42:37.586Z"
   },
   {
    "duration": 18,
    "start_time": "2024-02-28T11:42:37.609Z"
   },
   {
    "duration": 21,
    "start_time": "2024-02-28T11:42:37.629Z"
   },
   {
    "duration": 17,
    "start_time": "2024-02-28T11:42:37.652Z"
   },
   {
    "duration": 14,
    "start_time": "2024-02-28T11:42:37.671Z"
   },
   {
    "duration": 19,
    "start_time": "2024-02-28T11:42:37.687Z"
   },
   {
    "duration": 16,
    "start_time": "2024-02-28T11:42:37.707Z"
   },
   {
    "duration": 17,
    "start_time": "2024-02-28T11:42:37.724Z"
   },
   {
    "duration": 49,
    "start_time": "2024-02-28T11:42:37.742Z"
   },
   {
    "duration": 4,
    "start_time": "2024-02-28T11:42:37.793Z"
   },
   {
    "duration": 9,
    "start_time": "2024-02-28T11:42:37.798Z"
   },
   {
    "duration": 11,
    "start_time": "2024-02-28T11:42:37.809Z"
   },
   {
    "duration": 154,
    "start_time": "2024-02-28T11:42:37.821Z"
   },
   {
    "duration": 135,
    "start_time": "2024-02-28T11:42:37.977Z"
   },
   {
    "duration": 5,
    "start_time": "2024-02-28T11:42:38.114Z"
   },
   {
    "duration": 26,
    "start_time": "2024-02-28T11:42:38.120Z"
   },
   {
    "duration": 15,
    "start_time": "2024-02-28T11:42:38.148Z"
   },
   {
    "duration": 16,
    "start_time": "2024-02-28T11:42:38.165Z"
   },
   {
    "duration": 7,
    "start_time": "2024-02-28T11:42:38.182Z"
   },
   {
    "duration": 253,
    "start_time": "2024-02-28T11:42:38.194Z"
   },
   {
    "duration": 1331,
    "start_time": "2024-02-28T11:42:38.450Z"
   },
   {
    "duration": 15,
    "start_time": "2024-02-28T11:42:39.783Z"
   },
   {
    "duration": 22,
    "start_time": "2024-02-28T11:42:39.799Z"
   },
   {
    "duration": 19,
    "start_time": "2024-02-28T11:42:39.823Z"
   },
   {
    "duration": 12,
    "start_time": "2024-02-28T11:42:39.843Z"
   },
   {
    "duration": 2491,
    "start_time": "2024-02-28T11:42:39.856Z"
   },
   {
    "duration": 10,
    "start_time": "2024-02-28T11:42:42.348Z"
   },
   {
    "duration": 147,
    "start_time": "2024-02-28T11:42:42.360Z"
   },
   {
    "duration": 7,
    "start_time": "2024-02-28T11:42:42.511Z"
   },
   {
    "duration": 239,
    "start_time": "2024-02-28T11:42:42.520Z"
   },
   {
    "duration": 15,
    "start_time": "2024-02-28T11:42:42.760Z"
   },
   {
    "duration": 18,
    "start_time": "2024-02-28T11:42:42.776Z"
   },
   {
    "duration": 24,
    "start_time": "2024-02-28T11:42:42.795Z"
   },
   {
    "duration": 12,
    "start_time": "2024-02-28T11:42:42.821Z"
   },
   {
    "duration": 17,
    "start_time": "2024-02-28T11:42:42.834Z"
   },
   {
    "duration": 234,
    "start_time": "2024-02-28T11:42:42.853Z"
   },
   {
    "duration": 12,
    "start_time": "2024-02-28T11:42:43.089Z"
   },
   {
    "duration": 153,
    "start_time": "2024-02-28T11:42:43.102Z"
   },
   {
    "duration": 11,
    "start_time": "2024-02-28T11:42:43.257Z"
   },
   {
    "duration": 28,
    "start_time": "2024-02-28T11:42:43.270Z"
   },
   {
    "duration": 41,
    "start_time": "2024-02-28T11:42:43.300Z"
   },
   {
    "duration": 22,
    "start_time": "2024-02-28T11:42:43.343Z"
   },
   {
    "duration": 15,
    "start_time": "2024-02-28T11:42:43.367Z"
   },
   {
    "duration": 15,
    "start_time": "2024-02-28T11:42:43.384Z"
   },
   {
    "duration": 330,
    "start_time": "2024-02-28T11:42:43.400Z"
   },
   {
    "duration": 151,
    "start_time": "2024-02-28T11:42:43.732Z"
   },
   {
    "duration": 155,
    "start_time": "2024-02-28T11:42:43.893Z"
   },
   {
    "duration": 7,
    "start_time": "2024-02-28T11:42:44.050Z"
   },
   {
    "duration": 19,
    "start_time": "2024-02-28T11:42:44.058Z"
   },
   {
    "duration": 265,
    "start_time": "2024-02-28T11:42:44.078Z"
   },
   {
    "duration": 150,
    "start_time": "2024-02-28T11:42:44.345Z"
   },
   {
    "duration": 155,
    "start_time": "2024-02-28T11:42:44.496Z"
   },
   {
    "duration": 8,
    "start_time": "2024-02-28T11:42:44.652Z"
   },
   {
    "duration": 25,
    "start_time": "2024-02-28T11:42:44.661Z"
   },
   {
    "duration": 31,
    "start_time": "2024-02-28T11:42:49.639Z"
   },
   {
    "duration": 21,
    "start_time": "2024-02-28T11:42:53.487Z"
   },
   {
    "duration": 187,
    "start_time": "2024-02-28T11:42:55.774Z"
   },
   {
    "duration": 10,
    "start_time": "2024-02-28T11:43:06.199Z"
   },
   {
    "duration": 2,
    "start_time": "2024-02-28T11:43:45.471Z"
   },
   {
    "duration": 6,
    "start_time": "2024-02-28T11:43:50.470Z"
   },
   {
    "duration": 208,
    "start_time": "2024-02-28T11:44:13.406Z"
   },
   {
    "duration": 6,
    "start_time": "2024-02-28T11:44:21.336Z"
   },
   {
    "duration": 5,
    "start_time": "2024-02-28T11:44:23.174Z"
   },
   {
    "duration": 5,
    "start_time": "2024-02-28T11:44:27.022Z"
   },
   {
    "duration": 4,
    "start_time": "2024-02-28T11:44:27.822Z"
   },
   {
    "duration": 6,
    "start_time": "2024-02-28T11:44:30.041Z"
   },
   {
    "duration": 19,
    "start_time": "2024-02-28T11:44:31.222Z"
   },
   {
    "duration": 17,
    "start_time": "2024-02-28T11:44:51.255Z"
   },
   {
    "duration": 5,
    "start_time": "2024-02-28T11:46:16.478Z"
   },
   {
    "duration": 4,
    "start_time": "2024-02-28T11:47:31.999Z"
   },
   {
    "duration": 5,
    "start_time": "2024-02-28T11:48:06.518Z"
   },
   {
    "duration": 22,
    "start_time": "2024-02-28T11:49:26.460Z"
   },
   {
    "duration": 18,
    "start_time": "2024-02-28T11:49:34.687Z"
   },
   {
    "duration": 3,
    "start_time": "2024-02-28T11:51:10.410Z"
   },
   {
    "duration": 92,
    "start_time": "2024-02-28T11:51:10.414Z"
   },
   {
    "duration": 9,
    "start_time": "2024-02-28T11:51:10.508Z"
   },
   {
    "duration": 44,
    "start_time": "2024-02-28T11:51:10.519Z"
   },
   {
    "duration": 48,
    "start_time": "2024-02-28T11:51:10.564Z"
   },
   {
    "duration": 50,
    "start_time": "2024-02-28T11:51:10.613Z"
   },
   {
    "duration": 41,
    "start_time": "2024-02-28T11:51:10.665Z"
   },
   {
    "duration": 65,
    "start_time": "2024-02-28T11:51:10.707Z"
   },
   {
    "duration": 28,
    "start_time": "2024-02-28T11:51:10.774Z"
   },
   {
    "duration": 35,
    "start_time": "2024-02-28T11:51:10.804Z"
   },
   {
    "duration": 43,
    "start_time": "2024-02-28T11:51:10.841Z"
   },
   {
    "duration": 30,
    "start_time": "2024-02-28T11:51:10.886Z"
   },
   {
    "duration": 39,
    "start_time": "2024-02-28T11:51:10.918Z"
   },
   {
    "duration": 36,
    "start_time": "2024-02-28T11:51:10.958Z"
   },
   {
    "duration": 48,
    "start_time": "2024-02-28T11:51:10.995Z"
   },
   {
    "duration": 35,
    "start_time": "2024-02-28T11:51:11.044Z"
   },
   {
    "duration": 31,
    "start_time": "2024-02-28T11:51:11.080Z"
   },
   {
    "duration": 18,
    "start_time": "2024-02-28T11:51:11.113Z"
   },
   {
    "duration": 40,
    "start_time": "2024-02-28T11:51:11.132Z"
   },
   {
    "duration": 29,
    "start_time": "2024-02-28T11:51:11.173Z"
   },
   {
    "duration": 198,
    "start_time": "2024-02-28T11:51:11.203Z"
   },
   {
    "duration": 144,
    "start_time": "2024-02-28T11:51:11.402Z"
   },
   {
    "duration": 4,
    "start_time": "2024-02-28T11:51:11.548Z"
   },
   {
    "duration": 43,
    "start_time": "2024-02-28T11:51:11.555Z"
   },
   {
    "duration": 31,
    "start_time": "2024-02-28T11:51:11.600Z"
   },
   {
    "duration": 51,
    "start_time": "2024-02-28T11:51:11.633Z"
   },
   {
    "duration": 36,
    "start_time": "2024-02-28T11:51:11.686Z"
   },
   {
    "duration": 237,
    "start_time": "2024-02-28T11:51:11.724Z"
   },
   {
    "duration": 1286,
    "start_time": "2024-02-28T11:51:11.962Z"
   },
   {
    "duration": 11,
    "start_time": "2024-02-28T11:51:13.250Z"
   },
   {
    "duration": 35,
    "start_time": "2024-02-28T11:51:13.262Z"
   },
   {
    "duration": 17,
    "start_time": "2024-02-28T11:51:13.299Z"
   },
   {
    "duration": 28,
    "start_time": "2024-02-28T11:51:13.317Z"
   },
   {
    "duration": 1331,
    "start_time": "2024-02-28T11:51:13.347Z"
   },
   {
    "duration": 15,
    "start_time": "2024-02-28T11:51:14.680Z"
   },
   {
    "duration": 149,
    "start_time": "2024-02-28T11:51:14.697Z"
   },
   {
    "duration": 7,
    "start_time": "2024-02-28T11:51:14.847Z"
   },
   {
    "duration": 265,
    "start_time": "2024-02-28T11:51:14.855Z"
   },
   {
    "duration": 16,
    "start_time": "2024-02-28T11:51:15.122Z"
   },
   {
    "duration": 160,
    "start_time": "2024-02-28T11:51:15.139Z"
   },
   {
    "duration": 141,
    "start_time": "2024-02-28T11:51:15.301Z"
   },
   {
    "duration": 64,
    "start_time": "2024-02-28T11:51:15.444Z"
   },
   {
    "duration": 96,
    "start_time": "2024-02-28T11:51:15.509Z"
   },
   {
    "duration": 289,
    "start_time": "2024-02-28T11:51:15.607Z"
   },
   {
    "duration": 11,
    "start_time": "2024-02-28T11:51:15.897Z"
   },
   {
    "duration": 153,
    "start_time": "2024-02-28T11:51:15.910Z"
   },
   {
    "duration": 11,
    "start_time": "2024-02-28T11:51:16.065Z"
   },
   {
    "duration": 43,
    "start_time": "2024-02-28T11:51:16.078Z"
   },
   {
    "duration": 20,
    "start_time": "2024-02-28T11:51:16.122Z"
   },
   {
    "duration": 44,
    "start_time": "2024-02-28T11:51:16.143Z"
   },
   {
    "duration": 31,
    "start_time": "2024-02-28T11:51:16.189Z"
   },
   {
    "duration": 34,
    "start_time": "2024-02-28T11:51:16.222Z"
   },
   {
    "duration": 330,
    "start_time": "2024-02-28T11:51:16.258Z"
   },
   {
    "duration": 151,
    "start_time": "2024-02-28T11:51:16.594Z"
   },
   {
    "duration": 147,
    "start_time": "2024-02-28T11:51:16.747Z"
   },
   {
    "duration": 8,
    "start_time": "2024-02-28T11:51:16.895Z"
   },
   {
    "duration": 72,
    "start_time": "2024-02-28T11:51:16.905Z"
   },
   {
    "duration": 307,
    "start_time": "2024-02-28T11:51:16.979Z"
   },
   {
    "duration": 150,
    "start_time": "2024-02-28T11:51:17.287Z"
   },
   {
    "duration": 160,
    "start_time": "2024-02-28T11:51:17.439Z"
   },
   {
    "duration": 8,
    "start_time": "2024-02-28T11:51:17.600Z"
   },
   {
    "duration": 35,
    "start_time": "2024-02-28T11:51:17.609Z"
   },
   {
    "duration": 49,
    "start_time": "2024-02-28T11:51:17.646Z"
   },
   {
    "duration": 64,
    "start_time": "2024-02-28T11:51:17.697Z"
   },
   {
    "duration": 201,
    "start_time": "2024-02-28T11:51:17.762Z"
   },
   {
    "duration": 2,
    "start_time": "2024-02-28T11:51:17.964Z"
   },
   {
    "duration": 28,
    "start_time": "2024-02-28T11:51:17.968Z"
   },
   {
    "duration": 24,
    "start_time": "2024-02-28T11:51:17.998Z"
   },
   {
    "duration": 31,
    "start_time": "2024-02-28T11:51:18.027Z"
   },
   {
    "duration": 25,
    "start_time": "2024-02-28T11:51:18.060Z"
   },
   {
    "duration": 26,
    "start_time": "2024-02-28T11:51:18.087Z"
   },
   {
    "duration": 7,
    "start_time": "2024-02-28T11:51:25.454Z"
   },
   {
    "duration": 19,
    "start_time": "2024-02-28T11:51:26.173Z"
   },
   {
    "duration": 209,
    "start_time": "2024-02-28T11:56:57.247Z"
   },
   {
    "duration": 5,
    "start_time": "2024-02-28T11:57:11.797Z"
   },
   {
    "duration": 4,
    "start_time": "2024-02-28T11:57:12.318Z"
   },
   {
    "duration": 5,
    "start_time": "2024-02-28T11:57:14.373Z"
   },
   {
    "duration": 4,
    "start_time": "2024-02-28T11:57:14.998Z"
   },
   {
    "duration": 6,
    "start_time": "2024-02-28T11:57:16.941Z"
   },
   {
    "duration": 16,
    "start_time": "2024-02-28T11:57:18.256Z"
   },
   {
    "duration": 5,
    "start_time": "2024-02-28T11:57:35.333Z"
   },
   {
    "duration": 4,
    "start_time": "2024-02-28T11:57:40.645Z"
   },
   {
    "duration": 1260,
    "start_time": "2024-02-29T04:42:52.266Z"
   },
   {
    "duration": 191,
    "start_time": "2024-02-29T04:42:57.594Z"
   },
   {
    "duration": 14,
    "start_time": "2024-02-29T04:42:58.006Z"
   },
   {
    "duration": 14,
    "start_time": "2024-02-29T04:42:58.177Z"
   },
   {
    "duration": 12,
    "start_time": "2024-02-29T04:42:58.585Z"
   },
   {
    "duration": 12,
    "start_time": "2024-02-29T04:42:58.787Z"
   },
   {
    "duration": 7,
    "start_time": "2024-02-29T04:42:58.992Z"
   },
   {
    "duration": 8,
    "start_time": "2024-02-29T04:42:59.416Z"
   },
   {
    "duration": 10,
    "start_time": "2024-02-29T04:43:01.970Z"
   },
   {
    "duration": 7,
    "start_time": "2024-02-29T04:43:02.673Z"
   },
   {
    "duration": 11,
    "start_time": "2024-02-29T04:43:02.866Z"
   },
   {
    "duration": 5,
    "start_time": "2024-02-29T04:43:03.074Z"
   },
   {
    "duration": 6,
    "start_time": "2024-02-29T04:43:03.265Z"
   },
   {
    "duration": 5,
    "start_time": "2024-02-29T04:43:03.473Z"
   },
   {
    "duration": 6,
    "start_time": "2024-02-29T04:43:03.672Z"
   },
   {
    "duration": 4,
    "start_time": "2024-02-29T04:43:03.883Z"
   },
   {
    "duration": 8,
    "start_time": "2024-02-29T04:43:04.081Z"
   },
   {
    "duration": 5,
    "start_time": "2024-02-29T04:43:04.289Z"
   },
   {
    "duration": 5,
    "start_time": "2024-02-29T04:43:04.504Z"
   },
   {
    "duration": 5,
    "start_time": "2024-02-29T04:43:05.137Z"
   },
   {
    "duration": 150,
    "start_time": "2024-02-29T04:43:05.330Z"
   },
   {
    "duration": 125,
    "start_time": "2024-02-29T04:43:05.558Z"
   },
   {
    "duration": 4,
    "start_time": "2024-02-29T04:43:05.752Z"
   },
   {
    "duration": 6,
    "start_time": "2024-02-29T04:43:05.977Z"
   },
   {
    "duration": 8,
    "start_time": "2024-02-29T04:43:06.194Z"
   },
   {
    "duration": 14,
    "start_time": "2024-02-29T04:43:06.409Z"
   },
   {
    "duration": 7,
    "start_time": "2024-02-29T04:43:06.624Z"
   },
   {
    "duration": 230,
    "start_time": "2024-02-29T04:43:06.864Z"
   },
   {
    "duration": 1453,
    "start_time": "2024-02-29T04:43:07.096Z"
   },
   {
    "duration": 15,
    "start_time": "2024-02-29T04:43:08.551Z"
   },
   {
    "duration": 9,
    "start_time": "2024-02-29T04:43:08.568Z"
   },
   {
    "duration": 5,
    "start_time": "2024-02-29T04:43:08.579Z"
   },
   {
    "duration": 10,
    "start_time": "2024-02-29T04:43:08.586Z"
   },
   {
    "duration": 1483,
    "start_time": "2024-02-29T04:43:08.598Z"
   },
   {
    "duration": 10,
    "start_time": "2024-02-29T04:43:10.083Z"
   },
   {
    "duration": 159,
    "start_time": "2024-02-29T04:43:10.095Z"
   },
   {
    "duration": 14,
    "start_time": "2024-02-29T04:43:10.256Z"
   },
   {
    "duration": 270,
    "start_time": "2024-02-29T04:43:10.272Z"
   },
   {
    "duration": 14,
    "start_time": "2024-02-29T04:43:10.544Z"
   },
   {
    "duration": 6,
    "start_time": "2024-02-29T04:43:12.408Z"
   },
   {
    "duration": 10,
    "start_time": "2024-02-29T04:43:12.682Z"
   },
   {
    "duration": 5,
    "start_time": "2024-02-29T04:43:13.666Z"
   },
   {
    "duration": 8,
    "start_time": "2024-02-29T04:43:13.881Z"
   },
   {
    "duration": 421,
    "start_time": "2024-02-29T04:43:14.099Z"
   },
   {
    "duration": 11,
    "start_time": "2024-02-29T04:43:14.522Z"
   },
   {
    "duration": 148,
    "start_time": "2024-02-29T04:43:14.534Z"
   },
   {
    "duration": 12,
    "start_time": "2024-02-29T04:43:15.891Z"
   },
   {
    "duration": 19,
    "start_time": "2024-02-29T04:43:16.097Z"
   },
   {
    "duration": 22,
    "start_time": "2024-02-29T04:43:16.320Z"
   },
   {
    "duration": 13,
    "start_time": "2024-02-29T04:43:16.560Z"
   },
   {
    "duration": 17,
    "start_time": "2024-02-29T04:43:16.825Z"
   },
   {
    "duration": 15,
    "start_time": "2024-02-29T04:43:17.082Z"
   },
   {
    "duration": 314,
    "start_time": "2024-02-29T04:43:18.280Z"
   },
   {
    "duration": 149,
    "start_time": "2024-02-29T04:43:18.657Z"
   },
   {
    "duration": 138,
    "start_time": "2024-02-29T04:43:18.977Z"
   },
   {
    "duration": 9,
    "start_time": "2024-02-29T04:43:19.738Z"
   },
   {
    "duration": 8,
    "start_time": "2024-02-29T04:43:20.105Z"
   },
   {
    "duration": 247,
    "start_time": "2024-02-29T04:43:21.497Z"
   },
   {
    "duration": 139,
    "start_time": "2024-02-29T04:43:21.829Z"
   },
   {
    "duration": 142,
    "start_time": "2024-02-29T04:43:22.730Z"
   },
   {
    "duration": 8,
    "start_time": "2024-02-29T04:43:23.081Z"
   },
   {
    "duration": 8,
    "start_time": "2024-02-29T04:43:23.401Z"
   },
   {
    "duration": 36,
    "start_time": "2024-02-29T04:43:27.505Z"
   },
   {
    "duration": 21,
    "start_time": "2024-02-29T04:43:28.272Z"
   },
   {
    "duration": 205,
    "start_time": "2024-02-29T04:43:28.856Z"
   },
   {
    "duration": 5,
    "start_time": "2024-02-29T04:43:35.050Z"
   },
   {
    "duration": 5,
    "start_time": "2024-02-29T04:43:35.286Z"
   },
   {
    "duration": 5,
    "start_time": "2024-02-29T04:43:35.849Z"
   },
   {
    "duration": 3,
    "start_time": "2024-02-29T04:43:36.056Z"
   },
   {
    "duration": 6,
    "start_time": "2024-02-29T04:43:36.876Z"
   },
   {
    "duration": 5,
    "start_time": "2024-02-29T04:43:37.081Z"
   },
   {
    "duration": 4,
    "start_time": "2024-02-29T04:43:37.465Z"
   },
   {
    "duration": 1449,
    "start_time": "2024-02-29T04:48:04.892Z"
   },
   {
    "duration": 91,
    "start_time": "2024-02-29T04:59:01.053Z"
   },
   {
    "duration": 122,
    "start_time": "2024-02-29T05:01:04.568Z"
   },
   {
    "duration": 102,
    "start_time": "2024-02-29T05:02:21.933Z"
   },
   {
    "duration": 1524,
    "start_time": "2024-02-29T05:04:29.311Z"
   },
   {
    "duration": 95,
    "start_time": "2024-02-29T05:05:15.271Z"
   },
   {
    "duration": 111,
    "start_time": "2024-02-29T05:05:27.607Z"
   },
   {
    "duration": 1615,
    "start_time": "2024-02-29T05:06:19.385Z"
   },
   {
    "duration": 75,
    "start_time": "2024-02-29T05:06:34.465Z"
   },
   {
    "duration": 97,
    "start_time": "2024-02-29T05:07:46.025Z"
   },
   {
    "duration": 50,
    "start_time": "2024-02-29T05:11:28.376Z"
   },
   {
    "duration": 71,
    "start_time": "2024-02-29T05:11:40.144Z"
   },
   {
    "duration": 11,
    "start_time": "2024-02-29T05:28:41.275Z"
   },
   {
    "duration": 10,
    "start_time": "2024-02-29T05:29:03.237Z"
   },
   {
    "duration": 10,
    "start_time": "2024-02-29T05:29:23.037Z"
   },
   {
    "duration": 5,
    "start_time": "2024-02-29T05:29:34.189Z"
   },
   {
    "duration": 6,
    "start_time": "2024-02-29T05:30:15.901Z"
   },
   {
    "duration": 5,
    "start_time": "2024-02-29T05:31:16.976Z"
   },
   {
    "duration": 7,
    "start_time": "2024-02-29T05:31:37.774Z"
   },
   {
    "duration": 114,
    "start_time": "2024-02-29T05:37:19.527Z"
   },
   {
    "duration": 104,
    "start_time": "2024-02-29T05:37:49.919Z"
   },
   {
    "duration": 140,
    "start_time": "2024-02-29T05:38:18.903Z"
   },
   {
    "duration": 115,
    "start_time": "2024-02-29T05:39:48.856Z"
   },
   {
    "duration": 2,
    "start_time": "2024-02-29T05:41:27.833Z"
   },
   {
    "duration": 91,
    "start_time": "2024-02-29T05:59:17.839Z"
   },
   {
    "duration": 98,
    "start_time": "2024-02-29T05:59:39.199Z"
   },
   {
    "duration": 133,
    "start_time": "2024-02-29T05:59:52.239Z"
   },
   {
    "duration": 132,
    "start_time": "2024-02-29T06:00:13.269Z"
   },
   {
    "duration": 472,
    "start_time": "2024-02-29T06:00:27.373Z"
   },
   {
    "duration": 130,
    "start_time": "2024-02-29T06:00:35.334Z"
   },
   {
    "duration": 128,
    "start_time": "2024-02-29T06:00:48.446Z"
   },
   {
    "duration": 8,
    "start_time": "2024-02-29T06:03:18.040Z"
   },
   {
    "duration": 122,
    "start_time": "2024-02-29T06:03:25.775Z"
   },
   {
    "duration": 122,
    "start_time": "2024-02-29T06:04:03.589Z"
   },
   {
    "duration": 125,
    "start_time": "2024-02-29T06:04:13.052Z"
   },
   {
    "duration": 126,
    "start_time": "2024-02-29T06:04:26.719Z"
   },
   {
    "duration": 126,
    "start_time": "2024-02-29T06:04:38.494Z"
   },
   {
    "duration": 33727,
    "start_time": "2024-02-29T06:08:40.752Z"
   },
   {
    "duration": 99,
    "start_time": "2024-02-29T06:09:54.360Z"
   },
   {
    "duration": 33361,
    "start_time": "2024-02-29T06:10:05.634Z"
   },
   {
    "duration": 28,
    "start_time": "2024-02-29T06:14:13.749Z"
   },
   {
    "duration": 173,
    "start_time": "2024-02-29T06:15:46.609Z"
   },
   {
    "duration": 135,
    "start_time": "2024-02-29T06:16:00.593Z"
   },
   {
    "duration": 3,
    "start_time": "2024-02-29T06:38:11.501Z"
   },
   {
    "duration": 65,
    "start_time": "2024-02-29T06:38:12.716Z"
   },
   {
    "duration": 8,
    "start_time": "2024-02-29T06:38:14.156Z"
   },
   {
    "duration": 10,
    "start_time": "2024-02-29T06:38:14.924Z"
   },
   {
    "duration": 9,
    "start_time": "2024-02-29T06:38:16.708Z"
   },
   {
    "duration": 11,
    "start_time": "2024-02-29T06:38:17.177Z"
   },
   {
    "duration": 6,
    "start_time": "2024-02-29T06:38:18.231Z"
   },
   {
    "duration": 7,
    "start_time": "2024-02-29T06:38:19.325Z"
   },
   {
    "duration": 9,
    "start_time": "2024-02-29T06:38:20.060Z"
   },
   {
    "duration": 7,
    "start_time": "2024-02-29T06:38:22.764Z"
   },
   {
    "duration": 10,
    "start_time": "2024-02-29T06:38:23.213Z"
   },
   {
    "duration": 6,
    "start_time": "2024-02-29T06:38:23.948Z"
   },
   {
    "duration": 6,
    "start_time": "2024-02-29T06:38:24.588Z"
   },
   {
    "duration": 5,
    "start_time": "2024-02-29T06:38:25.195Z"
   },
   {
    "duration": 6,
    "start_time": "2024-02-29T06:38:25.620Z"
   },
   {
    "duration": 5,
    "start_time": "2024-02-29T06:38:26.116Z"
   },
   {
    "duration": 8,
    "start_time": "2024-02-29T06:38:26.564Z"
   },
   {
    "duration": 5,
    "start_time": "2024-02-29T06:38:27.275Z"
   },
   {
    "duration": 5,
    "start_time": "2024-02-29T06:38:27.908Z"
   },
   {
    "duration": 6,
    "start_time": "2024-02-29T06:38:29.557Z"
   },
   {
    "duration": 171,
    "start_time": "2024-02-29T06:38:30.196Z"
   },
   {
    "duration": 121,
    "start_time": "2024-02-29T06:38:31.236Z"
   },
   {
    "duration": 5,
    "start_time": "2024-02-29T06:38:32.020Z"
   },
   {
    "duration": 6,
    "start_time": "2024-02-29T06:38:33.396Z"
   },
   {
    "duration": 6,
    "start_time": "2024-02-29T06:38:34.267Z"
   },
   {
    "duration": 14,
    "start_time": "2024-02-29T06:38:34.972Z"
   },
   {
    "duration": 7,
    "start_time": "2024-02-29T06:38:35.718Z"
   },
   {
    "duration": 209,
    "start_time": "2024-02-29T06:38:36.340Z"
   },
   {
    "duration": 1782,
    "start_time": "2024-02-29T06:38:37.393Z"
   },
   {
    "duration": 11,
    "start_time": "2024-02-29T06:38:39.292Z"
   },
   {
    "duration": 9,
    "start_time": "2024-02-29T06:38:40.108Z"
   },
   {
    "duration": 6,
    "start_time": "2024-02-29T06:38:40.868Z"
   },
   {
    "duration": 11,
    "start_time": "2024-02-29T06:38:41.796Z"
   },
   {
    "duration": 1239,
    "start_time": "2024-02-29T06:38:42.724Z"
   },
   {
    "duration": 10,
    "start_time": "2024-02-29T06:38:43.965Z"
   },
   {
    "duration": 133,
    "start_time": "2024-02-29T06:38:45.213Z"
   },
   {
    "duration": 7,
    "start_time": "2024-02-29T06:38:46.036Z"
   },
   {
    "duration": 221,
    "start_time": "2024-02-29T06:38:46.804Z"
   },
   {
    "duration": 15,
    "start_time": "2024-02-29T06:38:47.673Z"
   },
   {
    "duration": 4,
    "start_time": "2024-02-29T06:38:48.388Z"
   },
   {
    "duration": 10,
    "start_time": "2024-02-29T06:38:49.148Z"
   },
   {
    "duration": 6,
    "start_time": "2024-02-29T06:38:49.684Z"
   },
   {
    "duration": 9,
    "start_time": "2024-02-29T06:38:50.181Z"
   },
   {
    "duration": 241,
    "start_time": "2024-02-29T06:38:50.764Z"
   },
   {
    "duration": 11,
    "start_time": "2024-02-29T06:38:51.149Z"
   },
   {
    "duration": 124,
    "start_time": "2024-02-29T06:38:51.908Z"
   },
   {
    "duration": 12,
    "start_time": "2024-02-29T06:38:55.084Z"
   },
   {
    "duration": 19,
    "start_time": "2024-02-29T06:38:55.620Z"
   },
   {
    "duration": 19,
    "start_time": "2024-02-29T06:38:56.564Z"
   },
   {
    "duration": 13,
    "start_time": "2024-02-29T06:38:57.236Z"
   },
   {
    "duration": 17,
    "start_time": "2024-02-29T06:38:57.685Z"
   },
   {
    "duration": 12,
    "start_time": "2024-02-29T06:38:57.949Z"
   },
   {
    "duration": 309,
    "start_time": "2024-02-29T06:38:59.021Z"
   },
   {
    "duration": 147,
    "start_time": "2024-02-29T06:38:59.676Z"
   },
   {
    "duration": 133,
    "start_time": "2024-02-29T06:39:00.533Z"
   },
   {
    "duration": 10,
    "start_time": "2024-02-29T06:39:01.461Z"
   },
   {
    "duration": 8,
    "start_time": "2024-02-29T06:39:02.069Z"
   },
   {
    "duration": 840,
    "start_time": "2024-02-29T06:39:03.351Z"
   },
   {
    "duration": 129,
    "start_time": "2024-02-29T06:39:04.933Z"
   },
   {
    "duration": 148,
    "start_time": "2024-02-29T06:39:05.988Z"
   },
   {
    "duration": 9,
    "start_time": "2024-02-29T06:39:07.036Z"
   },
   {
    "duration": 8,
    "start_time": "2024-02-29T06:39:08.132Z"
   },
   {
    "duration": 31,
    "start_time": "2024-02-29T06:39:10.373Z"
   },
   {
    "duration": 21,
    "start_time": "2024-02-29T06:39:11.134Z"
   },
   {
    "duration": 197,
    "start_time": "2024-02-29T06:39:11.757Z"
   },
   {
    "duration": 5,
    "start_time": "2024-02-29T06:39:14.304Z"
   },
   {
    "duration": 5,
    "start_time": "2024-02-29T06:39:14.989Z"
   },
   {
    "duration": 5,
    "start_time": "2024-02-29T06:39:16.517Z"
   },
   {
    "duration": 5,
    "start_time": "2024-02-29T06:39:16.996Z"
   },
   {
    "duration": 8,
    "start_time": "2024-02-29T06:39:18.716Z"
   },
   {
    "duration": 6,
    "start_time": "2024-02-29T06:39:19.240Z"
   },
   {
    "duration": 4,
    "start_time": "2024-02-29T06:39:19.660Z"
   },
   {
    "duration": 1274,
    "start_time": "2024-02-29T06:39:23.189Z"
   },
   {
    "duration": 77,
    "start_time": "2024-02-29T06:39:25.421Z"
   },
   {
    "duration": 6,
    "start_time": "2024-02-29T06:39:27.772Z"
   },
   {
    "duration": 136,
    "start_time": "2024-02-29T06:39:28.958Z"
   },
   {
    "duration": 1178,
    "start_time": "2024-02-29T07:37:19.971Z"
   },
   {
    "duration": 68,
    "start_time": "2024-02-29T07:37:21.151Z"
   },
   {
    "duration": 13,
    "start_time": "2024-02-29T07:37:21.221Z"
   },
   {
    "duration": 31,
    "start_time": "2024-02-29T07:37:21.237Z"
   },
   {
    "duration": 26,
    "start_time": "2024-02-29T07:37:21.269Z"
   },
   {
    "duration": 39,
    "start_time": "2024-02-29T07:37:21.296Z"
   },
   {
    "duration": 49,
    "start_time": "2024-02-29T07:37:21.337Z"
   },
   {
    "duration": 26,
    "start_time": "2024-02-29T07:37:21.388Z"
   },
   {
    "duration": 41,
    "start_time": "2024-02-29T07:37:21.416Z"
   },
   {
    "duration": 31,
    "start_time": "2024-02-29T07:37:21.460Z"
   },
   {
    "duration": 37,
    "start_time": "2024-02-29T07:37:21.493Z"
   },
   {
    "duration": 20,
    "start_time": "2024-02-29T07:37:21.533Z"
   },
   {
    "duration": 22,
    "start_time": "2024-02-29T07:37:21.554Z"
   },
   {
    "duration": 22,
    "start_time": "2024-02-29T07:37:21.578Z"
   },
   {
    "duration": 32,
    "start_time": "2024-02-29T07:37:21.602Z"
   },
   {
    "duration": 24,
    "start_time": "2024-02-29T07:37:21.636Z"
   },
   {
    "duration": 34,
    "start_time": "2024-02-29T07:37:21.661Z"
   },
   {
    "duration": 9,
    "start_time": "2024-02-29T07:37:21.697Z"
   },
   {
    "duration": 31,
    "start_time": "2024-02-29T07:37:21.707Z"
   },
   {
    "duration": 41,
    "start_time": "2024-02-29T07:37:21.739Z"
   },
   {
    "duration": 189,
    "start_time": "2024-02-29T07:37:21.781Z"
   },
   {
    "duration": 153,
    "start_time": "2024-02-29T07:37:21.979Z"
   },
   {
    "duration": 8,
    "start_time": "2024-02-29T07:37:22.134Z"
   },
   {
    "duration": 33,
    "start_time": "2024-02-29T07:37:22.144Z"
   },
   {
    "duration": 21,
    "start_time": "2024-02-29T07:37:22.179Z"
   },
   {
    "duration": 43,
    "start_time": "2024-02-29T07:37:22.202Z"
   },
   {
    "duration": 19,
    "start_time": "2024-02-29T07:37:22.247Z"
   },
   {
    "duration": 252,
    "start_time": "2024-02-29T07:37:22.272Z"
   },
   {
    "duration": 1495,
    "start_time": "2024-02-29T07:37:22.525Z"
   },
   {
    "duration": 10,
    "start_time": "2024-02-29T07:37:24.022Z"
   },
   {
    "duration": 12,
    "start_time": "2024-02-29T07:37:24.034Z"
   },
   {
    "duration": 20,
    "start_time": "2024-02-29T07:37:24.048Z"
   },
   {
    "duration": 25,
    "start_time": "2024-02-29T07:37:24.070Z"
   },
   {
    "duration": 1487,
    "start_time": "2024-02-29T07:37:24.098Z"
   },
   {
    "duration": 11,
    "start_time": "2024-02-29T07:37:25.587Z"
   },
   {
    "duration": 183,
    "start_time": "2024-02-29T07:37:25.600Z"
   },
   {
    "duration": 8,
    "start_time": "2024-02-29T07:37:25.784Z"
   },
   {
    "duration": 273,
    "start_time": "2024-02-29T07:37:25.794Z"
   },
   {
    "duration": 23,
    "start_time": "2024-02-29T07:37:26.069Z"
   },
   {
    "duration": 28,
    "start_time": "2024-02-29T07:37:26.093Z"
   },
   {
    "duration": 24,
    "start_time": "2024-02-29T07:37:26.123Z"
   },
   {
    "duration": 26,
    "start_time": "2024-02-29T07:37:26.149Z"
   },
   {
    "duration": 9,
    "start_time": "2024-02-29T07:37:26.177Z"
   },
   {
    "duration": 504,
    "start_time": "2024-02-29T07:37:26.187Z"
   },
   {
    "duration": 15,
    "start_time": "2024-02-29T07:37:26.693Z"
   },
   {
    "duration": 157,
    "start_time": "2024-02-29T07:37:26.709Z"
   },
   {
    "duration": 20,
    "start_time": "2024-02-29T07:37:26.867Z"
   },
   {
    "duration": 41,
    "start_time": "2024-02-29T07:37:26.889Z"
   },
   {
    "duration": 64,
    "start_time": "2024-02-29T07:37:26.932Z"
   },
   {
    "duration": 36,
    "start_time": "2024-02-29T07:37:26.998Z"
   },
   {
    "duration": 18,
    "start_time": "2024-02-29T07:37:27.036Z"
   },
   {
    "duration": 14,
    "start_time": "2024-02-29T07:37:27.056Z"
   },
   {
    "duration": 372,
    "start_time": "2024-02-29T07:37:27.072Z"
   },
   {
    "duration": 174,
    "start_time": "2024-02-29T07:37:27.446Z"
   },
   {
    "duration": 165,
    "start_time": "2024-02-29T07:37:27.622Z"
   },
   {
    "duration": 11,
    "start_time": "2024-02-29T07:37:27.789Z"
   },
   {
    "duration": 10,
    "start_time": "2024-02-29T07:37:27.802Z"
   },
   {
    "duration": 301,
    "start_time": "2024-02-29T07:37:27.814Z"
   },
   {
    "duration": 166,
    "start_time": "2024-02-29T07:37:28.117Z"
   },
   {
    "duration": 169,
    "start_time": "2024-02-29T07:37:28.285Z"
   },
   {
    "duration": 8,
    "start_time": "2024-02-29T07:37:28.456Z"
   },
   {
    "duration": 21,
    "start_time": "2024-02-29T07:37:28.465Z"
   },
   {
    "duration": 43,
    "start_time": "2024-02-29T07:37:28.487Z"
   },
   {
    "duration": 23,
    "start_time": "2024-02-29T07:37:28.532Z"
   },
   {
    "duration": 252,
    "start_time": "2024-02-29T07:37:28.557Z"
   },
   {
    "duration": 5,
    "start_time": "2024-02-29T07:37:28.811Z"
   },
   {
    "duration": 15,
    "start_time": "2024-02-29T07:37:28.817Z"
   },
   {
    "duration": 13,
    "start_time": "2024-02-29T07:37:28.834Z"
   },
   {
    "duration": 32,
    "start_time": "2024-02-29T07:37:28.849Z"
   },
   {
    "duration": 22,
    "start_time": "2024-02-29T07:37:28.882Z"
   },
   {
    "duration": 29,
    "start_time": "2024-02-29T07:37:28.906Z"
   },
   {
    "duration": 18,
    "start_time": "2024-02-29T07:37:28.937Z"
   },
   {
    "duration": 1634,
    "start_time": "2024-02-29T07:37:28.956Z"
   },
   {
    "duration": 105,
    "start_time": "2024-02-29T07:37:30.592Z"
   },
   {
    "duration": 7,
    "start_time": "2024-02-29T07:37:30.698Z"
   },
   {
    "duration": 293,
    "start_time": "2024-02-29T07:37:30.707Z"
   },
   {
    "duration": 1167,
    "start_time": "2024-02-29T08:11:05.195Z"
   },
   {
    "duration": 69,
    "start_time": "2024-02-29T08:11:06.364Z"
   },
   {
    "duration": 13,
    "start_time": "2024-02-29T08:11:06.435Z"
   },
   {
    "duration": 38,
    "start_time": "2024-02-29T08:11:06.450Z"
   },
   {
    "duration": 28,
    "start_time": "2024-02-29T08:11:06.490Z"
   },
   {
    "duration": 32,
    "start_time": "2024-02-29T08:11:06.520Z"
   },
   {
    "duration": 16,
    "start_time": "2024-02-29T08:11:06.554Z"
   },
   {
    "duration": 16,
    "start_time": "2024-02-29T08:11:06.572Z"
   },
   {
    "duration": 44,
    "start_time": "2024-02-29T08:11:06.590Z"
   },
   {
    "duration": 28,
    "start_time": "2024-02-29T08:11:06.636Z"
   },
   {
    "duration": 22,
    "start_time": "2024-02-29T08:11:06.665Z"
   },
   {
    "duration": 22,
    "start_time": "2024-02-29T08:11:06.688Z"
   },
   {
    "duration": 31,
    "start_time": "2024-02-29T08:11:06.711Z"
   },
   {
    "duration": 17,
    "start_time": "2024-02-29T08:11:06.743Z"
   },
   {
    "duration": 30,
    "start_time": "2024-02-29T08:11:06.762Z"
   },
   {
    "duration": 14,
    "start_time": "2024-02-29T08:11:06.793Z"
   },
   {
    "duration": 48,
    "start_time": "2024-02-29T08:11:06.809Z"
   },
   {
    "duration": 26,
    "start_time": "2024-02-29T08:11:06.858Z"
   },
   {
    "duration": 18,
    "start_time": "2024-02-29T08:11:06.886Z"
   },
   {
    "duration": 23,
    "start_time": "2024-02-29T08:11:06.905Z"
   },
   {
    "duration": 178,
    "start_time": "2024-02-29T08:11:06.929Z"
   },
   {
    "duration": 145,
    "start_time": "2024-02-29T08:11:07.108Z"
   },
   {
    "duration": 5,
    "start_time": "2024-02-29T08:11:07.254Z"
   },
   {
    "duration": 34,
    "start_time": "2024-02-29T08:11:07.261Z"
   },
   {
    "duration": 29,
    "start_time": "2024-02-29T08:11:07.297Z"
   },
   {
    "duration": 36,
    "start_time": "2024-02-29T08:11:07.328Z"
   },
   {
    "duration": 19,
    "start_time": "2024-02-29T08:11:07.366Z"
   },
   {
    "duration": 259,
    "start_time": "2024-02-29T08:11:07.389Z"
   },
   {
    "duration": 1546,
    "start_time": "2024-02-29T08:11:07.650Z"
   },
   {
    "duration": 12,
    "start_time": "2024-02-29T08:11:09.198Z"
   },
   {
    "duration": 21,
    "start_time": "2024-02-29T08:11:09.212Z"
   },
   {
    "duration": 19,
    "start_time": "2024-02-29T08:11:09.235Z"
   },
   {
    "duration": 20,
    "start_time": "2024-02-29T08:11:09.256Z"
   },
   {
    "duration": 1546,
    "start_time": "2024-02-29T08:11:09.277Z"
   },
   {
    "duration": 13,
    "start_time": "2024-02-29T08:11:10.826Z"
   },
   {
    "duration": 200,
    "start_time": "2024-02-29T08:11:10.840Z"
   },
   {
    "duration": 8,
    "start_time": "2024-02-29T08:11:11.041Z"
   },
   {
    "duration": 276,
    "start_time": "2024-02-29T08:11:11.051Z"
   },
   {
    "duration": 16,
    "start_time": "2024-02-29T08:11:11.329Z"
   },
   {
    "duration": 32,
    "start_time": "2024-02-29T08:11:11.347Z"
   },
   {
    "duration": 20,
    "start_time": "2024-02-29T08:11:11.381Z"
   },
   {
    "duration": 18,
    "start_time": "2024-02-29T08:11:11.403Z"
   },
   {
    "duration": 32,
    "start_time": "2024-02-29T08:11:11.423Z"
   },
   {
    "duration": 438,
    "start_time": "2024-02-29T08:11:11.457Z"
   },
   {
    "duration": 12,
    "start_time": "2024-02-29T08:11:11.897Z"
   },
   {
    "duration": 156,
    "start_time": "2024-02-29T08:11:11.911Z"
   },
   {
    "duration": 25,
    "start_time": "2024-02-29T08:11:12.070Z"
   },
   {
    "duration": 33,
    "start_time": "2024-02-29T08:11:12.097Z"
   },
   {
    "duration": 30,
    "start_time": "2024-02-29T08:11:12.132Z"
   },
   {
    "duration": 15,
    "start_time": "2024-02-29T08:11:12.180Z"
   },
   {
    "duration": 35,
    "start_time": "2024-02-29T08:11:12.197Z"
   },
   {
    "duration": 13,
    "start_time": "2024-02-29T08:11:12.233Z"
   },
   {
    "duration": 374,
    "start_time": "2024-02-29T08:11:12.248Z"
   },
   {
    "duration": 182,
    "start_time": "2024-02-29T08:11:12.624Z"
   },
   {
    "duration": 164,
    "start_time": "2024-02-29T08:11:12.808Z"
   },
   {
    "duration": 12,
    "start_time": "2024-02-29T08:11:12.974Z"
   },
   {
    "duration": 29,
    "start_time": "2024-02-29T08:11:12.987Z"
   },
   {
    "duration": 275,
    "start_time": "2024-02-29T08:11:13.018Z"
   },
   {
    "duration": 163,
    "start_time": "2024-02-29T08:11:13.294Z"
   },
   {
    "duration": 172,
    "start_time": "2024-02-29T08:11:13.459Z"
   },
   {
    "duration": 9,
    "start_time": "2024-02-29T08:11:13.633Z"
   },
   {
    "duration": 34,
    "start_time": "2024-02-29T08:11:13.643Z"
   },
   {
    "duration": 59,
    "start_time": "2024-02-29T08:11:13.679Z"
   },
   {
    "duration": 30,
    "start_time": "2024-02-29T08:11:13.741Z"
   },
   {
    "duration": 240,
    "start_time": "2024-02-29T08:11:13.773Z"
   },
   {
    "duration": 5,
    "start_time": "2024-02-29T08:11:14.014Z"
   },
   {
    "duration": 11,
    "start_time": "2024-02-29T08:11:14.021Z"
   },
   {
    "duration": 11,
    "start_time": "2024-02-29T08:11:14.034Z"
   },
   {
    "duration": 19,
    "start_time": "2024-02-29T08:11:14.046Z"
   },
   {
    "duration": 46,
    "start_time": "2024-02-29T08:11:14.067Z"
   },
   {
    "duration": 14,
    "start_time": "2024-02-29T08:11:14.115Z"
   },
   {
    "duration": 29,
    "start_time": "2024-02-29T08:11:14.131Z"
   },
   {
    "duration": 1724,
    "start_time": "2024-02-29T08:11:14.162Z"
   },
   {
    "duration": 121,
    "start_time": "2024-02-29T08:11:15.888Z"
   },
   {
    "duration": 7,
    "start_time": "2024-02-29T08:11:16.010Z"
   },
   {
    "duration": 269,
    "start_time": "2024-02-29T08:11:16.018Z"
   },
   {
    "duration": 50,
    "start_time": "2024-02-29T08:28:20.646Z"
   },
   {
    "duration": 1259,
    "start_time": "2024-02-29T08:28:41.954Z"
   },
   {
    "duration": 205,
    "start_time": "2024-02-29T08:28:43.216Z"
   },
   {
    "duration": 13,
    "start_time": "2024-02-29T08:28:43.422Z"
   },
   {
    "duration": 11,
    "start_time": "2024-02-29T08:28:43.437Z"
   },
   {
    "duration": 14,
    "start_time": "2024-02-29T08:28:43.449Z"
   },
   {
    "duration": 13,
    "start_time": "2024-02-29T08:28:43.464Z"
   },
   {
    "duration": 18,
    "start_time": "2024-02-29T08:28:43.479Z"
   },
   {
    "duration": 9,
    "start_time": "2024-02-29T08:28:43.498Z"
   },
   {
    "duration": 10,
    "start_time": "2024-02-29T08:28:43.515Z"
   },
   {
    "duration": 6,
    "start_time": "2024-02-29T08:28:43.528Z"
   },
   {
    "duration": 10,
    "start_time": "2024-02-29T08:28:43.536Z"
   },
   {
    "duration": 11,
    "start_time": "2024-02-29T08:28:43.548Z"
   },
   {
    "duration": 7,
    "start_time": "2024-02-29T08:28:43.560Z"
   },
   {
    "duration": 5,
    "start_time": "2024-02-29T08:28:43.569Z"
   },
   {
    "duration": 6,
    "start_time": "2024-02-29T08:28:43.576Z"
   },
   {
    "duration": 33,
    "start_time": "2024-02-29T08:28:43.584Z"
   },
   {
    "duration": 19,
    "start_time": "2024-02-29T08:28:43.618Z"
   },
   {
    "duration": 13,
    "start_time": "2024-02-29T08:28:43.639Z"
   },
   {
    "duration": 35,
    "start_time": "2024-02-29T08:28:43.653Z"
   },
   {
    "duration": 26,
    "start_time": "2024-02-29T08:28:43.690Z"
   },
   {
    "duration": 210,
    "start_time": "2024-02-29T08:28:43.717Z"
   },
   {
    "duration": 182,
    "start_time": "2024-02-29T08:29:21.610Z"
   },
   {
    "duration": 63,
    "start_time": "2024-02-29T08:30:30.610Z"
   },
   {
    "duration": 9,
    "start_time": "2024-02-29T08:30:35.298Z"
   },
   {
    "duration": 9,
    "start_time": "2024-02-29T08:30:41.185Z"
   },
   {
    "duration": 145,
    "start_time": "2024-02-29T08:31:30.042Z"
   },
   {
    "duration": 152,
    "start_time": "2024-02-29T08:32:22.362Z"
   },
   {
    "duration": 149,
    "start_time": "2024-02-29T08:32:31.032Z"
   },
   {
    "duration": 144,
    "start_time": "2024-02-29T08:33:17.473Z"
   },
   {
    "duration": 170,
    "start_time": "2024-02-29T08:33:23.789Z"
   },
   {
    "duration": 139,
    "start_time": "2024-02-29T08:35:03.829Z"
   },
   {
    "duration": 92,
    "start_time": "2024-02-29T08:41:22.032Z"
   },
   {
    "duration": 203,
    "start_time": "2024-02-29T08:41:44.121Z"
   },
   {
    "duration": 141,
    "start_time": "2024-02-29T08:42:01.516Z"
   },
   {
    "duration": 78,
    "start_time": "2024-02-29T08:45:00.684Z"
   },
   {
    "duration": 154,
    "start_time": "2024-02-29T08:45:07.393Z"
   },
   {
    "duration": 150,
    "start_time": "2024-02-29T08:45:19.362Z"
   },
   {
    "duration": 147,
    "start_time": "2024-02-29T08:45:47.889Z"
   },
   {
    "duration": 136,
    "start_time": "2024-02-29T08:46:03.363Z"
   },
   {
    "duration": 139,
    "start_time": "2024-02-29T08:46:55.946Z"
   },
   {
    "duration": 153,
    "start_time": "2024-02-29T08:47:09.249Z"
   },
   {
    "duration": 3,
    "start_time": "2024-02-29T09:10:33.183Z"
   },
   {
    "duration": 69,
    "start_time": "2024-02-29T09:10:34.886Z"
   },
   {
    "duration": 9,
    "start_time": "2024-02-29T09:10:36.617Z"
   },
   {
    "duration": 14,
    "start_time": "2024-02-29T09:10:39.470Z"
   },
   {
    "duration": 13,
    "start_time": "2024-02-29T09:10:40.646Z"
   },
   {
    "duration": 11,
    "start_time": "2024-02-29T09:10:41.070Z"
   },
   {
    "duration": 7,
    "start_time": "2024-02-29T09:10:41.632Z"
   },
   {
    "duration": 7,
    "start_time": "2024-02-29T09:10:43.749Z"
   },
   {
    "duration": 9,
    "start_time": "2024-02-29T09:10:44.678Z"
   },
   {
    "duration": 7,
    "start_time": "2024-02-29T09:10:48.846Z"
   },
   {
    "duration": 11,
    "start_time": "2024-02-29T09:10:49.357Z"
   },
   {
    "duration": 6,
    "start_time": "2024-02-29T09:10:50.199Z"
   },
   {
    "duration": 6,
    "start_time": "2024-02-29T09:10:50.946Z"
   },
   {
    "duration": 10,
    "start_time": "2024-02-29T09:10:51.918Z"
   },
   {
    "duration": 6,
    "start_time": "2024-02-29T09:10:52.542Z"
   },
   {
    "duration": 6,
    "start_time": "2024-02-29T09:10:53.206Z"
   },
   {
    "duration": 8,
    "start_time": "2024-02-29T09:10:53.734Z"
   },
   {
    "duration": 5,
    "start_time": "2024-02-29T09:10:54.446Z"
   },
   {
    "duration": 4,
    "start_time": "2024-02-29T09:10:54.959Z"
   },
   {
    "duration": 6,
    "start_time": "2024-02-29T09:10:59.389Z"
   },
   {
    "duration": 161,
    "start_time": "2024-02-29T09:11:00.509Z"
   },
   {
    "duration": 157,
    "start_time": "2024-02-29T09:11:08.089Z"
   },
   {
    "duration": 5,
    "start_time": "2024-02-29T09:11:29.015Z"
   },
   {
    "duration": 14,
    "start_time": "2024-02-29T09:11:30.134Z"
   },
   {
    "duration": 6,
    "start_time": "2024-02-29T09:11:35.765Z"
   },
   {
    "duration": 267,
    "start_time": "2024-02-29T09:12:09.358Z"
   },
   {
    "duration": 275,
    "start_time": "2024-02-29T09:12:30.184Z"
   },
   {
    "duration": 342,
    "start_time": "2024-02-29T09:12:54.341Z"
   },
   {
    "duration": 253,
    "start_time": "2024-02-29T09:13:09.255Z"
   },
   {
    "duration": 257,
    "start_time": "2024-02-29T09:13:35.303Z"
   },
   {
    "duration": 268,
    "start_time": "2024-02-29T09:14:18.423Z"
   },
   {
    "duration": 264,
    "start_time": "2024-02-29T09:14:41.920Z"
   },
   {
    "duration": 296,
    "start_time": "2024-02-29T09:15:10.919Z"
   },
   {
    "duration": 271,
    "start_time": "2024-02-29T09:15:35.089Z"
   },
   {
    "duration": 375,
    "start_time": "2024-02-29T09:15:49.424Z"
   },
   {
    "duration": 274,
    "start_time": "2024-02-29T09:16:10.416Z"
   },
   {
    "duration": 92,
    "start_time": "2024-02-29T09:16:44.616Z"
   },
   {
    "duration": 1509,
    "start_time": "2024-02-29T09:17:08.192Z"
   },
   {
    "duration": 1544,
    "start_time": "2024-02-29T09:22:16.296Z"
   },
   {
    "duration": 11,
    "start_time": "2024-02-29T09:22:22.261Z"
   },
   {
    "duration": 141,
    "start_time": "2024-02-29T09:22:26.201Z"
   },
   {
    "duration": 7,
    "start_time": "2024-02-29T09:22:38.394Z"
   },
   {
    "duration": 273,
    "start_time": "2024-02-29T09:22:44.193Z"
   },
   {
    "duration": 16,
    "start_time": "2024-02-29T09:23:33.433Z"
   },
   {
    "duration": 16,
    "start_time": "2024-02-29T09:23:36.817Z"
   },
   {
    "duration": 12,
    "start_time": "2024-02-29T09:25:36.386Z"
   },
   {
    "duration": 130,
    "start_time": "2024-02-29T09:25:46.481Z"
   },
   {
    "duration": 12,
    "start_time": "2024-02-29T09:32:37.090Z"
   },
   {
    "duration": 22,
    "start_time": "2024-02-29T09:32:38.064Z"
   },
   {
    "duration": 17,
    "start_time": "2024-02-29T09:33:08.891Z"
   },
   {
    "duration": 21,
    "start_time": "2024-02-29T09:33:56.572Z"
   },
   {
    "duration": 14,
    "start_time": "2024-02-29T09:33:58.538Z"
   },
   {
    "duration": 17,
    "start_time": "2024-02-29T09:34:02.955Z"
   },
   {
    "duration": 13,
    "start_time": "2024-02-29T09:34:06.250Z"
   },
   {
    "duration": 528,
    "start_time": "2024-02-29T09:34:22.780Z"
   },
   {
    "duration": 164,
    "start_time": "2024-02-29T09:34:24.914Z"
   },
   {
    "duration": 155,
    "start_time": "2024-02-29T09:34:27.395Z"
   },
   {
    "duration": 8,
    "start_time": "2024-02-29T09:34:29.618Z"
   },
   {
    "duration": 8,
    "start_time": "2024-02-29T09:34:31.675Z"
   },
   {
    "duration": 257,
    "start_time": "2024-02-29T09:34:47.332Z"
   },
   {
    "duration": 148,
    "start_time": "2024-02-29T09:34:54.666Z"
   },
   {
    "duration": 152,
    "start_time": "2024-02-29T09:35:04.554Z"
   },
   {
    "duration": 149,
    "start_time": "2024-02-29T09:36:10.971Z"
   },
   {
    "duration": 157,
    "start_time": "2024-02-29T09:36:24.987Z"
   },
   {
    "duration": 8,
    "start_time": "2024-02-29T09:36:56.847Z"
   },
   {
    "duration": 8,
    "start_time": "2024-02-29T09:36:58.051Z"
   },
   {
    "duration": 34,
    "start_time": "2024-02-29T09:37:11.659Z"
   },
   {
    "duration": 34,
    "start_time": "2024-02-29T09:40:41.356Z"
   },
   {
    "duration": 22,
    "start_time": "2024-02-29T09:41:10.437Z"
   },
   {
    "duration": 35,
    "start_time": "2024-02-29T09:41:41.416Z"
   },
   {
    "duration": 1278,
    "start_time": "2024-02-29T09:42:09.940Z"
   },
   {
    "duration": 3,
    "start_time": "2024-02-29T09:42:55.013Z"
   },
   {
    "duration": 103,
    "start_time": "2024-02-29T09:42:55.018Z"
   },
   {
    "duration": 12,
    "start_time": "2024-02-29T09:42:55.123Z"
   },
   {
    "duration": 19,
    "start_time": "2024-02-29T09:42:55.137Z"
   },
   {
    "duration": 18,
    "start_time": "2024-02-29T09:42:55.157Z"
   },
   {
    "duration": 18,
    "start_time": "2024-02-29T09:42:55.177Z"
   },
   {
    "duration": 23,
    "start_time": "2024-02-29T09:42:55.197Z"
   },
   {
    "duration": 36,
    "start_time": "2024-02-29T09:42:55.222Z"
   },
   {
    "duration": 20,
    "start_time": "2024-02-29T09:42:55.262Z"
   },
   {
    "duration": 22,
    "start_time": "2024-02-29T09:42:55.284Z"
   },
   {
    "duration": 28,
    "start_time": "2024-02-29T09:42:55.308Z"
   },
   {
    "duration": 25,
    "start_time": "2024-02-29T09:42:55.338Z"
   },
   {
    "duration": 13,
    "start_time": "2024-02-29T09:42:55.365Z"
   },
   {
    "duration": 33,
    "start_time": "2024-02-29T09:42:55.380Z"
   },
   {
    "duration": 33,
    "start_time": "2024-02-29T09:42:55.414Z"
   },
   {
    "duration": 36,
    "start_time": "2024-02-29T09:42:55.449Z"
   },
   {
    "duration": 13,
    "start_time": "2024-02-29T09:42:55.487Z"
   },
   {
    "duration": 26,
    "start_time": "2024-02-29T09:42:55.502Z"
   },
   {
    "duration": 32,
    "start_time": "2024-02-29T09:42:55.530Z"
   },
   {
    "duration": 41,
    "start_time": "2024-02-29T09:42:55.565Z"
   },
   {
    "duration": 214,
    "start_time": "2024-02-29T09:42:55.608Z"
   },
   {
    "duration": 144,
    "start_time": "2024-02-29T09:42:55.824Z"
   },
   {
    "duration": 5,
    "start_time": "2024-02-29T09:42:55.970Z"
   },
   {
    "duration": 32,
    "start_time": "2024-02-29T09:42:55.979Z"
   },
   {
    "duration": 10,
    "start_time": "2024-02-29T09:42:56.013Z"
   },
   {
    "duration": 288,
    "start_time": "2024-02-29T09:42:56.025Z"
   },
   {
    "duration": 1624,
    "start_time": "2024-02-29T09:42:56.315Z"
   },
   {
    "duration": 17,
    "start_time": "2024-02-29T09:42:57.941Z"
   },
   {
    "duration": 176,
    "start_time": "2024-02-29T09:42:57.961Z"
   },
   {
    "duration": 9,
    "start_time": "2024-02-29T09:42:58.139Z"
   },
   {
    "duration": 301,
    "start_time": "2024-02-29T09:42:58.150Z"
   },
   {
    "duration": 11,
    "start_time": "2024-02-29T09:42:58.452Z"
   },
   {
    "duration": 151,
    "start_time": "2024-02-29T09:42:58.465Z"
   },
   {
    "duration": 12,
    "start_time": "2024-02-29T09:42:58.617Z"
   },
   {
    "duration": 19,
    "start_time": "2024-02-29T09:42:58.630Z"
   },
   {
    "duration": 16,
    "start_time": "2024-02-29T09:42:58.651Z"
   },
   {
    "duration": 51,
    "start_time": "2024-02-29T09:42:58.669Z"
   },
   {
    "duration": 14,
    "start_time": "2024-02-29T09:42:58.721Z"
   },
   {
    "duration": 25,
    "start_time": "2024-02-29T09:42:58.736Z"
   },
   {
    "duration": 12,
    "start_time": "2024-02-29T09:42:58.763Z"
   },
   {
    "duration": 381,
    "start_time": "2024-02-29T09:42:58.777Z"
   },
   {
    "duration": 177,
    "start_time": "2024-02-29T09:42:59.160Z"
   },
   {
    "duration": 165,
    "start_time": "2024-02-29T09:42:59.339Z"
   },
   {
    "duration": 9,
    "start_time": "2024-02-29T09:42:59.514Z"
   },
   {
    "duration": 9,
    "start_time": "2024-02-29T09:42:59.525Z"
   },
   {
    "duration": 301,
    "start_time": "2024-02-29T09:42:59.536Z"
   },
   {
    "duration": 161,
    "start_time": "2024-02-29T09:42:59.839Z"
   },
   {
    "duration": 167,
    "start_time": "2024-02-29T09:43:00.002Z"
   },
   {
    "duration": 9,
    "start_time": "2024-02-29T09:43:00.170Z"
   },
   {
    "duration": 43,
    "start_time": "2024-02-29T09:43:00.180Z"
   },
   {
    "duration": 73,
    "start_time": "2024-02-29T09:43:00.225Z"
   },
   {
    "duration": 91,
    "start_time": "2024-02-29T09:43:00.300Z"
   },
   {
    "duration": 248,
    "start_time": "2024-02-29T09:43:09.133Z"
   },
   {
    "duration": 5,
    "start_time": "2024-02-29T09:44:41.438Z"
   },
   {
    "duration": 6,
    "start_time": "2024-02-29T09:44:43.320Z"
   },
   {
    "duration": 4,
    "start_time": "2024-02-29T09:46:13.774Z"
   },
   {
    "duration": 4,
    "start_time": "2024-02-29T09:46:19.543Z"
   },
   {
    "duration": 4,
    "start_time": "2024-02-29T09:46:36.838Z"
   },
   {
    "duration": 211,
    "start_time": "2024-02-29T09:50:12.215Z"
   },
   {
    "duration": 212,
    "start_time": "2024-02-29T09:50:26.011Z"
   },
   {
    "duration": 3,
    "start_time": "2024-02-29T09:50:41.351Z"
   },
   {
    "duration": 71,
    "start_time": "2024-02-29T09:50:41.358Z"
   },
   {
    "duration": 8,
    "start_time": "2024-02-29T09:50:41.431Z"
   },
   {
    "duration": 12,
    "start_time": "2024-02-29T09:50:41.441Z"
   },
   {
    "duration": 14,
    "start_time": "2024-02-29T09:50:41.454Z"
   },
   {
    "duration": 24,
    "start_time": "2024-02-29T09:50:41.470Z"
   },
   {
    "duration": 7,
    "start_time": "2024-02-29T09:50:41.496Z"
   },
   {
    "duration": 14,
    "start_time": "2024-02-29T09:50:41.504Z"
   },
   {
    "duration": 14,
    "start_time": "2024-02-29T09:50:41.520Z"
   },
   {
    "duration": 14,
    "start_time": "2024-02-29T09:50:41.535Z"
   },
   {
    "duration": 12,
    "start_time": "2024-02-29T09:50:41.551Z"
   },
   {
    "duration": 5,
    "start_time": "2024-02-29T09:50:41.565Z"
   },
   {
    "duration": 23,
    "start_time": "2024-02-29T09:50:41.571Z"
   },
   {
    "duration": 18,
    "start_time": "2024-02-29T09:50:41.596Z"
   },
   {
    "duration": 7,
    "start_time": "2024-02-29T09:50:41.617Z"
   },
   {
    "duration": 5,
    "start_time": "2024-02-29T09:50:41.626Z"
   },
   {
    "duration": 8,
    "start_time": "2024-02-29T09:50:41.632Z"
   },
   {
    "duration": 4,
    "start_time": "2024-02-29T09:50:41.641Z"
   },
   {
    "duration": 5,
    "start_time": "2024-02-29T09:50:41.647Z"
   },
   {
    "duration": 12,
    "start_time": "2024-02-29T09:50:41.654Z"
   },
   {
    "duration": 182,
    "start_time": "2024-02-29T09:50:41.667Z"
   },
   {
    "duration": 151,
    "start_time": "2024-02-29T09:50:41.851Z"
   },
   {
    "duration": 4,
    "start_time": "2024-02-29T09:50:42.003Z"
   },
   {
    "duration": 18,
    "start_time": "2024-02-29T09:50:42.014Z"
   },
   {
    "duration": 22,
    "start_time": "2024-02-29T09:50:42.033Z"
   },
   {
    "duration": 291,
    "start_time": "2024-02-29T09:50:42.057Z"
   },
   {
    "duration": 1696,
    "start_time": "2024-02-29T09:50:42.350Z"
   },
   {
    "duration": 10,
    "start_time": "2024-02-29T09:50:44.048Z"
   },
   {
    "duration": 156,
    "start_time": "2024-02-29T09:50:44.060Z"
   },
   {
    "duration": 8,
    "start_time": "2024-02-29T09:50:44.218Z"
   },
   {
    "duration": 275,
    "start_time": "2024-02-29T09:50:44.227Z"
   },
   {
    "duration": 16,
    "start_time": "2024-02-29T09:50:44.504Z"
   },
   {
    "duration": 141,
    "start_time": "2024-02-29T09:50:44.521Z"
   },
   {
    "duration": 12,
    "start_time": "2024-02-29T09:50:44.664Z"
   },
   {
    "duration": 20,
    "start_time": "2024-02-29T09:50:44.678Z"
   },
   {
    "duration": 18,
    "start_time": "2024-02-29T09:50:44.715Z"
   },
   {
    "duration": 18,
    "start_time": "2024-02-29T09:50:44.735Z"
   },
   {
    "duration": 13,
    "start_time": "2024-02-29T09:50:44.754Z"
   },
   {
    "duration": 46,
    "start_time": "2024-02-29T09:50:44.769Z"
   },
   {
    "duration": 13,
    "start_time": "2024-02-29T09:50:44.817Z"
   },
   {
    "duration": 368,
    "start_time": "2024-02-29T09:50:44.832Z"
   },
   {
    "duration": 175,
    "start_time": "2024-02-29T09:50:45.204Z"
   },
   {
    "duration": 165,
    "start_time": "2024-02-29T09:50:45.380Z"
   },
   {
    "duration": 8,
    "start_time": "2024-02-29T09:50:45.546Z"
   },
   {
    "duration": 16,
    "start_time": "2024-02-29T09:50:45.556Z"
   },
   {
    "duration": 644,
    "start_time": "2024-02-29T09:50:45.574Z"
   },
   {
    "duration": 152,
    "start_time": "2024-02-29T09:50:46.219Z"
   },
   {
    "duration": 162,
    "start_time": "2024-02-29T09:50:46.373Z"
   },
   {
    "duration": 9,
    "start_time": "2024-02-29T09:50:46.536Z"
   },
   {
    "duration": 11,
    "start_time": "2024-02-29T09:50:46.546Z"
   },
   {
    "duration": 36,
    "start_time": "2024-02-29T09:50:46.558Z"
   },
   {
    "duration": 38,
    "start_time": "2024-02-29T09:50:46.595Z"
   },
   {
    "duration": 218,
    "start_time": "2024-02-29T09:50:51.131Z"
   },
   {
    "duration": 5,
    "start_time": "2024-02-29T09:50:57.406Z"
   },
   {
    "duration": 4,
    "start_time": "2024-02-29T09:50:57.790Z"
   },
   {
    "duration": 5,
    "start_time": "2024-02-29T09:51:08.497Z"
   },
   {
    "duration": 4,
    "start_time": "2024-02-29T09:51:16.110Z"
   },
   {
    "duration": 7,
    "start_time": "2024-02-29T09:52:09.567Z"
   },
   {
    "duration": 5,
    "start_time": "2024-02-29T09:52:32.607Z"
   },
   {
    "duration": 5,
    "start_time": "2024-02-29T09:52:34.112Z"
   },
   {
    "duration": 1430,
    "start_time": "2024-02-29T09:55:14.397Z"
   },
   {
    "duration": 1885,
    "start_time": "2024-02-29T09:55:25.413Z"
   },
   {
    "duration": 1472,
    "start_time": "2024-02-29T09:55:57.465Z"
   },
   {
    "duration": 1953,
    "start_time": "2024-02-29T09:56:42.020Z"
   },
   {
    "duration": 86,
    "start_time": "2024-02-29T09:57:10.408Z"
   },
   {
    "duration": 6,
    "start_time": "2024-02-29T09:57:21.264Z"
   },
   {
    "duration": 141,
    "start_time": "2024-02-29T09:57:28.146Z"
   },
   {
    "duration": 145,
    "start_time": "2024-02-29T09:57:52.843Z"
   },
   {
    "duration": 3,
    "start_time": "2024-02-29T10:04:42.531Z"
   },
   {
    "duration": 69,
    "start_time": "2024-02-29T10:04:44.516Z"
   },
   {
    "duration": 9,
    "start_time": "2024-02-29T10:04:45.811Z"
   },
   {
    "duration": 10,
    "start_time": "2024-02-29T10:04:46.763Z"
   },
   {
    "duration": 9,
    "start_time": "2024-02-29T10:04:48.012Z"
   },
   {
    "duration": 12,
    "start_time": "2024-02-29T10:04:48.451Z"
   },
   {
    "duration": 6,
    "start_time": "2024-02-29T10:04:49.019Z"
   },
   {
    "duration": 7,
    "start_time": "2024-02-29T10:04:51.806Z"
   },
   {
    "duration": 13,
    "start_time": "2024-02-29T10:04:52.524Z"
   },
   {
    "duration": 8,
    "start_time": "2024-02-29T10:04:56.340Z"
   },
   {
    "duration": 12,
    "start_time": "2024-02-29T10:04:57.062Z"
   },
   {
    "duration": 6,
    "start_time": "2024-02-29T10:04:57.780Z"
   },
   {
    "duration": 6,
    "start_time": "2024-02-29T10:04:58.555Z"
   },
   {
    "duration": 6,
    "start_time": "2024-02-29T10:04:58.997Z"
   },
   {
    "duration": 6,
    "start_time": "2024-02-29T10:04:59.220Z"
   },
   {
    "duration": 5,
    "start_time": "2024-02-29T10:04:59.435Z"
   },
   {
    "duration": 8,
    "start_time": "2024-02-29T10:04:59.675Z"
   },
   {
    "duration": 6,
    "start_time": "2024-02-29T10:04:59.907Z"
   },
   {
    "duration": 4,
    "start_time": "2024-02-29T10:05:00.148Z"
   },
   {
    "duration": 5,
    "start_time": "2024-02-29T10:05:01.084Z"
   },
   {
    "duration": 159,
    "start_time": "2024-02-29T10:05:01.307Z"
   },
   {
    "duration": 141,
    "start_time": "2024-02-29T10:05:02.044Z"
   },
   {
    "duration": 5,
    "start_time": "2024-02-29T10:05:03.011Z"
   },
   {
    "duration": 7,
    "start_time": "2024-02-29T10:05:03.269Z"
   },
   {
    "duration": 6,
    "start_time": "2024-02-29T10:05:03.767Z"
   },
   {
    "duration": 291,
    "start_time": "2024-02-29T10:05:04.636Z"
   },
   {
    "duration": 1397,
    "start_time": "2024-02-29T10:05:05.972Z"
   },
   {
    "duration": 11,
    "start_time": "2024-02-29T10:05:07.372Z"
   },
   {
    "duration": 159,
    "start_time": "2024-02-29T10:05:07.420Z"
   },
   {
    "duration": 8,
    "start_time": "2024-02-29T10:05:07.923Z"
   },
   {
    "duration": 248,
    "start_time": "2024-02-29T10:05:08.572Z"
   },
   {
    "duration": 11,
    "start_time": "2024-02-29T10:05:10.499Z"
   },
   {
    "duration": 138,
    "start_time": "2024-02-29T10:05:11.206Z"
   },
   {
    "duration": 12,
    "start_time": "2024-02-29T10:05:13.876Z"
   },
   {
    "duration": 20,
    "start_time": "2024-02-29T10:05:14.235Z"
   },
   {
    "duration": 16,
    "start_time": "2024-02-29T10:05:14.627Z"
   },
   {
    "duration": 18,
    "start_time": "2024-02-29T10:05:16.244Z"
   },
   {
    "duration": 14,
    "start_time": "2024-02-29T10:05:17.221Z"
   },
   {
    "duration": 16,
    "start_time": "2024-02-29T10:05:17.724Z"
   },
   {
    "duration": 12,
    "start_time": "2024-02-29T10:05:19.565Z"
   },
   {
    "duration": 324,
    "start_time": "2024-02-29T10:05:21.284Z"
   },
   {
    "duration": 164,
    "start_time": "2024-02-29T10:05:22.011Z"
   },
   {
    "duration": 159,
    "start_time": "2024-02-29T10:05:26.332Z"
   },
   {
    "duration": 8,
    "start_time": "2024-02-29T10:05:27.300Z"
   },
   {
    "duration": 8,
    "start_time": "2024-02-29T10:05:28.540Z"
   },
   {
    "duration": 278,
    "start_time": "2024-02-29T10:05:32.164Z"
   },
   {
    "duration": 148,
    "start_time": "2024-02-29T10:05:42.412Z"
   },
   {
    "duration": 164,
    "start_time": "2024-02-29T10:05:43.420Z"
   },
   {
    "duration": 8,
    "start_time": "2024-02-29T10:05:55.532Z"
   },
   {
    "duration": 9,
    "start_time": "2024-02-29T10:06:10.228Z"
   },
   {
    "duration": 34,
    "start_time": "2024-02-29T10:06:15.220Z"
   },
   {
    "duration": 23,
    "start_time": "2024-02-29T10:06:17.572Z"
   },
   {
    "duration": 215,
    "start_time": "2024-02-29T10:06:17.836Z"
   },
   {
    "duration": 5,
    "start_time": "2024-02-29T10:06:29.452Z"
   },
   {
    "duration": 5,
    "start_time": "2024-02-29T10:06:30.195Z"
   },
   {
    "duration": 7,
    "start_time": "2024-02-29T10:06:33.275Z"
   },
   {
    "duration": 4,
    "start_time": "2024-02-29T10:06:33.812Z"
   },
   {
    "duration": 8,
    "start_time": "2024-02-29T10:06:37.172Z"
   },
   {
    "duration": 6,
    "start_time": "2024-02-29T10:06:37.800Z"
   },
   {
    "duration": 4,
    "start_time": "2024-02-29T10:06:38.748Z"
   },
   {
    "duration": 2031,
    "start_time": "2024-02-29T10:06:45.925Z"
   },
   {
    "duration": 82,
    "start_time": "2024-02-29T10:06:48.512Z"
   },
   {
    "duration": 6,
    "start_time": "2024-02-29T10:06:50.129Z"
   },
   {
    "duration": 154,
    "start_time": "2024-02-29T10:06:50.777Z"
   },
   {
    "duration": 1168,
    "start_time": "2024-02-29T13:39:21.339Z"
   },
   {
    "duration": 66,
    "start_time": "2024-02-29T13:39:22.509Z"
   },
   {
    "duration": 12,
    "start_time": "2024-02-29T13:39:22.576Z"
   },
   {
    "duration": 10,
    "start_time": "2024-02-29T13:39:22.590Z"
   },
   {
    "duration": 11,
    "start_time": "2024-02-29T13:39:22.603Z"
   },
   {
    "duration": 10,
    "start_time": "2024-02-29T13:39:22.615Z"
   },
   {
    "duration": 7,
    "start_time": "2024-02-29T13:39:22.627Z"
   },
   {
    "duration": 12,
    "start_time": "2024-02-29T13:39:22.635Z"
   },
   {
    "duration": 11,
    "start_time": "2024-02-29T13:39:22.648Z"
   },
   {
    "duration": 8,
    "start_time": "2024-02-29T13:39:22.660Z"
   },
   {
    "duration": 9,
    "start_time": "2024-02-29T13:39:22.670Z"
   },
   {
    "duration": 6,
    "start_time": "2024-02-29T13:39:22.680Z"
   },
   {
    "duration": 6,
    "start_time": "2024-02-29T13:39:22.719Z"
   },
   {
    "duration": 6,
    "start_time": "2024-02-29T13:39:22.728Z"
   },
   {
    "duration": 10,
    "start_time": "2024-02-29T13:39:22.735Z"
   },
   {
    "duration": 7,
    "start_time": "2024-02-29T13:39:22.747Z"
   },
   {
    "duration": 23,
    "start_time": "2024-02-29T13:39:22.755Z"
   },
   {
    "duration": 5,
    "start_time": "2024-02-29T13:39:22.780Z"
   },
   {
    "duration": 9,
    "start_time": "2024-02-29T13:39:22.786Z"
   },
   {
    "duration": 23,
    "start_time": "2024-02-29T13:39:22.797Z"
   },
   {
    "duration": 164,
    "start_time": "2024-02-29T13:39:22.822Z"
   },
   {
    "duration": 133,
    "start_time": "2024-02-29T13:39:22.987Z"
   },
   {
    "duration": 5,
    "start_time": "2024-02-29T13:39:23.122Z"
   },
   {
    "duration": 16,
    "start_time": "2024-02-29T13:39:23.128Z"
   },
   {
    "duration": 12,
    "start_time": "2024-02-29T13:39:23.145Z"
   },
   {
    "duration": 275,
    "start_time": "2024-02-29T13:39:23.159Z"
   },
   {
    "duration": 1355,
    "start_time": "2024-02-29T13:39:23.436Z"
   },
   {
    "duration": 10,
    "start_time": "2024-02-29T13:39:24.792Z"
   },
   {
    "duration": 158,
    "start_time": "2024-02-29T13:39:24.804Z"
   },
   {
    "duration": 8,
    "start_time": "2024-02-29T13:39:24.963Z"
   },
   {
    "duration": 234,
    "start_time": "2024-02-29T13:39:24.973Z"
   },
   {
    "duration": 17,
    "start_time": "2024-02-29T13:39:25.209Z"
   },
   {
    "duration": 136,
    "start_time": "2024-02-29T13:39:25.227Z"
   },
   {
    "duration": 11,
    "start_time": "2024-02-29T13:39:25.364Z"
   },
   {
    "duration": 18,
    "start_time": "2024-02-29T13:39:25.377Z"
   },
   {
    "duration": 32,
    "start_time": "2024-02-29T13:39:25.396Z"
   },
   {
    "duration": 139,
    "start_time": "2024-02-29T13:39:25.430Z"
   },
   {
    "duration": 12,
    "start_time": "2024-02-29T13:39:25.571Z"
   },
   {
    "duration": 18,
    "start_time": "2024-02-29T13:39:25.584Z"
   },
   {
    "duration": 27,
    "start_time": "2024-02-29T13:39:25.604Z"
   },
   {
    "duration": 364,
    "start_time": "2024-02-29T13:39:25.636Z"
   },
   {
    "duration": 170,
    "start_time": "2024-02-29T13:39:26.002Z"
   },
   {
    "duration": 178,
    "start_time": "2024-02-29T13:39:26.174Z"
   },
   {
    "duration": 11,
    "start_time": "2024-02-29T13:39:26.354Z"
   },
   {
    "duration": 7,
    "start_time": "2024-02-29T13:39:26.366Z"
   },
   {
    "duration": 254,
    "start_time": "2024-02-29T13:39:26.375Z"
   },
   {
    "duration": 145,
    "start_time": "2024-02-29T13:39:26.631Z"
   },
   {
    "duration": 155,
    "start_time": "2024-02-29T13:39:26.779Z"
   },
   {
    "duration": 8,
    "start_time": "2024-02-29T13:39:26.936Z"
   },
   {
    "duration": 7,
    "start_time": "2024-02-29T13:39:26.946Z"
   },
   {
    "duration": 32,
    "start_time": "2024-02-29T13:39:26.954Z"
   },
   {
    "duration": 50,
    "start_time": "2024-02-29T13:39:26.987Z"
   },
   {
    "duration": 200,
    "start_time": "2024-02-29T13:39:27.039Z"
   },
   {
    "duration": 6,
    "start_time": "2024-02-29T13:39:27.241Z"
   },
   {
    "duration": 6,
    "start_time": "2024-02-29T13:39:27.250Z"
   },
   {
    "duration": 5,
    "start_time": "2024-02-29T13:39:27.258Z"
   },
   {
    "duration": 3,
    "start_time": "2024-02-29T13:39:27.265Z"
   },
   {
    "duration": 9,
    "start_time": "2024-02-29T13:39:27.270Z"
   },
   {
    "duration": 39,
    "start_time": "2024-02-29T13:39:27.281Z"
   },
   {
    "duration": 23,
    "start_time": "2024-02-29T13:39:27.322Z"
   },
   {
    "duration": 1527,
    "start_time": "2024-02-29T13:39:27.347Z"
   },
   {
    "duration": 101,
    "start_time": "2024-02-29T13:39:28.876Z"
   },
   {
    "duration": 5,
    "start_time": "2024-02-29T13:39:28.979Z"
   },
   {
    "duration": 169,
    "start_time": "2024-02-29T13:39:28.985Z"
   }
  ],
  "kernelspec": {
   "display_name": "Python 3 (ipykernel)",
   "language": "python",
   "name": "python3"
  },
  "language_info": {
   "codemirror_mode": {
    "name": "ipython",
    "version": 3
   },
   "file_extension": ".py",
   "mimetype": "text/x-python",
   "name": "python",
   "nbconvert_exporter": "python",
   "pygments_lexer": "ipython3",
   "version": "3.11.7"
  },
  "toc": {
   "base_numbering": 1,
   "nav_menu": {},
   "number_sections": true,
   "sideBar": true,
   "skip_h1_title": true,
   "title_cell": "Содержание",
   "title_sidebar": "Contents",
   "toc_cell": true,
   "toc_position": {},
   "toc_section_display": true,
   "toc_window_display": true
  }
 },
 "nbformat": 4,
 "nbformat_minor": 5
}
